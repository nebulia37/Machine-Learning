{
 "cells": [
  {
   "cell_type": "markdown",
   "metadata": {},
   "source": [
    "# Lab:  Model selection for basketball data\n",
    "\n",
    "In this lab, you will apply polynomial regression with model order selection to a basketball dataset. \n",
    "\n",
    "Before doing this lab, you should review the polynomial model selection demo.  In addition to the concepts in that demo, you will learn to:\n",
    "* Fit a polynomial model for a given model order \n",
    "* Select the model order via K-fold cross-validation and the one-standard-error rule.\n",
    "  "
   ]
  },
  {
   "cell_type": "markdown",
   "metadata": {},
   "source": [
    "## Loading the data\n",
    "\n",
    "We first load the standard packages."
   ]
  },
  {
   "cell_type": "code",
   "execution_count": 1,
   "metadata": {},
   "outputs": [],
   "source": [
    "import numpy as np\n",
    "import matplotlib\n",
    "import matplotlib.pyplot as plt\n",
    "%matplotlib inline"
   ]
  },
  {
   "cell_type": "markdown",
   "metadata": {},
   "source": [
    "We now load the basketball dataset, which we can get from `openml`."
   ]
  },
  {
   "cell_type": "code",
   "execution_count": 2,
   "metadata": {},
   "outputs": [],
   "source": [
    "from sklearn.datasets import fetch_openml\n",
    "basketball = fetch_openml(name=\"baskball\", version=1)"
   ]
  },
  {
   "cell_type": "markdown",
   "metadata": {},
   "source": [
    "Let's turn this dataset into a `pandas` dataframe for ease of handling, and examine the features."
   ]
  },
  {
   "cell_type": "code",
   "execution_count": 3,
   "metadata": {},
   "outputs": [
    {
     "data": {
      "text/html": [
       "<div>\n",
       "<style scoped>\n",
       "    .dataframe tbody tr th:only-of-type {\n",
       "        vertical-align: middle;\n",
       "    }\n",
       "\n",
       "    .dataframe tbody tr th {\n",
       "        vertical-align: top;\n",
       "    }\n",
       "\n",
       "    .dataframe thead th {\n",
       "        text-align: right;\n",
       "    }\n",
       "</style>\n",
       "<table border=\"1\" class=\"dataframe\">\n",
       "  <thead>\n",
       "    <tr style=\"text-align: right;\">\n",
       "      <th></th>\n",
       "      <th>assists_per_minute</th>\n",
       "      <th>height</th>\n",
       "      <th>time_played</th>\n",
       "      <th>age</th>\n",
       "    </tr>\n",
       "  </thead>\n",
       "  <tbody>\n",
       "    <tr>\n",
       "      <th>0</th>\n",
       "      <td>0.0888</td>\n",
       "      <td>201.0</td>\n",
       "      <td>36.02</td>\n",
       "      <td>28.0</td>\n",
       "    </tr>\n",
       "    <tr>\n",
       "      <th>1</th>\n",
       "      <td>0.1399</td>\n",
       "      <td>198.0</td>\n",
       "      <td>39.32</td>\n",
       "      <td>30.0</td>\n",
       "    </tr>\n",
       "    <tr>\n",
       "      <th>2</th>\n",
       "      <td>0.0747</td>\n",
       "      <td>198.0</td>\n",
       "      <td>38.80</td>\n",
       "      <td>26.0</td>\n",
       "    </tr>\n",
       "    <tr>\n",
       "      <th>3</th>\n",
       "      <td>0.0983</td>\n",
       "      <td>191.0</td>\n",
       "      <td>40.71</td>\n",
       "      <td>30.0</td>\n",
       "    </tr>\n",
       "    <tr>\n",
       "      <th>4</th>\n",
       "      <td>0.1276</td>\n",
       "      <td>196.0</td>\n",
       "      <td>38.40</td>\n",
       "      <td>28.0</td>\n",
       "    </tr>\n",
       "  </tbody>\n",
       "</table>\n",
       "</div>"
      ],
      "text/plain": [
       "   assists_per_minute  height  time_played   age\n",
       "0              0.0888   201.0        36.02  28.0\n",
       "1              0.1399   198.0        39.32  30.0\n",
       "2              0.0747   198.0        38.80  26.0\n",
       "3              0.0983   191.0        40.71  30.0\n",
       "4              0.1276   196.0        38.40  28.0"
      ]
     },
     "execution_count": 3,
     "metadata": {},
     "output_type": "execute_result"
    }
   ],
   "source": [
    "import pandas as pd\n",
    "df = pd.DataFrame(basketball.data)\n",
    "df.head()"
   ]
  },
  {
   "cell_type": "markdown",
   "metadata": {},
   "source": [
    "In this lab, we will ignore `basketball.target` and instead investigate the relationship between age and time played.  For this purpose, create the feature vector `x` using the values in the `age` column using the `numpy.array` command.  Similarly, create the target vector `y` using the values in the `time_played` column."
   ]
  },
  {
   "cell_type": "code",
   "execution_count": 4,
   "metadata": {},
   "outputs": [],
   "source": [
    "# TODO\n",
    "# x = ...\n",
    "# y = ...\n",
    "\n",
    "x = np.array(df['age'])\n",
    "y = np.array(df['time_played'])"
   ]
  },
  {
   "cell_type": "markdown",
   "metadata": {},
   "source": [
    "# Fitting Models with Different Orders\n",
    "We will now fit the polynomial model to the data using order d = 1 and order d = 5, for illustration.\n",
    "\n",
    "For this, we'll use the `polyfit` command of the `numpy.polynomial.polynomial` library."
   ]
  },
  {
   "cell_type": "code",
   "execution_count": 5,
   "metadata": {},
   "outputs": [
    {
     "data": {
      "image/png": "[encoded data removed]",
      "text/plain": [
       "<Figure size 432x288 with 1 Axes>"
      ]
     },
     "metadata": {
      "needs_background": "light"
     },
     "output_type": "display_data"
    }
   ],
   "source": [
    "import numpy.polynomial.polynomial as poly\n",
    "# TODO \n",
    "# d1 = 1\n",
    "# d2 = 5\n",
    "# beta1 = \n",
    "# beta2 =\n",
    "# xp = # grid of feature values\n",
    "# yp_hat1 = # target prediction on grid using polynomial order d1\n",
    "# yp_hat2 = # target prediction on grid using polynomial order d2\n",
    "# Make a scatterplot and superimpose prediction curves for d1 and d2\n",
    "# Add grid lines, axis labels, and a legend\n",
    "\n",
    "d1 = 1\n",
    "d2 = 5\n",
    "beta1 = poly.polyfit(x,y,d1)\n",
    "beta2 = poly.polyfit(x,y,d2)\n",
    "\n",
    "# Plot estimated function\n",
    "xp = np.linspace(min(x),max(x),100)\n",
    "yp_hat1 = poly.polyval(xp,beta1)\n",
    "yp_hat2 = poly.polyval(xp,beta2)\n",
    "plt.plot(xp,yp_hat1,'g-',linewidth=2,label='Est (d='+str(d1)+')')\n",
    "plt.plot(xp,yp_hat2,'r-',linewidth=2,label='Est (d='+str(d2)+')')\n",
    "\n",
    "# Plot data\n",
    "plt.scatter(x,y,label='Data')\n",
    "plt.legend(loc='best')\n",
    "plt.grid()\n",
    "plt.xlabel('age')\n",
    "plt.ylabel('time played');"
   ]
  },
  {
   "cell_type": "markdown",
   "metadata": {},
   "source": [
    "How do these two model orders perform?  Are the results as expected? Can we do better?"
   ]
  },
  {
   "cell_type": "markdown",
   "metadata": {},
   "source": [
    "## K-fold Cross-Validation\n",
    "\n",
    "We now optimize the polynomial model order using 10-fold cross-validation.  You can follow the method used in the polynomial demo.  The first step is to create a matrix of test MSE values over all hypothesized model orders and all splits.  Consider model orders between 0 and 7."
   ]
  },
  {
   "cell_type": "code",
   "execution_count": 6,
   "metadata": {},
   "outputs": [],
   "source": [
    "from sklearn import model_selection\n",
    "\n",
    "# TODO\n",
    "# Create a k-fold object\n",
    "# k = 10\n",
    "# kfo = ...\n",
    "# Test model orders d between 0 and 7\n",
    "# dtest = \n",
    "# nd = len(dtest)\n",
    "# MSEts = np.zeros((nd,k))\n",
    "# Loop over the folds\n",
    "    # Get the training data in the split\n",
    "    # Loop over the model order\n",
    "        # Fit data on training data\n",
    "        # Measure MSE on test data\n",
    "        # MSEts[it,itsplit] = \n",
    "\n",
    "# Create a k-fold object\n",
    "k = 10                                              \n",
    "kfo = model_selection.KFold(n_splits=k,shuffle=True)\n",
    "\n",
    "# Model orders to be tested\n",
    "dtest = np.arange(0,8)\n",
    "nd = len(dtest)\n",
    "MSEts = np.zeros((nd,k))\n",
    "\n",
    "# Loop over the folds\n",
    "for isplit, idx in enumerate(kfo.split(x)):\n",
    "    \n",
    "    # Get the training data in the split\n",
    "    itr, its = idx\n",
    "    xtr = x[itr]\n",
    "    ytr = y[itr]\n",
    "    xts = x[its]\n",
    "    yts = y[its]\n",
    "    \n",
    "    # Loop over the model order\n",
    "    for it, d in enumerate(dtest):\n",
    "        \n",
    "        # Fit data on training data\n",
    "        beta_hat = poly.polyfit(xtr,ytr,d)\n",
    "        \n",
    "        # Measure MSE on test data\n",
    "        yhat = poly.polyval(xts,beta_hat)\n",
    "        MSEts[it,isplit] = np.mean((yhat-yts)**2)\n"
   ]
  },
  {
   "cell_type": "markdown",
   "metadata": {},
   "source": [
    "Next, compute the mean and standard error of the MSE over the folds for each model order.  The standard error is defined as the standard deviation divided by $\\sqrt{K}$, where $K$ is the number of folds.  Use `ddof=1` in `np.std` to get the unbiased version.\n",
    "\n",
    "With these MSE statistics, use the one-standard-error rule to find the best model order.  Print out the model order that minimizes mean test MSE, as well as the model order estimated by the one-standard-error rule, using the format\n",
    "\n",
    "    The model order that minimizes mean test MSE is xx\n",
    "    The model order estimated by the one-standard-error rule is xx"
   ]
  },
  {
   "cell_type": "code",
   "execution_count": 7,
   "metadata": {},
   "outputs": [
    {
     "name": "stdout",
     "output_type": "stream",
     "text": [
      "The model order that minimizes mean test MSE is 2\n",
      "The model order estimated by the one-standard-error rule is 2\n"
     ]
    }
   ],
   "source": [
    "# TODO\n",
    "# compute mean and standard error of MSE\n",
    "MSE_mean = np.mean(MSEts,axis=1)\n",
    "MSE_se = np.std(MSEts,axis=1,ddof=1)/np.sqrt(k)\n",
    "\n",
    "# find model order that minimizes test MSE\n",
    "imin = np.argmin(MSE_mean)\n",
    "print(\"The model order that minimizes mean test MSE is {0:d}\".format(dtest[imin]))\n",
    "\n",
    "# estimate model order according to the one-standard-error rule\n",
    "MSE_tgt = MSE_mean[imin]+MSE_se[imin]\n",
    "I = np.where(MSE_mean<= MSE_tgt)[0]\n",
    "iose = I[0]\n",
    "dose = dtest[iose]\n",
    "print(\"The model order estimated by the one-standard-error rule is {0:d}\".format(dose))"
   ]
  },
  {
   "cell_type": "markdown",
   "metadata": {},
   "source": [
    "Next, illustrate the one-standard-error-rule procedure by making a plot that shows the following:\n",
    "* the mean test MSE curve with errorbars\n",
    "* a dashed line showing the model order yielding minimum mean test MSE\n",
    "* a dashed line showing the target MSE\n",
    "* a dashed line showing the model order estimated by the one-standard-error rule\n",
    "\n",
    "Also, add a grid and axis labels to your plot.  Use `plt.ylim` if needed to zoom into the relevant range."
   ]
  },
  {
   "cell_type": "code",
   "execution_count": 8,
   "metadata": {},
   "outputs": [
    {
     "data": {
      "image/png": "[encoded data removed]",
      "text/plain": [
       "<Figure size 432x288 with 1 Axes>"
      ]
     },
     "metadata": {
      "needs_background": "light"
     },
     "output_type": "display_data"
    }
   ],
   "source": [
    "#TODO\n",
    "# plot mean test MSE curve with errorbars\n",
    "plt.errorbar(dtest,MSE_mean,yerr=MSE_se,fmt='-')\n",
    "\n",
    "# plot dashed line showing the model order yielding minimum mean test MSE\n",
    "plt.plot([dtest[imin],dtest[imin]],[0,MSE_tgt],'g--',label='d_min')\n",
    "\n",
    "# plot dashed line showing the target MSE\n",
    "plt.plot([dtest[0],dtest[imin]],[MSE_tgt,MSE_tgt],'--',label='MSE_tgt')\n",
    "\n",
    "# plot dashed line showing the model order estimated by the one-standard-error rule\n",
    "plt.plot([dose,dose],[0,MSE_tgt],'r--',label='d_ose')\n",
    "plt.xlabel('Model order')\n",
    "plt.ylabel('mean Test MSE')\n",
    "plt.grid()\n",
    "plt.legend(loc='upper left');"
   ]
  },
  {
   "cell_type": "markdown",
   "metadata": {},
   "source": [
    "Finally, make a scatter plot of the data and superimpose\n",
    "* the polynomial prediction curve with the order that minimizes mean MSE\n",
    "* the polynomial prediction curve with the order selected by the one-standard-error rule\n",
    "\n",
    "As usual, add grid lines, axis labels, and a legend to your plot."
   ]
  },
  {
   "cell_type": "code",
   "execution_count": 9,
   "metadata": {},
   "outputs": [
    {
     "data": {
      "image/png": "[encoded data removed]",
      "text/plain": [
       "<Figure size 432x288 with 1 Axes>"
      ]
     },
     "metadata": {
      "needs_background": "light"
     },
     "output_type": "display_data"
    }
   ],
   "source": [
    "#TODO\n",
    "# fit the model\n",
    "beta_hat_ose = poly.polyfit(x,y,dose)\n",
    "beta_hat_minMSE= poly.polyfit(x,y,dtest[imin])\n",
    "\n",
    "# compute the polynomial prediction curve \n",
    "yp_ose = poly.polyval(xp,beta_hat_ose)\n",
    "yp_minMSE = poly.polyval(xp,beta_hat_minMSE)\n",
    "\n",
    "# make scatterplot and superimpose curves\n",
    "plt.scatter(x,y,label='True')\n",
    "plt.plot(xp,yp_ose,'r-',linewidth=3,label='Est(OSE)')\n",
    "plt.plot(xp,yp_minMSE,'g-',linewidth=3,label='Est(min MSE)')\n",
    "\n",
    "# add legend, axis labels, grid\n",
    "plt.legend(loc=\"upper right\")\n",
    "plt.xlabel('age')\n",
    "plt.ylabel('time played')\n",
    "plt.grid()"
   ]
  },
  {
   "cell_type": "markdown",
   "metadata": {},
   "source": [
    "Note that because the shuffling done by the K-fold object is random, the results may vary a bit every time you run the code.  If that is distracting, you can fix the `random_seed` of the K-fold object."
   ]
  },
  {
   "cell_type": "code",
   "execution_count": null,
   "metadata": {},
   "outputs": [],
   "source": []
  }
 ],
 "metadata": {
  "anaconda-cloud": {},
  "kernelspec": {
   "display_name": "Python 3 (ipykernel)",
   "language": "python",
   "name": "python3"
  },
  "language_info": {
   "codemirror_mode": {
    "name": "ipython",
    "version": 3
   },
   "file_extension": ".py",
   "mimetype": "text/x-python",
   "name": "python",
   "nbconvert_exporter": "python",
   "pygments_lexer": "ipython3",
   "version": "3.9.13"
  },
  "varInspector": {
   "cols": {
    "lenName": 16,
    "lenType": 16,
    "lenVar": 40
   },
   "kernels_config": {
    "python": {
     "delete_cmd_postfix": "",
     "delete_cmd_prefix": "del ",
     "library": "var_list.py",
     "varRefreshCmd": "print(var_dic_list())"
    },
    "r": {
     "delete_cmd_postfix": ") ",
     "delete_cmd_prefix": "rm(",
     "library": "var_list.r",
     "varRefreshCmd": "cat(var_dic_list()) "
    }
   },
   "types_to_exclude": [
    "module",
    "function",
    "builtin_function_or_method",
    "instance",
    "_Feature"
   ],
   "window_display": false
  }
 },
 "nbformat": 4,
 "nbformat_minor": 1
}
