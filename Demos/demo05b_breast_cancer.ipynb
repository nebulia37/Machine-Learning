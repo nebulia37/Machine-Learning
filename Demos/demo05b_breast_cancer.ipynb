{
 "cells": [
  {
   "cell_type": "markdown",
   "metadata": {},
   "source": [
    "#  Demo: Breast Cancer Diagnosis via Logistic Regression"
   ]
  },
  {
   "cell_type": "markdown",
   "metadata": {},
   "source": [
    "In this demo, we will see how to visualize training data for classification, plot the logistic function and perform logistic regression.  As an example, we will use the widely-used breast cancer data set.  This data set is described here:\n",
    "\n",
    "https://archive.ics.uci.edu/ml/machine-learning-databases/breast-cancer-wisconsin\n",
    "\n",
    "Each sample is a collection of features that were manually recorded by a physician upon inspecting a sample of cells from fine needle aspiration.  The goal is to detect if the cells are benign or malignant."
   ]
  },
  {
   "cell_type": "markdown",
   "metadata": {},
   "source": [
    "We first load the packages as usual."
   ]
  },
  {
   "cell_type": "code",
   "execution_count": 1,
   "metadata": {},
   "outputs": [],
   "source": [
    "import numpy as np\n",
    "import matplotlib\n",
    "import matplotlib.pyplot as plt\n",
    "import pandas as pd\n",
    "from sklearn import datasets, linear_model, preprocessing\n",
    "%matplotlib inline"
   ]
  },
  {
   "cell_type": "markdown",
   "metadata": {},
   "source": [
    "## Loading and Visualizing the Data"
   ]
  },
  {
   "cell_type": "markdown",
   "metadata": {},
   "source": [
    "Next, we load the data.  It is important to remove the missing values."
   ]
  },
  {
   "cell_type": "code",
   "execution_count": 2,
   "metadata": {},
   "outputs": [
    {
     "data": {
      "text/html": [
       "<div>\n",
       "<style scoped>\n",
       "    .dataframe tbody tr th:only-of-type {\n",
       "        vertical-align: middle;\n",
       "    }\n",
       "\n",
       "    .dataframe tbody tr th {\n",
       "        vertical-align: top;\n",
       "    }\n",
       "\n",
       "    .dataframe thead th {\n",
       "        text-align: right;\n",
       "    }\n",
       "</style>\n",
       "<table border=\"1\" class=\"dataframe\">\n",
       "  <thead>\n",
       "    <tr style=\"text-align: right;\">\n",
       "      <th></th>\n",
       "      <th>id</th>\n",
       "      <th>thick</th>\n",
       "      <th>size_unif</th>\n",
       "      <th>shape_unif</th>\n",
       "      <th>marg</th>\n",
       "      <th>cell_size</th>\n",
       "      <th>bare</th>\n",
       "      <th>chrom</th>\n",
       "      <th>normal</th>\n",
       "      <th>mit</th>\n",
       "      <th>class</th>\n",
       "    </tr>\n",
       "  </thead>\n",
       "  <tbody>\n",
       "    <tr>\n",
       "      <th>0</th>\n",
       "      <td>1000025</td>\n",
       "      <td>5</td>\n",
       "      <td>1</td>\n",
       "      <td>1</td>\n",
       "      <td>1</td>\n",
       "      <td>2</td>\n",
       "      <td>1.0</td>\n",
       "      <td>3</td>\n",
       "      <td>1</td>\n",
       "      <td>1</td>\n",
       "      <td>2</td>\n",
       "    </tr>\n",
       "    <tr>\n",
       "      <th>1</th>\n",
       "      <td>1002945</td>\n",
       "      <td>5</td>\n",
       "      <td>4</td>\n",
       "      <td>4</td>\n",
       "      <td>5</td>\n",
       "      <td>7</td>\n",
       "      <td>10.0</td>\n",
       "      <td>3</td>\n",
       "      <td>2</td>\n",
       "      <td>1</td>\n",
       "      <td>2</td>\n",
       "    </tr>\n",
       "    <tr>\n",
       "      <th>2</th>\n",
       "      <td>1015425</td>\n",
       "      <td>3</td>\n",
       "      <td>1</td>\n",
       "      <td>1</td>\n",
       "      <td>1</td>\n",
       "      <td>2</td>\n",
       "      <td>2.0</td>\n",
       "      <td>3</td>\n",
       "      <td>1</td>\n",
       "      <td>1</td>\n",
       "      <td>2</td>\n",
       "    </tr>\n",
       "    <tr>\n",
       "      <th>3</th>\n",
       "      <td>1016277</td>\n",
       "      <td>6</td>\n",
       "      <td>8</td>\n",
       "      <td>8</td>\n",
       "      <td>1</td>\n",
       "      <td>3</td>\n",
       "      <td>4.0</td>\n",
       "      <td>3</td>\n",
       "      <td>7</td>\n",
       "      <td>1</td>\n",
       "      <td>2</td>\n",
       "    </tr>\n",
       "    <tr>\n",
       "      <th>4</th>\n",
       "      <td>1017023</td>\n",
       "      <td>4</td>\n",
       "      <td>1</td>\n",
       "      <td>1</td>\n",
       "      <td>3</td>\n",
       "      <td>2</td>\n",
       "      <td>1.0</td>\n",
       "      <td>3</td>\n",
       "      <td>1</td>\n",
       "      <td>1</td>\n",
       "      <td>2</td>\n",
       "    </tr>\n",
       "    <tr>\n",
       "      <th>5</th>\n",
       "      <td>1017122</td>\n",
       "      <td>8</td>\n",
       "      <td>10</td>\n",
       "      <td>10</td>\n",
       "      <td>8</td>\n",
       "      <td>7</td>\n",
       "      <td>10.0</td>\n",
       "      <td>9</td>\n",
       "      <td>7</td>\n",
       "      <td>1</td>\n",
       "      <td>4</td>\n",
       "    </tr>\n",
       "  </tbody>\n",
       "</table>\n",
       "</div>"
      ],
      "text/plain": [
       "        id  thick  size_unif  shape_unif  marg  cell_size  bare  chrom  \\\n",
       "0  1000025      5          1           1     1          2   1.0      3   \n",
       "1  1002945      5          4           4     5          7  10.0      3   \n",
       "2  1015425      3          1           1     1          2   2.0      3   \n",
       "3  1016277      6          8           8     1          3   4.0      3   \n",
       "4  1017023      4          1           1     3          2   1.0      3   \n",
       "5  1017122      8         10          10     8          7  10.0      9   \n",
       "\n",
       "   normal  mit  class  \n",
       "0       1    1      2  \n",
       "1       2    1      2  \n",
       "2       1    1      2  \n",
       "3       7    1      2  \n",
       "4       1    1      2  \n",
       "5       7    1      4  "
      ]
     },
     "execution_count": 2,
     "metadata": {},
     "output_type": "execute_result"
    }
   ],
   "source": [
    "names = ['id','thick','size_unif','shape_unif','marg','cell_size','bare',\n",
    "         'chrom','normal','mit','class']\n",
    "df = pd.read_csv('https://archive.ics.uci.edu/ml/machine-learning-databases/' +\n",
    "                 'breast-cancer-wisconsin/breast-cancer-wisconsin.data',\n",
    "                names=names,na_values='?',header=None)\n",
    "df = df.dropna()\n",
    "df.head(6)"
   ]
  },
  {
   "cell_type": "markdown",
   "metadata": {},
   "source": [
    "The first attribute, `id`, will not be used for prediction.  The last attribute, `class`, is the target variable and takes on the values {2,4}.  We will convert this to {0,1}, which is more standard.  Thus, there are 9 features in this dataset."
   ]
  },
  {
   "cell_type": "code",
   "execution_count": 3,
   "metadata": {
    "scrolled": true
   },
   "outputs": [],
   "source": [
    "# Extract the targets.  Convert to a zero-one indicator \n",
    "yraw = np.array(df['class'])\n",
    "BEN_VAL = 2   # value in the 'class' label for benign samples\n",
    "MAL_VAL = 4   # value in the 'class' label for malignant samples\n",
    "y = (yraw == MAL_VAL).astype(int)\n",
    "Iben = (y==0) # indices of benign samples\n",
    "Imal = (y==1) # indices of malignant samples"
   ]
  },
  {
   "cell_type": "markdown",
   "metadata": {},
   "source": [
    "First, let's try using only two of the features, so that we can visualize what is going on."
   ]
  },
  {
   "cell_type": "code",
   "execution_count": 4,
   "metadata": {},
   "outputs": [],
   "source": [
    "# Choose two features\n",
    "xnames =['size_unif','marg'] #size_unif, marg\n",
    "X2 = np.array(df[xnames])"
   ]
  },
  {
   "cell_type": "markdown",
   "metadata": {},
   "source": [
    "We now plot the target `y0` versus the two extracted features, which we'll call `x1` and `x2`. \n",
    "Since the features each take on values in {1,2,...,10}, we plot over 2D grid of 100 points. \n",
    "At each (`x1`,`x2`), we plot a red circle with a radius proportional to the number of malignant samples, and a green circle with a radius proportional to the number of benign samples. \n",
    "Since we will re-use this code, we define it as a function. "
   ]
  },
  {
   "cell_type": "code",
   "execution_count": 5,
   "metadata": {
    "scrolled": true
   },
   "outputs": [
    {
     "data": {
      "image/png": "[encoded data removed]",
      "text/plain": [
       "<Figure size 432x288 with 1 Axes>"
      ]
     },
     "metadata": {
      "needs_background": "light"
     },
     "output_type": "display_data"
    }
   ],
   "source": [
    "def plot_cnt(X,y):\n",
    "    \n",
    "    # Compute the bin edges for the 2d histogram\n",
    "    x1val = np.array(list(set(X[:,0]))).astype(float)\n",
    "    x2val = np.array(list(set(X[:,1]))).astype(float)\n",
    "    x1, x2 = np.meshgrid(x1val,x2val)\n",
    "    x1e= np.hstack((x1val,np.max(x1val)+1))\n",
    "    x2e= np.hstack((x2val,np.max(x2val)+1))\n",
    "\n",
    "    # Make a plot for each class\n",
    "    yval = list(set(y))\n",
    "    color = ['g','r']\n",
    "    for i in range(len(yval)):\n",
    "        I = np.where(y==yval[i])[0]\n",
    "        cnt, x1e, x2e = np.histogram2d(X[I,0],X[I,1],[x1e,x2e])\n",
    "        x1, x2 = np.meshgrid(x1val,x2val)\n",
    "        plt.scatter(x1.ravel(), x2.ravel(), s=2*cnt.ravel(),alpha=0.5,\n",
    "                    c=color[i],edgecolors='none')\n",
    "    plt.ylim([0,14])\n",
    "    plt.legend(['benign','malign'], loc='upper right')\n",
    "    plt.xlabel(xnames[0], fontsize=16)\n",
    "    plt.ylabel(xnames[1], fontsize=16)\n",
    "    return plt\n",
    "\n",
    "plot_cnt(X2,y);"
   ]
  },
  {
   "cell_type": "markdown",
   "metadata": {},
   "source": [
    "The above plot gives some intuition about how these two features could be used to classify whether a given sample was bening or malignant.  Roughly speaking, we might predict that the sample is benign if both `marg` and `size_unif` are sufficiently small. \n",
    "\n",
    "## Least-Squares Linear Regression\n",
    "\n",
    "As a first attempt in designing a classifier, let's apply the least-squares (LS) linear regression method that we studied in earlier units.  That is, let's treat the target `y` as a real number and try to predict it from `x0` and `x1`."
   ]
  },
  {
   "cell_type": "code",
   "execution_count": 6,
   "metadata": {},
   "outputs": [
    {
     "name": "stdout",
     "output_type": "stream",
     "text": [
      "regr.intercept= -0.08420066620061473\n",
      "regr.coef= [0.10007944 0.04197521]\n"
     ]
    }
   ],
   "source": [
    "from sklearn import datasets, linear_model\n",
    "\n",
    "regr = linear_model.LinearRegression()\n",
    "regr.fit(X2,y)\n",
    "print('regr.intercept=',regr.intercept_)\n",
    "print('regr.coef=',regr.coef_)"
   ]
  },
  {
   "cell_type": "markdown",
   "metadata": {},
   "source": [
    "Because our target `y` takes on the value 0 for benign and 1 for malignant, we could assign a predicted value of less than 0.5 as benign and a predicted value of more than 0.5 as malignant. \n",
    "This rule partitions the (`x1`,`x2`) space linearly into two regions, as illustrated below.\n",
    "The decision boundary occurs at $b + w_1 x_2 + w_2 x_2 = 0.5$, which can be rewritten as $x_2 = (0.5-b)/w_2 + (-w_1/w_2) x_1$, which is a line in the (`x1`,`x2`) space."
   ]
  },
  {
   "cell_type": "code",
   "execution_count": 7,
   "metadata": {},
   "outputs": [
    {
     "data": {
      "image/png": "[encoded data removed]",
      "text/plain": [
       "<Figure size 432x288 with 1 Axes>"
      ]
     },
     "metadata": {
      "needs_background": "light"
     },
     "output_type": "display_data"
    }
   ],
   "source": [
    "b=regr.intercept_\n",
    "w1=regr.coef_[0]\n",
    "w2=regr.coef_[1]\n",
    "\n",
    "x1=np.zeros([10,1])\n",
    "x2=np.zeros([10,1])\n",
    "for i in range(10):\n",
    "    x1[i]=i+1;\n",
    "    x2[i]=(0.5-b-w1*(i+1))/w2\n",
    "\n",
    "plt = plot_cnt(X2,y)\n",
    "plt.plot(x1, x2);"
   ]
  },
  {
   "cell_type": "markdown",
   "metadata": {},
   "source": [
    "Let's assess the accuracy of the 2-feature LS linear prediction as the percentage of correct classifications on the training data:"
   ]
  },
  {
   "cell_type": "code",
   "execution_count": 8,
   "metadata": {},
   "outputs": [
    {
     "name": "stdout",
     "output_type": "stream",
     "text": [
      "Accuracy on training data using two features = 0.922401\n"
     ]
    }
   ],
   "source": [
    "yhat = regr.predict(X2)\n",
    "yhati = (yhat >=0.5).astype(int)\n",
    "acc = np.mean(yhati == y)\n",
    "print(\"Accuracy on training data using two features = %f\" % acc)"
   ]
  },
  {
   "cell_type": "markdown",
   "metadata": {},
   "source": [
    "And now let's repeat the LS-linear-prediction procedure using all 9 features."
   ]
  },
  {
   "cell_type": "code",
   "execution_count": 9,
   "metadata": {},
   "outputs": [
    {
     "name": "stdout",
     "output_type": "stream",
     "text": [
      "Accuracy on training data using 9 features = 0.960469\n"
     ]
    }
   ],
   "source": [
    "xnames = ['thick','size_unif','shape_unif','marg','cell_size','bare',\n",
    "         'chrom','normal','mit']\n",
    "X = np.array(df[xnames])\n",
    "\n",
    "regr.fit(X,y)\n",
    "yhat=regr.predict(X)\n",
    "\n",
    "yhati= (yhat >=0.5).astype(int)\n",
    "acc = np.mean(yhati == y)\n",
    "print(\"Accuracy on training data using 9 features = %f\" % acc)"
   ]
  },
  {
   "cell_type": "markdown",
   "metadata": {},
   "source": [
    "## Logistic Regression\n",
    "\n",
    "In logistic regression, we fit the weights $b,w_1,w_2,\\ldots,w_d$ in the model \n",
    "$$\n",
    "    P\\{y=1|z\\} = \\frac{1}{1+e^{-z}},  \\quad z = b + w_1 x_1 + \\cdots + w_d x_d,  \n",
    "$$\n",
    "The `sklearn` module provides a `LogisticRegression` object that does this.\n",
    "\n",
    "In fact, the `LogisticRegression` object includes L2 regularization by default, with parameter `C` controlling the *inverse* regularization strength.  So, to simplify matters for now, let's set `C` very large to minimize the effects of L2 regularization."
   ]
  },
  {
   "cell_type": "code",
   "execution_count": 10,
   "metadata": {},
   "outputs": [],
   "source": [
    "from sklearn.linear_model import LogisticRegression\n",
    "logreg = LogisticRegression(C=1e5)"
   ]
  },
  {
   "cell_type": "markdown",
   "metadata": {},
   "source": [
    "For visualization, let's first try logistic regression with only two features.\n",
    "We would normally standardize the features `X` since we are using regularization, but we will avoid doing so for now in order to plot the decision boundary in the raw-feature space (to compare to the LS linear-regression case). "
   ]
  },
  {
   "cell_type": "code",
   "execution_count": 11,
   "metadata": {},
   "outputs": [
    {
     "name": "stdout",
     "output_type": "stream",
     "text": [
      "Accuracy on training data = 0.941435\n"
     ]
    }
   ],
   "source": [
    "logreg.fit(X2, y)\n",
    "yhat = logreg.predict(X2)\n",
    "acc = np.mean(yhat == y)\n",
    "print(\"Accuracy on training data = %f\" % acc)"
   ]
  },
  {
   "cell_type": "markdown",
   "metadata": {},
   "source": [
    "We see that the accuracy of logistic regression is higher than with the LS linear predictor that we used earlier.\n",
    "Next, let's plot the decision boundary for logistic regression."
   ]
  },
  {
   "cell_type": "code",
   "execution_count": 12,
   "metadata": {},
   "outputs": [
    {
     "data": {
      "image/png": "[encoded data removed]",
      "text/plain": [
       "<Figure size 432x288 with 1 Axes>"
      ]
     },
     "metadata": {
      "needs_background": "light"
     },
     "output_type": "display_data"
    }
   ],
   "source": [
    "b = logreg.intercept_\n",
    "w = np.array(logreg.coef_).T\n",
    "w1 = w[0]\n",
    "w2 = w[1]\n",
    "x1=np.zeros([10,1])\n",
    "x2=np.zeros([10,1])\n",
    "for i in range(10):\n",
    "    x1[i]=i+1;\n",
    "    x2[i]=(0.5-b-w1*(i+1))/w2\n",
    "\n",
    "plt = plot_cnt(X2,y)\n",
    "plt.plot(x1, x2);"
   ]
  },
  {
   "cell_type": "markdown",
   "metadata": {},
   "source": [
    "Relative to linear regression, the decision boundary has moved southwest and appears to better match the data.\n",
    "\n",
    "Now let's try logistic regression with all 9 features.  We first standardize the `X` values because an L2 penalty is used by default."
   ]
  },
  {
   "cell_type": "code",
   "execution_count": 13,
   "metadata": {},
   "outputs": [],
   "source": [
    "Xs = preprocessing.scale(X)\n",
    "logreg.fit(Xs, y);"
   ]
  },
  {
   "cell_type": "markdown",
   "metadata": {},
   "source": [
    "We can next plot the accuracy on the training data.  We see we get an accuracy better than with LS linear regression, as used earlier. "
   ]
  },
  {
   "cell_type": "code",
   "execution_count": 14,
   "metadata": {},
   "outputs": [
    {
     "name": "stdout",
     "output_type": "stream",
     "text": [
      "Accuracy on training data = 0.969253\n"
     ]
    }
   ],
   "source": [
    "yhat = logreg.predict(Xs)\n",
    "acc = np.mean(yhat == y)\n",
    "print(\"Accuracy on training data = %f\" % acc)"
   ]
  },
  {
   "cell_type": "markdown",
   "metadata": {},
   "source": [
    "It is also useful to print the weights for each feature.  We can use the `pandas` package to make a table. "
   ]
  },
  {
   "cell_type": "code",
   "execution_count": 15,
   "metadata": {},
   "outputs": [
    {
     "data": {
      "text/html": [
       "<div>\n",
       "<style scoped>\n",
       "    .dataframe tbody tr th:only-of-type {\n",
       "        vertical-align: middle;\n",
       "    }\n",
       "\n",
       "    .dataframe tbody tr th {\n",
       "        vertical-align: top;\n",
       "    }\n",
       "\n",
       "    .dataframe thead th {\n",
       "        text-align: right;\n",
       "    }\n",
       "</style>\n",
       "<table border=\"1\" class=\"dataframe\">\n",
       "  <thead>\n",
       "    <tr style=\"text-align: right;\">\n",
       "      <th></th>\n",
       "      <th>feature</th>\n",
       "      <th>slope</th>\n",
       "    </tr>\n",
       "  </thead>\n",
       "  <tbody>\n",
       "    <tr>\n",
       "      <th>0</th>\n",
       "      <td>thick</td>\n",
       "      <td>1.508053</td>\n",
       "    </tr>\n",
       "    <tr>\n",
       "      <th>1</th>\n",
       "      <td>size_unif</td>\n",
       "      <td>-0.019233</td>\n",
       "    </tr>\n",
       "    <tr>\n",
       "      <th>2</th>\n",
       "      <td>shape_unif</td>\n",
       "      <td>0.963721</td>\n",
       "    </tr>\n",
       "    <tr>\n",
       "      <th>3</th>\n",
       "      <td>marg</td>\n",
       "      <td>0.946439</td>\n",
       "    </tr>\n",
       "    <tr>\n",
       "      <th>4</th>\n",
       "      <td>cell_size</td>\n",
       "      <td>0.214663</td>\n",
       "    </tr>\n",
       "    <tr>\n",
       "      <th>5</th>\n",
       "      <td>bare</td>\n",
       "      <td>1.394654</td>\n",
       "    </tr>\n",
       "    <tr>\n",
       "      <th>6</th>\n",
       "      <td>chrom</td>\n",
       "      <td>1.094675</td>\n",
       "    </tr>\n",
       "    <tr>\n",
       "      <th>7</th>\n",
       "      <td>normal</td>\n",
       "      <td>0.649846</td>\n",
       "    </tr>\n",
       "    <tr>\n",
       "      <th>8</th>\n",
       "      <td>mit</td>\n",
       "      <td>0.926017</td>\n",
       "    </tr>\n",
       "  </tbody>\n",
       "</table>\n",
       "</div>"
      ],
      "text/plain": [
       "      feature     slope\n",
       "0       thick  1.508053\n",
       "1   size_unif -0.019233\n",
       "2  shape_unif  0.963721\n",
       "3        marg  0.946439\n",
       "4   cell_size  0.214663\n",
       "5        bare  1.394654\n",
       "6       chrom  1.094675\n",
       "7      normal  0.649846\n",
       "8         mit  0.926017"
      ]
     },
     "execution_count": 15,
     "metadata": {},
     "output_type": "execute_result"
    }
   ],
   "source": [
    "W = logreg.coef_.reshape(-1)\n",
    "data = {'feature': xnames, 'slope': np.squeeze(W)}\n",
    "dfslope = pd.DataFrame(data=data)\n",
    "dfslope"
   ]
  },
  {
   "cell_type": "markdown",
   "metadata": {},
   "source": [
    "## Cross validation\n",
    "\n",
    "The above code measured the classification performance on the training data.  However, we should really measure performance on test data using cross-validation.  \n",
    "So, we now perform 10-fold cross-validation and print average precision, recall, f1-score, and accuracy.\n",
    "We use sklearn's `cross_validate` method because it can evaluate multiple metrics."
   ]
  },
  {
   "cell_type": "code",
   "execution_count": 16,
   "metadata": {},
   "outputs": [
    {
     "name": "stdout",
     "output_type": "stream",
     "text": [
      "Precision = 0.9581, SE=0.0153\n",
      "Recall =    0.9533, SE=0.0138\n",
      "f1 =        0.9543, SE=0.0087\n",
      "Accuracy =  0.9678, SE=0.0061\n"
     ]
    }
   ],
   "source": [
    "from sklearn.model_selection import KFold\n",
    "from sklearn.model_selection import cross_validate\n",
    "\n",
    "# Instantiate KFold object\n",
    "nfold = 10\n",
    "kf = KFold(n_splits=nfold,shuffle=True,random_state=42)\n",
    "\n",
    "# Do cross-validation\n",
    "cv_results = cross_validate(logreg, Xs, y, cv=kf, scoring=('precision', 'recall', 'f1', 'accuracy'))\n",
    "\n",
    "# Extract test metrics\n",
    "prec = cv_results['test_precision']\n",
    "rec = cv_results['test_recall']\n",
    "f1 = cv_results['test_f1']\n",
    "acc = cv_results['test_accuracy']\n",
    "\n",
    "# Take average values of the metrics\n",
    "precm_unreg = np.mean(prec)\n",
    "recm_unreg = np.mean(rec)\n",
    "f1m_unreg = np.mean(f1)\n",
    "accm_unreg= np.mean(acc)\n",
    "\n",
    "# Compute the standard errors\n",
    "prec_se_unreg = np.std(prec,ddof=1)/np.sqrt(nfold)\n",
    "rec_se_unreg = np.std(rec,ddof=1)/np.sqrt(nfold)\n",
    "f1_se_unreg = np.std(f1,ddof=1)/np.sqrt(nfold)\n",
    "acc_se_unreg = np.std(acc,ddof=1)/np.sqrt(nfold)\n",
    "\n",
    "print('Precision = {0:.4f}, SE={1:.4f}'.format(precm_unreg,prec_se_unreg))\n",
    "print('Recall =    {0:.4f}, SE={1:.4f}'.format(recm_unreg, rec_se_unreg))\n",
    "print('f1 =        {0:.4f}, SE={1:.4f}'.format(f1m_unreg, f1_se_unreg))\n",
    "print('Accuracy =  {0:.4f}, SE={1:.4f}'.format(accm_unreg, acc_se_unreg))"
   ]
  },
  {
   "cell_type": "markdown",
   "metadata": {},
   "source": [
    "## Confusion matrix\n",
    "\n",
    "Next we will create the confusion matrix, which shows the four different outcomes that we can have in binary classification.  For this purpose, we can use sklearn's `confusion_matrix`, which takes in two vectors: one containing true labels `y` and the other containing predictions `yhat`.  We can use the `normalize='true'` option to make the rows sum to one, so that the $i$th row and $j$th column of the confusion matrix can be interpreted as sample estimates of $\\text{Pr}\\{\\hat{y}=j\\,|\\,y=i\\}$.\n",
    "\n",
    "To compute the prediction vector `yhat`, we will use cross-validation.  This is conveniently implemented by sklearn's `cross_val_predict`.\n",
    "\n",
    "Finally, we will use sklearn's `ConfusionMatrixDisplay` to create a nice plot."
   ]
  },
  {
   "cell_type": "code",
   "execution_count": 17,
   "metadata": {},
   "outputs": [
    {
     "data": {
      "image/png": "[encoded data removed]",
      "text/plain": [
       "<Figure size 432x288 with 2 Axes>"
      ]
     },
     "metadata": {
      "needs_background": "light"
     },
     "output_type": "display_data"
    }
   ],
   "source": [
    "from sklearn.model_selection import cross_val_predict\n",
    "from sklearn.metrics import confusion_matrix\n",
    "from sklearn.metrics import ConfusionMatrixDisplay\n",
    "\n",
    "# Compute predictions using 10-fold cross-validation\n",
    "yhat = cross_val_predict(logreg, Xs, y, cv=kf)\n",
    "\n",
    "# Compute the (row-normalized) confusion matrix\n",
    "C = confusion_matrix(y,yhat,normalize='true')\n",
    "\n",
    "# Plot the confusion matrix\n",
    "disp = ConfusionMatrixDisplay(confusion_matrix=C)\n",
    "disp.plot();"
   ]
  },
  {
   "cell_type": "markdown",
   "metadata": {},
   "source": [
    "## ROC curve\n",
    "\n",
    "As discussed above, the logistic regression classifier outputs a *soft* classification $P\\{y=1|{\\bf x}\\}$. \n",
    "To get a *hard* classification, one could set $\\hat{y}=1$ whenever $P\\{y=1|{\\bf x}\\} > 0.5$. \n",
    "More generally, one could instead set $\\hat{y}=1$ whenever $P\\{y=1|{\\bf x}\\} > t$ for some other threshold $t$. \n",
    "Using a higher threshold would select $\\hat{y}=1$ less often, which would result in fewer *false alarms* but more *missed detections* (i.e., reduced *sensitivity*). \n",
    "Likewise, a lower threshold value would select $\\hat{y}=1$ more often, which would result in fewer *missed detections* (i.e., increased *sensitivity*) but more *false alarms*. \n",
    "The ROC curve helps to visualize this tradeoff by graphing the *true positive rate* $\\Pr\\{\\hat{y}=1|y=1\\}$ vs. the *false positive rate* $\\Pr\\{\\hat{y}=1|y=0\\}$ as the threshold $t$ is varied. \n",
    "\n",
    "The ROC curve can be plotted using the sklearn's `roc_curve` as follows."
   ]
  },
  {
   "cell_type": "code",
   "execution_count": 18,
   "metadata": {},
   "outputs": [
    {
     "data": {
      "image/png": "[encoded data removed]",
      "text/plain": [
       "<Figure size 432x288 with 1 Axes>"
      ]
     },
     "metadata": {
      "needs_background": "light"
     },
     "output_type": "display_data"
    }
   ],
   "source": [
    "from sklearn import metrics\n",
    "yprob = logreg.predict_proba(Xs)\n",
    "fpr, tpr, thresholds = metrics.roc_curve(y,yprob[:,1])\n",
    "thresholds[0] = 1\n",
    "\n",
    "plt.plot(fpr,tpr)\n",
    "plt.grid()\n",
    "plt.xlabel('FPR')\n",
    "plt.ylabel('TPR')\n",
    "plt.ylim([0.5,1])\n",
    "plt.xlim([0,0.1]);"
   ]
  },
  {
   "cell_type": "markdown",
   "metadata": {},
   "source": [
    "Now let's see how the TPR and FPR vary as a function of the threshold."
   ]
  },
  {
   "cell_type": "code",
   "execution_count": 19,
   "metadata": {},
   "outputs": [
    {
     "data": {
      "image/png": "[encoded data removed]",
      "text/plain": [
       "<Figure size 432x288 with 1 Axes>"
      ]
     },
     "metadata": {
      "needs_background": "light"
     },
     "output_type": "display_data"
    }
   ],
   "source": [
    "plt.plot(thresholds,tpr, thresholds,fpr)\n",
    "plt.legend(['TPR','FPR'])\n",
    "plt.xlabel('Threshold');"
   ]
  },
  {
   "cell_type": "markdown",
   "metadata": {},
   "source": [
    "Similarly, we can see how the precision and recall vary as a function of the threshold."
   ]
  },
  {
   "cell_type": "code",
   "execution_count": 20,
   "metadata": {},
   "outputs": [
    {
     "name": "stderr",
     "output_type": "stream",
     "text": [
      "/var/folders/nn/74fn_c613bzckz1zkq8j58dh0000gn/T/ipykernel_14310/3314062036.py:4: RuntimeWarning: invalid value encountered in true_divide\n",
      "  precision = tpr*py1/pyhat1\n"
     ]
    }
   ],
   "source": [
    "py1 = np.mean(y==1)\n",
    "py0 = np.mean(y==0)\n",
    "pyhat1 = fpr*py0 + tpr*py1\n",
    "precision = tpr*py1/pyhat1\n",
    "recall = tpr"
   ]
  },
  {
   "cell_type": "code",
   "execution_count": 21,
   "metadata": {},
   "outputs": [
    {
     "data": {
      "image/png": "[encoded data removed]",
      "text/plain": [
       "<Figure size 432x288 with 1 Axes>"
      ]
     },
     "metadata": {
      "needs_background": "light"
     },
     "output_type": "display_data"
    }
   ],
   "source": [
    "plt.plot(thresholds,precision, thresholds,recall)\n",
    "plt.legend(['precision','recall'])\n",
    "plt.xlabel('Threshold');"
   ]
  },
  {
   "cell_type": "code",
   "execution_count": 22,
   "metadata": {},
   "outputs": [
    {
     "data": {
      "image/png": "[encoded data removed]",
      "text/plain": [
       "<Figure size 432x288 with 1 Axes>"
      ]
     },
     "metadata": {
      "needs_background": "light"
     },
     "output_type": "display_data"
    }
   ],
   "source": [
    "sensitivity = tpr\n",
    "specificity = 1-fpr\n",
    "plt.plot(thresholds,specificity, thresholds,sensitivity)\n",
    "plt.legend(['specificity','sensitivity'])\n",
    "plt.xlabel('Threshold');"
   ]
  },
  {
   "cell_type": "markdown",
   "metadata": {},
   "source": [
    "And we can see how sensitivity and specificity vary as a function of the threshold."
   ]
  },
  {
   "cell_type": "markdown",
   "metadata": {},
   "source": [
    "To measure the goodness-of-classification in a threshold-*indepedent* manner, we can use the *area under the curve* (AUC). \n",
    "A higher AUC means that, for a given FPR, the PPR is higher. \n",
    "In practice, one should evalute UAC over different cross validation folds and report the mean AUC."
   ]
  },
  {
   "cell_type": "code",
   "execution_count": 23,
   "metadata": {},
   "outputs": [
    {
     "name": "stdout",
     "output_type": "stream",
     "text": [
      "AUC=0.996325\n"
     ]
    }
   ],
   "source": [
    "auc=metrics.roc_auc_score(y,yprob[:,1])\n",
    "print(\"AUC=%f\" % auc)"
   ]
  },
  {
   "cell_type": "markdown",
   "metadata": {
    "collapsed": true
   },
   "source": [
    "## L1 regularization tuned for best \"debiased\" performance\n",
    "\n",
    "As with LS linear regression (LinReg), we can add an L1 penalty in logistic regression (LogReg) to encourage fewer non-zero weight coefficients. \n",
    "This is particularly important when there are many features and not enough training samples. \n",
    "(In the current dataset, we have a sufficient number of samples for the number of features, and so we do not expect to see too much benefit from L1 regularization.)\n",
    "In the classification context, the term \"LASSO\" is often used to mean L1-regularized LogReg, even though it was originally proposed as L1-regularized LinReg.\n",
    "\n",
    "Like L1LinReg, L1LogReg sets a subset of coefficients to zero (which is good) but biases the remaining coefficients towards zero (which is bad).  \n",
    "Thus it is common to \"debias\" L1LogReg by selecting the *indices* of its non-zero weights and recomputing the *values* of those weights using *unpenalized* LogReg.\n",
    "\n",
    "The number of non-zero L1LogReg weights (i.e., number of selected features) is controlled by the strength of the regularization.\n",
    "Actually, in sklearn, it is controlled by the *inverse* strength of the regularization, `C`.\n",
    "We want to tune `C` to maximize the cross-validation performance of the final output (i.e., the output of *unpenalized* logistic regression).\n",
    "This can be done by grid-search cross-validation: we make a grid of `C` values and then evaluate the cross-validation performance of L1LogReg+FeatureSelection+LogReg at each grid point.\n",
    "\n",
    "Below, we implement this grid-search using a `for` loop. At each iteration, it fits L1LogReg to the full training data, identifies the selected features, and then cross-validates the performance of LogReg on those features using `cross_val_score`.\n",
    "\n",
    "Note: if the `C` parameter grid contains values that cause L1LogReg to select zero features, the subsequent LogReg method will get confused and sklearn will print warnings. \n",
    "This is not a problem; you can just ignore those warnings.\n",
    "But, to keep the demo code cleaner, we set the smallest `C` value in our grid to `1e-2.3`, so that L1LogReg selects at least one feature."
   ]
  },
  {
   "cell_type": "code",
   "execution_count": 24,
   "metadata": {},
   "outputs": [
    {
     "name": "stdout",
     "output_type": "stream",
     "text": [
      "The C value corresponding to minimum error =   1.5283e-02\n",
      "The minimum test error-rate =   2.9241e-02, SE=  6.1562e-03\n",
      "The maximum test accuracy =  0.9708, SE=0.0062\n"
     ]
    },
    {
     "data": {
      "image/png": "[encoded data removed]",
      "text/plain": [
       "<Figure size 432x288 with 1 Axes>"
      ]
     },
     "metadata": {
      "needs_background": "light"
     },
     "output_type": "display_data"
    }
   ],
   "source": [
    "from sklearn.model_selection import cross_val_score\n",
    "\n",
    "# instantiate L1LogReg\n",
    "lasso = LogisticRegression(penalty='l1',solver='liblinear',warm_start=True)\n",
    "\n",
    "# define tuning grid\n",
    "npen = 20\n",
    "C_lasso = np.logspace(-2.3,0,npen) \n",
    "\n",
    "# grid-search cross-validation\n",
    "err_mean = np.ones(len(C_lasso))\n",
    "err_se = np.zeros(len(C_lasso))\n",
    "for i,c in enumerate(C_lasso):\n",
    "    # fit L1LogReg\n",
    "    lasso.set_params(C=c)\n",
    "    lasso.fit(Xs,y)\n",
    "    # select features\n",
    "    nonzero = np.any((lasso.coef_)>1e-5,axis=0) # test nonzero\n",
    "    subset = np.where(nonzero)[0] # array of feature indices\n",
    "    if len(subset)>0:\n",
    "        # evaluate LogReg performance using CV\n",
    "        err = 1-cross_val_score(logreg, Xs[:,subset], y, cv=kf, scoring='accuracy')\n",
    "        err_mean[i] = np.mean(err)\n",
    "        err_se[i] = np.std(err,ddof=1) / np.sqrt(nfold)\n",
    "\n",
    "# extract best design\n",
    "imin = np.argmin(err_mean)\n",
    "C_min = C_lasso[imin]\n",
    "\n",
    "# plot error versus C\n",
    "plt.errorbar(np.log10(C_lasso),err_mean,yerr=err_se,marker='.')\n",
    "xmin, xmax, ymin, ymax = plt.axis()\n",
    "plt.plot(np.log10([C_min,C_min]),[ymin,ymax],'--')\n",
    "plt.ylim([0.0,0.1])\n",
    "plt.grid()\n",
    "plt.xlabel('log10(C)')\n",
    "plt.ylabel('CV error-rate')\n",
    "\n",
    "print(\"The C value corresponding to minimum error = %12.4e\" % C_min)\n",
    "print(\"The minimum test error-rate = %12.4e, SE=%12.4e\" % (err_mean[imin], err_se[imin]))\n",
    "print('The maximum test accuracy =  {0:.4f}, SE={1:.4f}'.format(1-err_mean[imin], err_se[imin]))"
   ]
  },
  {
   "cell_type": "markdown",
   "metadata": {},
   "source": [
    "As an alternative to selecting the `C` that minimizes the CV error rate, we could instead choose `C` according to the one-standard-error rule.  In doing so, we must remember that a smaller `C` signifies a larger regularization strength and thus a simpler model."
   ]
  },
  {
   "cell_type": "code",
   "execution_count": 25,
   "metadata": {},
   "outputs": [
    {
     "name": "stdout",
     "output_type": "stream",
     "text": [
      "One-standard-error-rule C=  8.7520e-03\n",
      "The OSE test-error rate =   3.2161e-02, SE=  7.1315e-03\n",
      "The OSE accuracy =  0.9678, SE=0.0071\n"
     ]
    },
    {
     "data": {
      "image/png": "[encoded data removed]",
      "text/plain": [
       "<Figure size 432x288 with 1 Axes>"
      ]
     },
     "metadata": {
      "needs_background": "light"
     },
     "output_type": "display_data"
    }
   ],
   "source": [
    "# one-standard-error rule\n",
    "err_tgt = err_mean[imin] + err_se[imin]\n",
    "iose = np.where(err_mean < err_tgt)[0][0]\n",
    "C_ose = C_lasso[iose]\n",
    "\n",
    "# plot error versus C\n",
    "plt.errorbar(np.log10(C_lasso), err_mean, marker='.',yerr=err_se)\n",
    "xmin, xmax, ymin, ymax = plt.axis()\n",
    "plt.plot(np.log10([C_min,C_min]),[ymin,err_tgt],'--')\n",
    "plt.plot([xmin,xmax],[err_tgt,err_tgt],'--')\n",
    "plt.plot(np.log10([C_ose,C_ose]),[ymin,ymax],'--')\n",
    "plt.ylim([0.0,0.1])\n",
    "plt.grid()\n",
    "plt.xlabel('log10(C)')\n",
    "plt.ylabel('Error rate')\n",
    "\n",
    "print(\"One-standard-error-rule C=%12.4e\" % C_ose)\n",
    "print(\"The OSE test-error rate = %12.4e, SE=%12.4e\" % (err_mean[iose], err_se[iose]))\n",
    "print('The OSE accuracy =  {0:.4f}, SE={1:.4f}'.format(1-err_mean[iose], err_se[iose]))"
   ]
  },
  {
   "cell_type": "markdown",
   "metadata": {},
   "source": [
    "Next, we plot the weight values computed by the various methods. \n",
    "First we examine LogReg without any regularization, which we computed earlier in this demo.\n",
    "Next we examine L1LogReg using the `C_min` value found above. \n",
    "Finally, we examine LogReg (without regularization) trained on the features selected by L1LogReg."
   ]
  },
  {
   "cell_type": "code",
   "execution_count": 26,
   "metadata": {},
   "outputs": [
    {
     "data": {
      "image/png": "[encoded data removed]",
      "text/plain": [
       "<Figure size 1008x288 with 5 Axes>"
      ]
     },
     "metadata": {
      "needs_background": "light"
     },
     "output_type": "display_data"
    }
   ],
   "source": [
    "# fit to entire training data under C_min\n",
    "lasso.set_params(C=C_min)\n",
    "lasso.fit(Xs,y)\n",
    "nonzero = np.any((lasso.coef_)>1e-5,axis=0) # test nonzero\n",
    "subset = np.where(nonzero)[0] # array of feature indices\n",
    "logreg.fit(Xs[:,subset],y)\n",
    "W_lasso_Cmin = lasso.coef_.reshape(-1)\n",
    "W_logreg_Cmin = np.zeros(W_lasso_Cmin.shape)\n",
    "W_logreg_Cmin[subset] = logreg.coef_.reshape(-1)\n",
    "\n",
    "# fit to entire training data under C_ose\n",
    "lasso.set_params(C=C_ose)\n",
    "lasso.fit(Xs,y)\n",
    "nonzero = np.any((lasso.coef_)>1e-5,axis=0) # test nonzero\n",
    "subset = np.where(nonzero)[0] # array of feature indices\n",
    "logreg.fit(Xs[:,subset],y)\n",
    "W_lasso_Cose = lasso.coef_.reshape(-1)\n",
    "W_logreg_Cose = np.zeros(W_lasso_Cose.shape)\n",
    "W_logreg_Cose[subset] = logreg.coef_.reshape(-1)\n",
    "\n",
    "# plot weight values\n",
    "plt.figure(figsize=(14,4))\n",
    "plt.subplot(1,5,1)\n",
    "plt.stem(W)\n",
    "plt.ylim([-0.1,1.6])\n",
    "plt.title('LogReg (no regularization)')\n",
    "plt.ylabel('weight value')\n",
    "plt.xlabel('coefficient index')\n",
    "plt.subplot(1,5,2)\n",
    "plt.stem(W_lasso_Cmin)\n",
    "plt.ylim([-0.1,1.6])\n",
    "plt.title('L1LogReg (C_min)')\n",
    "plt.xlabel('coefficient index')\n",
    "plt.subplot(1,5,3)\n",
    "plt.stem(W_logreg_Cmin)\n",
    "plt.ylim([-0.1,1.6])\n",
    "plt.title('FeatSel LogReg (C_min)')\n",
    "plt.xlabel('coefficient index')\n",
    "plt.subplot(1,5,4)\n",
    "plt.stem(W_lasso_Cose)\n",
    "plt.ylim([-0.1,1.6])\n",
    "plt.title('L1LogReg (C_ose)')\n",
    "plt.xlabel('coefficient index')\n",
    "plt.subplot(1,5,5)\n",
    "plt.stem(W_logreg_Cose)\n",
    "plt.ylim([-0.1,1.6])\n",
    "plt.title('FeatSel LogReg (C_ose)')\n",
    "plt.xlabel('coefficient index');"
   ]
  },
  {
   "cell_type": "markdown",
   "metadata": {},
   "source": [
    "The results above are as expected.\n",
    "First, with unregularized LogReg, all weights are nonzero.\n",
    "When we add the L1 penalty under strength `C_min`, a subset of weights goes to zero and the remaining weights shrink.\n",
    "Debiasing the design preserves the subset of non-zero weights but allows larger weight values (and, more importantly, values that work better for classification).\n",
    "When we use the L1 penalty under strength `C_ose`, one more weight goes to zero."
   ]
  },
  {
   "cell_type": "markdown",
   "metadata": {
    "collapsed": true
   },
   "source": [
    "## L1 regularization tuned for best \"debiased\" performance using a pipeline\n",
    "\n",
    "As we saw above, it is possible to tune L1LogReg for best \"debiased\" performance using a `for` loop. \n",
    "But we also know that sklearn's `GridSearchCV` provides an alternative to `for`-loop based cross-validation: it requires us to specify only the estimator, the parameter grid, the cross-val object, and the performance metric. \n",
    "But when the estimator is a cascade of operations like L1LogReg+FeatureSelection+LogReg, how do we pass it to `GridSearchCV`?\n",
    "The answer is provided by sklearn's `Pipeline` framework, which allows one to cascade several estimators together.\n",
    "In the pipeline, we can use sklearn's `SelectFromModel` transform to do the FeatureSelection step.\n",
    "\n",
    "The code below first creates a pipeline with two steps: 1) L1LogReg followed by `SelectFromModel`, and 2) unregularized LogReg.  \n",
    "We need to put `SelectFromModel` together with L1LogReg in one step because `SelectFromModel` does not have a \"fit\" method, as required for all components of a pipeline.\n",
    "Once we build the pipeline, we can pass it into `GridSearchCV` as the estimator. \n",
    "We'll also pass in the same `C` grid, `kf` cross-validation object, and `accuracy` metric as before.\n"
   ]
  },
  {
   "cell_type": "code",
   "execution_count": 27,
   "metadata": {
    "scrolled": false
   },
   "outputs": [],
   "source": [
    "from sklearn.pipeline import Pipeline\n",
    "from sklearn.feature_selection import SelectFromModel\n",
    "from sklearn.model_selection import GridSearchCV\n",
    "\n",
    "# build pipeline for L1LogReg+FeaturesSelect+LogReg\n",
    "pipe = Pipeline([\n",
    "  ('featsel',SelectFromModel(LogisticRegression(penalty='l1',solver='liblinear',warm_start=True))),\n",
    "  ('logreg', LogisticRegression(C=1e5))\n",
    "])\n",
    "\n",
    "# tune L1LogReg regularization strength\n",
    "npen = 20\n",
    "C_lasso = np.logspace(-2.3,0,npen) # grid of C values\n",
    "parameters = {'featsel__estimator__C':C_lasso} # see pipe.get_params().keys()\n",
    "gscv = GridSearchCV(pipe, parameters, cv=kf, scoring='accuracy')\n",
    "gscv.fit(Xs,y);"
   ]
  },
  {
   "cell_type": "markdown",
   "metadata": {},
   "source": [
    "Now that our CV procedure has finished running, we can extract the results using the `.best_score_`, `.best_params_`, and `.best_estimator_` methods. \n",
    "Note that the `.best_estimator_` is fit to the entire training dataset using the best parameters.\n",
    "Below, we also plot the mean error-rate estimated by cross-validation versus `C`, as well as its standard error."
   ]
  },
  {
   "cell_type": "code",
   "execution_count": 28,
   "metadata": {},
   "outputs": [
    {
     "name": "stdout",
     "output_type": "stream",
     "text": [
      "Best CV accuracy = 0.9707800511508952\n",
      "Best parameters = {'featsel__estimator__C': 0.015283067326587695}\n",
      "Numerical value of best C parameter = 0.015283067326587695\n",
      "The minimum test error rate =   2.9220e-02, SE=  6.8576e-03\n",
      "The C value corresponding to minimum error =   1.5283e-02\n"
     ]
    },
    {
     "data": {
      "image/png": "[encoded data removed]",
      "text/plain": [
       "<Figure size 432x288 with 1 Axes>"
      ]
     },
     "metadata": {
      "needs_background": "light"
     },
     "output_type": "display_data"
    }
   ],
   "source": [
    "# extract results of tuning\n",
    "print(\"Best CV accuracy = \"+str(gscv.best_score_))\n",
    "print(\"Best parameters = \"+str(gscv.best_params_))\n",
    "C_best = gscv.best_estimator_.named_steps[\"featsel\"].estimator.C\n",
    "print(\"Numerical value of best C parameter = \"+str(C_best))\n",
    "\n",
    "# Average test results across folds\n",
    "err_mean = 1-gscv.cv_results_['mean_test_score'] # error-rate = 1-accuracy\n",
    "err_se = gscv.cv_results_['std_test_score']/np.sqrt(nfold-1)\n",
    "imin = np.argmin(err_mean)\n",
    "C_min = C_lasso[imin] # should agree with C_best above\n",
    "\n",
    "# Plot error statistics versus C\n",
    "plt.errorbar(np.log10(C_lasso), err_mean, marker='o',yerr=err_se)\n",
    "xmin, xmax, ymin, ymax = plt.axis()\n",
    "plt.plot(np.log10([C_min,C_min]),[ymin,ymax],'--')\n",
    "plt.ylim([0.0,0.1])\n",
    "plt.grid()\n",
    "plt.xlabel('log10(C)')\n",
    "plt.ylabel('CV error-rate')\n",
    "\n",
    "print(\"The minimum test error rate = %12.4e, SE=%12.4e\" % (err_mean[imin], err_se[imin]))\n",
    "print(\"The C value corresponding to minimum error = %12.4e\" % C_min)"
   ]
  },
  {
   "cell_type": "markdown",
   "metadata": {},
   "source": [
    "If you look closely at the CV error-rates above, you'll see that they are slightly different from the ones computed by the `for`-loop method, even though we used the same estimator, k-fold method, and metric. \n",
    "This is because the two techniques differ slightly in *how* the L1LogReg stage is trained: \n",
    "In the `for`-loop method, L1LogReg is trained once using the full data, but in the pipeline method, L1LogReg is trained K times on different folds.\n",
    "Because each fold can yield a different number of non-zero weights, the mean-error-rate curve is not piecewise constant as it was in the `for` loop method.\n",
    "Furthermore, the pipeline method is slower to train because the most expensive stage (L1LogReg) is run K times more often.\n",
    "\n",
    "Next, we plot the weight values computed by the various methods in the pipeline. "
   ]
  },
  {
   "cell_type": "code",
   "execution_count": 29,
   "metadata": {
    "scrolled": false
   },
   "outputs": [
    {
     "data": {
      "image/png": "[encoded data removed]",
      "text/plain": [
       "<Figure size 1008x288 with 3 Axes>"
      ]
     },
     "metadata": {
      "needs_background": "light"
     },
     "output_type": "display_data"
    }
   ],
   "source": [
    "# best estimator\n",
    "pipe_best = gscv.best_estimator_ \n",
    "\n",
    "# L1LogReg coefficients\n",
    "W_l1 = pipe_best.named_steps[\"featsel\"].estimator_.coef_.reshape(-1)\n",
    "support = pipe_best.named_steps[\"featsel\"].get_support()\n",
    "\n",
    "# LogReg coefficients\n",
    "W_pipe = np.zeros(W.shape)\n",
    "W_pipe[support] = pipe_best.named_steps[\"logreg\"].coef_.reshape(-1)\n",
    "\n",
    "plt.figure(figsize=(14,4))\n",
    "plt.subplot(1,3,1)\n",
    "plt.stem(W)\n",
    "plt.ylim([-0.1,1.6])\n",
    "plt.title('LogReg (no regularization)')\n",
    "plt.ylabel('weight value')\n",
    "plt.xlabel('coefficient index')\n",
    "plt.subplot(1,3,2)\n",
    "plt.stem(W_l1)\n",
    "plt.ylim([-0.1,1.6])\n",
    "plt.title('L1LogReg (C_min)')\n",
    "plt.xlabel('coefficient index')\n",
    "plt.subplot(1,3,3)\n",
    "plt.stem(W_pipe)\n",
    "plt.ylim([-0.1,1.6])\n",
    "plt.title('FeatSel LogReg (C_min)')\n",
    "plt.xlabel('coefficient index');"
   ]
  },
  {
   "cell_type": "markdown",
   "metadata": {},
   "source": [
    "The results above are as expected.\n",
    "First, with unregularized LogReg, all weights are nonzero.\n",
    "When we add the L1 penalty, a subset of weights goes to zero and the remaining weights shrink.\n",
    "Finally, when unregularized LogReg is fit to the L1LogReg-selected features alone, the non-zero weights grow larger. \n",
    "More importantly, those weights work better for classification, as we show below."
   ]
  },
  {
   "cell_type": "markdown",
   "metadata": {},
   "source": [
    "Finally we evaluate the cross-val-selected best estimator according to several other metrics: precision, recall, and f1. \n",
    "As before, we do this easily using the `cross_validate` method."
   ]
  },
  {
   "cell_type": "code",
   "execution_count": 30,
   "metadata": {},
   "outputs": [
    {
     "name": "stdout",
     "output_type": "stream",
     "text": [
      "Precision = 0.9621, SE=0.0131\n",
      "Recall =    0.9586, SE=0.0144\n",
      "f1 =        0.9593, SE=0.0091\n",
      "Accuracy =  0.9708, SE=0.0069\n"
     ]
    }
   ],
   "source": [
    "# evaluate best estimator\n",
    "cv_results = cross_validate(pipe_best, Xs, y, cv=kf, scoring=('precision', 'recall', 'f1', 'accuracy'))\n",
    "\n",
    "# Extract test metrics\n",
    "prec = cv_results['test_precision']\n",
    "rec = cv_results['test_recall']\n",
    "f1 = cv_results['test_f1']\n",
    "acc = cv_results['test_accuracy']\n",
    "\n",
    "# Take average values of the metrics\n",
    "precm = np.mean(prec)\n",
    "recm = np.mean(rec)\n",
    "f1m = np.mean(f1)\n",
    "accm= np.mean(acc)\n",
    "\n",
    "# Compute the standard errors\n",
    "prec_se = np.std(prec,ddof=1)/np.sqrt(nfold)\n",
    "rec_se = np.std(rec,ddof=1)/np.sqrt(nfold)\n",
    "f1_se = np.std(f1,ddof=1)/np.sqrt(nfold)\n",
    "acc_se = np.std(acc,ddof=1)/np.sqrt(nfold)\n",
    "\n",
    "print('Precision = {0:.4f}, SE={1:.4f}'.format(precm,prec_se))\n",
    "print('Recall =    {0:.4f}, SE={1:.4f}'.format(recm, rec_se))\n",
    "print('f1 =        {0:.4f}, SE={1:.4f}'.format(f1m, f1_se))\n",
    "print('Accuracy =  {0:.4f}, SE={1:.4f}'.format(accm, acc_se))"
   ]
  },
  {
   "cell_type": "markdown",
   "metadata": {},
   "source": [
    "The results above show that, by using L1-LogReg to perform feature selection, we can improve the performance relative to non-feature-selected LogReg."
   ]
  },
  {
   "cell_type": "markdown",
   "metadata": {},
   "source": [
    "## L1 regularization tuned for best \"biased\" performance\n",
    "\n",
    "There is one downside to the above approach to L1LogReg that arises in classification with K>2 classes: we might want to allow different predictors to use *different subsets of features*.\n",
    "With the \"debiased\" approach above, all K predictors are forced to use the same subset of features.\n",
    "Furthermore, a feature is discarded only when its weight equals zero in all K predictors! \n",
    "Thus, as K grows larger, it becomes more difficult to do feature selection.\n",
    "\n",
    "If we want to allow different predictors to use different subsets of features, then we can't use the debiased approach from earlier. \n",
    "An alternative is to train L1LogReg and use the learned weight values as-is, even though they are biased. \n",
    "For tuning, we could just use grid-search cross-validation as usual, or we could use the one-standard-error rule (which further increases sparsity).\n",
    "\n",
    "Because this demo considers binary classification, this alternative approach will have no advantage over the debiased approach described earlier.\n",
    "Still, we will implement it for completeness and compare it to the debiased approach.\n",
    "\n",
    "The first step is to instantiate L1LogReg and run grid-search cross-validation to tune its regularization strength `C` over a grid. \n",
    "We then plot the resulting CV-estimated error rate (and its standard error) versus `C`."
   ]
  },
  {
   "cell_type": "code",
   "execution_count": 31,
   "metadata": {},
   "outputs": [
    {
     "name": "stdout",
     "output_type": "stream",
     "text": [
      "The minimum test error rate =   2.9220e-02, SE=  4.8386e-03\n",
      "The C value corresponding to minimum error =   1.5283e-02\n"
     ]
    },
    {
     "data": {
      "image/png": "[encoded data removed]",
      "text/plain": [
       "<Figure size 432x288 with 1 Axes>"
      ]
     },
     "metadata": {
      "needs_background": "light"
     },
     "output_type": "display_data"
    }
   ],
   "source": [
    "# Create the lasso object\n",
    "lasso = LogisticRegression(penalty='l1', solver='liblinear', warm_start=True)\n",
    "\n",
    "# Define the parameter grid\n",
    "npen = 20\n",
    "C_lasso = np.logspace(-2.3,0,npen)\n",
    "\n",
    "# Run cross-validation\n",
    "parameters = {'C':C_lasso}\n",
    "clf = GridSearchCV(lasso, parameters, cv=kf, scoring='accuracy')\n",
    "clf.fit(Xs,y)\n",
    "\n",
    "# Average test results across folds\n",
    "err_mean = 1-clf.cv_results_['mean_test_score'] # error-rate = 1-accuracy\n",
    "err_se = clf.cv_results_['std_test_score']/np.sqrt(nfold-1)\n",
    "imin = np.argmin(err_mean)\n",
    "C_min = C_lasso[imin]\n",
    "\n",
    "# Plot error statistics versus C\n",
    "plt.errorbar(np.log10(C_lasso), err_mean, marker='o',yerr=err_se)\n",
    "xmin, xmax, ymin, ymax = plt.axis()\n",
    "plt.plot(np.log10([C_min,C_min]),[ymin,ymax],'--')\n",
    "plt.ylim([0.02,0.05])\n",
    "plt.grid()\n",
    "plt.xlabel('log10(C)')\n",
    "plt.ylabel('CV error-rate')\n",
    "\n",
    "print(\"The minimum test error rate = %12.4e, SE=%12.4e\" % (err_mean[imin], err_se[imin]))\n",
    "print(\"The C value corresponding to minimum error = %12.4e\" % C_min)"
   ]
  },
  {
   "cell_type": "markdown",
   "metadata": {},
   "source": [
    "Now we choose `C` using the one-standard-error rule. \n",
    "Note that, because smaller `C` implies a simpler model, we want to find the *smallest* `C` that satisfies the error target. \n",
    "We also print the corresponding test accuracy with this choice of `C`."
   ]
  },
  {
   "cell_type": "code",
   "execution_count": 32,
   "metadata": {},
   "outputs": [
    {
     "name": "stdout",
     "output_type": "stream",
     "text": [
      "One-standard-error-rule C=  1.1565e-02\n",
      "The test error rate =   3.3610e-02, SE=  4.3255e-03\n",
      "Accuracy =  0.9664, SE=0.0043\n"
     ]
    },
    {
     "data": {
      "image/png": "[encoded data removed]",
      "text/plain": [
       "<Figure size 432x288 with 1 Axes>"
      ]
     },
     "metadata": {
      "needs_background": "light"
     },
     "output_type": "display_data"
    }
   ],
   "source": [
    "# One-standard-error rule\n",
    "err_tgt = err_mean[imin] + err_se[imin]\n",
    "iose = np.where(err_mean < err_tgt)[0][0]\n",
    "C_ose = C_lasso[iose]\n",
    "\n",
    "# Plot error statistics versus C\n",
    "plt.errorbar(np.log10(C_lasso), err_mean, marker='o',yerr=err_se)\n",
    "xmin, xmax, ymin, ymax = plt.axis()\n",
    "plt.plot(np.log10([C_min,C_min]),[ymin,err_tgt],'--')\n",
    "plt.plot([xmin,xmax],[err_tgt,err_tgt],'--')\n",
    "plt.plot(np.log10([C_ose,C_ose]),[ymin,ymax],'--')\n",
    "plt.ylim([0.02,0.05])\n",
    "plt.grid()\n",
    "plt.xlabel('log10(C)')\n",
    "plt.ylabel('Error rate')\n",
    "\n",
    "print(\"One-standard-error-rule C=%12.4e\" % C_ose)\n",
    "print(\"The test error rate = %12.4e, SE=%12.4e\" % (err_mean[iose], err_se[iose]))\n",
    "print('Accuracy =  {0:.4f}, SE={1:.4f}'.format(1-err_mean[iose], err_se[iose]))"
   ]
  },
  {
   "cell_type": "markdown",
   "metadata": {},
   "source": [
    "For the selected `C`, we now fit L1LogReg on the entire training data and plot the resulting weights.  We can compare these weights to unregularized LogReg.  We can see that, with L1-regularization, the weight vector is much more sparse, but the non-zero coefficients have shrunk."
   ]
  },
  {
   "cell_type": "code",
   "execution_count": 33,
   "metadata": {},
   "outputs": [
    {
     "data": {
      "image/png": "[encoded data removed]",
      "text/plain": [
       "<Figure size 1008x288 with 2 Axes>"
      ]
     },
     "metadata": {
      "needs_background": "light"
     },
     "output_type": "display_data"
    }
   ],
   "source": [
    "# Re-fit LASSO on entire training data\n",
    "lasso = LogisticRegression(C=C_ose,penalty='l1',solver='liblinear')\n",
    "lasso.fit(Xs,y)\n",
    "W_ose = lasso.coef_.reshape(-1)\n",
    "\n",
    "plt.figure(figsize=(14,4))\n",
    "plt.subplot(1,2,1)\n",
    "plt.stem(W)\n",
    "plt.title('No regularization')\n",
    "plt.subplot(1,2,2)\n",
    "plt.stem(W_ose)\n",
    "plt.title('OSE optimized C')\n",
    "\n",
    "# Extract feature indices \n",
    "subset = np.where(np.abs(W_ose)>0)[0]"
   ]
  },
  {
   "cell_type": "markdown",
   "metadata": {},
   "source": [
    "Finally we evaluate this OSE-tuned classifier on the full set of metrics."
   ]
  },
  {
   "cell_type": "code",
   "execution_count": 34,
   "metadata": {},
   "outputs": [
    {
     "name": "stdout",
     "output_type": "stream",
     "text": [
      "OSE results:\n",
      "Precision = 0.9473, SE=0.0126\n",
      "Recall =    0.9603, SE=0.0113\n",
      "f1 =        0.9526, SE=0.0056\n",
      "Accuracy =  0.9664, SE=0.0043\n",
      "\n",
      "Pipeline results:\n",
      "Precision = 0.9621, SE=0.0131\n",
      "Recall =    0.9586, SE=0.0144\n",
      "f1 =        0.9593, SE=0.0091\n",
      "Accuracy =  0.9708, SE=0.0069\n",
      "\n",
      "Unregularized results:\n",
      "Precision = 0.9581, SE=0.0153\n",
      "Recall =    0.9533, SE=0.0138\n",
      "f1 =        0.9543, SE=0.0087\n",
      "Accuracy =  0.9678, SE=0.0061\n"
     ]
    }
   ],
   "source": [
    "# Do cross-validation\n",
    "cv_results = cross_validate(lasso, Xs, y, cv=kf, scoring=('precision', 'recall', 'f1', 'accuracy'))\n",
    "\n",
    "# Extract test metrics\n",
    "prec = cv_results['test_precision']\n",
    "rec = cv_results['test_recall']\n",
    "f1 = cv_results['test_f1']\n",
    "acc = cv_results['test_accuracy']\n",
    "\n",
    "# Take average values of the metrics\n",
    "precm_ose = np.mean(prec)\n",
    "recm_ose = np.mean(rec)\n",
    "f1m_ose = np.mean(f1)\n",
    "accm_ose = np.mean(acc)\n",
    "\n",
    "# Compute the standard errors\n",
    "prec_se_ose = np.std(prec,ddof=1)/np.sqrt(nfold)\n",
    "rec_se_ose = np.std(rec,ddof=1)/np.sqrt(nfold)\n",
    "f1_se_ose = np.std(f1,ddof=1)/np.sqrt(nfold)\n",
    "acc_se_ose = np.std(acc,ddof=1)/np.sqrt(nfold)\n",
    "\n",
    "print('OSE results:')\n",
    "print('Precision = {0:.4f}, SE={1:.4f}'.format(precm_ose,prec_se_ose))\n",
    "print('Recall =    {0:.4f}, SE={1:.4f}'.format(recm_ose, rec_se_ose))\n",
    "print('f1 =        {0:.4f}, SE={1:.4f}'.format(f1m_ose, f1_se_ose))\n",
    "print('Accuracy =  {0:.4f}, SE={1:.4f}'.format(accm_ose, acc_se_ose))\n",
    "print('')\n",
    "print('Pipeline results:')\n",
    "print('Precision = {0:.4f}, SE={1:.4f}'.format(precm,prec_se))\n",
    "print('Recall =    {0:.4f}, SE={1:.4f}'.format(recm, rec_se))\n",
    "print('f1 =        {0:.4f}, SE={1:.4f}'.format(f1m, f1_se))\n",
    "print('Accuracy =  {0:.4f}, SE={1:.4f}'.format(accm, acc_se))\n",
    "print('')\n",
    "print('Unregularized results:')\n",
    "print('Precision = {0:.4f}, SE={1:.4f}'.format(precm_unreg,prec_se_unreg))\n",
    "print('Recall =    {0:.4f}, SE={1:.4f}'.format(recm_unreg, rec_se_unreg))\n",
    "print('f1 =        {0:.4f}, SE={1:.4f}'.format(f1m_unreg, f1_se_unreg))\n",
    "print('Accuracy =  {0:.4f}, SE={1:.4f}'.format(accm_unreg, acc_se_unreg))"
   ]
  },
  {
   "cell_type": "markdown",
   "metadata": {},
   "source": [
    "As you can see, the accuracy of the OSE approach is not as good as that of the pipeline approach, nor the unregularized approach, because the L1LogReg coefficients are biased towards zero. \n",
    "\n",
    "However, it should be noted that the results will vary based on the cross-validation split, which is random.  In this demo, we fixed the random seed of the cross-validation split to suppress this randomness, but changing the  seed value will slightly change the results.\n",
    "\n",
    "Also, it should be noted that the benefits of feature selection are very much dependent on the dataset. \n",
    "In datasets where the number of features is large compared to the number of samples, feature selection is essential. \n",
    "In this breast-cancer dataset, feature selection does not have a profound effect."
   ]
  },
  {
   "cell_type": "code",
   "execution_count": null,
   "metadata": {},
   "outputs": [],
   "source": []
  }
 ],
 "metadata": {
  "anaconda-cloud": {},
  "kernelspec": {
   "display_name": "Python 3 (ipykernel)",
   "language": "python",
   "name": "python3"
  },
  "language_info": {
   "codemirror_mode": {
    "name": "ipython",
    "version": 3
   },
   "file_extension": ".py",
   "mimetype": "text/x-python",
   "name": "python",
   "nbconvert_exporter": "python",
   "pygments_lexer": "ipython3",
   "version": "3.9.10"
  }
 },
 "nbformat": 4,
 "nbformat_minor": 1
}
