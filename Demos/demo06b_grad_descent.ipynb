{
 "cells": [
  {
   "cell_type": "markdown",
   "metadata": {},
   "source": [
    "# Demo:  Gradient Descent Optimization\n",
    "\n",
    "In the [breast cancer demo](../logistic/breast_cancer.ipynb), we used the `sklearn` built-in `LogisticRegression` class to find the weights for the logistic regression problem.   The `fit` routine in that class has an *optimizer* to select the weights to best match the data.  To understand how that optimizer works, in this demo, we will build a very simple gradient descent optimizer from scratch.  You will learn to:\n",
    "* Compute the gradients of a simple loss function and implement the gradient calculations in python\n",
    "* Implement a simple gradient descent optimizer\n",
    "* Visualize the effect of the learning rate in gradient descent\n",
    "* Implement an adaptive learning rate algorithm"
   ]
  },
  {
   "cell_type": "markdown",
   "metadata": {},
   "source": [
    "## Loading the Breast Cancer Data\n",
    "\n",
    "We first load the standard packages."
   ]
  },
  {
   "cell_type": "code",
   "execution_count": 1,
   "metadata": {},
   "outputs": [],
   "source": [
    "import numpy as np\n",
    "import matplotlib.pyplot as plt\n",
    "import pandas as pd\n",
    "%matplotlib inline\n",
    "from sklearn import preprocessing"
   ]
  },
  {
   "cell_type": "markdown",
   "metadata": {},
   "source": [
    "We next load the data from the [breast cancer demo](../logistic/breast_cancer.ipynb).  "
   ]
  },
  {
   "cell_type": "code",
   "execution_count": 2,
   "metadata": {},
   "outputs": [
    {
     "data": {
      "text/html": [
       "<div>\n",
       "<style scoped>\n",
       "    .dataframe tbody tr th:only-of-type {\n",
       "        vertical-align: middle;\n",
       "    }\n",
       "\n",
       "    .dataframe tbody tr th {\n",
       "        vertical-align: top;\n",
       "    }\n",
       "\n",
       "    .dataframe thead th {\n",
       "        text-align: right;\n",
       "    }\n",
       "</style>\n",
       "<table border=\"1\" class=\"dataframe\">\n",
       "  <thead>\n",
       "    <tr style=\"text-align: right;\">\n",
       "      <th></th>\n",
       "      <th>id</th>\n",
       "      <th>thick</th>\n",
       "      <th>size_unif</th>\n",
       "      <th>shape_unif</th>\n",
       "      <th>marg</th>\n",
       "      <th>cell_size</th>\n",
       "      <th>bare</th>\n",
       "      <th>chrom</th>\n",
       "      <th>normal</th>\n",
       "      <th>mit</th>\n",
       "      <th>class</th>\n",
       "    </tr>\n",
       "  </thead>\n",
       "  <tbody>\n",
       "    <tr>\n",
       "      <th>0</th>\n",
       "      <td>1000025</td>\n",
       "      <td>5</td>\n",
       "      <td>1</td>\n",
       "      <td>1</td>\n",
       "      <td>1</td>\n",
       "      <td>2</td>\n",
       "      <td>1.0</td>\n",
       "      <td>3</td>\n",
       "      <td>1</td>\n",
       "      <td>1</td>\n",
       "      <td>2</td>\n",
       "    </tr>\n",
       "    <tr>\n",
       "      <th>1</th>\n",
       "      <td>1002945</td>\n",
       "      <td>5</td>\n",
       "      <td>4</td>\n",
       "      <td>4</td>\n",
       "      <td>5</td>\n",
       "      <td>7</td>\n",
       "      <td>10.0</td>\n",
       "      <td>3</td>\n",
       "      <td>2</td>\n",
       "      <td>1</td>\n",
       "      <td>2</td>\n",
       "    </tr>\n",
       "    <tr>\n",
       "      <th>2</th>\n",
       "      <td>1015425</td>\n",
       "      <td>3</td>\n",
       "      <td>1</td>\n",
       "      <td>1</td>\n",
       "      <td>1</td>\n",
       "      <td>2</td>\n",
       "      <td>2.0</td>\n",
       "      <td>3</td>\n",
       "      <td>1</td>\n",
       "      <td>1</td>\n",
       "      <td>2</td>\n",
       "    </tr>\n",
       "    <tr>\n",
       "      <th>3</th>\n",
       "      <td>1016277</td>\n",
       "      <td>6</td>\n",
       "      <td>8</td>\n",
       "      <td>8</td>\n",
       "      <td>1</td>\n",
       "      <td>3</td>\n",
       "      <td>4.0</td>\n",
       "      <td>3</td>\n",
       "      <td>7</td>\n",
       "      <td>1</td>\n",
       "      <td>2</td>\n",
       "    </tr>\n",
       "    <tr>\n",
       "      <th>4</th>\n",
       "      <td>1017023</td>\n",
       "      <td>4</td>\n",
       "      <td>1</td>\n",
       "      <td>1</td>\n",
       "      <td>3</td>\n",
       "      <td>2</td>\n",
       "      <td>1.0</td>\n",
       "      <td>3</td>\n",
       "      <td>1</td>\n",
       "      <td>1</td>\n",
       "      <td>2</td>\n",
       "    </tr>\n",
       "  </tbody>\n",
       "</table>\n",
       "</div>"
      ],
      "text/plain": [
       "        id  thick  size_unif  shape_unif  marg  cell_size  bare  chrom  \\\n",
       "0  1000025      5          1           1     1          2   1.0      3   \n",
       "1  1002945      5          4           4     5          7  10.0      3   \n",
       "2  1015425      3          1           1     1          2   2.0      3   \n",
       "3  1016277      6          8           8     1          3   4.0      3   \n",
       "4  1017023      4          1           1     3          2   1.0      3   \n",
       "\n",
       "   normal  mit  class  \n",
       "0       1    1      2  \n",
       "1       2    1      2  \n",
       "2       1    1      2  \n",
       "3       7    1      2  \n",
       "4       1    1      2  "
      ]
     },
     "execution_count": 2,
     "metadata": {},
     "output_type": "execute_result"
    }
   ],
   "source": [
    "names = ['id','thick','size_unif','shape_unif','marg','cell_size','bare',\n",
    "         'chrom','normal','mit','class']\n",
    "df = pd.read_csv('https://archive.ics.uci.edu/ml/machine-learning-databases/' +\n",
    "                 'breast-cancer-wisconsin/breast-cancer-wisconsin.data',\n",
    "                names=names,na_values='?',header=None)\n",
    "df = df.dropna()\n",
    "df.head()"
   ]
  },
  {
   "cell_type": "markdown",
   "metadata": {},
   "source": [
    "As in the breast cancer demo, we create a data matrix `X` of various features of the breast cancer sample.  The response vector `y` is a binary indicating if each sample is benign or malignant.  "
   ]
  },
  {
   "cell_type": "code",
   "execution_count": 3,
   "metadata": {},
   "outputs": [],
   "source": [
    "# Get the predictors\n",
    "xnames = names[1:-1]\n",
    "X = np.array(df[xnames])\n",
    "Xs = preprocessing.scale(X)\n",
    "\n",
    "# Get the response.  Convert to a zero-one indicator \n",
    "yraw = np.array(df['class'])\n",
    "BEN_VAL = 2   # value in the 'class' label for benign samples\n",
    "MAL_VAL = 4   # value in the 'class' label for malignant samples\n",
    "y = (yraw == MAL_VAL).astype(int)"
   ]
  },
  {
   "cell_type": "markdown",
   "metadata": {},
   "source": [
    "We want to learn the classification rule to predict `y` from `X`.  To this end, we first split the data into training and test."
   ]
  },
  {
   "cell_type": "code",
   "execution_count": 4,
   "metadata": {},
   "outputs": [],
   "source": [
    "ntr = 400        # number of training samples\n",
    "Xtr = X[:ntr,:]  # training\n",
    "ytr = y[:ntr]\n",
    "Xts = X[ntr:,:]  # test\n",
    "yts = y[ntr:]"
   ]
  },
  {
   "cell_type": "markdown",
   "metadata": {},
   "source": [
    "## Computing the Gradient and Loss Function\n",
    "\n",
    "Recall that training a logistic function means finding a weight vector `w` for the classification rule:\n",
    "\n",
    "$$\n",
    "    Pr\\{y=1|\\boldsymbol{x},\\boldsymbol{w}\\} = \\frac{1}{1+e^{-z}}, \\quad z = w_0 + \\sum_{j=1}^d x_j w_j\n",
    "$$    \n",
    "Note that we use $w_0$ for the intercept term rather than $b$ to simplify the notation. \n",
    "From the class notes on logistic regression, we saw that the weight vector is optimized by minimizing the negative log-likelihood. By doing so, we are choosing the *loss* function, i.e., the quantity that we minimize to fit our model parameters, to be the negative log-likelihood.  For logistic regression with $y\\in\\{0,1\\}$, the lecture derived that negative log-likelihood loss can be written as:\n",
    "\n",
    "$$\n",
    "    J(\\boldsymbol{w}) \n",
    "    \\triangleq - \\ln p(\\boldsymbol{y}|\\boldsymbol{X},\\boldsymbol{w}) \n",
    "    = \\sum_i \\left[ \\ln(1+e^{z_i}) -y_i z_i \\right],  \\quad z_i = w_0 + \\sum_{j=1}^d x_{ij} w_j.\n",
    "$$\n",
    "\n",
    "To run a numerical optimizer in python, we need to implement a python function that returns `J(w)` and its gradient.  That is, we would like a function of the form:\n",
    "\n",
    "    def Jeval(w):\n",
    "        ...\n",
    "        return J, Jgrad\n",
    "\n",
    "One issue is that the function `J(w)` also depends parameters `X` and `y`.  So, we need a way to pass those parameters to the function.  Below we outline two approaches. The first builds `J(w,X,y)` and then wraps in inside a *lambda* function `J(w)` that fixes the values of `X,y`. The second constructs a *class* that contains the parameters `X,y` as well as a method `J(w)` that has access to `X,y`.\n",
    "\n",
    "For use in the future, we will first draw a random `w` vector."
   ]
  },
  {
   "cell_type": "code",
   "execution_count": 5,
   "metadata": {},
   "outputs": [],
   "source": [
    "# numpy-recommended way to create random number generator\n",
    "# https://numpy.org/doc/stable/reference/random/generator.html\n",
    "rng = np.random.default_rng(0)\n",
    "\n",
    "# Draw a random vector w0\n",
    "d = X.shape[1]\n",
    "w0 = rng.standard_normal(d+1)"
   ]
  },
  {
   "cell_type": "markdown",
   "metadata": {},
   "source": [
    "### Method 1.  Construct a \"lambda\" function\n",
    "\n",
    "A simple method is to construct a python *lambda function*, which is simply a function that is defined using a single line of code.  In Matlab they are called *anonymous functions*.  The code below first creates a regular function `Jeval_param` that takes in all the parameters.  Next, it creates a lambda function called `Jeval(w)` that contains fixed values of the parameters `Xtr` and `ytr`.  Finally, it calls the lambda function with the input `w0`."
   ]
  },
  {
   "cell_type": "code",
   "execution_count": 6,
   "metadata": {},
   "outputs": [],
   "source": [
    "# First create a function with all the parameters\n",
    "\n",
    "def Jeval_param(w,X,y):\n",
    "        \"\"\"\n",
    "        Compute the loss and gradient of w given w,X,y\n",
    "        \"\"\"\n",
    "        # Construct transform matrix\n",
    "        n = X.shape[0]\n",
    "        A = np.column_stack((np.ones(n,), X))\n",
    "        \n",
    "        # The loss is the binary cross entropy\n",
    "        z = A.dot(w)\n",
    "        py = 1/(1+np.exp(-z))\n",
    "        J = np.sum((1-y)*z - np.log(py))\n",
    "        \n",
    "        # Gradient\n",
    "        df_dz = py-y\n",
    "        Jgrad = A.T.dot(df_dz)\n",
    "        return J, Jgrad\n",
    "\n",
    "# Then create a function with fixed X,y\n",
    "Jeval = lambda w: Jeval_param(w,Xtr,ytr)\n",
    "\n",
    "# Evaluate J and Jgrad at w0\n",
    "J0, Jgrad0 = Jeval(w0)"
   ]
  },
  {
   "cell_type": "markdown",
   "metadata": {},
   "source": [
    "### Method 2.  Construct a \"class\"\n",
    "\n",
    "A much more powerful approach is to construct a *class* that contains the parameters as internal attributes as well as a *method* `Jeval(w)` that has access to those internal attributes.  All classes must have a *constructor* method that is run by default when the class is instantiated.  The constructor method loads in the parameters `X,y` and makes them attributes of the class. Then these internal attributes are accessed using `self.`. Below, we create a class called `LogisticFun`, instantiate it at `log_fun` using `Xtr,ytr`, and finall call the `Jeval` method in `log_fun`."
   ]
  },
  {
   "cell_type": "code",
   "execution_count": 7,
   "metadata": {},
   "outputs": [],
   "source": [
    "# Construct a class to compute loss & gradient for binary logistic regression\n",
    "\n",
    "class LogisticFun(object):\n",
    "    def __init__(self,X,y):\n",
    "        \"\"\"\n",
    "        The constructor takes in the training features `X` and responses y\n",
    "        \"\"\"\n",
    "        self.X = X\n",
    "        self.y = y\n",
    "        n = X.shape[0]\n",
    "        self.A = np.column_stack((np.ones(n,), X))\n",
    "\n",
    "    def Jeval(self,w):\n",
    "        \"\"\"\n",
    "        The Jeval method computes the loss and gradient at weights w\n",
    "        \"\"\"\n",
    "        # The loss is the binary cross entropy\n",
    "        z = self.A.dot(w)\n",
    "        py = 1/(1+np.exp(-z))\n",
    "        J = np.sum((1-self.y)*z - np.log(py))\n",
    "        \n",
    "        # Gradient\n",
    "        df_dz = py-self.y\n",
    "        Jgrad = self.A.T.dot(df_dz)\n",
    "        return J, Jgrad\n",
    "\n",
    "# Instantiate the class\n",
    "log_fun = LogisticFun(Xtr,ytr)\n",
    "\n",
    "# Call the method\n",
    "J0, Jgrad0 = log_fun.Jeval(w0)"
   ]
  },
  {
   "cell_type": "markdown",
   "metadata": {},
   "source": [
    "### Testing the gradient\n",
    "\n",
    "Regardess of how the function is constructed, it is very important to verify that the gradient is correct.  This is the primary reason that code fails with numerical optimizers.  The simplest way to verify the gradient is to take two points `w0` and `w1` that are close to one another and then verify that \n",
    "\n",
    "    J(w1) - J(w0) \\approx Jgrad(w0).dot(w1 - w0)"
   ]
  },
  {
   "cell_type": "code",
   "execution_count": 8,
   "metadata": {},
   "outputs": [
    {
     "name": "stdout",
     "output_type": "stream",
     "text": [
      "Actual J1-J0    =  -5.9502e-05\n",
      "Predicted J1-J0 =  -5.9502e-05\n"
     ]
    }
   ],
   "source": [
    "# Take a random initial point\n",
    "d = X.shape[1]\n",
    "w0 = rng.standard_normal(d+1)\n",
    "\n",
    "# Perturb the point\n",
    "step = 1e-6\n",
    "w1 = w0 + step*rng.standard_normal(d+1)\n",
    "\n",
    "# Measure the function and gradient at w0 and w1\n",
    "J0, Jgrad0 = log_fun.Jeval(w0)\n",
    "J1, Jgrad1 = log_fun.Jeval(w1)\n",
    "\n",
    "# Predict the amount the function should have changed based on the gradient\n",
    "dJ_pred = Jgrad0.dot(w1-w0)\n",
    "\n",
    "# Print the two values to see if they are close\n",
    "print(\"Actual J1-J0    = %12.4e\" % (J1-J0))\n",
    "print(\"Predicted J1-J0 = %12.4e\" % dJ_pred)"
   ]
  },
  {
   "cell_type": "markdown",
   "metadata": {},
   "source": [
    "You can see that the two values agree well.  You would have got the same answer had you used the `Jeval` lambda function that we constructed earlier."
   ]
  },
  {
   "cell_type": "markdown",
   "metadata": {},
   "source": [
    "## A Simple Gradient Descent Optimizer\n",
    "\n",
    "Now, we build a simple gradient descent optimizer function with a fixed learning rate."
   ]
  },
  {
   "cell_type": "code",
   "execution_count": 9,
   "metadata": {},
   "outputs": [],
   "source": [
    "def grad_opt_simp(Jeval, winit, lr=1e-3, nit=1000):\n",
    "    \"\"\"\n",
    "    Simple gradient descent optimization\n",
    "    \n",
    "    Jeval:  A function that returns f, fgrad, the objective\n",
    "            function and its gradient\n",
    "    winit:  Initial estimate\n",
    "    lr:     learning rate\n",
    "    nit:    Number of iterations\n",
    "    \"\"\"\n",
    "    # Initialize\n",
    "    w0 = winit\n",
    "    \n",
    "    # Create history dictionary for tracking progress per iteration.\n",
    "    # This isn't necessary if you just want the final answer, but it \n",
    "    # is useful for debugging\n",
    "    hist = {'w': [], 'J': []}\n",
    "    \n",
    "    # Loop over iterations\n",
    "    for it in range(nit):\n",
    "\n",
    "        # Evaluate the function and gradient\n",
    "        J0, Jgrad0 = Jeval(w0)\n",
    "\n",
    "        # Take a gradient step\n",
    "        w0 = w0 - lr*Jgrad0\n",
    "        \n",
    "         # Save history\n",
    "        hist['J'].append(J0)\n",
    "        hist['w'].append(w0)\n",
    "\n",
    "    # Convert to numpy arrays\n",
    "    for elem in ('J', 'w'):\n",
    "        hist[elem] = np.array(hist[elem])\n",
    "        \n",
    "    return w0, J0, hist"
   ]
  },
  {
   "cell_type": "markdown",
   "metadata": {},
   "source": [
    "We now run the gradient descent starting from a random initial condition and plot the loss trajectory on a log-log scale."
   ]
  },
  {
   "cell_type": "code",
   "execution_count": 10,
   "metadata": {},
   "outputs": [
    {
     "data": {
      "image/png": "[encoded data removed]",
      "text/plain": [
       "<Figure size 432x288 with 1 Axes>"
      ]
     },
     "metadata": {
      "needs_background": "light"
     },
     "output_type": "display_data"
    }
   ],
   "source": [
    "# Initial condition\n",
    "winit = rng.standard_normal(d+1)\n",
    "\n",
    "# Parameters\n",
    "Jeval = log_fun.Jeval\n",
    "nit = 2000\n",
    "lr = 1e-4\n",
    "\n",
    "# Run the gradient descent\n",
    "w, J0, hist = grad_opt_simp(Jeval, winit, lr=lr, nit=nit)\n",
    "\n",
    "# Plot the training loss\n",
    "t = 1+np.arange(nit)\n",
    "plt.loglog(t, hist['J'])\n",
    "plt.grid()\n",
    "plt.ylabel('Loss')\n",
    "plt.xlabel('Iteration');"
   ]
  },
  {
   "cell_type": "markdown",
   "metadata": {},
   "source": [
    "We can measure the test accuracy of the final parameters using a `predict` function."
   ]
  },
  {
   "cell_type": "code",
   "execution_count": 11,
   "metadata": {},
   "outputs": [
    {
     "name": "stdout",
     "output_type": "stream",
     "text": [
      "Loss =  53.56, Test accuracy = 0.9859\n"
     ]
    }
   ],
   "source": [
    "def predict(X,w):\n",
    "    z = X.dot(w[1:]) + w[0]\n",
    "    yhat = (z > 0)\n",
    "    return yhat\n",
    "\n",
    "yhat = predict(Xts,w)\n",
    "acc = np.mean(yhat == yts)\n",
    "print(\"Loss = %6.2f, Test accuracy = %6.4f\" % (J0,acc))"
   ]
  },
  {
   "cell_type": "markdown",
   "metadata": {},
   "source": [
    "This is not quite as good as the test accuracy for the `sklearn` Logistic Regression method.  The loss-vs-iteration plot suggests that we didn't fully converge after `nit` iterations.\n",
    "\n",
    "Let's see whether we can improve performance using a different learning rate."
   ]
  },
  {
   "cell_type": "code",
   "execution_count": 12,
   "metadata": {},
   "outputs": [
    {
     "name": "stdout",
     "output_type": "stream",
     "text": [
      "lr= 1.00e-05, Loss =  99.58, Test accuracy = 0.9187\n",
      "lr= 1.00e-04, Loss =  53.56, Test accuracy = 0.9859\n",
      "lr= 1.00e-03, Loss =  39.68, Test accuracy = 0.9894\n",
      "lr= 2.00e-03, Loss =  51.46, Test accuracy = 0.9859\n"
     ]
    },
    {
     "data": {
      "image/png": "[encoded data removed]",
      "text/plain": [
       "<Figure size 432x288 with 1 Axes>"
      ]
     },
     "metadata": {
      "needs_background": "light"
     },
     "output_type": "display_data"
    }
   ],
   "source": [
    "# Learning rate values to test\n",
    "lr_test = [1e-5,1e-4,1e-3,2e-3]\n",
    "ntest = len(lr_test)\n",
    "\n",
    "# Strings for the legend\n",
    "leg_str = []\n",
    "\n",
    "for i, lr in enumerate(lr_test):\n",
    "    # Run the optimizer\n",
    "    w, J0, hist = grad_opt_simp(Jeval, winit, lr=lr, nit=nit)    \n",
    "    \n",
    "    # Plot the results\n",
    "    plt.loglog(t, hist['J'])\n",
    "    leg_str.append(\"lr=%5.0e\" % lr)\n",
    "    plt.ylabel('Loss')\n",
    "    plt.xlabel('Iteration')\n",
    "    \n",
    "    # Measure the test accuracy\n",
    "    yhat = predict(Xts,w)\n",
    "    acc = np.mean(yhat == yts)\n",
    "    print(\"lr=%9.2e, Loss = %6.2f, Test accuracy = %6.4f\" % (lr, J0, acc))\n",
    "    \n",
    "plt.grid()\n",
    "plt.legend(leg_str, loc='upper right');"
   ]
  },
  {
   "cell_type": "markdown",
   "metadata": {},
   "source": [
    "We see that increasing the learning rate helps to speed up the convergence rate up to 1e-3, but further increases in the learning rate result in an optimization trajectory that looks rough and a final loss value that is suboptimal."
   ]
  },
  {
   "cell_type": "markdown",
   "metadata": {},
   "source": [
    "## Adaptive Step-Size\n",
    "\n",
    "The above example shows that gradient descent is sensitive to the step size.  We now consider a variant of gradient descent with an *adaptive* step-size adjustment that is based on the Armijo rule discussed in the lecture."
   ]
  },
  {
   "cell_type": "code",
   "execution_count": 28,
   "metadata": {},
   "outputs": [],
   "source": [
    "def grad_opt_adapt(Jeval, winit, nit=1000, lr_init=1e-3, beta_incr=1.05, beta_decr=0.5, c=0.5):\n",
    "    \"\"\"\n",
    "    Gradient descent optimization with Armijo adaptive step size\n",
    "    \n",
    "    Jeval:  A function that returns J, Jgrad, the objective\n",
    "            function and its gradient\n",
    "    winit:  Initial estimate\n",
    "    nit:    Number of iterations\n",
    "    lr:     Initial learning rate\n",
    "    \"\"\"\n",
    "\n",
    "    # Set initial point\n",
    "    w0 = winit\n",
    "    J0, Jgrad0 = Jeval(w0)\n",
    "    lr = lr_init\n",
    "    \n",
    "    # Create history dictionary for tracking progress per iteration.\n",
    "    hist = {'w': [], 'J': [], 'lr': []}\n",
    "\n",
    "    # Save history\n",
    "    hist['w'].append(w0)\n",
    "    hist['J'].append(J0)\n",
    "    hist['lr'].append(lr)\n",
    "    \n",
    "    # Loop over GD iterations\n",
    "    for it in range(nit):\n",
    "\n",
    "        # Take a gradient step\n",
    "        w1 = w0 - lr*Jgrad0\n",
    "        J1, Jgrad1 = Jeval(w1)\n",
    "        \n",
    "        # Check if update passes the Armijo condition\n",
    "        if (J1 < J0 - c*lr*np.linalg.norm(Jgrad0)**2):\n",
    "            # If passes...\n",
    "            w0 = w1 # accept the update\n",
    "            J0 = J1 # accept the update\n",
    "            Jgrad0 = Jgrad1 # accept the update\n",
    "            lr = lr*beta_incr # increase learning rate\n",
    "        else:\n",
    "            # If fails...\n",
    "            lr = lr*beta_decr # decrease learning rate\n",
    "        \n",
    "        # Save history\n",
    "        hist['w'].append(w0)\n",
    "        hist['J'].append(J0)\n",
    "        hist['lr'].append(lr)\n",
    "        \n",
    "    # Convert dictionary to numpy arrays\n",
    "    for elem in ('w', 'J', 'lr'):\n",
    "        hist[elem] = np.array(hist[elem])\n",
    "        \n",
    "    return w0, J0, hist\n"
   ]
  },
  {
   "cell_type": "markdown",
   "metadata": {},
   "source": [
    "We can now run our new optimizer."
   ]
  },
  {
   "cell_type": "code",
   "execution_count": 29,
   "metadata": {},
   "outputs": [
    {
     "data": {
      "image/png": "[encoded data removed]",
      "text/plain": [
       "<Figure size 432x288 with 1 Axes>"
      ]
     },
     "metadata": {
      "needs_background": "light"
     },
     "output_type": "display_data"
    },
    {
     "data": {
      "image/png": "[encoded data removed]",
      "text/plain": [
       "<Figure size 432x288 with 1 Axes>"
      ]
     },
     "metadata": {
      "needs_background": "light"
     },
     "output_type": "display_data"
    }
   ],
   "source": [
    "w, J0, hist = grad_opt_adapt(Jeval, winit, nit=nit)\n",
    "\n",
    "t = 1+np.arange(nit+1)\n",
    "plt.loglog(t, hist['J'])\n",
    "plt.grid()\n",
    "plt.ylabel('Loss')\n",
    "plt.xlabel('Iteration')\n",
    "plt.show()\n",
    "\n",
    "plt.loglog(t, hist['lr'])\n",
    "plt.grid()\n",
    "plt.ylabel('Learning rate')\n",
    "plt.xlabel('Iteration');\n"
   ]
  },
  {
   "cell_type": "markdown",
   "metadata": {},
   "source": [
    "We now measure the Armijo method's final loss and test accuracy."
   ]
  },
  {
   "cell_type": "code",
   "execution_count": 30,
   "metadata": {},
   "outputs": [
    {
     "name": "stdout",
     "output_type": "stream",
     "text": [
      "Loss =  39.55, Test accuracy = 0.9894\n"
     ]
    }
   ],
   "source": [
    "yhat = predict(Xts,w)\n",
    "acc = np.mean(yhat == yts)\n",
    "print(\"Loss = %6.2f, Test accuracy = %6.4f\" % (J0,acc))"
   ]
  },
  {
   "cell_type": "markdown",
   "metadata": {},
   "source": [
    "We see that the adaptive-stepsize technique achieves slightly lower loss than the best fixed-stepsize technique, and equal test accuracy."
   ]
  },
  {
   "cell_type": "code",
   "execution_count": null,
   "metadata": {},
   "outputs": [],
   "source": []
  }
 ],
 "metadata": {
  "anaconda-cloud": {},
  "kernelspec": {
   "display_name": "Python 3",
   "language": "python",
   "name": "python3"
  },
  "language_info": {
   "codemirror_mode": {
    "name": "ipython",
    "version": 3
   },
   "file_extension": ".py",
   "mimetype": "text/x-python",
   "name": "python",
   "nbconvert_exporter": "python",
   "pygments_lexer": "ipython3",
   "version": "3.8.8"
  },
  "varInspector": {
   "cols": {
    "lenName": 16,
    "lenType": 16,
    "lenVar": 40
   },
   "kernels_config": {
    "python": {
     "delete_cmd_postfix": "",
     "delete_cmd_prefix": "del ",
     "library": "var_list.py",
     "varRefreshCmd": "print(var_dic_list())"
    },
    "r": {
     "delete_cmd_postfix": ") ",
     "delete_cmd_prefix": "rm(",
     "library": "var_list.r",
     "varRefreshCmd": "cat(var_dic_list()) "
    }
   },
   "types_to_exclude": [
    "module",
    "function",
    "builtin_function_or_method",
    "instance",
    "_Feature"
   ],
   "window_display": false
  }
 },
 "nbformat": 4,
 "nbformat_minor": 1
}
