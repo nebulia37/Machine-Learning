{
 "cells": [
  {
   "cell_type": "markdown",
   "metadata": {},
   "source": [
    "# Demo:  Prostate Cancer Analysis with LASSO and Other Feature Selection Methods\n",
    "\n",
    "In this demo, we illustrate the classic LASSO technique and other methods for feature selection.  You will learn to:\n",
    "* Implement LASSO using the `sklearn` package\n",
    "* Plot the LASSO coefficient path\n",
    "* Use LASSO for feature selection\n",
    "* Optimize the LASSO regularization strength using cross-validation\n",
    "* Try greedy and exhaustive feature selection methods\n",
    "\n",
    "We use a classic prostate cancer dataset from the paper:\n",
    "\n",
    "> Stamey, Thomas A., et al. \"[Prostate specific antigen in the diagnosis and treatment of adenocarcinoma of the prostate. II. Radical prostatectomy treated patients](http://www.sciencedirect.com/science/article/pii/S002253471741175X).\" The Journal of Urology 141.5 (1989): 1076-1083.\n",
    "\n",
    "In the study, the level of [prostate specific antigen](https://en.wikipedia.org/wiki/Prostate-specific_antigen) was measured in 102 men before they had a prostatectomy. Elevated values of the PSA are believed to be associated with the presence of prostate cancer and other disorders. To study this hypothesis, various features of the prostate were measured after the prostatectomy.  Data analysis can then be used to understand the relation between PSA level and prostate features.  The study is old and much more is known about PSA today.  But the analysis is typical for medical problems and illustrates the basic tools well.\n",
    "\n",
    "The specific analysis presented in this demo is taken from the book: \n",
    "\n",
    "> Jerome Friedman, Trevor Hastie, and Robert Tibshirani. [Elements of statistical learning](https://www.amazon.com/exec/obidos/ASIN/0387952845/trevorhastie-20), New York: Springer series in statistics, 2001.\n",
    "\n",
    "This book provides an excellent discussion of LASSO and other methods on this dataset.\n",
    "\n",
    "First, we load the regular packages."
   ]
  },
  {
   "cell_type": "code",
   "execution_count": 1,
   "metadata": {},
   "outputs": [],
   "source": [
    "import pandas as pd\n",
    "import numpy as np\n",
    "import matplotlib.pyplot as plt\n",
    "%matplotlib inline\n",
    "\n",
    "seed=42 # controls randomization"
   ]
  },
  {
   "cell_type": "markdown",
   "metadata": {},
   "source": [
    "## Loading the Data\n",
    "\n",
    "Our analysis begins by downloading the data from Tibshirani's website.   "
   ]
  },
  {
   "cell_type": "code",
   "execution_count": 2,
   "metadata": {},
   "outputs": [
    {
     "data": {
      "text/html": [
       "<div>\n",
       "<style scoped>\n",
       "    .dataframe tbody tr th:only-of-type {\n",
       "        vertical-align: middle;\n",
       "    }\n",
       "\n",
       "    .dataframe tbody tr th {\n",
       "        vertical-align: top;\n",
       "    }\n",
       "\n",
       "    .dataframe thead th {\n",
       "        text-align: right;\n",
       "    }\n",
       "</style>\n",
       "<table border=\"1\" class=\"dataframe\">\n",
       "  <thead>\n",
       "    <tr style=\"text-align: right;\">\n",
       "      <th></th>\n",
       "      <th>lcavol</th>\n",
       "      <th>lweight</th>\n",
       "      <th>age</th>\n",
       "      <th>lbph</th>\n",
       "      <th>svi</th>\n",
       "      <th>lcp</th>\n",
       "      <th>gleason</th>\n",
       "      <th>pgg45</th>\n",
       "      <th>lpsa</th>\n",
       "      <th>train</th>\n",
       "    </tr>\n",
       "  </thead>\n",
       "  <tbody>\n",
       "    <tr>\n",
       "      <th>0</th>\n",
       "      <td>-0.579818</td>\n",
       "      <td>2.769459</td>\n",
       "      <td>50</td>\n",
       "      <td>-1.386294</td>\n",
       "      <td>0</td>\n",
       "      <td>-1.386294</td>\n",
       "      <td>6</td>\n",
       "      <td>0</td>\n",
       "      <td>-0.430783</td>\n",
       "      <td>T</td>\n",
       "    </tr>\n",
       "    <tr>\n",
       "      <th>1</th>\n",
       "      <td>-0.994252</td>\n",
       "      <td>3.319626</td>\n",
       "      <td>58</td>\n",
       "      <td>-1.386294</td>\n",
       "      <td>0</td>\n",
       "      <td>-1.386294</td>\n",
       "      <td>6</td>\n",
       "      <td>0</td>\n",
       "      <td>-0.162519</td>\n",
       "      <td>T</td>\n",
       "    </tr>\n",
       "    <tr>\n",
       "      <th>2</th>\n",
       "      <td>-0.510826</td>\n",
       "      <td>2.691243</td>\n",
       "      <td>74</td>\n",
       "      <td>-1.386294</td>\n",
       "      <td>0</td>\n",
       "      <td>-1.386294</td>\n",
       "      <td>7</td>\n",
       "      <td>20</td>\n",
       "      <td>-0.162519</td>\n",
       "      <td>T</td>\n",
       "    </tr>\n",
       "    <tr>\n",
       "      <th>3</th>\n",
       "      <td>-1.203973</td>\n",
       "      <td>3.282789</td>\n",
       "      <td>58</td>\n",
       "      <td>-1.386294</td>\n",
       "      <td>0</td>\n",
       "      <td>-1.386294</td>\n",
       "      <td>6</td>\n",
       "      <td>0</td>\n",
       "      <td>-0.162519</td>\n",
       "      <td>T</td>\n",
       "    </tr>\n",
       "    <tr>\n",
       "      <th>4</th>\n",
       "      <td>0.751416</td>\n",
       "      <td>3.432373</td>\n",
       "      <td>62</td>\n",
       "      <td>-1.386294</td>\n",
       "      <td>0</td>\n",
       "      <td>-1.386294</td>\n",
       "      <td>6</td>\n",
       "      <td>0</td>\n",
       "      <td>0.371564</td>\n",
       "      <td>T</td>\n",
       "    </tr>\n",
       "    <tr>\n",
       "      <th>5</th>\n",
       "      <td>-1.049822</td>\n",
       "      <td>3.228826</td>\n",
       "      <td>50</td>\n",
       "      <td>-1.386294</td>\n",
       "      <td>0</td>\n",
       "      <td>-1.386294</td>\n",
       "      <td>6</td>\n",
       "      <td>0</td>\n",
       "      <td>0.765468</td>\n",
       "      <td>T</td>\n",
       "    </tr>\n",
       "  </tbody>\n",
       "</table>\n",
       "</div>"
      ],
      "text/plain": [
       "     lcavol   lweight  age      lbph  svi       lcp  gleason  pgg45      lpsa  \\\n",
       "0 -0.579818  2.769459   50 -1.386294    0 -1.386294        6      0 -0.430783   \n",
       "1 -0.994252  3.319626   58 -1.386294    0 -1.386294        6      0 -0.162519   \n",
       "2 -0.510826  2.691243   74 -1.386294    0 -1.386294        7     20 -0.162519   \n",
       "3 -1.203973  3.282789   58 -1.386294    0 -1.386294        6      0 -0.162519   \n",
       "4  0.751416  3.432373   62 -1.386294    0 -1.386294        6      0  0.371564   \n",
       "5 -1.049822  3.228826   50 -1.386294    0 -1.386294        6      0  0.765468   \n",
       "\n",
       "  train  \n",
       "0     T  \n",
       "1     T  \n",
       "2     T  \n",
       "3     T  \n",
       "4     T  \n",
       "5     T  "
      ]
     },
     "execution_count": 2,
     "metadata": {},
     "output_type": "execute_result"
    }
   ],
   "source": [
    "if True:\n",
    "    # Prostrate dataset\n",
    "    url = 'https://hastie.su.domains/ElemStatLearn/datasets/prostate.data'\n",
    "    df = pd.read_csv(url, sep='\\t', header=0)\n",
    "    df = df.drop('Unnamed: 0', axis=1)   # skip the column of indices\n",
    "    names = df.columns.tolist()\n",
    "    names_x = names[0:8]\n",
    "    name_y = names[8]\n",
    "else:\n",
    "    # Boston housing dataset (if you are curious to see what happens with this dataset!)\n",
    "    from sklearn.datasets import load_boston\n",
    "    boston = load_boston()\n",
    "    df = pd.DataFrame(boston.data) # load numerical data\n",
    "    df.columns = boston.feature_names\n",
    "    names_x = boston.feature_names # set column names\n",
    "    name_y = 'MEDV'\n",
    "    df[name_y] = boston.target # define target as median house price\n",
    "\n",
    "df.head(6)"
   ]
  },
  {
   "cell_type": "markdown",
   "metadata": {},
   "source": [
    "In this data set, the target variable is `lpsa`, the log of the PSA. The goal is to try to predict `lpsa` from the various prostate features."
   ]
  },
  {
   "cell_type": "code",
   "execution_count": 3,
   "metadata": {},
   "outputs": [
    {
     "name": "stdout",
     "output_type": "stream",
     "text": [
      "Target variable: lpsa\n",
      "Features:     ['lcavol', 'lweight', 'age', 'lbph', 'svi', 'lcp', 'gleason', 'pgg45']\n",
      "\n",
      "num samples = 97,  num features = 8\n"
     ]
    }
   ],
   "source": [
    "# Print the names of the target and predictor\n",
    "print(\"Target variable: %s\" % name_y)\n",
    "print(\"Features:     \"+str(names_x))\n",
    "\n",
    "# Convert the dataframe values to data matrices\n",
    "X0 = np.array(df[names_x])\n",
    "y0 = np.array(df[name_y])\n",
    "\n",
    "# Print the number of samples and features\n",
    "nsamp = X0.shape[0]\n",
    "nfeatures = X0.shape[1]\n",
    "print(\"\")\n",
    "print(\"num samples = %d,  num features = %d\" % (nsamp, nfeatures))"
   ]
  },
  {
   "cell_type": "markdown",
   "metadata": {},
   "source": [
    "When performing any regularized estimate, it is critical to standardize the data.  For this purpose, we use the `sklearn` built-in `scale` command."
   ]
  },
  {
   "cell_type": "code",
   "execution_count": 4,
   "metadata": {},
   "outputs": [],
   "source": [
    "from sklearn.preprocessing import StandardScaler\n",
    "\n",
    "scaler = StandardScaler()\n",
    "Xtr = scaler.fit_transform(X0)\n",
    "ytr = scaler.fit_transform(y0.reshape(-1,1)).reshape(-1) # vector -> matrix and back"
   ]
  },
  {
   "cell_type": "markdown",
   "metadata": {},
   "source": [
    "## LS linear regression using all features\n",
    "\n",
    "First, we instantiate a multiple linear regression model with no regularization. Because we removed the mean of the features and targets, we know the LS intercept term will be zero and so we tell the solver not to compute it."
   ]
  },
  {
   "cell_type": "code",
   "execution_count": 5,
   "metadata": {},
   "outputs": [],
   "source": [
    "from sklearn import linear_model\n",
    "\n",
    "# construct linear regression model\n",
    "linreg = linear_model.LinearRegression(fit_intercept=False)"
   ]
  },
  {
   "cell_type": "markdown",
   "metadata": {},
   "source": [
    "To predict how well any model will perform on unseen data, it is typical to use k-fold cross-validation. In this notebook, we use *repeated* k-fold cross-validation, which is k-fold CV repeated several times with different random splits.  This should give a more trustworthy result than k-fold with a single random split.  Although this is a bit more expensive than a single split, we can afford it because our dataset is relatively small."
   ]
  },
  {
   "cell_type": "code",
   "execution_count": 6,
   "metadata": {},
   "outputs": [
    {
     "name": "stdout",
     "output_type": "stream",
     "text": [
      "mse_cv=0.403048, mse_se=0.061471\n"
     ]
    }
   ],
   "source": [
    "import sklearn.model_selection \n",
    "\n",
    "# construct repeated k-fold cross-val object\n",
    "nfold = 10\n",
    "nrep = 5\n",
    "rkf = sklearn.model_selection.RepeatedKFold(n_splits=nfold,\n",
    "                                            n_repeats=nrep, random_state=seed)\n",
    "\n",
    "# MSE for each alpha and fold value\n",
    "nsplits = rkf.get_n_splits(X=Xtr, y=ytr)\n",
    "RSS_ts = np.zeros(nsplits)\n",
    "for ifold, ind in enumerate(rkf.split(Xtr)):\n",
    "        \n",
    "    # Get the training data in the split\n",
    "    Itr,Its = ind\n",
    "        \n",
    "    X_tr = Xtr[Itr,:]\n",
    "    y_tr = ytr[Itr]\n",
    "    X_ts = Xtr[Its,:]\n",
    "    y_ts = ytr[Its]\n",
    "    \n",
    "    # fit the model\n",
    "    linreg.fit(X_tr,y_tr)\n",
    "    \n",
    "    # predict target of test data and evaluate RSS\n",
    "    y_ts_pred = linreg.predict(X_ts)\n",
    "    RSS_ts[ifold] = np.mean((y_ts_pred-y_ts)**2)\n",
    "            \n",
    "mse_cv = np.mean(RSS_ts)\n",
    "mse_se = np.std(RSS_ts,ddof=1) / np.sqrt(nfold)\n",
    "print(\"mse_cv=%f, mse_se=%f\" % (mse_cv, mse_se))"
   ]
  },
  {
   "cell_type": "markdown",
   "metadata": {},
   "source": [
    "A shortcut to the above procedure is given below.  Note that it uses the `linreg` and `rkf` objects defined above.  The `scoring` option is set for compatibility with MSE, and we confirm that it returns the same output."
   ]
  },
  {
   "cell_type": "code",
   "execution_count": 7,
   "metadata": {
    "scrolled": true
   },
   "outputs": [
    {
     "name": "stdout",
     "output_type": "stream",
     "text": [
      "cross-validation MSE = 0.403048\n"
     ]
    }
   ],
   "source": [
    "from sklearn.model_selection import cross_val_score\n",
    "\n",
    "scores = cross_val_score(linreg, Xtr, ytr, cv=rkf, scoring='neg_mean_squared_error')\n",
    "mse_cv_ls = -np.mean(scores)\n",
    "print(\"cross-validation MSE = %f\" % mse_cv_ls)"
   ]
  },
  {
   "cell_type": "markdown",
   "metadata": {},
   "source": [
    "##  Feature selection via exhaustive search\n",
    "\n",
    "The optimal approach to feature selection is to fit and test a model using every possible feature subset, and choose the feature subset yielding the lowest cross-validation (CV) MSE. \n",
    "\n",
    "The problem with exhaustive-search is that it is very computationally costly!  For example, with $d$ features, the total number of feature subsets is $2^d$.  When $d$ is small, as in this demo, this is feasible.\n",
    "\n",
    "Although this exhaustive-search procedure is not included in `sklearn`, we can code it ourselves with some tools from other packages."
   ]
  },
  {
   "cell_type": "code",
   "execution_count": 8,
   "metadata": {},
   "outputs": [
    {
     "name": "stdout",
     "output_type": "stream",
     "text": [
      "optimal features:(0, 1, 3, 4)\n",
      "\n",
      "cross-validation MSE = 0.388072\n"
     ]
    }
   ],
   "source": [
    "from itertools import combinations\n",
    "\n",
    "# exhaustive-search feature selection for a generic estimator, cv method, and scoring method\n",
    "def best_subset_cv(estimator, X, y, max_size=8, cv=5, scoring=None):\n",
    "    '''Calculates the best model of up to max_size features of X.\n",
    "       estimator must have a fit and score functions.\n",
    "       X must be a DataFrame.'''\n",
    "\n",
    "    n_features = X.shape[1]\n",
    "    subsets = (combinations(range(n_features), k + 1) \n",
    "               for k in range(min(n_features, max_size)))\n",
    "    \n",
    "    list_scores = []\n",
    "    best_score = -np.inf\n",
    "    for subsets_k in subsets: # for each list of subsets of the same size                \n",
    "        for subset in subsets_k: # for each subset\n",
    "                       \n",
    "            estimator.fit(X[:, list(subset)], y)\n",
    "            score = cross_val_score(estimator, X[:, list(subset)], y, cv=cv, scoring=scoring).mean()\n",
    "            list_scores.append(score)\n",
    "            #print(\"score = %f, subset = %s\" % (score, str(list(subset))[1:-1]) )\n",
    "            \n",
    "            if score > best_score:\n",
    "                best_score, best_subset = score, subset\n",
    "                #print(\"best_score = %f, best_subset = %s\" % (best_score, str(list(best_subset))[1:-1]) ) \n",
    "\n",
    "    return best_subset, best_score, list_scores\n",
    "\n",
    "# perform exhaustive feature selection on the design data\n",
    "subset, score, scores = best_subset_cv(linreg, Xtr, ytr, cv=rkf, \n",
    "                                        scoring='neg_mean_squared_error',\n",
    "                                        max_size=nfeatures)\n",
    "mse_cv_exhaustive = -score\n",
    "\n",
    "# print selected\n",
    "print(\"optimal features:\"+str(subset))\n",
    "\n",
    "# Print the cross-validation MSE\n",
    "print(\"\\ncross-validation MSE = %f\" % mse_cv_exhaustive)"
   ]
  },
  {
   "cell_type": "code",
   "execution_count": 9,
   "metadata": {},
   "outputs": [
    {
     "name": "stdout",
     "output_type": "stream",
     "text": [
      " intrcpt 0.000000\n",
      "  lcavol 0.539614\n",
      " lweight 0.198941\n",
      "    lbph 0.098786\n",
      "     svi 0.253018\n"
     ]
    }
   ],
   "source": [
    "# Train feature-selected LS on entire design data\n",
    "linreg.fit(Xtr[:, list(subset)],ytr)\n",
    "\n",
    "# Print the coefficients\n",
    "print(\" intrcpt %f\" % linreg.intercept_)\n",
    "for i, c in enumerate(linreg.coef_):\n",
    "    print(\"%8s %f\" % (names_x[subset[i]], c))"
   ]
  },
  {
   "cell_type": "markdown",
   "metadata": {},
   "source": [
    "The above exhaustive-search results can be used as a reference when comparing other feature-selection methods."
   ]
  },
  {
   "cell_type": "markdown",
   "metadata": {},
   "source": [
    "## Feature Selection via LASSO\n",
    "\n",
    "We now investigate using LASSO for feature selection.  The `sklearn` package has several excellent routines for this.  "
   ]
  },
  {
   "cell_type": "markdown",
   "metadata": {},
   "source": [
    "### Plotting the LASSO coefficient path\n",
    "\n",
    "To understand how LASSO works, it's insightful to plot its \"coefficient path,\" which shows the values of its coefficents versus regularization strength `alpha`.  The `sklearn` package has a built-in routine for computing the coefficient path."
   ]
  },
  {
   "cell_type": "code",
   "execution_count": 10,
   "metadata": {},
   "outputs": [
    {
     "data": {
      "image/png": "[encoded data removed]",
      "text/plain": [
       "<Figure size 432x288 with 1 Axes>"
      ]
     },
     "metadata": {
      "needs_background": "light"
     },
     "output_type": "display_data"
    }
   ],
   "source": [
    "nalpha = 100\n",
    "alphas = np.logspace(-4,1,nalpha)\n",
    "alphas1, coeffs, _ = sklearn.linear_model.lasso_path(Xtr, ytr, alphas=alphas)\n",
    "\n",
    "# Plot the paths of the coefficients\n",
    "plt.semilogx(alphas1,coeffs.T)\n",
    "plt.grid()\n",
    "#xmin, xmax, ymin, ymax = plt.axis()\n",
    "#plt.axis([xmin,np.exp(np.log(xmax)+0.25*(np.log(xmax)-np.log(xmin))),ymin,ymax])\n",
    "plt.legend(names_x, loc='upper right')\n",
    "plt.xlabel('alpha')\n",
    "plt.ylabel('coeff')\n",
    "plt.show()"
   ]
  },
  {
   "cell_type": "markdown",
   "metadata": {},
   "source": [
    "The coefficient path shows two important behaviors.  First, as `alpha` increases, more coefficients are set to zero.  The order in which they go to zero is critical: the least important coefficients get turned off first.  Second, as `alpha` increases, the values of the non-zero coefficients shrink.  This is an unfortunate side-effect of LASSO's L1 regularization, because the shrinking often hurts prediction performance.\n",
    "\n",
    "As we will see below, if one uses the LASSO-designed coefficients directly, the performance is not very good.  But, if one uses LASSO for feature selection and then least-squares to fit the values of the LASSO-selected coefficients, the results are much better."
   ]
  },
  {
   "cell_type": "markdown",
   "metadata": {},
   "source": [
    "### Tuning LASSO's regularization strength naively\n",
    "\n",
    "With LASSO, we must choose the regularization strength `alpha`.  As we saw from the coefficient path, larger `alpha` means fewer non-zero coefficients but more shrunken coefficient values.  The question is then, how do we choose `alpha`?\n",
    "\n",
    "We will first try a naive approach, where we use k-fold cross validation to determine the value of `alpha` that minimizes the CV-MSE of the LASSO coefficients.  That is, for each hypothesized `alpha` value, we will evaluate the MSE of the LASSO coefficients using k different training/test splits.  With large datasets, this can be time-consuming because it requires solving LASSO many times.  But this is not a problem with our dataset, which is small.\n",
    "\n",
    "First, we implement cross-validation using two nested `for`-loops."
   ]
  },
  {
   "cell_type": "code",
   "execution_count": 11,
   "metadata": {},
   "outputs": [],
   "source": [
    "# Manual approach using 2 for-loops\n",
    "\n",
    "# Create the LASSO model.  We use the `warm start` parameter so that the fit will start at the previous value.\n",
    "# This speeds up the fitting.\n",
    "lasso = linear_model.Lasso(fit_intercept=False,warm_start=True)\n",
    "\n",
    "# Regularization values to test\n",
    "nalpha = 100\n",
    "alphas = np.logspace(-4,0,nalpha)\n",
    "\n",
    "# MSE for each alpha and fold value\n",
    "mse = np.zeros((nalpha,nfold*nrep))\n",
    "for ifold, ind in enumerate(rkf.split(Xtr)):\n",
    "    \n",
    "    # Get the training data in the split\n",
    "    Itr,Its = ind\n",
    "    X_tr = Xtr[Itr,:]\n",
    "    y_tr = ytr[Itr]\n",
    "    X_ts = Xtr[Its,:]\n",
    "    y_ts = ytr[Its]\n",
    "    \n",
    "    # Compute the lasso path for the split\n",
    "    for ia, a in enumerate(alphas):\n",
    "        \n",
    "        # Fit the model on the training data\n",
    "        lasso.alpha = a\n",
    "        lasso.fit(X_tr,y_tr)\n",
    "        \n",
    "        # Compute the prediction error on the test data\n",
    "        y_ts_pred = lasso.predict(X_ts)\n",
    "        mse[ia,ifold] = np.mean((y_ts_pred-y_ts)**2)\n",
    "\n",
    "# Compute the MSE mean over the folds and its standard error\n",
    "mse_cv2 = np.mean(mse,axis=1)\n",
    "mse_se2 = np.std(mse,axis=1,ddof=1) / np.sqrt(nfold)"
   ]
  },
  {
   "cell_type": "markdown",
   "metadata": {},
   "source": [
    "Now, we show a shortcut to the same cross-validation procedure using sklearn's `GridSearchCV` method."
   ]
  },
  {
   "cell_type": "code",
   "execution_count": 12,
   "metadata": {},
   "outputs": [],
   "source": [
    "# Shortcut using GridSearchCV\n",
    "from sklearn.model_selection import GridSearchCV\n",
    "\n",
    "# Select which estimator parameters to optimize  \n",
    "param_grid = {'alpha': alphas}\n",
    "\n",
    "# Run cross-validation\n",
    "gscv = GridSearchCV(lasso, param_grid, cv=rkf, scoring='neg_mean_squared_error')\n",
    "gscv.fit(Xtr,ytr)\n",
    "mse_cv = -gscv.cv_results_['mean_test_score']\n",
    "mse_se = gscv.cv_results_['std_test_score']/np.sqrt(nfold-1) # note division by (nfold-1)!"
   ]
  },
  {
   "cell_type": "markdown",
   "metadata": {},
   "source": [
    "Note that GridSearchCV uses the biased formula to compute sample standard-deviation, i.e., it divides by `sqrt(nfold)` rather than `sqrt(nfold-1)`.  We compensate for this by dividing by `sqrt(nfold-1)` rather than `sqrt(nfold)` when computing the standard error.\n",
    "\n",
    "We now plot the CV MSE as a function of the regularization parameter, as well as the mininum CV MSE. You can see that both cross-val implementations agree, since the dotted lines match the solid ones."
   ]
  },
  {
   "cell_type": "code",
   "execution_count": 13,
   "metadata": {},
   "outputs": [
    {
     "data": {
      "image/png": "[encoded data removed]",
      "text/plain": [
       "<Figure size 432x288 with 1 Axes>"
      ]
     },
     "metadata": {
      "needs_background": "light"
     },
     "output_type": "display_data"
    }
   ],
   "source": [
    "# Find the minimum MSE\n",
    "imin = np.argmin(mse_cv)\n",
    "alpha_min = alphas[imin]\n",
    "mse_cv_lasso = mse_cv[imin]\n",
    "\n",
    "# Plot the mean MSE, the minimum MSE, and the mean MSE + 1 std dev\n",
    "plt.semilogx(alphas, mse_cv, label='Mean(MSE)')\n",
    "plt.semilogx(alphas, mse_cv+mse_se, label='Mean(MSE) + 1 SE')\n",
    "plt.semilogx(alpha_min, mse_cv_lasso, 'r^', label='min(MSE)')\n",
    "plt.legend(loc='upper left')\n",
    "plt.semilogx(alphas, mse_cv2,'k:')\n",
    "plt.semilogx(alphas, mse_cv2+mse_se2,'k:')\n",
    "plt.xlabel('alpha')\n",
    "plt.ylabel('CV MSE')\n",
    "plt.grid()\n",
    "plt.show()"
   ]
  },
  {
   "cell_type": "markdown",
   "metadata": {},
   "source": [
    "We now recompute LASSO using the full training data at the CV-MSE-minimizing alpha, and print out the coefficients. We do this two ways: the manual way (via `lasso.fit`), and using a shortcut (leveraging the fact that GridSearchCV has already computed these coefficients!).  As you can see, the results are identical."
   ]
  },
  {
   "cell_type": "code",
   "execution_count": 14,
   "metadata": {},
   "outputs": [
    {
     "name": "stdout",
     "output_type": "stream",
     "text": [
      "LASSO coefficients:\n",
      " intrcpt 0.000000\n",
      "  lcavol 0.519475\n",
      " lweight 0.206632\n",
      "     age -0.064410\n",
      "    lbph 0.083711\n",
      "     svi 0.214407\n",
      "     lcp -0.000000\n",
      " gleason 0.004616\n",
      "   pgg45 0.057924\n",
      "\n",
      "cross-validation MSE = 0.398888\n"
     ]
    }
   ],
   "source": [
    "# Refit LASSO using CV-tuned alpha\n",
    "lasso.alpha = alpha_min\n",
    "lasso.fit(Xtr,ytr)\n",
    "\n",
    "# Print the coefficients\n",
    "print(\"LASSO coefficients:\")\n",
    "print(\" intrcpt %f\" % lasso.intercept_)\n",
    "for i, c in enumerate(lasso.coef_):\n",
    "    print(\"%8s %f\" % (names_x[i], c))\n",
    "    \n",
    "# Print the cross-validation MSE\n",
    "print(\"\\ncross-validation MSE = %f\" % mse_cv_lasso)"
   ]
  },
  {
   "cell_type": "code",
   "execution_count": 15,
   "metadata": {},
   "outputs": [
    {
     "name": "stdout",
     "output_type": "stream",
     "text": [
      "LASSO coefficients from GridSearchCV:\n",
      " intrcpt 0.000000\n",
      "  lcavol 0.519475\n",
      " lweight 0.206632\n",
      "     age -0.064410\n",
      "    lbph 0.083711\n",
      "     svi 0.214407\n",
      "     lcp -0.000000\n",
      " gleason 0.004616\n",
      "   pgg45 0.057924\n",
      "\n",
      "cross-validation MSE = 0.398888\n"
     ]
    }
   ],
   "source": [
    "# Shortcut using results of GridSearchCV\n",
    "print('LASSO coefficients from GridSearchCV:')\n",
    "print(\" intrcpt %f\" % gscv.best_estimator_.intercept_)\n",
    "for i, c in enumerate(gscv.best_estimator_.coef_):\n",
    "    print(\"%8s %f\" % (names_x[i], c))\n",
    "    \n",
    "# Print the cross-validation MSE\n",
    "print(\"\\ncross-validation MSE = %f\" % -gscv.best_score_)"
   ]
  },
  {
   "cell_type": "markdown",
   "metadata": {},
   "source": [
    "From the final CV-MSE, you can see that the CV performance of LASSO is not great.  This is due to the shrinkage of the LASSO coefficient values.  "
   ]
  },
  {
   "cell_type": "markdown",
   "metadata": {},
   "source": [
    "#### Debiasing LASSO\n",
    "\n",
    "To circumvent the LASSO shrinkage issue, we perform *least-squares regression of the LASSO-selected coefficients*.  We'll call this method \"LASSO+LS\". Sometimes people refer to this approach as \"debiasing\" LASSO."
   ]
  },
  {
   "cell_type": "code",
   "execution_count": 16,
   "metadata": {},
   "outputs": [
    {
     "name": "stdout",
     "output_type": "stream",
     "text": [
      "cross-validation MSE = 0.397190\n"
     ]
    }
   ],
   "source": [
    "# Train LASSO-feature-selected LS on entire design data\n",
    "nonzero = (np.abs(lasso.coef_)>1e-5) # logical array\n",
    "subset = np.where(nonzero)[0] # array of feature indices\n",
    "\n",
    "# Print the cross-validation MSE\n",
    "scores = cross_val_score(linreg, Xtr[:, subset], ytr, cv=rkf, scoring='neg_mean_squared_error')\n",
    "mse_cv_lasso_ls = -np.mean(scores)\n",
    "print(\"cross-validation MSE = %f\" % mse_cv_lasso_ls)"
   ]
  },
  {
   "cell_type": "markdown",
   "metadata": {},
   "source": [
    "We see that LASSO+LS performs much better than LASSO alone, but not as well as the optimal exhaustive search method.  One of the reasons for the suboptimal performance of the above LASSO+LS method is that it was not properly tuned.  Remember that we chose `alpha` to make the *shrunken* LASSO coefficients perform best, which is foolish because we later ignored those shrunken coefficient values!  Instead, we should select `alpha` so that the LASSO+LS coefficients perform best. In other words, we want to tune LASSO for best \"debiased\" performance."
   ]
  },
  {
   "cell_type": "markdown",
   "metadata": {},
   "source": [
    "### Tuning LASSO for best \"debiased\" performance using a `for` loop\n",
    "\n",
    "To tune LASSO+LS, we will make a grid of `alpha` and fit a LASSO+LS model at every grid point. \n",
    "In particular, for each `alpha` value, we'll fit a LASSO model to the entire training data and identify the feature subset where the LASSO coefficients are non-zero. \n",
    "Then, using those features, we'll fit a least-squares model and evaluate the MSE using `cross_val_score`. \n",
    "First we'll implement this using a `for` loop.  "
   ]
  },
  {
   "cell_type": "code",
   "execution_count": 17,
   "metadata": {},
   "outputs": [],
   "source": [
    "# compute the CV MSE of LASSO+LS over a grid of alpha\n",
    "alphas = np.logspace(-2,-0.23,100)\n",
    "mse_cv = np.zeros(len(alphas))\n",
    "mse_se = np.zeros(len(alphas))\n",
    "for i,a in enumerate(alphas):\n",
    "    # fit LASSO\n",
    "    lasso.set_params(alpha = a)\n",
    "    lasso.fit(Xtr,ytr)\n",
    "    # select features\n",
    "    nonzero = (np.abs(lasso.coef_)>1e-5) # logical array\n",
    "    subset = np.where(nonzero)[0] # array of feature indices\n",
    "    # fit LS and evaluate performance using CV\n",
    "    mse = -cross_val_score(linreg, Xtr[:, subset], ytr, cv=rkf, \n",
    "                                 scoring='neg_mean_squared_error')\n",
    "    mse_cv[i] = np.mean(mse)\n",
    "    mse_se[i] = np.std(mse,ddof=1) / np.sqrt(nfold)\n"
   ]
  },
  {
   "cell_type": "markdown",
   "metadata": {},
   "source": [
    "From the cross-validation results, we can plot MSE versus `alpha` and extract the MSE-minimizing `alpha` as well as the minimized MSE."
   ]
  },
  {
   "cell_type": "code",
   "execution_count": 18,
   "metadata": {},
   "outputs": [
    {
     "data": {
      "image/png": "[encoded data removed]",
      "text/plain": [
       "<Figure size 432x288 with 1 Axes>"
      ]
     },
     "metadata": {
      "needs_background": "light"
     },
     "output_type": "display_data"
    },
    {
     "name": "stdout",
     "output_type": "stream",
     "text": [
      "cross-validation MSE = 0.388373\n"
     ]
    }
   ],
   "source": [
    "# find MSE-minimizing alpha\n",
    "imin = np.argmin(mse_cv)\n",
    "alpha_min = alphas[imin]\n",
    "mse_cv_lasso_ls1 = mse_cv[imin]\n",
    "\n",
    "# Plot the mean MSE, the minimum MSE, and the mean MSE + 1 std dev\n",
    "plt.semilogx(alphas, mse_cv, label='Mean(MSE)')\n",
    "plt.semilogx(alphas, mse_cv+mse_se, label='Mean(MSE) + 1 SE')\n",
    "plt.semilogx(alpha_min, mse_cv_lasso_ls1, 'r^', label='min(MSE)')\n",
    "plt.legend(loc='upper left')\n",
    "plt.xlabel('alpha')\n",
    "plt.ylabel('CV MSE')\n",
    "plt.grid()\n",
    "plt.show()\n",
    "\n",
    "# Print the cross-validation MSE\n",
    "print(\"cross-validation MSE = %f\" % mse_cv_lasso_ls1)"
   ]
  },
  {
   "cell_type": "markdown",
   "metadata": {},
   "source": [
    "### Tuning LASSO+LS  using GridSearchCV and a pipeline\n",
    "\n",
    "As we saw above, it is possible to tune LASSO for best \"debiased\" performance using a `for` loop. \n",
    "But we also know that sklearn's `GridSearchCV` provides an alternative to `for`-loop based cross-validation: it requires us to specify only the estimator, the parameter grid, the cross-val object, and the performance metric. \n",
    "But when the estimator is a cascade of operations like LASSO+FeatureSelection+LS, how do we pass it to `GridSearchCV`?\n",
    "The answer is provided by sklearn's `Pipeline` framework, which allows one to cascade several estimators together.\n",
    "In the pipeline, we can use sklearn's `SelectFromModel` transform to do the FeatureSelection step.\n",
    "\n",
    "The code below first creates a pipeline with two steps: 1) LASSO followed by `SelectFromModel`, and 2) unregularized LS linear regression. \n",
    "We need to put `SelectFromModel` together with LASSO in one step because the former does not have a \"fit\" method, as is required for all components of a pipeline.\n",
    "Once we build the pipeline, we can pass it into `GridSearchCV` as the estimator. \n",
    "We'll also pass in the same `alpha` grid, `kf` cross-validation object, and `neg_mean_squared_error` metric as before.\n",
    "\n",
    "Note: if the `alpha` parameter grid contains values that cause LASSO to select zero features, the subsequent LS linear regression method will get confused and sklearn may throw an error. \n",
    "To avoid this, we set the largest `alpha` value in our grid so that LASSO selects at least one feature."
   ]
  },
  {
   "cell_type": "code",
   "execution_count": 19,
   "metadata": {},
   "outputs": [],
   "source": [
    "from sklearn.pipeline import Pipeline\n",
    "from sklearn.feature_selection import SelectFromModel\n",
    "\n",
    "# build pipeline for LASSO+FeatureSelect+LS\n",
    "pipe = Pipeline([\n",
    "  ('LASSO',SelectFromModel(linear_model.Lasso(fit_intercept=False,warm_start=False))),\n",
    "  ('LS', linear_model.LinearRegression(fit_intercept=False))\n",
    "])\n",
    "\n",
    "# tune LASSO regularization strength\n",
    "parameters = {'LASSO__estimator__alpha':alphas} # see pipe.get_params().keys()\n",
    "gscv = GridSearchCV(pipe, parameters, cv=rkf, scoring='neg_mean_squared_error')\n",
    "gscv.fit(Xtr,ytr);"
   ]
  },
  {
   "cell_type": "markdown",
   "metadata": {},
   "source": [
    "From the cross-validation results, we can plot MSE versus `alpha` and extract the MSE-minimizing `alpha` as well as the minimized MSE."
   ]
  },
  {
   "cell_type": "code",
   "execution_count": 20,
   "metadata": {},
   "outputs": [
    {
     "data": {
      "image/png": "[encoded data removed]",
      "text/plain": [
       "<Figure size 432x288 with 1 Axes>"
      ]
     },
     "metadata": {
      "needs_background": "light"
     },
     "output_type": "display_data"
    },
    {
     "name": "stdout",
     "output_type": "stream",
     "text": [
      "cross-validation MSE = 0.392121\n"
     ]
    }
   ],
   "source": [
    "mse_cv = -gscv.cv_results_['mean_test_score']\n",
    "mse_se = gscv.cv_results_['std_test_score']/np.sqrt(nfold-1) # note division by (nfold-1)!\n",
    "\n",
    "# Find the minimum MSE\n",
    "imin = np.argmin(mse_cv)\n",
    "alpha_min = alphas[imin]\n",
    "mse_cv_lasso_ls2 = mse_cv[imin]\n",
    "\n",
    "# Plot the mean MSE, the minimum MSE, and the mean MSE + 1 std dev\n",
    "plt.semilogx(alphas, mse_cv, label='Mean(MSE)')\n",
    "plt.semilogx(alphas, mse_cv+mse_se, label='Mean(MSE) + 1 SE')\n",
    "plt.semilogx(alpha_min, mse_cv_lasso_ls2, 'r^', label='min(MSE)')\n",
    "plt.legend(loc='upper left')\n",
    "plt.xlabel('alpha')\n",
    "plt.ylabel('CV MSE')\n",
    "plt.grid()\n",
    "plt.show()\n",
    "\n",
    "print(\"cross-validation MSE = %f\" % mse_cv_lasso_ls2)"
   ]
  },
  {
   "cell_type": "markdown",
   "metadata": {},
   "source": [
    "Looking at the CV error-rates above, we can see that they are different from the ones computed by the `for`-loop method, even though we used the same estimator, k-fold method, and metric. \n",
    "This is because the two techniques differ slightly in *how* the LASSO stage is trained: \n",
    "In the `for`-loop method, LASSO is trained once using the full data, but in the pipeline method, LASSO is trained K times on different folds.\n",
    "Because each fold can yield a different number of non-zero weights, the MSE curve is not piecewise constant as it was in the `for` loop method.\n",
    "Furthermore, the pipeline method is slower to train because the most expensive stage (LASSO) is run K times more often.\n",
    "\n",
    "Note that the above pipeline approach is performing a bit worse than the `for`-loop approach.\n",
    "In an attempt to improve the pipeline results, we could apply the one-standard error (OSE) to choose `alpha` rather than choosing `alpha` as the CV-MSE minimizer.\n",
    "Once we obtain this `alpha_ose`, we refit LASSO on the full training data, extract the selected features, and fit a LS linear model using only those features.\n",
    "We do this below and find that the result has a CV MSE that matches the earlier `for`-loop approach."
   ]
  },
  {
   "cell_type": "code",
   "execution_count": 21,
   "metadata": {},
   "outputs": [
    {
     "data": {
      "image/png": "[encoded data removed]",
      "text/plain": [
       "<Figure size 432x288 with 1 Axes>"
      ]
     },
     "metadata": {
      "needs_background": "light"
     },
     "output_type": "display_data"
    },
    {
     "name": "stdout",
     "output_type": "stream",
     "text": [
      "cross-validation MSE = 0.388373\n"
     ]
    }
   ],
   "source": [
    "# OSE rule: find the simplest model (largest alpha) whose MSE is below the target\n",
    "mse_tgt = mse_cv[imin] + mse_se[imin]\n",
    "I = np.where(mse_cv <= mse_tgt)[0]\n",
    "iose = I[-1] # largest index => largest alpha\n",
    "alpha_ose = alphas[iose]\n",
    "\n",
    "# plot OSE approach\n",
    "plt.semilogx(alphas, mse_cv, label='Mean(MSE)')\n",
    "plt.semilogx(alphas, mse_cv+mse_se, label='Mean(MSE) + 1 SE')\n",
    "plt.semilogx(alpha_min, mse_cv_lasso_ls2, 'r^', label='min(MSE)')\n",
    "plt.semilogx([alphas[0],alphas[-1]], [mse_tgt,mse_tgt], '--', label='target MSE')\n",
    "plt.semilogx([alpha_ose,alpha_ose], [np.min(mse_cv),mse_tgt], '--', label='alpha_ose')\n",
    "plt.legend(loc='upper left')\n",
    "plt.xlabel('alpha')\n",
    "plt.ylabel('CV MSE')\n",
    "plt.grid()\n",
    "plt.show()\n",
    "\n",
    "# now re-fit LASSO on the entire training data using alpha_ose\n",
    "lasso.set_params(alpha = alpha_ose)\n",
    "lasso.fit(Xtr,ytr)\n",
    "# select features\n",
    "nonzero = (np.abs(lasso.coef_)>1e-5) # logical array\n",
    "subset = np.where(nonzero)[0] # array of feature indices\n",
    "# fit LS on selected features and evaluate performance using CV\n",
    "mse = -cross_val_score(linreg, Xtr[:, subset], ytr, cv=rkf, \n",
    "                            scoring='neg_mean_squared_error')\n",
    "mse_cv_lasso_ls2_ose = np.mean(mse)\n",
    "\n",
    "print(\"cross-validation MSE = %f\" % mse_cv_lasso_ls2_ose)"
   ]
  },
  {
   "cell_type": "markdown",
   "metadata": {},
   "source": [
    "##  Recursive feature elimination (RFE) with cross-validation\n",
    "\n",
    "RFE is a \"greedy\" method to select features that recursively tries smaller and smaller subsets of features. It first performs linear regression with all features. Then it prunes the feature with the smallest coefficient and re-runs linear regression with the remaining features.  This procedure is repeated until one feature remains.  See http://scikit-learn.org/stable/modules/feature_selection.html#recursive-feature-elimination for details."
   ]
  },
  {
   "cell_type": "code",
   "execution_count": 22,
   "metadata": {},
   "outputs": [
    {
     "name": "stdout",
     "output_type": "stream",
     "text": [
      "ranking=[1 2 6 7 3 5 8 4]\n"
     ]
    }
   ],
   "source": [
    "from sklearn.feature_selection import RFE\n",
    "rfe = RFE(estimator=linreg, n_features_to_select=1)\n",
    "rfe.fit(Xtr,ytr)\n",
    "\n",
    "ranking = rfe.ranking_\n",
    "print(\"ranking=\"+str(ranking))"
   ]
  },
  {
   "cell_type": "markdown",
   "metadata": {},
   "source": [
    "The `ranking` vector shows the results of the greedy RFE procedure.  The feature with `ranking=1` is the most important feature, i.e., the one remaining after all others were pruned.  The feature with `ranking=2` is the second most important feature, and so on.\n",
    "\n",
    "Although we RFE gives us a ranking, it does not tell us how *many* coefficients to use.  For that, we can use cross-validation, as implemented in the RFECV method.  Somehow the CV scores returned by `.grid_scores_` were not making sense, so below we manually perform CV to evaluate the MSE of the final result.  It works well!"
   ]
  },
  {
   "cell_type": "code",
   "execution_count": 41,
   "metadata": {},
   "outputs": [
    {
     "name": "stdout",
     "output_type": "stream",
     "text": [
      "best features = [0 1 4]\n",
      "\n",
      "cross-validation MSE = 0.3883730978483264\n"
     ]
    }
   ],
   "source": [
    "from sklearn.feature_selection import RFECV\n",
    "\n",
    "rfecv = RFECV(estimator=linreg, cv=rkf, scoring='neg_mean_squared_error')\n",
    "rfecv.fit(Xtr,ytr)\n",
    "\n",
    "support = rfecv.support_ # logical array\n",
    "subset = np.where(nonzero)[0] # array of feature indices\n",
    "\n",
    "mse_cv_rfecv = -cross_val_score(linreg, Xtr[:,subset], ytr, cv=rkf, \n",
    "                           scoring='neg_mean_squared_error').mean()\n",
    "\n",
    "print(\"best features = \"+str(subset))\n",
    "print(\"\\ncross-validation MSE = \"+str(mse_cv_rfecv))"
   ]
  },
  {
   "cell_type": "markdown",
   "metadata": {},
   "source": [
    "Below, we attempted to manually code the RFECV procedure, in order to see how the feature set is pruned and how the resulting MSE changes.  Strangely, our implementation does not agree with RFECV, and in fact works better!"
   ]
  },
  {
   "cell_type": "code",
   "execution_count": 24,
   "metadata": {},
   "outputs": [
    {
     "name": "stdout",
     "output_type": "stream",
     "text": [
      "feat=[0 1 2 3 4 5 6 7] , mse=0.4030480793193428\n",
      "feat=[0 1 2 3 4 5 7] , mse=0.39646734095227176\n",
      "feat=[0 1 2 4 5 7] , mse=0.4000644821098867\n",
      "feat=[0 1 4 5 7] , mse=0.40276131052229425\n",
      "feat=[0 1 4 7] , mse=0.3935570530935449\n",
      "feat=[0 1 4] , mse=0.3883730978483264\n",
      "feat=[0 1] , mse=0.4234934618411058\n",
      "feat=[0] , mse=0.47286983169371466\n",
      "\n",
      "best features = [0 1 4]\n",
      "\n",
      "cross-validation MSE = 0.3883730978483264\n"
     ]
    }
   ],
   "source": [
    "# manual implementation of RFECV\n",
    "features = []\n",
    "mse_cv = []\n",
    "\n",
    "# first perform linear regression on full feature set\n",
    "feat = np.arange(0,nfeatures) # list of features\n",
    "features.append(feat)\n",
    "mse = -cross_val_score(linreg, Xtr[:,feat], ytr, cv=rkf, \n",
    "                         scoring='neg_mean_squared_error').mean()\n",
    "mse_cv.append(mse)\n",
    "print(\"feat=\"+str(feat),\", mse=\"+str(mse_cv[-1]))\n",
    "\n",
    "# recursively remove feature with weakest coefficient \n",
    "for i in range(0,nfeatures-1): # number of features to remove\n",
    "    linreg.fit(Xtr[:,feat],ytr) # linear regression\n",
    "    iomit = np.argmin(np.abs(linreg.coef_)) # index of smallest coefficient\n",
    "    nf = feat.size # length of feat\n",
    "    indx = np.r_[ np.r_[0:iomit],np.r_[iomit+1:nf] ] # indices of feat after pruning\n",
    "    feat = feat[indx] # new list of features\n",
    "    features.append(feat)\n",
    "    mse = -cross_val_score(linreg, Xtr[:,feat], ytr, cv=rkf, \n",
    "                           scoring='neg_mean_squared_error').mean()\n",
    "    mse_cv.append(mse)\n",
    "    print(\"feat=\"+str(feat),\", mse=\"+str(mse_cv[-1]))\n",
    "\n",
    "imin = np.argmin(mse_cv)\n",
    "mse_cv_rfecv = mse_cv[imin]\n",
    "feat_min = features[imin]\n",
    "\n",
    "print(\"\")\n",
    "print(\"best features = \"+str(feat_min))\n",
    "print(\"\\ncross-validation MSE = \"+str(mse_cv_rfecv))"
   ]
  },
  {
   "cell_type": "markdown",
   "metadata": {},
   "source": [
    "## Feature selection via mutual information\n",
    "\n",
    "Let's try ranking feaures based on mutual information with the target.  We'll then use cross-validation to choose how many of the top-ranked features to use."
   ]
  },
  {
   "cell_type": "code",
   "execution_count": 25,
   "metadata": {},
   "outputs": [
    {
     "name": "stdout",
     "output_type": "stream",
     "text": [
      "ranking=[1 5 6 7 8 2 4 3]\n",
      "feat=[0] , mse=0.47286983169371466\n",
      "feat=[0 5] , mse=0.47977516293351286\n",
      "feat=[0 5 7] , mse=0.4854361493291335\n",
      "feat=[0 5 6 7] , mse=0.491663091761986\n",
      "feat=[0 1 5 6 7] , mse=0.44136420190057735\n",
      "feat=[0 1 2 5 6 7] , mse=0.43871402828328876\n",
      "feat=[0 1 2 3 5 6 7] , mse=0.44064923877666784\n",
      "feat=[0 1 2 3 4 5 6 7] , mse=0.4030480793193428\n",
      "\n",
      "cross-validation MSE = 0.403048\n"
     ]
    }
   ],
   "source": [
    "from sklearn.feature_selection import SelectKBest, f_regression, mutual_info_regression\n",
    "\n",
    "# first, rank coefficients\n",
    "selector = SelectKBest(score_func=mutual_info_regression, k='all')\n",
    "selector.fit(Xtr, ytr)\n",
    "ranking = np.argsort(-selector.scores_)+1\n",
    "print(\"ranking=\"+str(ranking))\n",
    "\n",
    "# next use CV to choose how many coefficients\n",
    "se_cv = np.zeros(nfeatures)\n",
    "mse_se = np.zeros(nfeatures)\n",
    "nselect = np.arange(nfeatures)+1\n",
    "for r in nselect:\n",
    "    subset = np.where(ranking<=r)[0]\n",
    "    scores = cross_val_score(linreg, Xtr[:,subset], ytr, cv=rkf, scoring='neg_mean_squared_error')\n",
    "    mse_cv[r-1] = -np.mean(scores)\n",
    "    mse_se[r-1] = np.std(scores,ddof=1) / np.sqrt(nfold)\n",
    "    print(\"feat=\"+str(subset),\", mse=\"+str(mse_cv[r-1]))\n",
    "    \n",
    "# Find the model order yielding minimum CV MSE\n",
    "nselect_min = np.argmin(mse_cv)+1\n",
    "mse_cv_rfemi = mse_cv[nselect_min-1]\n",
    "\n",
    "# Print the cross-validation MSE\n",
    "print(\"\\ncross-validation MSE = %f\" % mse_cv_rfemi)"
   ]
  },
  {
   "cell_type": "markdown",
   "metadata": {},
   "source": [
    "## Ridge regression\n",
    "\n",
    "Finally we try ridge regression. Although we know that it does not perform feature selection, we're still curious to see how well it works on this dataset.  We'll use cross-validation to find the MSE-minimizing value of the regularization parameter `alpha`."
   ]
  },
  {
   "cell_type": "code",
   "execution_count": 26,
   "metadata": {},
   "outputs": [
    {
     "data": {
      "image/png": "[encoded data removed]",
      "text/plain": [
       "<Figure size 432x288 with 1 Axes>"
      ]
     },
     "metadata": {
      "needs_background": "light"
     },
     "output_type": "display_data"
    },
    {
     "name": "stdout",
     "output_type": "stream",
     "text": [
      "Ridge:\n",
      " intrcpt 0.000000\n",
      "  lcavol 0.511004\n",
      " lweight 0.225234\n",
      "     age -0.111289\n",
      "    lbph 0.109480\n",
      "     svi 0.248974\n",
      "     lcp -0.056588\n",
      " gleason 0.039091\n",
      "   pgg45 0.085659\n",
      "\n",
      "cross-validation MSE = 0.398266\n"
     ]
    }
   ],
   "source": [
    "# Ridge model\n",
    "ridge = linear_model.Ridge(fit_intercept=False)\n",
    "\n",
    "# Regularization values to test\n",
    "nalpha = 100\n",
    "alphas = np.logspace(-1,2,nalpha)\n",
    "param_grid = {'alpha': alphas}\n",
    "\n",
    "# Run cross-validation\n",
    "gscv = GridSearchCV(ridge, param_grid, cv=rkf, scoring='neg_mean_squared_error')\n",
    "gscv.fit(Xtr,ytr)\n",
    "mse_cv = -gscv.cv_results_['mean_test_score']\n",
    "\n",
    "# Find the minimum MSE\n",
    "imin = np.argmin(mse_cv)\n",
    "alpha_min = alphas[imin]\n",
    "mse_cv_ridge = mse_cv[imin]\n",
    "\n",
    "# Plot performance versus alpha\n",
    "plt.semilogx(alphas, mse_cv, label='Mean(MSE)')\n",
    "plt.semilogx(alpha_min, mse_cv_ridge, 'r^', label='min(MSE)')\n",
    "plt.legend(loc='upper left')\n",
    "plt.xlabel('alpha')\n",
    "plt.ylabel('CV MSE')\n",
    "plt.grid()\n",
    "plt.show()\n",
    "\n",
    "# Print the coefficients\n",
    "print('Ridge:')\n",
    "print(\" intrcpt %f\" % gscv.best_estimator_.intercept_)\n",
    "for i, c in enumerate(gscv.best_estimator_.coef_):\n",
    "    print(\"%8s %f\" % (names_x[i], c))\n",
    "\n",
    "# # Evaluate best model on the validation fold\n",
    "# yval_pred = gscv.best_estimator_.predict(Xval)\n",
    "# mse_val_ridge = np.mean((yval_pred-yval)**2)\n",
    "\n",
    "# # Print the validation MSE\n",
    "# print(\"\\nvalidation MSE = %f\" % mse_val_ridge)\n",
    "\n",
    "# Print the cross-validation MSE\n",
    "print(\"\\ncross-validation MSE = %f\" % mse_cv_ridge)"
   ]
  },
  {
   "cell_type": "code",
   "execution_count": 27,
   "metadata": {},
   "outputs": [
    {
     "data": {
      "image/png": "[encoded data removed]",
      "text/plain": [
       "<Figure size 432x288 with 1 Axes>"
      ]
     },
     "metadata": {
      "needs_background": "light"
     },
     "output_type": "display_data"
    }
   ],
   "source": [
    "# Compute the ridge coefficient path\n",
    "nalpha = 100\n",
    "alphas = np.logspace(-1,4,nalpha)\n",
    "coeffs = []\n",
    "for a in alphas:\n",
    "    ridge.alpha = a\n",
    "    ridge.fit(Xtr, ytr)\n",
    "    coeffs.append(ridge.coef_)\n",
    "\n",
    "# Plot the paths of the coefficients\n",
    "plt.semilogx(alphas,coeffs)\n",
    "plt.grid()\n",
    "xmin, xmax, ymin, ymax = plt.axis()\n",
    "#plt.axis([xmin,np.exp(np.log(xmax)+0.25*(np.log(xmax)-np.log(xmin))),ymin,ymax])\n",
    "plt.legend(names_x, loc='upper right')\n",
    "\n",
    "# Plot a line on the OSE alpha\n",
    "plt.semilogx([alpha_min,alpha_min], [ymin,ymax], '--')\n",
    "plt.xlabel('alpha')\n",
    "plt.ylabel('coeff')\n",
    "plt.show()"
   ]
  },
  {
   "cell_type": "markdown",
   "metadata": {},
   "source": [
    "## Summary and discussion\n",
    "\n",
    "We now summarize the CV-MSE for all methods considered in this demo"
   ]
  },
  {
   "cell_type": "code",
   "execution_count": 28,
   "metadata": {},
   "outputs": [
    {
     "name": "stdout",
     "output_type": "stream",
     "text": [
      "cross-validation MSE:\n",
      "  LS = 0.403048\n",
      "  Ridge = 0.398266\n",
      "  LASSO = 0.398888\n",
      "  LASSO(debiased) = 0.397190\n",
      "  LASSO+LS(for)= 0.388373\n",
      "  LASSO+LS(pipe)= 0.388373\n",
      "  RFE-CV+LS = 0.388373\n",
      "  RFE-MI+LS = 0.403048\n",
      "  exhaustive+LS = 0.388072\n"
     ]
    }
   ],
   "source": [
    "# Summary\n",
    "print(\"cross-validation MSE:\")\n",
    "print(\"  LS = %f\" % mse_cv_ls)\n",
    "print(\"  Ridge = %f\" % mse_cv_ridge)\n",
    "print(\"  LASSO = %f\" % mse_cv_lasso)\n",
    "print(\"  LASSO(debiased) = %f\" % mse_cv_lasso_ls)\n",
    "print(\"  LASSO+LS(for)= %f\" % mse_cv_lasso_ls1)\n",
    "print(\"  LASSO+LS(pipe)= %f\" % mse_cv_lasso_ls2_ose)\n",
    "print(\"  RFE-CV+LS = %f\" % mse_cv_rfecv)\n",
    "print(\"  RFE-MI+LS = %f\" % mse_cv_rfemi)\n",
    "print(\"  exhaustive+LS = %f\" % mse_cv_exhaustive)"
   ]
  },
  {
   "cell_type": "markdown",
   "metadata": {},
   "source": [
    "When looking at the cross-validation results, we see the expected trends:\n",
    "* exhaustive feature selection gives the best performance, since it is the optimal method\n",
    "* no feature selection (i.e., ordinary LS) gives relatively poor performance\n",
    "* ridge regression is only slightly better than ordinary LS\n",
    "* LASSO is only slightly better than ordinary LS\n",
    "* LASSO+LS gets close to exhaustive feature selection\n",
    "* RFE-CV+LS gets close exhaustive selection"
   ]
  },
  {
   "cell_type": "code",
   "execution_count": null,
   "metadata": {},
   "outputs": [],
   "source": []
  }
 ],
 "metadata": {
  "anaconda-cloud": {},
  "kernelspec": {
   "display_name": "Python 3",
   "language": "python",
   "name": "python3"
  },
  "language_info": {
   "codemirror_mode": {
    "name": "ipython",
    "version": 3
   },
   "file_extension": ".py",
   "mimetype": "text/x-python",
   "name": "python",
   "nbconvert_exporter": "python",
   "pygments_lexer": "ipython3",
   "version": "3.8.8"
  },
  "varInspector": {
   "cols": {
    "lenName": 16,
    "lenType": 16,
    "lenVar": 40
   },
   "kernels_config": {
    "python": {
     "delete_cmd_postfix": "",
     "delete_cmd_prefix": "del ",
     "library": "var_list.py",
     "varRefreshCmd": "print(var_dic_list())"
    },
    "r": {
     "delete_cmd_postfix": ") ",
     "delete_cmd_prefix": "rm(",
     "library": "var_list.r",
     "varRefreshCmd": "cat(var_dic_list()) "
    }
   },
   "types_to_exclude": [
    "module",
    "function",
    "builtin_function_or_method",
    "instance",
    "_Feature"
   ],
   "window_display": false
  }
 },
 "nbformat": 4,
 "nbformat_minor": 1
}
