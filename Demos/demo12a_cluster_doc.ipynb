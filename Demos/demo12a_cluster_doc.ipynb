{
 "cells": [
  {
   "cell_type": "markdown",
   "metadata": {
    "collapsed": true
   },
   "source": [
    "# Demo:  Document Clustering and Latent Semantic Analysis\n",
    "\n",
    "An important application of clustering is for sorting documents into groups.  In this demo, we will illustrate how to use the k-means algorithms for this task.  This example is taken mostly from one of the [sklearn examples](http://scikit-learn.org/stable/auto_examples/text/document_clustering.html).\n",
    "\n",
    "Through the demo, you will learn how to:\n",
    "* Compute the TF-IDF scores for documents in the corpus\n",
    "* Run k-means on the TF-IDF features to cluster documents\n",
    "* Run LSA (i.e., PCA) on the TF-IDF features to cluster documents\n",
    "* Run NMF to cluster documents"
   ]
  },
  {
   "cell_type": "markdown",
   "metadata": {},
   "source": [
    "## Loading the Data\n",
    "\n",
    "First, we load the standard packages."
   ]
  },
  {
   "cell_type": "code",
   "execution_count": 1,
   "metadata": {},
   "outputs": [],
   "source": [
    "import numpy as np"
   ]
  },
  {
   "cell_type": "markdown",
   "metadata": {},
   "source": [
    "The [UseNet newsgroups](https://en.wikipedia.org/wiki/Usenet_newsgroup) were popular in the 1990s as online forums for discussing various topics.  Although they are not used much today for discussions, the UseNet data is widely-used in machine learning classes to demonstrate various text processing methods.  The `sklearn` package has the [20newsgroups](https://scikit-learn.org/stable/datasets/real_world.html#newsgroups-dataset) dataset, which has about 18000 posts on 20 topics.  It can be loaded via `fetch_20newsgroups`.  We will use only four of the 20 topics for this demo."
   ]
  },
  {
   "cell_type": "code",
   "execution_count": 2,
   "metadata": {},
   "outputs": [
    {
     "name": "stdout",
     "output_type": "stream",
     "text": [
      "['alt.atheism', 'comp.graphics', 'sci.space', 'talk.religion.misc']\n"
     ]
    }
   ],
   "source": [
    "from sklearn.datasets import fetch_20newsgroups\n",
    "\n",
    "load_all = False # load all categories?\n",
    "\n",
    "if load_all:\n",
    "    categories = None\n",
    "else:    \n",
    "    categories = [\n",
    "        'alt.atheism',\n",
    "        'talk.religion.misc',\n",
    "        'comp.graphics',\n",
    "        'sci.space',\n",
    "    ]\n",
    "\n",
    "remove = ('headers', 'footers')\n",
    "dataset = fetch_20newsgroups(subset='all', categories=categories,\n",
    "                             remove = remove, shuffle=True, random_state=42)\n",
    "print(dataset.target_names)"
   ]
  },
  {
   "cell_type": "markdown",
   "metadata": {},
   "source": [
    "`dataset.target` is a vector of labels.  Let's print a few of them out.  Also, we can use the `np.unique` command to compute the number of unique labels, which should equal 4.  "
   ]
  },
  {
   "cell_type": "code",
   "execution_count": 3,
   "metadata": {},
   "outputs": [
    {
     "name": "stdout",
     "output_type": "stream",
     "text": [
      "[1 1 3 1 1 2 2 2 0 1 2 3 2 0 3 3 1 1 2]\n"
     ]
    }
   ],
   "source": [
    "labels = dataset.target # label vector \n",
    "print(labels[1:20])\n",
    "true_k = len(np.unique(labels)) # number of classes"
   ]
  },
  {
   "cell_type": "markdown",
   "metadata": {},
   "source": [
    "We can find the number of data samples as follows:"
   ]
  },
  {
   "cell_type": "code",
   "execution_count": 4,
   "metadata": {},
   "outputs": [
    {
     "name": "stdout",
     "output_type": "stream",
     "text": [
      "num_samp = 3387\n"
     ]
    }
   ],
   "source": [
    "print(\"num_samp = %d\" % labels.size)"
   ]
  },
  {
   "cell_type": "markdown",
   "metadata": {},
   "source": [
    "`dataset.data` contains the UseNet text data.  Each entry `dataset.data[i]` is a string corresponding to one post.  We can print an example as follows."
   ]
  },
  {
   "cell_type": "code",
   "execution_count": 5,
   "metadata": {},
   "outputs": [
    {
     "name": "stdout",
     "output_type": "stream",
     "text": [
      "Post from comp.graphics:\n",
      "\n",
      "\n",
      "Hallo POV-Renderers !\n",
      "I've got a BocaX3 Card. Now I try to get POV displaying True Colors\n",
      "while rendering. I've tried most of the options and UNIVESA-Driver\n",
      "but what happens isn't correct.\n",
      "Can anybody help me ?\n",
      "\n"
     ]
    }
   ],
   "source": [
    "doc_ind = 10  # Index of an example document\n",
    "data_ex = dataset.data[doc_ind]\n",
    "cat_ex  = dataset.target_names[labels[doc_ind]]\n",
    "print('Post from {0:s}:'.format(cat_ex))\n",
    "print()\n",
    "print(data_ex)"
   ]
  },
  {
   "cell_type": "markdown",
   "metadata": {},
   "source": [
    "## Computing TF-IDF features\n",
    "\n",
    "Documents are text, but machine learning algorithms want numbers.  So, we need to extract numerical features from the documents.  One of the most popular methods is the so-called TF-IDF score.  First, we make a list of all (non-common) words in the corpus.  Each word is sometimes called a *term* or a *token*.  For each term `j` and document `i`, we compute the feature\n",
    "      \n",
    "    X[i,j] = TF-IDF score of term j in document i\n",
    "           = term_freq[i,j] * inverse_doc_freq[j]\n",
    "           \n",
    "where\n",
    "\n",
    "    term_freq[i,j]  = (#occurances of term j in doc i)/(#terms in doc i)  \n",
    "    inverse_doc_freq[j] = -log( #docs with term j / #docs in corpus )\n",
    "        \n",
    "In the data matrix `X`, each document `i` is represented by a vector `X[i,:]`.\n",
    "\n",
    "The data matrix `X` can be computed by a *vectorizer*.  Writing an efficient vectorizer is somewhat time-consuming.  Luckily, `sklearn` has very good routines to do this.  We first create a `TfidfVectorizer` object, and then use it to compute the TF-IDF features."
   ]
  },
  {
   "cell_type": "code",
   "execution_count": 6,
   "metadata": {},
   "outputs": [
    {
     "name": "stdout",
     "output_type": "stream",
     "text": [
      "n_samples: 3387, n_features: 38777\n"
     ]
    }
   ],
   "source": [
    "from sklearn.feature_extraction.text import TfidfVectorizer\n",
    "\n",
    "vectorizer = TfidfVectorizer(stop_words='english') # remove English stopwords\n",
    "\n",
    "X = vectorizer.fit_transform(dataset.data)\n",
    "print(\"n_samples: %d, n_features: %d\" % X.shape)"
   ]
  },
  {
   "cell_type": "markdown",
   "metadata": {},
   "source": [
    "We can display the terms with the highest TF-IDF scores in a document as follows."
   ]
  },
  {
   "cell_type": "code",
   "execution_count": 7,
   "metadata": {},
   "outputs": [
    {
     "name": "stdout",
     "output_type": "stream",
     "text": [
      "pov                  0.417453 \n",
      "hallo                0.314297 \n",
      "bocax3               0.314297 \n",
      "renderers            0.280154 \n",
      "univesa              0.273361 \n",
      "ve                   0.216374 \n",
      "displaying           0.215961 \n",
      "rendering            0.206597 \n",
      "options              0.205576 \n",
      "driver               0.199119 \n",
      "happens              0.187562 \n",
      "colors               0.184011 \n",
      "card                 0.177312 \n",
      "tried                0.163320 \n",
      "anybody              0.157071 \n",
      "correct              0.155991 \n",
      "isn                  0.132214 \n",
      "got                  0.127099 \n",
      "try                  0.126131 \n",
      "help                 0.125774 \n",
      "true                 0.124041 \n",
      "determining          0.000000 \n",
      "determinism          0.000000 \n",
      "determininant        0.000000 \n",
      "deterministic        0.000000 \n",
      "determnined          0.000000 \n",
      "determines           0.000000 \n",
      "deterrant            0.000000 \n",
      "determined           0.000000 \n",
      "detest               0.000000 \n"
     ]
    }
   ],
   "source": [
    "doc_ind = 10  # Index of an example document\n",
    "xi = X[doc_ind,:].todense()\n",
    "term_ind = xi.argsort()[:, ::-1]\n",
    "xi_sort = xi[0,term_ind]\n",
    "terms = vectorizer.get_feature_names()\n",
    "\n",
    "for i in range(30):\n",
    "    term = terms[term_ind[0,i]]\n",
    "    tfidf = xi[0,term_ind[0,i]]\n",
    "    print('{0:20s} {1:f} '.format(term, tfidf))"
   ]
  },
  {
   "cell_type": "markdown",
   "metadata": {},
   "source": [
    "## Running K-Means\n",
    "\n",
    "We now run k-means on the TF-IDF features in an attempt to cluster the documents.  First, we instantiate a `KMeans` object, and then we run the algorithm using the `fit` method.  We'll use the `++` initialization in an attempt to avoid local minima."
   ]
  },
  {
   "cell_type": "code",
   "execution_count": 8,
   "metadata": {},
   "outputs": [
    {
     "name": "stdout",
     "output_type": "stream",
     "text": [
      "Initialization complete\n",
      "Iteration 0, inertia 6461.628264313481\n",
      "Iteration 1, inertia 3306.315949575553\n",
      "Iteration 2, inertia 3296.9470173231202\n",
      "Iteration 3, inertia 3294.6351134679676\n",
      "Iteration 4, inertia 3293.6986887371013\n",
      "Iteration 5, inertia 3293.0801132179845\n",
      "Iteration 6, inertia 3292.685821975408\n",
      "Iteration 7, inertia 3292.4392047796755\n",
      "Iteration 8, inertia 3292.227604782814\n",
      "Iteration 9, inertia 3292.101241732236\n",
      "Iteration 10, inertia 3292.043203528274\n",
      "Iteration 11, inertia 3292.0009832615897\n",
      "Iteration 12, inertia 3291.952664071326\n",
      "Iteration 13, inertia 3291.913997506929\n",
      "Iteration 14, inertia 3291.8647964067823\n",
      "Iteration 15, inertia 3291.823791633892\n",
      "Iteration 16, inertia 3291.767778882536\n",
      "Iteration 17, inertia 3291.7208888575983\n",
      "Iteration 18, inertia 3291.696356271001\n",
      "Iteration 19, inertia 3291.685853667515\n",
      "Iteration 20, inertia 3291.679134499338\n",
      "Converged at iteration 20: strict convergence.\n"
     ]
    },
    {
     "data": {
      "text/plain": [
       "KMeans(max_iter=100, n_clusters=4, n_init=1, random_state=1, verbose=True)"
      ]
     },
     "execution_count": 8,
     "metadata": {},
     "output_type": "execute_result"
    }
   ],
   "source": [
    "from sklearn.cluster import KMeans\n",
    "\n",
    "km = KMeans(n_clusters=true_k, init='k-means++', max_iter=100, n_init=1,\n",
    "                verbose=True, random_state=1)\n",
    "km.fit(X)"
   ]
  },
  {
   "cell_type": "markdown",
   "metadata": {},
   "source": [
    "To get a sense for the results of k-means, we print out the terms in each centroid with the 10 largest TF-IDF values.  You can see that K-means has found centroids that seem to correspond to the newsgroups topics."
   ]
  },
  {
   "cell_type": "code",
   "execution_count": 9,
   "metadata": {},
   "outputs": [
    {
     "name": "stdout",
     "output_type": "stream",
     "text": [
      "Centroid 0: god jesus people objective sandvik don believe moral say morality\n",
      "Centroid 1: edu writes article com just think people don like know\n",
      "Centroid 2: graphics thanks image file files program format know images looking\n",
      "Centroid 3: space nasa shuttle launch orbit moon edu writes gov just\n"
     ]
    }
   ],
   "source": [
    "order_centroids = km.cluster_centers_.argsort()[:, ::-1]\n",
    "for i in range(true_k):\n",
    "    print(\"Centroid %d:\" % i, end='')\n",
    "    for ind in order_centroids[i, :10]:\n",
    "        print(' %s' % terms[ind], end='')\n",
    "    print()"
   ]
  },
  {
   "cell_type": "markdown",
   "metadata": {},
   "source": [
    "## Comparison of clusters to newsgroup categories\n",
    "\n",
    "To get a quantitative measure of how well k-means is matching the newsgroup topics, we create a sort of confusion matrix `C` where:\n",
    "\n",
    "`C[i,j] = ` the fraction of cluster `j` that came from newsgroup topic `i`.\n",
    "\n",
    "That is, the columns of the confusion matrix are normalized so that they sum to one.  If k-means was perfectly clustering according to the newsgroup topics, each column of `C` would contain a single value equal to one and the other values equal to zero."
   ]
  },
  {
   "cell_type": "code",
   "execution_count": 10,
   "metadata": {},
   "outputs": [
    {
     "name": "stdout",
     "output_type": "stream",
     "text": [
      "[[0.548 0.342 0.004 0.002]\n",
      " [0.    0.165 0.938 0.008]\n",
      " [0.002 0.233 0.052 0.989]\n",
      " [0.45  0.26  0.006 0.002]]\n"
     ]
    }
   ],
   "source": [
    "from sklearn.metrics import confusion_matrix\n",
    "\n",
    "labelkm = km.labels_\n",
    "Cnorm = confusion_matrix(labels,labelkm,normalize='pred')\n",
    "with np.printoptions(precision=3, suppress=True):\n",
    "    print(Cnorm)"
   ]
  },
  {
   "cell_type": "markdown",
   "metadata": {},
   "source": [
    "To interpret this confusion matrix, let's remember what the newsgroup categories were:"
   ]
  },
  {
   "cell_type": "code",
   "execution_count": 11,
   "metadata": {},
   "outputs": [
    {
     "data": {
      "text/plain": [
       "['alt.atheism', 'comp.graphics', 'sci.space', 'talk.religion.misc']"
      ]
     },
     "execution_count": 11,
     "metadata": {},
     "output_type": "execute_result"
    }
   ],
   "source": [
    "dataset.target_names"
   ]
  },
  {
   "cell_type": "markdown",
   "metadata": {},
   "source": [
    "Looking at the confusion matrix, we see that the last two clusters are dominated by a single newsgroup topic, comp.graphics and sci.space, respectively.  The first cluster is a mix between alt.atheism and talk.religion.misc, which makes sense because these two topics have a lot of overlap.  But the second cluster has a significant proportion of words from all four topics, so it doesn't seem to be well designed."
   ]
  },
  {
   "cell_type": "markdown",
   "metadata": {},
   "source": [
    "We now print an example of a document that came from a topic that is different from the most common topic in that cluster (i.e., a clustering error).  In particular, we'll print an example of an `alt.atheism` post in the cluster that is dominated by `comp.graphics`."
   ]
  },
  {
   "cell_type": "code",
   "execution_count": 12,
   "metadata": {},
   "outputs": [
    {
     "name": "stdout",
     "output_type": "stream",
     "text": [
      "Actual newsgroup: alt.atheism\n",
      "Cluster index: 0\n",
      "\n",
      "sandvik@newton.apple.com (Kent Sandvik) writes:\n",
      "\n",
      ">>To borrow from philosophy, you don't truly understand the color red\n",
      ">>until you have seen it.\n",
      ">Not true, even if you have experienced the color red you still might\n",
      ">have a different interpretation of it.\n",
      "\n",
      "But, you wouldn't know what red *was*, and you certainly couldn't judge\n",
      "it subjectively.  And, objectivity is not applicable, since you are wanting\n",
      "to discuss the merits of red.\n"
     ]
    }
   ],
   "source": [
    "ind_true = 0 # index of alt.atheism\n",
    "ind_cluster = Cnorm[3,:].argmax() # cluster dominated by comp.graphics\n",
    "\n",
    "cat_true  = dataset.target_names[ind_true]\n",
    "print('Actual newsgroup: {0:s}'.format(cat_true))\n",
    "print('Cluster index: {0:d}'.format(ind_cluster))\n",
    "print()\n",
    "\n",
    "# find all documents with category=ind_true and cluster=ind_cluster\n",
    "I = np.where((labels==ind_true) & (labelkm==ind_cluster))[0]\n",
    "# choose one of these documents\n",
    "doc_ind = I[0]\n",
    "data_ex = dataset.data[doc_ind]\n",
    "# print the document\n",
    "print(data_ex)"
   ]
  },
  {
   "cell_type": "markdown",
   "metadata": {},
   "source": [
    "After reading the above `alt.atheism` post, it is not surprising that it was grouped together with `comp.graphics` posts, because it frequently uses the terms `color` and `red`. "
   ]
  },
  {
   "cell_type": "markdown",
   "metadata": {
    "collapsed": true
   },
   "source": [
    "## Latent Semantic Analysis\n",
    "\n",
    "Another important tool in document analysis is [latent semantic analysis (LSA)](https://en.wikipedia.org/wiki/Latent_semantic_analysis).  In LSA, we basically perform PCA on the TF-IDF feature matrix `X`.  For this, we compute the SVD\n",
    "\n",
    "    X = U diag(S) Vt \n",
    "    \n",
    "where the rows of `Vt` contain the principal components (PCs) of `X`.  Note that if we define `A = U diag(S)` then `X = A Vt`.  \n",
    "\n",
    "It turns out that the TF-IDF matrix `X` is a sparse matrix:  "
   ]
  },
  {
   "cell_type": "code",
   "execution_count": 13,
   "metadata": {},
   "outputs": [
    {
     "data": {
      "text/plain": [
       "scipy.sparse.csr.csr_matrix"
      ]
     },
     "execution_count": 13,
     "metadata": {},
     "output_type": "execute_result"
    }
   ],
   "source": [
    "type(X)"
   ]
  },
  {
   "cell_type": "markdown",
   "metadata": {},
   "source": [
    "In fact, less than 1% of the entries in `X` are nonzero:"
   ]
  },
  {
   "cell_type": "code",
   "execution_count": 14,
   "metadata": {},
   "outputs": [
    {
     "name": "stdout",
     "output_type": "stream",
     "text": [
      "sparsity = 0.002404\n"
     ]
    }
   ],
   "source": [
    "h,w = X.get_shape()\n",
    "sparsity = X.count_nonzero()/(h*w)\n",
    "print(\"sparsity = %f\" % sparsity)"
   ]
  },
  {
   "cell_type": "markdown",
   "metadata": {},
   "source": [
    "Because `X` is sparse, it is preferable to use the sparse version of the SVD, `svds`:"
   ]
  },
  {
   "cell_type": "code",
   "execution_count": 15,
   "metadata": {},
   "outputs": [],
   "source": [
    "import scipy.sparse.linalg\n",
    "U,S,Vt = scipy.sparse.linalg.svds(X,k=300)"
   ]
  },
  {
   "cell_type": "markdown",
   "metadata": {},
   "source": [
    "We now plot the singular values. We see that the first few singular values are significantly larger than the remaining singular values, suggesting that the term-document matrix `X` has an approximately low-rank structure."
   ]
  },
  {
   "cell_type": "code",
   "execution_count": 16,
   "metadata": {},
   "outputs": [
    {
     "data": {
      "text/plain": [
       "[<matplotlib.lines.Line2D at 0x7feff45baa00>]"
      ]
     },
     "execution_count": 16,
     "metadata": {},
     "output_type": "execute_result"
    },
    {
     "data": {
      "image/png": "[encoded data removed]",
      "text/plain": [
       "<Figure size 432x288 with 1 Axes>"
      ]
     },
     "metadata": {
      "needs_background": "light"
     },
     "output_type": "display_data"
    }
   ],
   "source": [
    "import matplotlib.pyplot as plt\n",
    "%matplotlib inline\n",
    "\n",
    "plt.plot(S[::-1])"
   ]
  },
  {
   "cell_type": "markdown",
   "metadata": {},
   "source": [
    "Given the approximately low-rank structure of `X`, we can approximate it using a small number components (i.e., small `R`): \n",
    "\n",
    "     X[i,j] \\approx \\sum_{k=1}^R U[i,k] S[k] Vt[k,j]\n",
    "     \n",
    "There are two motivations for doing so:\n",
    "* Topic modeling:  One interpretation is that each principal component (PC) represents a *topic* in the corpus.  In other words, the rows `Vt[:,k]` of the `Vt` matrix can be linearly combined to approximate any row of `X`, i.e., any document vector `X[i,:]`, where each row of `Vt` (i.e., each PC) represents one topic.  \n",
    "* Topic modeling:  Likewise, the columns `U[:,k]` of the `U` matrix can be linearly combined to approximate any column of `X`, i.e., any term vector `X[:,j]`, where each column of `U` (i.e., each PC) represents one topic.\n",
    "* Document clustering: The `k`th entry of the row vector `U[i,:]` gives a value that measures the relationship between topic `k` and document `i`.  We could try to cluster the `i`th document by looking for the entry `k` with the largest magnitude, as we'll do below.\n",
    "* Word and document embeddings:  The row vector `U[i,:]` provides a low-dimensional summary of the `i`th document.  This is a useful quantity for many natural processing (NLP) methods.  This type of representation is closely related to an important topic of *word embeddings* and *document embeddings*.\n",
    "\n",
    "To get an idea of the words within each PC, we print the words for the largest-magnitude entries in the first few PCs."
   ]
  },
  {
   "cell_type": "code",
   "execution_count": 17,
   "metadata": {},
   "outputs": [
    {
     "name": "stdout",
     "output_type": "stream",
     "text": [
      "PC 0: 3do rh craig post site number vesa terrorist days society\n",
      "PC 1: allah send anti test ye 3do faq actually dos posted\n",
      "PC 2: phigs program new psilink p00261 zip universe thing lot send\n",
      "PC 3: free polygon rle rh phigs read set siggraph convert different\n"
     ]
    }
   ],
   "source": [
    "Vt_sort = np.abs(Vt).argsort()[:, ::-1]\n",
    "for k in range(true_k):\n",
    "    print(\"PC %d:\" % k, end='')\n",
    "    for ind in Vt_sort[k, :10]:\n",
    "        print(' %s' % terms[ind], end='')\n",
    "    print()"
   ]
  },
  {
   "cell_type": "markdown",
   "metadata": {},
   "source": [
    "Unfortunately, these principle components don't seem to match the newsgroup topics.\n",
    "\n",
    "To get a more quantitative view of LSA's clustering performance, let's try hard document clustering by assigning each document `i` to the topic index `k` that has the largest magnitude value in the PC vector `U[i,:]`.  After we compute hard labels for all documents, we compute the confusion matrix, as before."
   ]
  },
  {
   "cell_type": "code",
   "execution_count": 18,
   "metadata": {},
   "outputs": [
    {
     "name": "stdout",
     "output_type": "stream",
     "text": [
      "[[0.205 0.248 0.252 0.24 ]\n",
      " [0.299 0.259 0.291 0.299]\n",
      " [0.298 0.294 0.271 0.303]\n",
      " [0.198 0.199 0.185 0.158]]\n"
     ]
    }
   ],
   "source": [
    "labelsvd = np.argmax(abs(U[:,:true_k]),axis=1)\n",
    "Csvd = confusion_matrix(labels,labelsvd,normalize='pred')\n",
    "with np.printoptions(precision=3, suppress=True):\n",
    "    print(Csvd)"
   ]
  },
  {
   "cell_type": "markdown",
   "metadata": {},
   "source": [
    "We see from the above confusion matrix that LSA is not doing a good clustering.  "
   ]
  },
  {
   "cell_type": "markdown",
   "metadata": {},
   "source": [
    "## Nonnegative matrix factorization (NMF)\n",
    "\n",
    "Another approach to matrix factorization is to approximate\n",
    "\n",
    "    X \\approx W H \n",
    "    \n",
    "where `W` is tall with `R` columns, `H` is wide with `R` columns, and all elements in `W` and `H` are nonnegative. \n",
    "This is called nonnegative matrix factorization, or NMF.\n",
    "The approximation is constructed to minimize the RSS of the approximation error, X-W H.\n",
    "Although this is a non-convex problem, there are good solvers, such as the one supplied in sklearn.\n",
    "\n",
    "The main difference betwen NMF and LSA (where `X \\approx A Vt`) is that NMF gives nonnegative factors `W` and `H`, whereas LSA gives factors with positive and negative values.  Thus, the outputs of NMF are clearly interpretable: the values in the `i`th row vector `W[i,:]` show the strength of the `i`th document across the `R` topics. Likewise, the values in the `j`th column vector `H[:,j]` show the importance of the `j`th term across the `R` topics."
   ]
  },
  {
   "cell_type": "code",
   "execution_count": 19,
   "metadata": {},
   "outputs": [
    {
     "name": "stderr",
     "output_type": "stream",
     "text": [
      "/Users/schniter.1/anaconda3/envs/default/lib/python3.8/site-packages/sklearn/decomposition/_nmf.py:312: FutureWarning: The 'init' value, when 'init=None' and n_components is less than n_samples and n_features, will be changed from 'nndsvd' to 'nndsvda' in 1.1 (renaming of 0.26).\n",
      "  warnings.warn((\"The 'init' value, when 'init=None' and \"\n"
     ]
    },
    {
     "data": {
      "text/plain": [
       "(4, 38777)"
      ]
     },
     "execution_count": 19,
     "metadata": {},
     "output_type": "execute_result"
    }
   ],
   "source": [
    "import sklearn.decomposition\n",
    "\n",
    "n_nmf = true_k\n",
    "nmf = sklearn.decomposition.NMF(n_components=n_nmf, random_state=1)\n",
    "W = nmf.fit_transform(X)\n",
    "H = nmf.components_\n",
    "H.shape"
   ]
  },
  {
   "cell_type": "markdown",
   "metadata": {},
   "source": [
    "Let's print the top terms in each of the NMF term components"
   ]
  },
  {
   "cell_type": "code",
   "execution_count": 20,
   "metadata": {},
   "outputs": [
    {
     "name": "stdout",
     "output_type": "stream",
     "text": [
      "NMF 0: god jesus people believe bible christian don religion edu com\n",
      "NMF 1: graphics image thanks file files format program gif images ftp\n",
      "NMF 2: space nasa edu shuttle orbit launch moon writes earth article\n",
      "NMF 3: objective morality moral edu livesey frank writes keith cobb values\n"
     ]
    }
   ],
   "source": [
    "H_sort = H.argsort()[:, ::-1]\n",
    "for k in range(n_nmf):\n",
    "    print(\"NMF %d:\" % k, end='')\n",
    "    for ind in H_sort[k, :10]:\n",
    "        print(' %s' % terms[ind], end='')\n",
    "    print()"
   ]
  },
  {
   "cell_type": "markdown",
   "metadata": {},
   "source": [
    "Qualitatively, we can see that NMF does a decent job of clustering the religious terms, graphics terms, and space terms together.\n",
    "In fact, it seemed to be able to discern `alt.atheism` terms like `morality`, `moral`, `think`, `objective` from the `talk.religion.misc` terms like `god`, `jesus`, `christian`, `bible`.\n",
    "\n",
    "To get a more quantitative view, we can do hard document clustering by assigning the `i`th document to the index in `W[i,:]` with the largest value.  One we have clustered all of the documents, we can compute the confusion matrix, as before."
   ]
  },
  {
   "cell_type": "code",
   "execution_count": 21,
   "metadata": {},
   "outputs": [
    {
     "name": "stdout",
     "output_type": "stream",
     "text": [
      "[[0.508 0.012 0.043 0.653]\n",
      " [0.014 0.926 0.047 0.035]\n",
      " [0.012 0.047 0.85  0.04 ]\n",
      " [0.467 0.016 0.059 0.273]]\n"
     ]
    }
   ],
   "source": [
    "labelnmf = np.argmax(W,axis=1)\n",
    "Cnmf = confusion_matrix(labels,labelnmf,normalize='pred')\n",
    "with np.printoptions(precision=3, suppress=True):\n",
    "    print(Cnmf)"
   ]
  },
  {
   "cell_type": "markdown",
   "metadata": {},
   "source": [
    "From the confusion matrix, we see that NMF did a good job of clustering the `comp.graphics` and `sci.space` posts.  The posts from `alt.atheism` and `talk.religion.misc` were mixed together in the first and last clusters, which is not surprising the overlap between these topics.  But NMF did a better job of separating them than k-means did: the last NMF cluster is about 2/3 populated with `alt.atheism`.  Also, remember that k-means produced one cluster that didn't correspond to any newsgroup topic."
   ]
  },
  {
   "cell_type": "code",
   "execution_count": null,
   "metadata": {},
   "outputs": [],
   "source": []
  }
 ],
 "metadata": {
  "anaconda-cloud": {},
  "kernelspec": {
   "display_name": "Python 3",
   "language": "python",
   "name": "python3"
  },
  "language_info": {
   "codemirror_mode": {
    "name": "ipython",
    "version": 3
   },
   "file_extension": ".py",
   "mimetype": "text/x-python",
   "name": "python",
   "nbconvert_exporter": "python",
   "pygments_lexer": "ipython3",
   "version": "3.8.8"
  },
  "varInspector": {
   "cols": {
    "lenName": 16,
    "lenType": 16,
    "lenVar": 40
   },
   "kernels_config": {
    "python": {
     "delete_cmd_postfix": "",
     "delete_cmd_prefix": "del ",
     "library": "var_list.py",
     "varRefreshCmd": "print(var_dic_list())"
    },
    "r": {
     "delete_cmd_postfix": ") ",
     "delete_cmd_prefix": "rm(",
     "library": "var_list.r",
     "varRefreshCmd": "cat(var_dic_list()) "
    }
   },
   "position": {
    "height": "574px",
    "left": "844px",
    "right": "-19px",
    "top": "58px",
    "width": "378px"
   },
   "types_to_exclude": [
    "module",
    "function",
    "builtin_function_or_method",
    "instance",
    "_Feature"
   ],
   "window_display": false
  }
 },
 "nbformat": 4,
 "nbformat_minor": 1
}
