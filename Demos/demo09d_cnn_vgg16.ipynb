{
 "cells": [
  {
   "cell_type": "markdown",
   "metadata": {},
   "source": [
    "# Demo: Exploring the VGG16 Networks\n",
    "\n",
    "State-of-the-art deep networks have millions of parameters and often takes days to train, even with clusters of high-power GPUs. Unless you have time and lots of cloud credits to burn, reproducing these results is not possible. Fortunately, the `torchvision` package has many excellent *pre-trained* networks that achieve state-of-the-art performance.  By *pre-trained*, we mean that the weights have already been trained and you can just load the network and weights.  We can then use these networks for image predictions and other research problems.\n",
    "\n",
    "In this demo, we will explore one of many possible state-of-the-art pre-trained deep networks in the `torchvision` package: VGG16.  The VGG16 network was first described in the paper:\n",
    "\n",
    "> Karen Simonyan, Andrew Zisserman, [Very Deep Convolutional Networks for Large-Scale Image Recognition](https://arxiv.org/abs/1409.1556), arxiv 2014\n",
    "\n",
    "The network was produced by the [Visual Geometry Group](http://www.robots.ox.ac.uk/~vgg/research/very_deep/) at Oxford University and obtained first and second place in the ImageNet 2014 challenge.\n",
    "\n",
    "In this demo, you will see how to:\n",
    "* Load a pre-trained network in the `torchvision` package\n",
    "* Make predictions on new images with the network\n",
    "* Obtain outputs of intermediate layers."
   ]
  },
  {
   "cell_type": "markdown",
   "metadata": {},
   "source": [
    "## Loading the Network\n",
    "\n",
    "We first load the `torch` package. "
   ]
  },
  {
   "cell_type": "code",
   "execution_count": 1,
   "metadata": {
    "scrolled": true
   },
   "outputs": [],
   "source": [
    "import torch"
   ]
  },
  {
   "cell_type": "markdown",
   "metadata": {},
   "source": [
    "Then, we import some other standard packages"
   ]
  },
  {
   "cell_type": "code",
   "execution_count": 2,
   "metadata": {},
   "outputs": [],
   "source": [
    "from scipy import misc\n",
    "import numpy as np\n",
    "import matplotlib.pyplot as plt\n",
    "%matplotlib inline"
   ]
  },
  {
   "cell_type": "markdown",
   "metadata": {},
   "source": [
    "Next, we load `torchvision.models`, which contains the the VGG16 pretrained network.  A complete list of the pre-trained networks available are given on the [torchvision.models](https://pytorch.org/docs/stable/torchvision/models.html) page."
   ]
  },
  {
   "cell_type": "code",
   "execution_count": 3,
   "metadata": {},
   "outputs": [],
   "source": [
    "# Load appropriate packages\n",
    "import torchvision.models as models"
   ]
  },
  {
   "cell_type": "markdown",
   "metadata": {},
   "source": [
    "We now download the model with the pre-trained weights.  This can several minutes if you have not downloaded it before, since it will fetch the `.pth` model description file from PyTorch's server.  Note the file is very large, about 500 MB.  So, make sure you have disk space.  If not, consider doing this in the cloud, for example, on Google Cloud Platform."
   ]
  },
  {
   "cell_type": "code",
   "execution_count": 4,
   "metadata": {
    "scrolled": true
   },
   "outputs": [],
   "source": [
    "model = models.vgg16(pretrained=True)"
   ]
  },
  {
   "cell_type": "markdown",
   "metadata": {},
   "source": [
    "We now print the entries in the model's `state_dict` in order to see how the different layers are constructed.\n",
    "As seen below, there are sections to the network: a `features` section, an `avgpool` section, and a `classifier` section.  The `features` and `classifier` sections are a sequence of several modules."
   ]
  },
  {
   "cell_type": "code",
   "execution_count": 5,
   "metadata": {},
   "outputs": [
    {
     "name": "stdout",
     "output_type": "stream",
     "text": [
      "VGG(\n",
      "  (features): Sequential(\n",
      "    (0): Conv2d(3, 64, kernel_size=(3, 3), stride=(1, 1), padding=(1, 1))\n",
      "    (1): ReLU(inplace=True)\n",
      "    (2): Conv2d(64, 64, kernel_size=(3, 3), stride=(1, 1), padding=(1, 1))\n",
      "    (3): ReLU(inplace=True)\n",
      "    (4): MaxPool2d(kernel_size=2, stride=2, padding=0, dilation=1, ceil_mode=False)\n",
      "    (5): Conv2d(64, 128, kernel_size=(3, 3), stride=(1, 1), padding=(1, 1))\n",
      "    (6): ReLU(inplace=True)\n",
      "    (7): Conv2d(128, 128, kernel_size=(3, 3), stride=(1, 1), padding=(1, 1))\n",
      "    (8): ReLU(inplace=True)\n",
      "    (9): MaxPool2d(kernel_size=2, stride=2, padding=0, dilation=1, ceil_mode=False)\n",
      "    (10): Conv2d(128, 256, kernel_size=(3, 3), stride=(1, 1), padding=(1, 1))\n",
      "    (11): ReLU(inplace=True)\n",
      "    (12): Conv2d(256, 256, kernel_size=(3, 3), stride=(1, 1), padding=(1, 1))\n",
      "    (13): ReLU(inplace=True)\n",
      "    (14): Conv2d(256, 256, kernel_size=(3, 3), stride=(1, 1), padding=(1, 1))\n",
      "    (15): ReLU(inplace=True)\n",
      "    (16): MaxPool2d(kernel_size=2, stride=2, padding=0, dilation=1, ceil_mode=False)\n",
      "    (17): Conv2d(256, 512, kernel_size=(3, 3), stride=(1, 1), padding=(1, 1))\n",
      "    (18): ReLU(inplace=True)\n",
      "    (19): Conv2d(512, 512, kernel_size=(3, 3), stride=(1, 1), padding=(1, 1))\n",
      "    (20): ReLU(inplace=True)\n",
      "    (21): Conv2d(512, 512, kernel_size=(3, 3), stride=(1, 1), padding=(1, 1))\n",
      "    (22): ReLU(inplace=True)\n",
      "    (23): MaxPool2d(kernel_size=2, stride=2, padding=0, dilation=1, ceil_mode=False)\n",
      "    (24): Conv2d(512, 512, kernel_size=(3, 3), stride=(1, 1), padding=(1, 1))\n",
      "    (25): ReLU(inplace=True)\n",
      "    (26): Conv2d(512, 512, kernel_size=(3, 3), stride=(1, 1), padding=(1, 1))\n",
      "    (27): ReLU(inplace=True)\n",
      "    (28): Conv2d(512, 512, kernel_size=(3, 3), stride=(1, 1), padding=(1, 1))\n",
      "    (29): ReLU(inplace=True)\n",
      "    (30): MaxPool2d(kernel_size=2, stride=2, padding=0, dilation=1, ceil_mode=False)\n",
      "  )\n",
      "  (avgpool): AdaptiveAvgPool2d(output_size=(7, 7))\n",
      "  (classifier): Sequential(\n",
      "    (0): Linear(in_features=25088, out_features=4096, bias=True)\n",
      "    (1): ReLU(inplace=True)\n",
      "    (2): Dropout(p=0.5, inplace=False)\n",
      "    (3): Linear(in_features=4096, out_features=4096, bias=True)\n",
      "    (4): ReLU(inplace=True)\n",
      "    (5): Dropout(p=0.5, inplace=False)\n",
      "    (6): Linear(in_features=4096, out_features=1000, bias=True)\n",
      "  )\n",
      ")\n"
     ]
    }
   ],
   "source": [
    "print(str(model))"
   ]
  },
  {
   "cell_type": "markdown",
   "metadata": {},
   "source": [
    "## Loading Test Images"
   ]
  },
  {
   "cell_type": "markdown",
   "metadata": {},
   "source": [
    "We illustrate the network on a test set of elephant images.  We will assume that we have 10 images, which are stored in a directory as follows:\n",
    "\n",
    "    test/elephant/elephant_0000.jpg\n",
    "    test/elephant/elephant_0001.jpg\n",
    "    ...\n",
    "    test/elephant/elephant_0009.jpg\n",
    "    \n",
    "Each image should be color, but can have any shape.  You can follow [demo_cnn_flickr](../Demos/demo_cnn_flickr.ipynb) to create this dataset.\n",
    "\n",
    "We will create a batch of these images using PyTorch's [ImageFolder](https://pytorch.org/docs/stable/torchvision/datasets.html?highlight=image%20folder#torchvision.datasets.ImageFolder) tool (which expects a directory structure of the form above) to load and transform the data, and then creating a DataLoader to batch the data, as before."
   ]
  },
  {
   "cell_type": "code",
   "execution_count": 6,
   "metadata": {},
   "outputs": [],
   "source": [
    "from torchvision.datasets import ImageFolder\n",
    "import torchvision.transforms as transforms\n",
    "\n",
    "# Create a transformation that converts to a tensor then and crops to a desired size (we'll do 224x224)\n",
    "crop = transforms.CenterCrop(224)\n",
    "transform = transforms.Compose([crop, transforms.ToTensor()])\n",
    "# Create a DataSet, using our transform and folder\n",
    "dataset = ImageFolder(root='test', transform=transform)\n",
    "# Create a DataLoader, given a desired batch size\n",
    "batch_size = 10\n",
    "loader = torch.utils.data.DataLoader(dataset, batch_size=batch_size)"
   ]
  },
  {
   "cell_type": "markdown",
   "metadata": {},
   "source": [
    "Then, we load a batch of images using the data loader"
   ]
  },
  {
   "cell_type": "code",
   "execution_count": 7,
   "metadata": {},
   "outputs": [],
   "source": [
    "x, y = next(iter(loader))"
   ]
  },
  {
   "cell_type": "markdown",
   "metadata": {},
   "source": [
    "We now display a few of the images.  Some images may look unnatural due to cropping."
   ]
  },
  {
   "cell_type": "code",
   "execution_count": 8,
   "metadata": {},
   "outputs": [
    {
     "data": {
      "image/png": "[encoded data removed]",
      "text/plain": [
       "<Figure size 432x288 with 1 Axes>"
      ]
     },
     "metadata": {},
     "output_type": "display_data"
    }
   ],
   "source": [
    "from torchvision.utils import make_grid\n",
    "\n",
    "%matplotlib inline\n",
    "def show(img):\n",
    "    npimg = img.numpy()\n",
    "    plt.imshow(np.transpose(npimg, (1,2,0)), interpolation='nearest')\n",
    "    \n",
    "    # Remove axis ticks\n",
    "    plt.xticks([])\n",
    "    plt.yticks([])\n",
    "\n",
    "show(make_grid(x[0:8,:,:,:]))"
   ]
  },
  {
   "cell_type": "markdown",
   "metadata": {},
   "source": [
    "## Making Predictions on the Images\n",
    "\n",
    "Now that we have created a batch of images, we can use the network to make predictions on the object class.  First, the images must be normalized. If we weren't displaying the original images as above, we would add this normalization step into the `transform` used to create the DataSet."
   ]
  },
  {
   "cell_type": "code",
   "execution_count": 9,
   "metadata": {},
   "outputs": [],
   "source": [
    "# This normalization transform is standard for imagenet problems\n",
    "normalize = transforms.Normalize(\n",
    "   mean=[0.485, 0.456, 0.406],\n",
    "   std=[0.229, 0.224, 0.225]\n",
    ")\n",
    "\n",
    "for i in range(batch_size):\n",
    "    x[i,:,:,:] = normalize(x[i,:,:,:])"
   ]
  },
  {
   "cell_type": "markdown",
   "metadata": {},
   "source": [
    "We then run the images through the network to make the predictions. We will need to load a dictionary to decode the output."
   ]
  },
  {
   "cell_type": "code",
   "execution_count": null,
   "metadata": {},
   "outputs": [],
   "source": [
    "import requests\n",
    "import torch.nn as nn\n",
    "\n",
    "# compute model predictions for images in batch x\n",
    "model.eval()\n",
    "with torch.no_grad():\n",
    "    output = model(x)\n",
    "    output = nn.functional.softmax(output, dim=1)\n",
    "\n",
    "# Get label dictionary (code from https://sparrow.dev/pytorch-quick-start-classifying-an-image/)\n",
    "LABELS_URL = 'https://jbencook.s3.amazonaws.com/pytorch-quick-start/labels.json'\n",
    "labels = {int(key):value for (key, value)\n",
    "          in requests.get(LABELS_URL).json().items()}\n",
    "\n",
    "# Compute top 3 categories\n",
    "ntop = 3  \n",
    "top3_pct, top3_idx = output.topk(ntop)\n",
    "top3_pct = top3_pct.numpy()\n",
    "top3_idx = top3_idx.numpy()\n",
    "\n",
    "# Extract class strings\n",
    "top3_cat = np.chararray([batch_size,ntop],itemsize=15)\n",
    "for item in range(batch_size):\n",
    "    for k in range(ntop):\n",
    "        top3_cat[item, k] = labels[top3_idx[item,k]]"
   ]
  },
  {
   "cell_type": "markdown",
   "metadata": {},
   "source": [
    "For each image in the batch, the matrix `top3_idx` contains the indices of the top 3 predicted classes, the matrix `top3_pct` contains the corresponding confidences (in percent), and `top3_cat` contains the corresponding class strings.\n",
    "\n",
    "We display the decoded results as a pandas dataframe. "
   ]
  },
  {
   "cell_type": "code",
   "execution_count": null,
   "metadata": {},
   "outputs": [],
   "source": [
    "import pandas as pd\n",
    "\n",
    "res_dict = {}\n",
    "for i in range(ntop):\n",
    "    class_name = []\n",
    "    class_prob = []\n",
    "    for j in range(batch_size):\n",
    "        class_name.append(top3_cat[j,i])\n",
    "        class_prob.append(top3_pct[j,i])\n",
    "\n",
    "    name_col = str('class %d' % i)\n",
    "    prob_col = str('prob %d' % i)\n",
    "    res_dict[name_col] = class_name\n",
    "    res_dict[prob_col] = class_prob\n",
    "        \n",
    "df = pd.DataFrame(data=res_dict)\n",
    "\n",
    "for i in range(ntop):\n",
    "    name_col = str('class %d' % i)\n",
    "    df[name_col] = df[name_col].str.decode('utf-8') # avoid ugly bytestring stuff\n",
    "\n",
    "df"
   ]
  },
  {
   "cell_type": "markdown",
   "metadata": {
    "collapsed": true
   },
   "source": [
    "## Get Intermediate Outputs\n",
    "\n",
    "It is often useful to look at the outputs of intermediate layers.  This is easily done in `pytorch`.  Suppose we want to look at the outputs of `fc1` and `block4_conv2`.  Then, we create a new model, `model_int` with these two outputs as follows:"
   ]
  },
  {
   "cell_type": "code",
   "execution_count": null,
   "metadata": {},
   "outputs": [],
   "source": [
    "# see https://discuss.pytorch.org/t/how-to-extract-features-of-an-image-from-a-trained-model/119/12\n",
    "class FeatureExtractor(nn.Module):\n",
    "    def __init__(self, model, feature_layers, classifier_layers):\n",
    "        super(FeatureExtractor,self).__init__()\n",
    "        self.model = model\n",
    "        self.feature_layers = feature_layers\n",
    "        self.classifier_layers = classifier_layers\n",
    "\n",
    "    def forward(self, x):\n",
    "        feature_outputs = []\n",
    "        classifier_outputs = []\n",
    "        # feature modules\n",
    "        for name, module in self.model.features._modules.items():\n",
    "            x = module(x)\n",
    "            if name in self.feature_layers:\n",
    "                feature_outputs += [x]\n",
    "        \n",
    "        # avgpool module (used to deal with image size different from 224x224 pixels)\n",
    "        x = self.model.avgpool(x)\n",
    "        x = x.view(x.size(0),-1) # flatten\n",
    "        \n",
    "        # classifier modules\n",
    "        for name, module in self.model.classifier._modules.items():\n",
    "            x = module(x)\n",
    "            if name in self.classifier_layers:\n",
    "                classifier_outputs += [x]\n",
    "                \n",
    "        return x, feature_outputs, classifier_outputs"
   ]
  },
  {
   "cell_type": "markdown",
   "metadata": {},
   "source": [
    "Now we can create a model that will save intermediate layers"
   ]
  },
  {
   "cell_type": "code",
   "execution_count": null,
   "metadata": {},
   "outputs": [],
   "source": [
    "feature_module_list = ['20'] # this is the activation after the 9th conv layer (see str(model) above)\n",
    "classifier_module_list = ['2'] # this is the activation after the first fully connected layer\n",
    "activation_extractor_model = FeatureExtractor(model, feature_module_list, classifier_module_list)\n",
    "activation_extractor_model.eval()\n",
    "with torch.no_grad():\n",
    "    out, y_feat, y_class = activation_extractor_model(x)"
   ]
  },
  {
   "cell_type": "markdown",
   "metadata": {},
   "source": [
    "The output `y` is a list with two outputs -- one for each layer.  We print the CDF of the output of the values from each layer.  We observe a key feature of the outputs.  More than 75% of the coefficients are zero, meaning that deep network creates *sparse* representations."
   ]
  },
  {
   "cell_type": "code",
   "execution_count": null,
   "metadata": {},
   "outputs": [],
   "source": [
    "y1 = np.sort(y_feat[0].cpu().numpy().ravel())\n",
    "n1 = len(y1)\n",
    "\n",
    "plt.subplot(1,2,1)\n",
    "plt.plot(np.arange(n1)/n1, y1[::-1])\n",
    "plt.title('feature module' + feature_module_list[0])\n",
    "\n",
    "y2 = np.sort(y_class[0].cpu().numpy().ravel())\n",
    "n2 = len(y2)\n",
    "\n",
    "plt.subplot(1,2,2)\n",
    "plt.plot(np.arange(n2)/n2, y2[::-1])\n",
    "plt.title('classifier module' + classifier_module_list[0])\n",
    "    \n"
   ]
  },
  {
   "cell_type": "markdown",
   "metadata": {},
   "source": [
    "## Visualize the output channels of different feature layers\n",
    "\n",
    "From a list of layers that we'd like to inspect, we extract the outputs using the function created above."
   ]
  },
  {
   "cell_type": "code",
   "execution_count": null,
   "metadata": {},
   "outputs": [],
   "source": [
    "feature_module_list = ['1', '4', '9', '16', '23', '30'] # List of modules to inspect\n",
    "classifier_module_list = [] # We will only look at the above feature modules\n",
    "activation_extractor_model = FeatureExtractor(model, feature_module_list, classifier_module_list)\n",
    "activation_extractor_model.eval()\n",
    "with torch.no_grad():\n",
    "    out, y_feat, y_class = activation_extractor_model(x)"
   ]
  },
  {
   "cell_type": "markdown",
   "metadata": {},
   "source": [
    "Before plotting the output of each layer, we make a plot function and plot the input to the network (in each color channel)."
   ]
  },
  {
   "cell_type": "code",
   "execution_count": null,
   "metadata": {},
   "outputs": [],
   "source": [
    "# Display a grayscale image\n",
    "def disp_image(im):\n",
    "    plt.imshow(im, cmap='gray')    \n",
    "\n",
    "    # Remove axis ticks\n",
    "    plt.xticks([])\n",
    "    plt.yticks([])\n",
    "\n",
    "plt.figure(figsize=(20,20))\n",
    "nplot = 3\n",
    "for i in range(nplot):    \n",
    "    plt.subplot(1,nplot,i+1)\n",
    "    disp_image(x[-1,i,:,:])\n",
    "    plt.title('original image, channel %d' % (i))"
   ]
  },
  {
   "cell_type": "markdown",
   "metadata": {},
   "source": [
    "Next we go through the extracted layers and plot the first 4 channels of each."
   ]
  },
  {
   "cell_type": "code",
   "execution_count": null,
   "metadata": {},
   "outputs": [],
   "source": [
    "nplot = 4\n",
    "indx = 0\n",
    "print(y_feat[indx].size())"
   ]
  },
  {
   "cell_type": "code",
   "execution_count": null,
   "metadata": {
    "scrolled": true
   },
   "outputs": [],
   "source": [
    "plt.figure(figsize=(20,20))\n",
    "for i in range(nplot):    \n",
    "    plt.subplot(1,nplot,i+1)\n",
    "    disp_image(y_feat[indx][-1,i,:,:])\n",
    "    plt.title('feature module %s, channel %d' % (feature_module_list[indx],i))"
   ]
  },
  {
   "cell_type": "code",
   "execution_count": null,
   "metadata": {},
   "outputs": [],
   "source": [
    "indx = 1\n",
    "print(y_feat[indx].shape)"
   ]
  },
  {
   "cell_type": "code",
   "execution_count": null,
   "metadata": {},
   "outputs": [],
   "source": [
    "plt.figure(figsize=(20,20))\n",
    "for i in range(nplot):    \n",
    "    plt.subplot(1,nplot,i+1)\n",
    "    disp_image(y_feat[indx][-1,i,:,:])\n",
    "    plt.title('feature module %s, channel %d' % (feature_module_list[indx],i))"
   ]
  },
  {
   "cell_type": "code",
   "execution_count": null,
   "metadata": {},
   "outputs": [],
   "source": [
    "indx = 2\n",
    "print(y_feat[indx].size())"
   ]
  },
  {
   "cell_type": "code",
   "execution_count": null,
   "metadata": {},
   "outputs": [],
   "source": [
    "plt.figure(figsize=(20,20))\n",
    "for i in range(nplot):    \n",
    "    plt.subplot(1,nplot,i+1)\n",
    "    disp_image(y_feat[indx][-1,i,:,:])\n",
    "    plt.title('feature module %s, channel %d' % (feature_module_list[indx],i))"
   ]
  },
  {
   "cell_type": "code",
   "execution_count": null,
   "metadata": {},
   "outputs": [],
   "source": [
    "indx = 3\n",
    "print(y_feat[indx].size())"
   ]
  },
  {
   "cell_type": "code",
   "execution_count": null,
   "metadata": {},
   "outputs": [],
   "source": [
    "plt.figure(figsize=(20,20))\n",
    "for i in range(nplot):    \n",
    "    plt.subplot(1,nplot,i+1)\n",
    "    disp_image(y_feat[indx][-1,i,:,:])\n",
    "    plt.title('feature module %s, channel %d' % (feature_module_list[indx],i))"
   ]
  },
  {
   "cell_type": "code",
   "execution_count": null,
   "metadata": {},
   "outputs": [],
   "source": [
    "indx = 4\n",
    "print(y_feat[indx].size())"
   ]
  },
  {
   "cell_type": "code",
   "execution_count": null,
   "metadata": {},
   "outputs": [],
   "source": [
    "plt.figure(figsize=(20,20))\n",
    "for i in range(nplot):    \n",
    "    plt.subplot(1,nplot,i+1)\n",
    "    disp_image(y_feat[indx][-1,i,:,:])\n",
    "    plt.title('feature module %s, channel %d' % (feature_module_list[indx],i))"
   ]
  },
  {
   "cell_type": "code",
   "execution_count": null,
   "metadata": {},
   "outputs": [],
   "source": [
    "indx = 5\n",
    "print(y_feat[indx].size())"
   ]
  },
  {
   "cell_type": "code",
   "execution_count": null,
   "metadata": {},
   "outputs": [],
   "source": [
    "plt.figure(figsize=(20,20))\n",
    "for i in range(nplot):    \n",
    "    plt.subplot(1,nplot,i+1)\n",
    "    disp_image(y_feat[indx][-1,i,:,:])\n",
    "    plt.title('feature module %s, channel %d' % (feature_module_list[indx],i))"
   ]
  },
  {
   "cell_type": "code",
   "execution_count": null,
   "metadata": {},
   "outputs": [],
   "source": []
  }
 ],
 "metadata": {
  "anaconda-cloud": {},
  "kernelspec": {
   "display_name": "Python 3",
   "language": "python",
   "name": "python3"
  },
  "language_info": {
   "codemirror_mode": {
    "name": "ipython",
    "version": 3
   },
   "file_extension": ".py",
   "mimetype": "text/x-python",
   "name": "python",
   "nbconvert_exporter": "python",
   "pygments_lexer": "ipython3",
   "version": "3.8.8"
  },
  "varInspector": {
   "cols": {
    "lenName": 16,
    "lenType": 16,
    "lenVar": 40
   },
   "kernels_config": {
    "python": {
     "delete_cmd_postfix": "",
     "delete_cmd_prefix": "del ",
     "library": "var_list.py",
     "varRefreshCmd": "print(var_dic_list())"
    },
    "r": {
     "delete_cmd_postfix": ") ",
     "delete_cmd_prefix": "rm(",
     "library": "var_list.r",
     "varRefreshCmd": "cat(var_dic_list()) "
    }
   },
   "position": {
    "height": "567px",
    "left": "857px",
    "right": "25px",
    "top": "138px",
    "width": "348px"
   },
   "types_to_exclude": [
    "module",
    "function",
    "builtin_function_or_method",
    "instance",
    "_Feature"
   ],
   "window_display": false
  }
 },
 "nbformat": 4,
 "nbformat_minor": 2
}
