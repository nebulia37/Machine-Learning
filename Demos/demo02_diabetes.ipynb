{
 "cells": [
  {
   "cell_type": "markdown",
   "metadata": {},
   "source": [
    "# Demo:  Predicting Glucose Levels using Multiple Linear Regression"
   ]
  },
  {
   "cell_type": "markdown",
   "metadata": {},
   "source": [
    "In this demo, you will learn how to:\n",
    "* Fit multiple linear regression models using Python's `sklearn` package.  \n",
    "* Partition data into training and test subsets.\n",
    "* Manipulate and visualize multivariable arrays.\n",
    "\n",
    "We first load the packages, as usual."
   ]
  },
  {
   "cell_type": "code",
   "execution_count": 1,
   "metadata": {},
   "outputs": [],
   "source": [
    "import numpy as np\n",
    "import matplotlib\n",
    "import matplotlib.pyplot as plt\n",
    "%matplotlib inline"
   ]
  },
  {
   "cell_type": "markdown",
   "metadata": {},
   "source": [
    "## Diabetes Data Example\n",
    "To illustrate the concepts, we load the well-known Diabetes dataset.  This dataset is included in the `sklearn.datasets` module and can be loaded as follows."
   ]
  },
  {
   "cell_type": "code",
   "execution_count": 2,
   "metadata": {},
   "outputs": [],
   "source": [
    "from sklearn import datasets, linear_model\n",
    "\n",
    "# Load the diabetes dataset\n",
    "diabetes = datasets.load_diabetes()\n",
    "X = diabetes.data\n",
    "y = diabetes.target"
   ]
  },
  {
   "cell_type": "markdown",
   "metadata": {},
   "source": [
    "The target values `y` represent the progression of the disease after one year, which we wish to predict.  The number of attributes and samples are computed from the shape:"
   ]
  },
  {
   "cell_type": "code",
   "execution_count": 3,
   "metadata": {},
   "outputs": [
    {
     "name": "stdout",
     "output_type": "stream",
     "text": [
      "num samples=442  num attributes=10\n"
     ]
    }
   ],
   "source": [
    "nsamp, natt = X.shape\n",
    "print(\"num samples={0:d}  num attributes={1:d}\".format(nsamp,natt))"
   ]
  },
  {
   "cell_type": "markdown",
   "metadata": {},
   "source": [
    "## Using Simple Linear Regression for Each Feature Individually\n",
    "\n",
    "As a first attempt to predict the disease progression, we could try to predict from *one attribute at a time*.  That is, for each attribute $x_j$, we could attempt to fit a [simple linear regression](../simp_lin_reg/readme.md) model of the form\n",
    "$$\\hat{y} = \\beta_{0,j} + \\beta_{1,j}x_j$$\n",
    "for prediction coefficients $\\beta_{0,j}$ and $\\beta_{1,j}$.\n",
    "\n",
    "Earlier, we saw that the goodness-of-fit in simple linear regression is given by the coefficient-of-determination, $R^2$.\n",
    "Let $R_j^2$ be the coefficient when predicting $y$ from $x_j$, i.e.,\n",
    "$$R^2_j = \\frac{s_{x_j,y}^2}{s_{x_j}^2 s_y^2}.$$\n",
    "The following code computes $R^2_j$ for each variable $j$, as well as the corresponding prediction coefficients $\\beta_{0,j}$ and $\\beta_{1,j}$"
   ]
  },
  {
   "cell_type": "code",
   "execution_count": 4,
   "metadata": {
    "scrolled": true
   },
   "outputs": [
    {
     "name": "stdout",
     "output_type": "stream",
     "text": [
      "j=0 R^2=0.035302 beta0=152.133484 beta1=304.183075\n",
      "j=1 R^2=0.001854 beta0=152.133484 beta1=69.715356\n",
      "j=2 R^2=0.343924 beta0=152.133484 beta1=949.435260\n",
      "j=3 R^2=0.194908 beta0=152.133484 beta1=714.741644\n",
      "j=4 R^2=0.044954 beta0=152.133484 beta1=343.254452\n",
      "j=5 R^2=0.030295 beta0=152.133484 beta1=281.784593\n",
      "j=6 R^2=0.155859 beta0=152.133484 beta1=-639.145279\n",
      "j=7 R^2=0.185290 beta0=152.133484 beta1=696.883030\n",
      "j=8 R^2=0.320224 beta0=152.133484 beta1=916.138723\n",
      "j=9 R^2=0.146294 beta0=152.133484 beta1=619.222821\n"
     ]
    }
   ],
   "source": [
    "ym = np.mean(y)\n",
    "syy = np.mean((y-ym)**2)\n",
    "Rsq = np.zeros(natt)\n",
    "beta0 = np.zeros(natt)\n",
    "beta1 = np.zeros(natt)\n",
    "for j in range(natt):\n",
    "    xm = np.mean(X[:,j])\n",
    "    sxy = np.mean((X[:,j]-xm)*(y-ym))\n",
    "    sxx = np.mean((X[:,j]-xm)**2)\n",
    "    beta1[j] = sxy/sxx\n",
    "    beta0[j] = ym - beta1[j]*xm\n",
    "    Rsq[j] = (sxy)**2/sxx/syy\n",
    "    \n",
    "    print(\"j={0:1d} R^2={1:f} beta0={2:f} beta1={3:f}\".format(j,Rsq[j],beta0[j],beta1[j]))\n",
    "    "
   ]
  },
  {
   "cell_type": "markdown",
   "metadata": {},
   "source": [
    "We see that the best $R^2_j = 0.34$.  This is a somewhat poor fit, as seen in the scatter plot, which shows significant variation from the regression line.\n",
    "Interestingly, we also see that `beta0` remains the same no matter which attribute is used to predict the target;\n",
    "this is because the columns of 'X' have sample mean = zero."
   ]
  },
  {
   "cell_type": "code",
   "execution_count": 5,
   "metadata": {},
   "outputs": [
    {
     "data": {
      "image/png": "[encoded data removed]",
      "text/plain": [
       "<Figure size 432x288 with 1 Axes>"
      ]
     },
     "metadata": {
      "needs_background": "light"
     },
     "output_type": "display_data"
    }
   ],
   "source": [
    "# Find the index of the single variable with the best R^2\n",
    "imax = np.argmax(Rsq)\n",
    "\n",
    "# Regression line over the range of x values\n",
    "xmin = np.min(X[:,imax])\n",
    "xmax = np.max(X[:,imax])\n",
    "ymin = beta0[imax] + beta1[imax]*xmin\n",
    "ymax = beta0[imax] + beta1[imax]*xmax\n",
    "plt.plot([xmin,xmax], [ymin,ymax], 'r-', linewidth=3)\n",
    "\n",
    "# Scatter plot of points\n",
    "plt.scatter(X[:,imax],y)\n",
    "plt.xlabel('Training y: actual')\n",
    "plt.ylabel('Training y: predicted')\n",
    "plt.grid()"
   ]
  },
  {
   "cell_type": "markdown",
   "metadata": {},
   "source": [
    "Note that the calculations above could have been done without a for-loop using Python broadcasting:"
   ]
  },
  {
   "cell_type": "code",
   "execution_count": 6,
   "metadata": {},
   "outputs": [],
   "source": [
    "# Remove the means\n",
    "ym = np.mean(y) \n",
    "y1 = y-ym  # a column vecotor each minus mean\n",
    "Xm = np.mean(X,axis=0) # averaging over column, resulting a row vector of dimension natt\n",
    "X1 = X - Xm[None,:] # minus the same mean in each column\n",
    "\n",
    "# Compute the correlations per features\n",
    "syy = np.mean(y1**2)\n",
    "Sxx = np.mean(X1**2,axis=0) #a row vector with each element indicating the variance of one attribute\n",
    "Sxy = np.mean(X1*y1[:,None],axis=0) #a row vector with each element indicating the covarance on one attribute to the targer\n",
    "\n",
    "# Compute the coefficients and R^2 value per feature\n",
    "beta1 = Sxy/Sxx # element wise division, resulting a row vector containing  beta1 for each attribute\n",
    "beta0 = ym - beta1*Xm # element wise multiplication, resulting a row vector containing beta0 for each attribute\n",
    "Rsq = Sxy**2/Sxx/syy #a row vector containing Rsq for each attribute"
   ]
  },
  {
   "cell_type": "markdown",
   "metadata": {},
   "source": [
    "Let's verify that this gives the same result:"
   ]
  },
  {
   "cell_type": "code",
   "execution_count": 7,
   "metadata": {},
   "outputs": [
    {
     "name": "stdout",
     "output_type": "stream",
     "text": [
      "j=0 R^2=0.035302 beta0=152.133484 beta1=304.183075\n",
      "j=1 R^2=0.001854 beta0=152.133484 beta1=69.715356\n",
      "j=2 R^2=0.343924 beta0=152.133484 beta1=949.435260\n",
      "j=3 R^2=0.194908 beta0=152.133484 beta1=714.741644\n",
      "j=4 R^2=0.044954 beta0=152.133484 beta1=343.254452\n",
      "j=5 R^2=0.030295 beta0=152.133484 beta1=281.784593\n",
      "j=6 R^2=0.155859 beta0=152.133484 beta1=-639.145279\n",
      "j=7 R^2=0.185290 beta0=152.133484 beta1=696.883030\n",
      "j=8 R^2=0.320224 beta0=152.133484 beta1=916.138723\n",
      "j=9 R^2=0.146294 beta0=152.133484 beta1=619.222821\n"
     ]
    }
   ],
   "source": [
    "for j in range(natt):\n",
    "    print(\"j={0:1d} R^2={1:f} beta0={2:f} beta1={3:f}\".format(j,Rsq[j],beta0[j],beta1[j]))"
   ]
  },
  {
   "cell_type": "markdown",
   "metadata": {},
   "source": [
    "## Improvements with a Multiple Variable Linear Model\n",
    "\n",
    "One possible way to try to improve the fit is to predict using multiple attributes.  We can fit the multiple variable linear model using the `sklearn` package.  \n",
    "\n",
    "To to this, we first create a regression object and then fit the data with this regression object."
   ]
  },
  {
   "cell_type": "code",
   "execution_count": 8,
   "metadata": {},
   "outputs": [],
   "source": [
    "regr = linear_model.LinearRegression()\n",
    "regr.fit(X,y);"
   ]
  },
  {
   "cell_type": "markdown",
   "metadata": {},
   "source": [
    "We can print the coefficients as follows. First `beta0`:"
   ]
  },
  {
   "cell_type": "code",
   "execution_count": 9,
   "metadata": {
    "scrolled": true
   },
   "outputs": [
    {
     "data": {
      "text/plain": [
       "152.1334841628965"
      ]
     },
     "execution_count": 9,
     "metadata": {},
     "output_type": "execute_result"
    }
   ],
   "source": [
    "regr.intercept_       "
   ]
  },
  {
   "cell_type": "markdown",
   "metadata": {},
   "source": [
    "and then the remaining `beta` coefficients:"
   ]
  },
  {
   "cell_type": "code",
   "execution_count": 10,
   "metadata": {
    "scrolled": false
   },
   "outputs": [
    {
     "data": {
      "text/plain": [
       "array([ -10.01219782, -239.81908937,  519.83978679,  324.39042769,\n",
       "       -792.18416163,  476.74583782,  101.04457032,  177.06417623,\n",
       "        751.27932109,   67.62538639])"
      ]
     },
     "execution_count": 10,
     "metadata": {},
     "output_type": "execute_result"
    }
   ],
   "source": [
    "regr.coef_                  "
   ]
  },
  {
   "cell_type": "markdown",
   "metadata": {},
   "source": [
    "We next compute RSS/n, a normalized version of RSS, and the $R^2$ value"
   ]
  },
  {
   "cell_type": "code",
   "execution_count": 11,
   "metadata": {},
   "outputs": [
    {
     "name": "stdout",
     "output_type": "stream",
     "text": [
      "R^2 =            0.517749\n"
     ]
    }
   ],
   "source": [
    "y_pred = regr.predict(X)\n",
    "nRSS = np.mean((y_pred-y)**2)\n",
    "Rsq = 1-nRSS/(np.std(y)**2)\n",
    "print(\"R^2 =            {0:f}\".format(Rsq))"
   ]
  },
  {
   "cell_type": "markdown",
   "metadata": {},
   "source": [
    "We see $R^2$ is higher than the best single-variable model.  \n",
    "\n",
    "We also create a scatter plot of predicted vs. actual targets:"
   ]
  },
  {
   "cell_type": "code",
   "execution_count": 12,
   "metadata": {},
   "outputs": [
    {
     "data": {
      "image/png": "[encoded data removed]",
      "text/plain": [
       "<Figure size 432x288 with 1 Axes>"
      ]
     },
     "metadata": {
      "needs_background": "light"
     },
     "output_type": "display_data"
    }
   ],
   "source": [
    "plt.scatter(y,y_pred)\n",
    "plt.plot([0,350],[0,350],'r')\n",
    "plt.xlabel('y: actual')\n",
    "plt.ylabel('y: predicted')\n",
    "plt.grid()"
   ]
  },
  {
   "cell_type": "markdown",
   "metadata": {},
   "source": [
    "## Manually computing the coefficients"
   ]
  },
  {
   "cell_type": "markdown",
   "metadata": {},
   "source": [
    "We can manually compute the regression coefficients using the least-squares matrix formulas given in class.  Using the `sklearn` package is easier, but it helps to know what is happening \"under the hood\" of sklearn's linear regression routine. \n",
    "\n",
    "To compute the coefficients manually, we first construct the matrix $\\mathbf{A} = [ \\mathbf{1} ~ \\mathbf{X} ]$.  This is performed with the `ones` command and `hstack`.  Note that after we do this, `A` has 11 columns -- one more column that the data matrix `X`."
   ]
  },
  {
   "cell_type": "code",
   "execution_count": 13,
   "metadata": {},
   "outputs": [
    {
     "data": {
      "text/plain": [
       "(442, 11)"
      ]
     },
     "execution_count": 13,
     "metadata": {},
     "output_type": "execute_result"
    }
   ],
   "source": [
    "ones = np.ones((nsamp,1))\n",
    "A = np.hstack((ones,X))\n",
    "A.shape"
   ]
  },
  {
   "cell_type": "markdown",
   "metadata": {},
   "source": [
    "We next use the `lstsq` method to solve $\\mathbf{y} \\approx \\mathbf{A}\\boldsymbol{\\beta}$ for $\\boldsymbol{\\beta}$.  This will find the desired least-squares fit. The command actually returns several quantities (the coefficients, the residuals, the rank of A, the singular values of A), but we are only interested in the coefficients, so we extract that using `out[0]`:"
   ]
  },
  {
   "cell_type": "code",
   "execution_count": 14,
   "metadata": {},
   "outputs": [],
   "source": [
    "out = np.linalg.lstsq(A,y,rcond=None)\n",
    "beta = out[0]"
   ]
  },
  {
   "cell_type": "markdown",
   "metadata": {},
   "source": [
    "We print the coefficients as follows:"
   ]
  },
  {
   "cell_type": "code",
   "execution_count": 15,
   "metadata": {},
   "outputs": [
    {
     "data": {
      "text/plain": [
       "array([ 152.13348416,  -10.01219782, -239.81908937,  519.83978679,\n",
       "        324.39042769, -792.18416163,  476.74583782,  101.04457032,\n",
       "        177.06417623,  751.27932109,   67.62538639])"
      ]
     },
     "execution_count": 15,
     "metadata": {},
     "output_type": "execute_result"
    }
   ],
   "source": [
    "beta"
   ]
  },
  {
   "cell_type": "markdown",
   "metadata": {},
   "source": [
    "We see that `beta[0]` matches the intercept from `regr.intercept_` above and `beta[1:]` matches the remainder of the coefficients in `regr.coef_` above."
   ]
  },
  {
   "cell_type": "markdown",
   "metadata": {},
   "source": [
    "Now let us verify that these results are the same as what we get with direct matrix inversion:"
   ]
  },
  {
   "cell_type": "code",
   "execution_count": 16,
   "metadata": {},
   "outputs": [],
   "source": [
    "Am=np.matrix(A)\n",
    "ym=np.matrix(y)\n",
    "ym=np.transpose(ym)\n",
    "Amt=np.transpose(Am)"
   ]
  },
  {
   "cell_type": "code",
   "execution_count": 17,
   "metadata": {},
   "outputs": [],
   "source": [
    "beta=np.linalg.inv(Amt*Am)*Amt*ym"
   ]
  },
  {
   "cell_type": "code",
   "execution_count": 18,
   "metadata": {},
   "outputs": [
    {
     "data": {
      "text/plain": [
       "matrix([[ 152.13348416],\n",
       "        [ -10.01219782],\n",
       "        [-239.81908937],\n",
       "        [ 519.83978679],\n",
       "        [ 324.39042769],\n",
       "        [-792.18416163],\n",
       "        [ 476.74583782],\n",
       "        [ 101.04457032],\n",
       "        [ 177.06417623],\n",
       "        [ 751.27932109],\n",
       "        [  67.62538639]])"
      ]
     },
     "execution_count": 18,
     "metadata": {},
     "output_type": "execute_result"
    }
   ],
   "source": [
    "beta"
   ]
  },
  {
   "cell_type": "markdown",
   "metadata": {},
   "source": [
    "We see that the two methods agree."
   ]
  },
  {
   "cell_type": "markdown",
   "metadata": {},
   "source": [
    "## Cross-validation using Test Data\n",
    "\n",
    "As we will explain in the next lab, one should not evaluate the performance of a model on the data on which it is trained.  It is important to see how the model works on *new* data that is independent of the training data set.  For this reason, we will *train* the model on one subset of data samples and *test* the model on a different set of samples.  Below, we will use `ns_test=300` samples for training and the remaining `ns_test=442-300=142` for testing.\n",
    "\n",
    "First, we partition the data into the two subsets:"
   ]
  },
  {
   "cell_type": "code",
   "execution_count": 19,
   "metadata": {},
   "outputs": [],
   "source": [
    "ns_train = 300\n",
    "ns_test = nsamp - ns_train\n",
    "X_tr = X[:ns_train,:]     # Extracts the first ns_train rows of X\n",
    "y_tr = y[:ns_train]       # Extracts the corresponding rows of y\n",
    "X_test = X[ns_train:,:]\n",
    "y_test = y[ns_train:]"
   ]
  },
  {
   "cell_type": "markdown",
   "metadata": {},
   "source": [
    "Next we fit the model on the training data and predict the test targets using the test features.  For comparison, we will also predict the training targets using the training features.  Then we compute the RSS/n and $R^2$ for both sets of predictions."
   ]
  },
  {
   "cell_type": "code",
   "execution_count": 22,
   "metadata": {},
   "outputs": [
    {
     "name": "stdout",
     "output_type": "stream",
     "text": [
      "R^2_tr   =            0.514719\n",
      "R^2_test =            0.507199\n"
     ]
    }
   ],
   "source": [
    "regr.fit(X_tr,y_tr)\n",
    "\n",
    "y_tr_pred = regr.predict(X_tr)\n",
    "RSS_tr = np.sum((y_tr_pred-y_tr)**2)\n",
    "Rsq_tr = 1-RSS_tr/ns_train/(np.std(y_tr)**2)\n",
    "print(\"R^2_tr   =            {0:f}\".format(Rsq_tr))\n",
    "\n",
    "y_test_pred = regr.predict(X_test)\n",
    "RSS_test = np.sum((y_test_pred-y_test)**2)\n",
    "Rsq_test = 1-RSS_test/ns_test/(np.std(y_test)**2)\n",
    "print(\"R^2_test =            {0:f}\".format(Rsq_test))"
   ]
  },
  {
   "cell_type": "markdown",
   "metadata": {},
   "source": [
    "As we would expect, the performance of the trained model is a bit higher on the training data than on the test data.\n",
    "\n",
    "Keep in mind that the least-squares coefficients should never give a negative $R^2$ on the training data, but it *is* possible for them to give a negative $R^2$ on the test data."
   ]
  },
  {
   "cell_type": "code",
   "execution_count": null,
   "metadata": {},
   "outputs": [],
   "source": []
  }
 ],
 "metadata": {
  "anaconda-cloud": {},
  "kernelspec": {
   "display_name": "Python 3",
   "language": "python",
   "name": "python3"
  },
  "language_info": {
   "codemirror_mode": {
    "name": "ipython",
    "version": 3
   },
   "file_extension": ".py",
   "mimetype": "text/x-python",
   "name": "python",
   "nbconvert_exporter": "python",
   "pygments_lexer": "ipython3",
   "version": "3.8.8"
  },
  "varInspector": {
   "cols": {
    "lenName": 16,
    "lenType": 16,
    "lenVar": 40
   },
   "kernels_config": {
    "python": {
     "delete_cmd_postfix": "",
     "delete_cmd_prefix": "del ",
     "library": "var_list.py",
     "varRefreshCmd": "print(var_dic_list())"
    },
    "r": {
     "delete_cmd_postfix": ") ",
     "delete_cmd_prefix": "rm(",
     "library": "var_list.r",
     "varRefreshCmd": "cat(var_dic_list()) "
    }
   },
   "types_to_exclude": [
    "module",
    "function",
    "builtin_function_or_method",
    "instance",
    "_Feature"
   ],
   "window_display": false
  }
 },
 "nbformat": 4,
 "nbformat_minor": 1
}
