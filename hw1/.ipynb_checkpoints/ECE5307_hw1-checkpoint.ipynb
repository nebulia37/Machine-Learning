{
 "cells": [
  {
   "cell_type": "code",
   "execution_count": 16,
   "metadata": {},
   "outputs": [
    {
     "data": {
      "text/plain": [
       "[<matplotlib.lines.Line2D at 0x1a1aafc650>]"
      ]
     },
     "execution_count": 16,
     "metadata": {},
     "output_type": "execute_result"
    },
    {
     "data": {
      "image/png": "[encoded data removed]",
      "text/plain": [
       "<Figure size 432x288 with 1 Axes>"
      ]
     },
     "metadata": {
      "needs_background": "light"
     },
     "output_type": "display_data"
    }
   ],
   "source": [
    "import numpy as np\n",
    "import pandas as pd\n",
    "import matplotlib\n",
    "import matplotlib.pyplot as plt\n",
    "import seaborn as sns\n",
    "\n",
    "data2 = pd.read_csv('data2.txt', header=0, sep=\"\\t\")\n",
    "x = np.array(data2['x'])\n",
    "y = np.array(data2['y'])\n",
    "xm = np.mean(x)\n",
    "ym = np.mean(y)\n",
    "sxx = np.mean((x-xm)**2)\n",
    "syy = np.mean((y-ym)**2)\n",
    "sxy = np.mean((x-xm)*(y-ym))\n",
    "beta1 = sxy/sxx\n",
    "beta0 = ym - beta1*xm\n",
    "Rsq = sxy**2/sxx/syy\n",
    "plt.plot(data2['x'],data2['y'],'o')\n",
    "m, b = np.polyfit(x,y,1)\n",
    "plt.plot(x, m*x+b, color='red')\n",
    "#sns.regplot(x, y, ci=None)"
   ]
  },
  {
   "cell_type": "markdown",
   "metadata": {},
   "source": [
    "### (a) the sample mean xm is "
   ]
  },
  {
   "cell_type": "markdown",
   "metadata": {},
   "source": [
    "### (b) sample variance sxx is , syy is , co-variance sxy is"
   ]
  },
  {
   "cell_type": "markdown",
   "metadata": {},
   "source": [
    "### (c) least-squares parameters beta0 is , beta1 is"
   ]
  },
  {
   "cell_type": "markdown",
   "metadata": {},
   "source": [
    "### (d) plot the scatterplot and the regression line:"
   ]
  },
  {
   "cell_type": "markdown",
   "metadata": {},
   "source": [
    "### (e) R2 for the LS linear model is "
   ]
  },
  {
   "cell_type": "markdown",
   "metadata": {},
   "source": [
    "### (f) No "
   ]
  },
  {
   "cell_type": "code",
   "execution_count": 14,
   "metadata": {},
   "outputs": [
    {
     "data": {
      "text/plain": [
       "-0.19999999999999996"
      ]
     },
     "execution_count": 14,
     "metadata": {},
     "output_type": "execute_result"
    }
   ],
   "source": [
    "beta1 = sxy/sxx\n",
    "beta0 = ym - beta1*xm\n",
    "Rsq = sxy**2/sxx/syy"
   ]
  },
  {
   "cell_type": "code",
   "execution_count": 18,
   "metadata": {},
   "outputs": [
    {
     "name": "stdout",
     "output_type": "stream",
     "text": [
      "0.694480750399907\n"
     ]
    }
   ],
   "source": [
    "from scipy.stats import linregress\n",
    "import numpy as np\n",
    "\n",
    "\n",
    "p3 = np.polyfit(x,y,3) # 3rd degree polynomial, you can change it to any degree you want\n",
    "xp = np.linspace(1,5,5)  # 5 means the length of the line\n",
    "poly_arr = np.polyval(p3,xp)\n",
    "\n",
    "poly_list = [round(num, 3) for num in list(poly_arr)]\n",
    "slope, intercept, r_value, p_value, std_err = linregress(x, poly_list)\n",
    "print(r_value**2)"
   ]
  },
  {
   "cell_type": "code",
   "execution_count": null,
   "metadata": {},
   "outputs": [],
   "source": []
  }
 ],
 "metadata": {
  "kernelspec": {
   "display_name": "Python 3",
   "language": "python",
   "name": "python3"
  },
  "language_info": {
   "codemirror_mode": {
    "name": "ipython",
    "version": 3
   },
   "file_extension": ".py",
   "mimetype": "text/x-python",
   "name": "python",
   "nbconvert_exporter": "python",
   "pygments_lexer": "ipython3",
   "version": "3.7.6"
  }
 },
 "nbformat": 4,
 "nbformat_minor": 4
}
