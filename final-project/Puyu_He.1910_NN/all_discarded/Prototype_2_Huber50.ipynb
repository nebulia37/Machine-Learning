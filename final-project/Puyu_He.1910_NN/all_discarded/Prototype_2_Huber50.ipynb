{
 "cells": [
  {
   "cell_type": "code",
   "execution_count": 1,
   "id": "e8b46637-09dd-4e48-846b-7a49ceb4af89",
   "metadata": {},
   "outputs": [],
   "source": [
    "import numpy as np\n",
    "import torch\n",
    "import torch.nn as nn\n",
    "import torch.optim as optim\n",
    "from sklearn.metrics import r2_score\n",
    "from skorch import NeuralNetRegressor\n",
    "from sklearn.model_selection import GridSearchCV\n",
    "\n",
    "import matplotlib\n",
    "import matplotlib.pyplot as plt\n",
    "%matplotlib inline"
   ]
  },
  {
   "cell_type": "code",
   "execution_count": 2,
   "id": "78dacaf1-6868-4ae5-befd-a1d4668bf8d5",
   "metadata": {},
   "outputs": [],
   "source": [
    "# load training data\n",
    "Xtr_loadpath = 'Xtr.csv'\n",
    "Xts_loadpath = 'Xts.csv'\n",
    "ytr_loadpath = 'ytr.csv'\n",
    "\n",
    "Xtr = np.loadtxt(Xtr_loadpath, delimiter=\",\")\n",
    "Xts = np.loadtxt(Xts_loadpath, delimiter=\",\")\n",
    "ytr = np.loadtxt(ytr_loadpath, delimiter=\",\")"
   ]
  },
  {
   "cell_type": "code",
   "execution_count": 3,
   "id": "ae45109c-c2ca-4718-869e-276b7140fdd4",
   "metadata": {},
   "outputs": [],
   "source": [
    "# standardize the training data\n",
    "Xtr_mean = np.mean(Xtr,axis=0)\n",
    "Xtr_std = np.std(Xtr,axis=0)\n",
    "ytr_mean = np.mean(ytr)\n",
    "ytr_std = np.std(ytr)\n",
    "\n",
    "Xtr_standardized = ((Xtr-Xtr_mean[None,:])/Xtr_std[None,:]) # revise this line as needed\n",
    "Xts_standardized = ((Xts-Xtr_mean[None,:])/Xtr_std[None,:]) # revise this line as needed\n",
    "ytr_standardized = ((ytr-ytr_mean)/ytr_std)\n",
    "\n",
    "# save the standardized training data\n",
    "Xtr_savepath = 'Xtr_pytorch.csv'\n",
    "Xts_savepath = 'Xts_pytorch.csv'\n",
    "ytr_savepath = 'ytr_pytorch.csv'\n",
    "yts_hat_savepath = 'yts_hat_pytorch.csv'\n",
    "\n",
    "np.savetxt(Xtr_savepath, Xtr_standardized, delimiter=\",\")\n",
    "np.savetxt(Xts_savepath, Xts_standardized, delimiter=\",\")\n",
    "np.savetxt(ytr_savepath, ytr_standardized, delimiter=\",\")"
   ]
  },
  {
   "cell_type": "code",
   "execution_count": 4,
   "id": "3f8624d1-9de3-4831-b7dd-577d5445b4df",
   "metadata": {},
   "outputs": [],
   "source": [
    "# # feature selection\n",
    "\n",
    "# Xtr_feat_sel = Xtr_standardized\n",
    "# Xtr_feat_sel[:,1] = Xtr_standardized[:,1]*1e4\n",
    "# Xtr_feat_sel[:,3] = Xtr_standardized[:,3]*1e4\n",
    "# Xtr_feat_sel[:,4] = Xtr_standardized[:,4]*1e4\n",
    "# Xtr_feat_sel[:,7] = Xtr_standardized[:,7]*1e4\n",
    "# Xtr_feat_sel[:,10] = Xtr_standardized[:,10]*1e4\n",
    "# Xtr_feat_sel[:,14] = Xtr_standardized[:,14]*1e4\n",
    "# Xtr_feat_sel[:,15] = Xtr_standardized[:,15]*1e4\n",
    "# Xtr_feat_sel[:,16] = Xtr_standardized[:,16]*1e4\n",
    "# Xtr_feat_sel[:,17] = Xtr_standardized[:,17]*1e4\n",
    "# Xtr_feat_sel[:,18] = Xtr_standardized[:,18]*1e4\n",
    "# Xtr_feat_sel[:,19] = Xtr_standardized[:,19]*1e4\n",
    "# Xtr_feat_sel[:,22] = Xtr_standardized[:,22]*1e4\n",
    "# Xtr_feat_sel[:,23] = Xtr_standardized[:,23]*1e4\n",
    "# Xtr_feat_sel[:,24] = Xtr_standardized[:,24]*1e4"
   ]
  },
  {
   "cell_type": "code",
   "execution_count": 5,
   "id": "22b1cbed-ee8a-4089-9372-b214cff5f85e",
   "metadata": {},
   "outputs": [],
   "source": [
    "# Convert the numpy arrays to PyTorch tensors\n",
    "Xtr_torch = torch.Tensor(Xtr_standardized)\n",
    "ytr_torch = torch.Tensor(ytr)\n",
    "\n",
    "batch_size = 100  # size of each batch\n",
    "\n",
    "# Create a training Dataset\n",
    "train_ds = torch.utils.data.TensorDataset(Xtr_torch, ytr_torch)\n",
    "# Creates a training DataLoader from this Dataset\n",
    "train_loader = torch.utils.data.DataLoader(train_ds, batch_size=batch_size, shuffle=True) \n"
   ]
  },
  {
   "cell_type": "code",
   "execution_count": 6,
   "id": "8d678c59-51c2-4e42-bbf2-8cce993defda",
   "metadata": {},
   "outputs": [],
   "source": [
    "# # create a model\n",
    "# d_in = Xtr.shape[1]\n",
    "# d_h = 100\n",
    "# d_out = 1\n",
    "\n",
    "# class NeuralNet(nn.Module):\n",
    "#     def __init__(self,din,dh1,dh2,dh3,dout):\n",
    "#         super(NeuralNet, self).__init__()\n",
    "#         self.Dense1 = nn.Linear(din,dh1)\n",
    "#         self.Dense2 = nn.Linear(dh1,dh2)\n",
    "#         self.Dense3 = nn.Linear(dh2,dh3)\n",
    "#         self.Dense4 = nn.Linear(dh3,dout)\n",
    "#         self.ReLU = nn.ReLU()\n",
    "        \n",
    "#     def forward(self,x):\n",
    "#         x = self.ReLU(self.Dense1(x))\n",
    "#         x = self.ReLU(self.Dense2(x))        \n",
    "#         x = self.ReLU(self.Dense3(x))        \n",
    "#         out = self.Dense4(x)\n",
    "#         return out\n",
    "\n",
    "# model = NeuralNet(din=d_in, dh1=d_h, dh2=64*2, dh3=30*2, dout=d_out)\n",
    "\n",
    "# print(str(model))"
   ]
  },
  {
   "cell_type": "code",
   "execution_count": 7,
   "id": "9a849753-8c0d-4901-9610-8127d3a23261",
   "metadata": {},
   "outputs": [
    {
     "name": "stdout",
     "output_type": "stream",
     "text": [
      "Sequential(\n",
      "  (0): Linear(in_features=26, out_features=2187, bias=True)\n",
      "  (1): ReLU()\n",
      "  (2): Dropout(p=0.5, inplace=False)\n",
      "  (3): Linear(in_features=2187, out_features=729, bias=True)\n",
      "  (4): ReLU()\n",
      "  (5): Dropout(p=0.5, inplace=False)\n",
      "  (6): Linear(in_features=729, out_features=243, bias=True)\n",
      "  (7): ReLU()\n",
      "  (8): Dropout(p=0.5, inplace=False)\n",
      "  (9): Linear(in_features=243, out_features=81, bias=True)\n",
      "  (10): ReLU()\n",
      "  (11): Dropout(p=0.5, inplace=False)\n",
      "  (12): Linear(in_features=81, out_features=27, bias=True)\n",
      "  (13): ReLU()\n",
      "  (14): Linear(in_features=27, out_features=9, bias=True)\n",
      "  (15): ReLU()\n",
      "  (16): Linear(in_features=9, out_features=1, bias=True)\n",
      ")\n"
     ]
    }
   ],
   "source": [
    "nin = Xtr.shape[1]\n",
    "nout = 1\n",
    "#nh = 256\n",
    "\n",
    "# model = nn.Sequential(\n",
    "#     nn.Linear(nin, 128*5),\n",
    "#     nn.ReLU(),\n",
    "#     nn.Dropout(p=0.5),  # Add dropout layer with probability 0.2\n",
    "#     nn.Linear(128*5, 64*5),\n",
    "#     nn.ReLU(),\n",
    "#     nn.Dropout(p=0.5),  # Add dropout layer with probability 0.2\n",
    "#     nn.Linear(64*5, 32*5),\n",
    "#     nn.ReLU(),\n",
    "#     nn.Dropout(p=0.5),  # Add dropout layer with probability 0.2\n",
    "#     nn.Linear(32*5, 16*5),\n",
    "#     nn.ReLU(),\n",
    "#     nn.Dropout(p=0.5),  # Add dropout layer with probability 0.2\n",
    "#     nn.Linear(16*5, 8*5),\n",
    "#     nn.ReLU(),\n",
    "#     nn.Linear(8*5, 4*5),\n",
    "#     nn.ReLU(),\n",
    "#     nn.Linear(4*5, 2*5),\n",
    "#     nn.ReLU(),\n",
    "#     nn.Linear(2*5, nout)\n",
    "# )\n",
    "\n",
    "model = nn.Sequential(\n",
    "    nn.Linear(nin, 2187),\n",
    "    nn.ReLU(),\n",
    "    nn.Dropout(p=0.5),  # Add dropout layer with probability 0.2\n",
    "    nn.Linear(2187, 729),\n",
    "    nn.ReLU(),\n",
    "    nn.Dropout(p=0.5),  # Add dropout layer with probability 0.2\n",
    "    nn.Linear(729, 243),\n",
    "    nn.ReLU(),\n",
    "    nn.Dropout(p=0.5),  # Add dropout layer with probability 0.2\n",
    "    nn.Linear(243, 81),\n",
    "    nn.ReLU(),\n",
    "    nn.Dropout(p=0.5),  # Add dropout layer with probability 0.2\n",
    "    nn.Linear(81, 27),\n",
    "    nn.ReLU(),\n",
    "    nn.Linear(27, 9),\n",
    "    nn.ReLU(),\n",
    "    nn.Linear(9, nout)\n",
    ")\n",
    "\n",
    "print(str(model))"
   ]
  },
  {
   "cell_type": "code",
   "execution_count": 8,
   "id": "40f6e190-eefa-4e65-9755-9766c0ac95c1",
   "metadata": {},
   "outputs": [],
   "source": [
    "# Choosing the optimizer and loss function\n",
    "\n",
    "epochs = 350\n",
    "lrate = 2.75e-6\n",
    "decay = lrate/epochs\n",
    "lambda1 = lambda epoch: (1-decay)*epoch\n",
    "\n",
    "opt = optim.Adam(model.parameters(), lr=lrate)\n",
    "scheduler = optim.lr_scheduler.LambdaLR(opt, lr_lambda=lambda1)\n",
    "#criterion = nn.MSELoss()\n",
    "criterion = nn.HuberLoss(reduction='mean', delta=50)\n",
    "#criterion = nn.L1Loss()"
   ]
  },
  {
   "cell_type": "code",
   "execution_count": 9,
   "id": "3a53724c-0242-47c5-b0c1-7bfba9c13c53",
   "metadata": {},
   "outputs": [
    {
     "name": "stdout",
     "output_type": "stream",
     "text": [
      "Epoch: 10   Train Loss: 47.114   R^2: 0.055   \n",
      "Epoch: 20   Train Loss: 41.496   R^2: 0.158   \n",
      "Epoch: 30   Train Loss: 37.625   R^2: 0.237   \n",
      "Epoch: 40   Train Loss: 36.322   R^2: 0.268   \n",
      "Epoch: 50   Train Loss: 34.445   R^2: 0.297   \n",
      "Epoch: 60   Train Loss: 33.284   R^2: 0.320   \n",
      "Epoch: 70   Train Loss: 31.675   R^2: 0.343   \n",
      "Epoch: 80   Train Loss: 29.755   R^2: 0.385   \n",
      "Epoch: 90   Train Loss: 28.633   R^2: 0.408   \n",
      "Epoch: 100   Train Loss: 27.572   R^2: 0.431   \n",
      "Epoch: 110   Train Loss: 26.913   R^2: 0.453   \n",
      "Epoch: 120   Train Loss: 25.653   R^2: 0.459   \n",
      "Epoch: 130   Train Loss: 24.076   R^2: 0.494   \n",
      "Epoch: 140   Train Loss: 22.775   R^2: 0.524   \n",
      "Epoch: 150   Train Loss: 21.808   R^2: 0.537   \n",
      "Epoch: 160   Train Loss: 20.995   R^2: 0.558   \n",
      "Epoch: 170   Train Loss: 20.440   R^2: 0.566   \n",
      "Epoch: 180   Train Loss: 19.973   R^2: 0.572   \n",
      "Epoch: 190   Train Loss: 20.344   R^2: 0.566   \n",
      "Epoch: 200   Train Loss: 19.571   R^2: 0.587   \n",
      "Epoch: 210   Train Loss: 18.826   R^2: 0.603   \n",
      "Epoch: 220   Train Loss: 18.765   R^2: 0.593   \n",
      "Epoch: 230   Train Loss: 18.943   R^2: 0.597   \n",
      "Epoch: 240   Train Loss: 18.201   R^2: 0.619   \n",
      "Epoch: 250   Train Loss: 18.777   R^2: 0.606   \n",
      "Epoch: 260   Train Loss: 17.929   R^2: 0.614   \n",
      "Epoch: 270   Train Loss: 17.424   R^2: 0.635   \n",
      "Epoch: 280   Train Loss: 17.552   R^2: 0.628   \n",
      "Epoch: 290   Train Loss: 17.426   R^2: 0.627   \n",
      "Epoch: 300   Train Loss: 17.285   R^2: 0.632   \n",
      "Epoch: 310   Train Loss: 17.461   R^2: 0.635   \n",
      "Epoch: 320   Train Loss: 16.253   R^2: 0.659   \n",
      "Epoch: 330   Train Loss: 17.612   R^2: 0.638   \n",
      "Epoch: 340   Train Loss: 16.600   R^2: 0.633   \n",
      "Epoch: 350   Train Loss: 16.949   R^2: 0.637   \n",
      "training R2:  0.6900741336055102\n"
     ]
    }
   ],
   "source": [
    "# training the model\n",
    "num_epoch = epochs\n",
    "\n",
    "a_tr_loss = np.zeros([num_epoch])\n",
    "a_tr_Rsq = np.zeros([num_epoch])\n",
    "\n",
    "for epoch in range(num_epoch):\n",
    "    #if epoch == 100:\n",
    "        #opt = optim.Adam(model.parameters(), lr=1e-6)\n",
    "    #if epoch == 100:\n",
    "        #opt = optim.Adam(model.parameters(), lr=8e-7)\n",
    "    #if epoch == 150:\n",
    "        #opt = optim.Adam(model.parameters(), lr=4e-7)\n",
    "    #if epoch == 200:\n",
    "        #opt = optim.Adam(model.parameters(), lr=2e-7)\n",
    "    #if epoch == 250:\n",
    "        #opt = optim.Adam(model.parameters(), lr=1e-7)\n",
    "    model.train() # put model in training mode\n",
    "    batch_loss_tr = []\n",
    "    batch_Rsq_tr = []\n",
    "    # iterate over training set\n",
    "    for train_iter, data in enumerate(train_loader):\n",
    "        x_batch,y_batch = data\n",
    "        \n",
    "        y_batch = y_batch.view(-1,1)\n",
    "        #y_batch = y_batch.type(torch.long)\n",
    "        \n",
    "        out = model(x_batch)\n",
    "        # Compute Loss\n",
    "        loss = criterion(out,y_batch.type(torch.float))\n",
    "        batch_loss_tr.append(loss.item())\n",
    "        # Compute R-square\n",
    "        Rsq = r2_score(y_batch.type(torch.float).detach().numpy(), out.detach().numpy())\n",
    "        batch_Rsq_tr.append(Rsq.item())\n",
    "        # Compute gradients using back propagation\n",
    "        opt.zero_grad()\n",
    "        loss.backward()\n",
    "        # Take an optimization 'step'\n",
    "        opt.step()\n",
    "        \n",
    "    # Take scheduler step\n",
    "    scheduler.step()\n",
    "        \n",
    "    a_tr_loss[epoch] = np.mean(batch_loss_tr) # Compute average loss over epoch\n",
    "    a_tr_Rsq[epoch] = np.mean(batch_Rsq_tr)\n",
    "    if (epoch+1) % 10 == 0:\n",
    "        print('Epoch: {0:2d}   Train Loss: {1:.3f}   '.format(epoch+1, a_tr_loss[epoch])\n",
    "             + 'R^2: {0:.3f}   '.format(a_tr_Rsq[epoch])\n",
    "             )\n",
    "    \n",
    "with torch.no_grad():\n",
    "    predict = model(torch.Tensor(Xtr_standardized)).detach().numpy().ravel()\n",
    "\n",
    "r2 = r2_score(ytr,predict)\n",
    "print('training R2: ',r2)\n",
    "        "
   ]
  },
  {
   "cell_type": "code",
   "execution_count": 10,
   "id": "286cf170-2380-4782-8ebe-a4d8d925b8e5",
   "metadata": {},
   "outputs": [
    {
     "data": {
      "text/plain": [
       "Text(0, 0.5, 'Test accuracy')"
      ]
     },
     "execution_count": 10,
     "metadata": {},
     "output_type": "execute_result"
    },
    {
     "data": {
      "image/png": "[encoded data removed]",
      "text/plain": [
       "<Figure size 640x480 with 1 Axes>"
      ]
     },
     "metadata": {},
     "output_type": "display_data"
    }
   ],
   "source": [
    "nepochs = len(a_tr_Rsq)\n",
    "plt.plot(np.arange(1,nepochs+1), a_tr_Rsq, 'o-', linewidth=1)\n",
    "plt.grid()\n",
    "plt.xlabel('Epoch')\n",
    "plt.ylabel('Test accuracy')"
   ]
  },
  {
   "cell_type": "code",
   "execution_count": 11,
   "id": "318343c0-4316-466a-b376-c8ecf89b262c",
   "metadata": {},
   "outputs": [
    {
     "data": {
      "image/png": "[encoded data removed]",
      "text/plain": [
       "<Figure size 640x480 with 1 Axes>"
      ]
     },
     "metadata": {},
     "output_type": "display_data"
    }
   ],
   "source": [
    "nsteps = len(a_tr_loss)\n",
    "ntr = Xtr.shape[0]\n",
    "epochs = np.arange(1,nsteps+1)*batch_size/ntr\n",
    "plt.semilogy(epochs, a_tr_loss)\n",
    "plt.xlabel('Epochs', fontsize=16)\n",
    "plt.ylabel('Loss', fontsize=16)\n",
    "plt.grid()\n",
    "plt.xlim([0,np.max(epochs)])\n",
    "plt.tight_layout()"
   ]
  },
  {
   "cell_type": "code",
   "execution_count": 12,
   "id": "471376b7-d8f2-47e1-944e-89f48bad2861",
   "metadata": {},
   "outputs": [
    {
     "name": "stderr",
     "output_type": "stream",
     "text": [
      "C:\\Users\\BassD\\anaconda3\\lib\\site-packages\\torch\\jit\\_trace.py:1084: TracerWarning: Output nr 1. of the traced function does not match the corresponding output of the Python function. Detailed error:\n",
      "Tensor-likes are not close!\n",
      "\n",
      "Mismatched elements: 1 / 1 (100.0%)\n",
      "Greatest absolute difference: 3.1618309020996094 at index (0, 0) (up to 1e-05 allowed)\n",
      "Greatest relative difference: 0.16457362811131332 at index (0, 0) (up to 1e-05 allowed)\n",
      "  _check_trace(\n"
     ]
    }
   ],
   "source": [
    "# save the model: you must use the .pth format for pytorch models!\n",
    "model_savepath = 'model.pth'\n",
    "\n",
    "# To save a PyTorch model, we first pass an input through the model, \n",
    "# and then save the \"trace\". \n",
    "# For this purpose, we can use any input. \n",
    "# We will create a random input with the proper dimension.\n",
    "x = torch.randn(26) # random input\n",
    "x = x[None,:] # add singleton batch index\n",
    "with torch.no_grad():\n",
    "    traced_cell = torch.jit.trace(model, (x))\n",
    "\n",
    "# Now we save the trace\n",
    "torch.jit.save(traced_cell, model_savepath)"
   ]
  },
  {
   "cell_type": "code",
   "execution_count": 13,
   "id": "2a961efc-47e6-4757-9bcb-3d590aa865e4",
   "metadata": {},
   "outputs": [
    {
     "name": "stdout",
     "output_type": "stream",
     "text": [
      "training R2 =  0.6863356637351625\n",
      "test target predictions saved in yts_hat_pytorch.csv\n"
     ]
    }
   ],
   "source": [
    "# generate kaggle submission file using the validation script\n",
    "!python {\"validation.py \" + model_savepath + \" --Xts_path \" + Xts_savepath + \" --Xtr_path \" + Xtr_savepath + \" --yts_hat_path \" + yts_hat_savepath } "
   ]
  },
  {
   "cell_type": "code",
   "execution_count": null,
   "id": "39ba3c3a-aef0-441f-92dc-3c48da1b5937",
   "metadata": {},
   "outputs": [],
   "source": []
  }
 ],
 "metadata": {
  "kernelspec": {
   "display_name": "Python 3 (ipykernel)",
   "language": "python",
   "name": "python3"
  },
  "language_info": {
   "codemirror_mode": {
    "name": "ipython",
    "version": 3
   },
   "file_extension": ".py",
   "mimetype": "text/x-python",
   "name": "python",
   "nbconvert_exporter": "python",
   "pygments_lexer": "ipython3",
   "version": "3.9.13"
  }
 },
 "nbformat": 4,
 "nbformat_minor": 5
}
