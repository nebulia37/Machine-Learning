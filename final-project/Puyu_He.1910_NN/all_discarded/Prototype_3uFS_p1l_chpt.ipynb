{
 "cells": [
  {
   "cell_type": "code",
   "execution_count": 1,
   "id": "e8b46637-09dd-4e48-846b-7a49ceb4af89",
   "metadata": {},
   "outputs": [],
   "source": [
    "import numpy as np\n",
    "import torch\n",
    "import torch.nn as nn\n",
    "import torch.optim as optim\n",
    "from sklearn.metrics import r2_score\n",
    "from skorch import NeuralNetRegressor\n",
    "from sklearn.model_selection import GridSearchCV\n",
    "\n",
    "import matplotlib\n",
    "import matplotlib.pyplot as plt\n",
    "%matplotlib inline"
   ]
  },
  {
   "cell_type": "code",
   "execution_count": 2,
   "id": "78dacaf1-6868-4ae5-befd-a1d4668bf8d5",
   "metadata": {},
   "outputs": [],
   "source": [
    "# load training data\n",
    "Xtr_loadpath = 'Xtr.csv'\n",
    "Xts_loadpath = 'Xts.csv'\n",
    "ytr_loadpath = 'ytr.csv'\n",
    "\n",
    "Xtr = np.loadtxt(Xtr_loadpath, delimiter=\",\")\n",
    "Xts = np.loadtxt(Xts_loadpath, delimiter=\",\")\n",
    "ytr = np.loadtxt(ytr_loadpath, delimiter=\",\")"
   ]
  },
  {
   "cell_type": "code",
   "execution_count": 3,
   "id": "ae45109c-c2ca-4718-869e-276b7140fdd4",
   "metadata": {},
   "outputs": [],
   "source": [
    "# standardize the training data\n",
    "Xtr_mean = np.mean(Xtr,axis=0)\n",
    "Xtr_std = np.std(Xtr,axis=0)\n",
    "ytr_mean = np.mean(ytr)\n",
    "ytr_std = np.std(ytr)\n",
    "\n",
    "Xtr_standardized = ((Xtr-Xtr_mean[None,:])/Xtr_std[None,:]) # revise this line as needed\n",
    "Xts_standardized = ((Xts-Xtr_mean[None,:])/Xtr_std[None,:]) # revise this line as needed\n",
    "ytr_standardized = ((ytr-ytr_mean)/ytr_std)\n",
    "\n",
    "# save the standardized training data\n",
    "Xtr_savepath = 'Xtr_pytorch.csv'\n",
    "Xts_savepath = 'Xts_pytorch.csv'\n",
    "ytr_savepath = 'ytr_pytorch.csv'\n",
    "yts_hat_savepath = 'yts_hat_pytorch.csv'\n",
    "\n",
    "np.savetxt(Xtr_savepath, Xtr_standardized, delimiter=\",\")\n",
    "np.savetxt(Xts_savepath, Xts_standardized, delimiter=\",\")\n",
    "np.savetxt(ytr_savepath, ytr_standardized, delimiter=\",\")"
   ]
  },
  {
   "cell_type": "code",
   "execution_count": 4,
   "id": "22b1cbed-ee8a-4089-9372-b214cff5f85e",
   "metadata": {},
   "outputs": [],
   "source": [
    "# Convert the numpy arrays to PyTorch tensors\n",
    "Xtr_torch = torch.Tensor(Xtr_standardized)\n",
    "ytr_torch = torch.Tensor(ytr)\n",
    "\n",
    "batch_size = 100  # size of each batch\n",
    "\n",
    "# Create a training Dataset\n",
    "train_ds = torch.utils.data.TensorDataset(Xtr_torch, ytr_torch)\n",
    "# Creates a training DataLoader from this Dataset\n",
    "train_loader = torch.utils.data.DataLoader(train_ds, batch_size=batch_size, shuffle=True) \n"
   ]
  },
  {
   "cell_type": "code",
   "execution_count": 5,
   "id": "9a849753-8c0d-4901-9610-8127d3a23261",
   "metadata": {},
   "outputs": [
    {
     "name": "stdout",
     "output_type": "stream",
     "text": [
      "Sequential(\n",
      "  (0): Linear(in_features=26, out_features=2187, bias=True)\n",
      "  (1): ReLU()\n",
      "  (2): Dropout(p=0.5, inplace=False)\n",
      "  (3): Linear(in_features=2187, out_features=1262, bias=True)\n",
      "  (4): ReLU()\n",
      "  (5): Dropout(p=0.5, inplace=False)\n",
      "  (6): Linear(in_features=1262, out_features=729, bias=True)\n",
      "  (7): ReLU()\n",
      "  (8): Dropout(p=0.5, inplace=False)\n",
      "  (9): Linear(in_features=729, out_features=420, bias=True)\n",
      "  (10): ReLU()\n",
      "  (11): Dropout(p=0.5, inplace=False)\n",
      "  (12): Linear(in_features=420, out_features=243, bias=True)\n",
      "  (13): ReLU()\n",
      "  (14): Dropout(p=0.5, inplace=False)\n",
      "  (15): Linear(in_features=243, out_features=81, bias=True)\n",
      "  (16): ReLU()\n",
      "  (17): Dropout(p=0.5, inplace=False)\n",
      "  (18): Linear(in_features=81, out_features=27, bias=True)\n",
      "  (19): ReLU()\n",
      "  (20): Linear(in_features=27, out_features=9, bias=True)\n",
      "  (21): ReLU()\n",
      "  (22): Linear(in_features=9, out_features=3, bias=True)\n",
      "  (23): ReLU()\n",
      "  (24): Linear(in_features=3, out_features=1, bias=True)\n",
      ")\n"
     ]
    }
   ],
   "source": [
    "nin = Xtr.shape[1]\n",
    "nout = 1\n",
    "\n",
    "# model = nn.Sequential(\n",
    "#     nn.Linear(nin, 128*5),\n",
    "#     nn.ReLU(),\n",
    "#     nn.Dropout(p=0.5),  # Add dropout layer with probability 0.2\n",
    "#     nn.Linear(128*5, 64*5),\n",
    "#     nn.ReLU(),\n",
    "#     nn.Dropout(p=0.5),  # Add dropout layer with probability 0.2\n",
    "#     nn.Linear(64*5, 32*5),\n",
    "#     nn.ReLU(),\n",
    "#     nn.Dropout(p=0.5),  # Add dropout layer with probability 0.2\n",
    "#     nn.Linear(32*5, 16*5),\n",
    "#     nn.ReLU(),\n",
    "#     nn.Dropout(p=0.5),  # Add dropout layer with probability 0.2\n",
    "#     nn.Linear(16*5, 8*5),\n",
    "#     nn.ReLU(),\n",
    "#     nn.Linear(8*5, 4*5),\n",
    "#     nn.ReLU(),\n",
    "#     nn.Linear(4*5, 2*5),\n",
    "#     nn.ReLU(),\n",
    "#     nn.Linear(2*5, nout)\n",
    "# )\n",
    "\n",
    "model = nn.Sequential(\n",
    "    nn.Linear(nin, 2187),\n",
    "    nn.ReLU(),\n",
    "    nn.Dropout(p=0.5),  # Add dropout layer with probability 0.2\n",
    "    # nn.Linear(3788, 2187),\n",
    "    # nn.ReLU(),\n",
    "    # nn.Dropout(p=0.5),  # Add dropout layer with probability 0.2\n",
    "    nn.Linear(2187, 1262),\n",
    "    nn.ReLU(),\n",
    "    nn.Dropout(p=0.5),  # Add dropout layer with probability 0.2\n",
    "    nn.Linear(1262, 729),\n",
    "    nn.ReLU(),\n",
    "    nn.Dropout(p=0.5),  # Add dropout layer with probability 0.2\n",
    "    nn.Linear(729, 420),\n",
    "    nn.ReLU(),\n",
    "    nn.Dropout(p=0.5),  # Add dropout layer with probability 0.2   \n",
    "    nn.Linear(420, 243),\n",
    "    nn.ReLU(),\n",
    "    nn.Dropout(p=0.5),  # Add dropout layer with probability 0.2  \n",
    "    nn.Linear(243, 81),\n",
    "    nn.ReLU(),\n",
    "    nn.Dropout(p=0.5),  # Add dropout layer with probability 0.2\n",
    "    nn.Linear(81, 27),\n",
    "    nn.ReLU(),\n",
    "    nn.Linear(27, 9),\n",
    "    nn.ReLU(),\n",
    "    nn.Linear(9, 3),\n",
    "    nn.ReLU(),\n",
    "    nn.Linear(3, nout)\n",
    ")\n",
    "\n",
    "print(str(model))"
   ]
  },
  {
   "cell_type": "code",
   "execution_count": 6,
   "id": "40f6e190-eefa-4e65-9755-9766c0ac95c1",
   "metadata": {},
   "outputs": [],
   "source": [
    "# Choosing the optimizer and loss function\n",
    "\n",
    "epochs = 1000\n",
    "lrate = 1e-6\n",
    "decay = lrate/epochs\n",
    "lambda1 = lambda epoch: (1-decay)*epoch\n",
    "\n",
    "opt = optim.Adam(model.parameters(), lr=lrate)\n",
    "scheduler = optim.lr_scheduler.LambdaLR(opt, lr_lambda=lambda1)\n",
    "criterion = nn.MSELoss()\n",
    "#criterion = nn.HuberLoss(reduction='mean', delta=30)\n",
    "#criterion = nn.L1Loss()"
   ]
  },
  {
   "cell_type": "code",
   "execution_count": 7,
   "id": "3a53724c-0242-47c5-b0c1-7bfba9c13c53",
   "metadata": {},
   "outputs": [
    {
     "name": "stdout",
     "output_type": "stream",
     "text": [
      "Epoch: 10   Train Loss: 101.021   R^2: -0.012   \n",
      "Epoch: 20   Train Loss: 101.020   R^2: -0.011   \n",
      "Epoch: 30   Train Loss: 101.018   R^2: -0.014   \n",
      "Epoch: 40   Train Loss: 88.324   R^2: 0.097   \n",
      "Epoch: 50   Train Loss: 83.195   R^2: 0.144   \n",
      "Epoch: 60   Train Loss: 80.450   R^2: 0.171   \n",
      "Epoch: 70   Train Loss: 77.898   R^2: 0.196   \n",
      "Epoch: 80   Train Loss: 77.442   R^2: 0.192   \n",
      "Epoch: 90   Train Loss: 74.815   R^2: 0.212   \n",
      "Epoch: 100   Train Loss: 71.447   R^2: 0.261   \n",
      "Epoch: 110   Train Loss: 71.991   R^2: 0.233   \n",
      "Epoch: 120   Train Loss: 66.352   R^2: 0.302   \n",
      "Epoch: 130   Train Loss: 66.142   R^2: 0.304   \n",
      "Epoch: 140   Train Loss: 62.429   R^2: 0.343   \n",
      "Epoch: 150   Train Loss: 60.278   R^2: 0.355   \n",
      "Epoch: 160   Train Loss: 56.936   R^2: 0.397   \n",
      "Epoch: 170   Train Loss: 53.283   R^2: 0.414   \n",
      "Epoch: 180   Train Loss: 51.890   R^2: 0.459   \n",
      "Epoch: 190   Train Loss: 50.771   R^2: 0.461   \n",
      "Epoch: 200   Train Loss: 50.610   R^2: 0.470   \n",
      "Epoch: 210   Train Loss: 47.850   R^2: 0.483   \n",
      "Epoch: 220   Train Loss: 45.496   R^2: 0.515   \n",
      "Epoch: 230   Train Loss: 42.635   R^2: 0.547   \n",
      "Epoch: 240   Train Loss: 42.203   R^2: 0.552   \n",
      "Epoch: 250   Train Loss: 43.209   R^2: 0.556   \n",
      "Epoch: 260   Train Loss: 40.584   R^2: 0.564   \n",
      "Epoch: 270   Train Loss: 38.071   R^2: 0.597   \n",
      "Epoch: 280   Train Loss: 37.116   R^2: 0.607   \n",
      "Epoch: 290   Train Loss: 37.678   R^2: 0.607   \n",
      "Epoch: 300   Train Loss: 36.519   R^2: 0.612   \n",
      "Epoch: 310   Train Loss: 36.432   R^2: 0.612   \n",
      "Epoch: 320   Train Loss: 35.497   R^2: 0.623   \n",
      "Epoch: 330   Train Loss: 34.281   R^2: 0.644   \n",
      "Epoch: 340   Train Loss: 33.462   R^2: 0.646   \n",
      "Epoch: 350   Train Loss: 34.754   R^2: 0.630   \n",
      "Epoch: 360   Train Loss: 31.904   R^2: 0.666   \n",
      "Epoch: 370   Train Loss: 33.522   R^2: 0.645   \n",
      "Epoch: 380   Train Loss: 30.925   R^2: 0.669   \n",
      "Epoch: 390   Train Loss: 31.316   R^2: 0.666   \n",
      "Epoch: 400   Train Loss: 31.406   R^2: 0.676   \n",
      "Epoch: 410   Train Loss: 31.993   R^2: 0.662   \n",
      "Epoch: 420   Train Loss: 29.644   R^2: 0.679   \n",
      "Epoch: 430   Train Loss: 29.775   R^2: 0.672   \n",
      "Epoch: 440   Train Loss: 28.679   R^2: 0.700   \n",
      "Epoch: 450   Train Loss: 28.414   R^2: 0.701   \n",
      "Epoch: 460   Train Loss: 30.003   R^2: 0.688   \n",
      "Epoch: 470   Train Loss: 28.633   R^2: 0.700   \n",
      "Epoch: 480   Train Loss: 26.098   R^2: 0.728   \n",
      "Epoch: 490   Train Loss: 27.880   R^2: 0.706   \n",
      "Epoch: 500   Train Loss: 29.013   R^2: 0.692   \n",
      "Epoch: 510   Train Loss: 28.336   R^2: 0.704   \n",
      "Epoch: 520   Train Loss: 26.715   R^2: 0.704   \n",
      "Epoch: 530   Train Loss: 27.968   R^2: 0.703   \n",
      "Epoch: 540   Train Loss: 26.430   R^2: 0.728   \n",
      "Epoch: 550   Train Loss: 27.338   R^2: 0.710   \n",
      "Epoch: 560   Train Loss: 27.169   R^2: 0.712   \n",
      "Epoch: 570   Train Loss: 27.883   R^2: 0.704   \n",
      "Epoch: 580   Train Loss: 26.265   R^2: 0.722   \n",
      "Epoch: 590   Train Loss: 27.268   R^2: 0.699   \n",
      "Epoch: 600   Train Loss: 26.889   R^2: 0.711   \n",
      "Epoch: 610   Train Loss: 25.330   R^2: 0.722   \n",
      "Epoch: 620   Train Loss: 26.718   R^2: 0.723   \n",
      "Epoch: 630   Train Loss: 25.617   R^2: 0.723   \n",
      "Epoch: 640   Train Loss: 26.898   R^2: 0.706   \n",
      "Epoch: 650   Train Loss: 27.201   R^2: 0.715   \n",
      "Epoch: 660   Train Loss: 26.848   R^2: 0.720   \n",
      "Epoch: 670   Train Loss: 25.019   R^2: 0.739   \n",
      "Epoch: 680   Train Loss: 26.047   R^2: 0.729   \n",
      "Epoch: 690   Train Loss: 27.232   R^2: 0.708   \n",
      "Epoch: 700   Train Loss: 27.409   R^2: 0.717   \n",
      "Epoch: 710   Train Loss: 26.376   R^2: 0.716   \n",
      "Epoch: 720   Train Loss: 25.412   R^2: 0.729   \n",
      "Epoch: 730   Train Loss: 28.598   R^2: 0.693   \n",
      "Epoch: 740   Train Loss: 27.045   R^2: 0.713   \n",
      "Epoch: 750   Train Loss: 26.064   R^2: 0.711   \n",
      "Epoch: 760   Train Loss: 26.333   R^2: 0.715   \n",
      "Epoch: 770   Train Loss: 25.582   R^2: 0.728   \n",
      "Epoch: 780   Train Loss: 27.045   R^2: 0.718   \n",
      "Epoch: 790   Train Loss: 25.362   R^2: 0.730   \n",
      "Epoch: 800   Train Loss: 26.897   R^2: 0.715   \n",
      "Epoch: 810   Train Loss: 28.364   R^2: 0.703   \n",
      "Epoch: 820   Train Loss: 26.247   R^2: 0.710   \n",
      "Epoch: 830   Train Loss: 24.846   R^2: 0.736   \n",
      "Epoch: 840   Train Loss: 28.525   R^2: 0.693   \n",
      "Epoch: 850   Train Loss: 25.502   R^2: 0.732   \n",
      "Epoch: 860   Train Loss: 28.080   R^2: 0.702   \n",
      "Epoch: 870   Train Loss: 26.403   R^2: 0.726   \n",
      "Epoch: 880   Train Loss: 28.146   R^2: 0.695   \n",
      "Epoch: 890   Train Loss: 27.282   R^2: 0.687   \n",
      "Epoch: 900   Train Loss: 29.790   R^2: 0.681   \n",
      "Epoch: 910   Train Loss: 26.463   R^2: 0.713   \n",
      "Epoch: 920   Train Loss: 28.211   R^2: 0.704   \n",
      "Epoch: 930   Train Loss: 25.124   R^2: 0.731   \n",
      "Epoch: 940   Train Loss: 26.193   R^2: 0.725   \n",
      "Epoch: 950   Train Loss: 28.082   R^2: 0.699   \n",
      "Epoch: 960   Train Loss: 26.834   R^2: 0.719   \n",
      "Epoch: 970   Train Loss: 30.846   R^2: 0.680   \n",
      "Epoch: 980   Train Loss: 28.547   R^2: 0.695   \n",
      "Epoch: 990   Train Loss: 26.670   R^2: 0.719   \n",
      "Epoch: 1000   Train Loss: 28.864   R^2: 0.698   \n",
      "training R2:  0.7386423069629346\n"
     ]
    }
   ],
   "source": [
    "# training the model\n",
    "num_epoch = epochs\n",
    "\n",
    "a_tr_loss = np.zeros([num_epoch])\n",
    "a_tr_Rsq = np.zeros([num_epoch])\n",
    "\n",
    "for epoch in range(num_epoch):\n",
    "\n",
    "    model.train() # put model in training mode\n",
    "    batch_loss_tr = []\n",
    "    batch_Rsq_tr = []\n",
    "    # iterate over training set\n",
    "    for train_iter, data in enumerate(train_loader):\n",
    "        x_batch,y_batch = data\n",
    "        \n",
    "        y_batch = y_batch.view(-1,1)\n",
    "        #y_batch = y_batch.type(torch.long)\n",
    "        \n",
    "        out = model(x_batch)\n",
    "        # Compute Loss\n",
    "        loss = criterion(out,y_batch.type(torch.float))\n",
    "        batch_loss_tr.append(loss.item())\n",
    "        # Compute R-square\n",
    "        Rsq = r2_score(y_batch.type(torch.float).detach().numpy(), out.detach().numpy())\n",
    "        batch_Rsq_tr.append(Rsq.item())\n",
    "        # Compute gradients using back propagation\n",
    "        opt.zero_grad()\n",
    "        loss.backward()\n",
    "        # Take an optimization 'step'\n",
    "        opt.step()\n",
    "        \n",
    "    # Take scheduler step\n",
    "    scheduler.step()\n",
    "        \n",
    "    a_tr_loss[epoch] = np.mean(batch_loss_tr) # Compute average loss over epoch\n",
    "    a_tr_Rsq[epoch] = np.mean(batch_Rsq_tr)\n",
    "    if (epoch+1) % 10 == 0:\n",
    "        print('Epoch: {0:2d}   Train Loss: {1:.3f}   '.format(epoch+1, a_tr_loss[epoch])\n",
    "             + 'R^2: {0:.3f}   '.format(a_tr_Rsq[epoch])\n",
    "             )\n",
    "    \n",
    "with torch.no_grad():\n",
    "    predict = model(torch.Tensor(Xtr_standardized)).detach().numpy().ravel()\n",
    "\n",
    "r2 = r2_score(ytr,predict)\n",
    "print('training R2: ',r2)\n",
    "        "
   ]
  },
  {
   "cell_type": "code",
   "execution_count": 8,
   "id": "286cf170-2380-4782-8ebe-a4d8d925b8e5",
   "metadata": {},
   "outputs": [
    {
     "data": {
      "text/plain": [
       "Text(0, 0.5, 'Train accuracy')"
      ]
     },
     "execution_count": 8,
     "metadata": {},
     "output_type": "execute_result"
    },
    {
     "data": {
      "image/png": "[encoded data removed]",
      "text/plain": [
       "<Figure size 640x480 with 1 Axes>"
      ]
     },
     "metadata": {},
     "output_type": "display_data"
    }
   ],
   "source": [
    "nepochs = len(a_tr_Rsq)\n",
    "plt.plot(np.arange(1,nepochs+1), a_tr_Rsq, 'o-', linewidth=1)\n",
    "plt.grid()\n",
    "plt.xlabel('Epoch')\n",
    "plt.ylabel('Train accuracy')"
   ]
  },
  {
   "cell_type": "code",
   "execution_count": 9,
   "id": "318343c0-4316-466a-b376-c8ecf89b262c",
   "metadata": {},
   "outputs": [
    {
     "data": {
      "image/png": "[encoded data removed]",
      "text/plain": [
       "<Figure size 640x480 with 1 Axes>"
      ]
     },
     "metadata": {},
     "output_type": "display_data"
    }
   ],
   "source": [
    "nsteps = len(a_tr_loss)\n",
    "ntr = Xtr.shape[0]\n",
    "epochs = np.arange(1,nsteps+1)*batch_size/ntr\n",
    "plt.semilogy(epochs, a_tr_loss)\n",
    "plt.xlabel('Epochs', fontsize=16)\n",
    "plt.ylabel('Loss', fontsize=16)\n",
    "plt.grid()\n",
    "plt.xlim([0,np.max(epochs)])\n",
    "plt.tight_layout()"
   ]
  },
  {
   "cell_type": "code",
   "execution_count": 10,
   "id": "471376b7-d8f2-47e1-944e-89f48bad2861",
   "metadata": {},
   "outputs": [
    {
     "name": "stderr",
     "output_type": "stream",
     "text": [
      "C:\\Users\\BassD\\anaconda3\\lib\\site-packages\\torch\\jit\\_trace.py:1084: TracerWarning: Output nr 1. of the traced function does not match the corresponding output of the Python function. Detailed error:\n",
      "Tensor-likes are not close!\n",
      "\n",
      "Mismatched elements: 1 / 1 (100.0%)\n",
      "Greatest absolute difference: 3.629490613937378 at index (0, 0) (up to 1e-05 allowed)\n",
      "Greatest relative difference: 5.346907960061832 at index (0, 0) (up to 1e-05 allowed)\n",
      "  _check_trace(\n"
     ]
    }
   ],
   "source": [
    "# save the model: you must use the .pth format for pytorch models!\n",
    "model_savepath = 'model.pth'\n",
    "\n",
    "# To save a PyTorch model, we first pass an input through the model, \n",
    "# and then save the \"trace\". \n",
    "# For this purpose, we can use any input. \n",
    "# We will create a random input with the proper dimension.\n",
    "x = torch.randn(26) # random input\n",
    "x = x[None,:] # add singleton batch index\n",
    "with torch.no_grad():\n",
    "    traced_cell = torch.jit.trace(model, (x))\n",
    "\n",
    "# Now we save the trace\n",
    "torch.jit.save(traced_cell, model_savepath)"
   ]
  },
  {
   "cell_type": "code",
   "execution_count": 11,
   "id": "2a961efc-47e6-4757-9bcb-3d590aa865e4",
   "metadata": {},
   "outputs": [
    {
     "name": "stdout",
     "output_type": "stream",
     "text": [
      "training R2 =  0.7456681167044353\n",
      "test target predictions saved in yts_hat_pytorch.csv\n"
     ]
    }
   ],
   "source": [
    "# generate kaggle submission file using the validation script\n",
    "!python {\"validation.py \" + model_savepath + \" --Xts_path \" + Xts_savepath + \" --Xtr_path \" + Xtr_savepath + \" --yts_hat_path \" + yts_hat_savepath } "
   ]
  },
  {
   "cell_type": "code",
   "execution_count": null,
   "id": "39ba3c3a-aef0-441f-92dc-3c48da1b5937",
   "metadata": {},
   "outputs": [],
   "source": []
  }
 ],
 "metadata": {
  "kernelspec": {
   "display_name": "Python 3 (ipykernel)",
   "language": "python",
   "name": "python3"
  },
  "language_info": {
   "codemirror_mode": {
    "name": "ipython",
    "version": 3
   },
   "file_extension": ".py",
   "mimetype": "text/x-python",
   "name": "python",
   "nbconvert_exporter": "python",
   "pygments_lexer": "ipython3",
   "version": "3.9.13"
  }
 },
 "nbformat": 4,
 "nbformat_minor": 5
}
