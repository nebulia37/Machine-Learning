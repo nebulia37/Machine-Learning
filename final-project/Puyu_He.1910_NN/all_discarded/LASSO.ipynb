{
 "cells": [
  {
   "cell_type": "markdown",
   "metadata": {},
   "source": [
    "# Lab:  Source Localization for EEG\n",
    "\n",
    "EEG or [Electroencephalography](https://en.wikipedia.org/wiki/Electroencephalography) is a powerful tool for neuroscientists in understanding brain activity.  In EEG, a patient wears a headset with electrodes that measures voltages at a number of points on the scalp.  These voltages arise from ionic currents within the brain.  A common *inverse problem* is to estimate the which parts of the brain caused the measured response.  Source localization is useful in understanding which parts of the brain are involved in certain tasks.  A key challenge in this inverse problem is that the number of unknowns (possible locations in the brain) is much larger than the number of measurements.  In this lab, we will use LASSO regression on a real EEG dataset to overcome this problem and determine the brain region that is active under an auditory stimulus.\n",
    "\n",
    "In addition to learning the concepts in the demo for this unit, you will learn to:\n",
    "* Represent responses of multi-channel time-series data, such as EEG, using linear models\n",
    "* Perform LASSO and Ridge regression\n",
    "* Select the regularization level via cross-validation\n",
    "* Visually compare the sparsity between the solutions\n",
    "\n",
    "We first download some standard packages."
   ]
  },
  {
   "cell_type": "code",
   "execution_count": 1,
   "metadata": {},
   "outputs": [],
   "source": [
    "import numpy as np\n",
    "import matplotlib.pyplot as plt\n",
    "\n",
    "from sklearn.linear_model import Lasso, Ridge, LinearRegression\n",
    "from sklearn.metrics import r2_score\n",
    "\n",
    "from sklearn.preprocessing import StandardScaler\n",
    "\n",
    "from sklearn.model_selection import cross_val_score, GridSearchCV, KFold"
   ]
  },
  {
   "cell_type": "markdown",
   "metadata": {},
   "source": [
    "## Load the Data\n",
    "\n",
    "The data in this lab is taken from one of the sample datasets in the [MNE website](https://martinos.org/mne/stable/index.html). The sample data is a recording from one subject who experienced some auditory stimulus on the left ear.    \n",
    "\n",
    "The raw data is very large (`1.5G`) and also requires that you install the `mne` python package. To make this lab easier, I have extracted and processed a small section of the data.  The following commands will get the data from a `pickle` file `eeg_dat.p` stored remotely and save them in matrices `Xtr` and `Ytr`."
   ]
  },
  {
   "cell_type": "code",
   "execution_count": 2,
   "metadata": {},
   "outputs": [],
   "source": [
    "# import cloudpickle\n",
    "# from urllib.request import urlopen\n",
    "# with urlopen(\"http://www.ece.ohio-state.edu/~schniter/nonpublic/eeg_dat.p\") as fp:\n",
    "#     [Xtr,Ytr] = cloudpickle.load(fp)"
   ]
  },
  {
   "cell_type": "code",
   "execution_count": 3,
   "metadata": {},
   "outputs": [],
   "source": [
    "# load training data\n",
    "Xtr_loadpath = 'Xtr.csv'\n",
    "Xts_loadpath = 'Xts.csv'\n",
    "ytr_loadpath = 'ytr.csv'\n",
    "\n",
    "Xtr = np.loadtxt(Xtr_loadpath, delimiter=\",\")\n",
    "Xts = np.loadtxt(Xts_loadpath, delimiter=\",\")\n",
    "Ytr = np.loadtxt(ytr_loadpath, delimiter=\",\")\n",
    "\n",
    "# standardize the training data\n",
    "Xtr_mean = np.mean(Xtr,axis=0)\n",
    "Xtr_std = np.std(Xtr,axis=0)\n",
    "ytr_mean = np.mean(ytr)\n",
    "ytr_std = np.std(ytr)\n",
    "\n",
    "Xtr_standardized = ((Xtr-Xtr_mean[None,:])/Xtr_std[None,:]) # revise this line as needed\n",
    "Xts_standardized = ((Xts-Xtr_mean[None,:])/Xtr_std[None,:]) # revise this line as needed\n",
    "ytr_standardized = ((ytr-ytr_mean)/ytr_std)\n",
    "\n",
    "# save the standardized training data\n",
    "Xtr_savepath = 'Xtr_pytorch.csv'\n",
    "Xts_savepath = 'Xts_pytorch.csv'\n",
    "ytr_savepath = 'ytr_pytorch.csv'\n",
    "yts_hat_savepath = 'yts_hat_pytorch.csv'\n",
    "\n",
    "np.savetxt(Xtr_savepath, Xtr_standardized, delimiter=\",\")\n",
    "np.savetxt(Xts_savepath, Xts_standardized, delimiter=\",\")\n",
    "np.savetxt(ytr_savepath, ytr_standardized, delimiter=\",\")"
   ]
  },
  {
   "cell_type": "markdown",
   "metadata": {},
   "source": [
    "To understand the data, there are three key variables:  \n",
    "* `nt`    = number of time steps that we measure data\n",
    "* `nchan` = number of channels (i.e. electrodes) measured in each time step\n",
    "* `ncur`  = number of currents in the brain that we want to estimate.\n",
    "\n",
    "Current is measured at each brain region (called a *voxel*) in three separate directions: `x`, `y`, and `z`.  So,\n",
    "\n",
    "    nvoxels = ncur / 3\n",
    "    \n",
    "The components of the `Xtr` and `Ytr` matrices are:\n",
    "*  `Xtr[i,j]` = sensitivity of channel `i` to current `j`\n",
    "*  `Ytr[i,k]` = electric field measurement on channel `i` at time `k`.\n",
    "\n",
    "Using `Xtr.shape` and `Ytr.shape` compute and print `nt`, `nchan`, `ncur` and `nvoxels`."
   ]
  },
  {
   "cell_type": "code",
   "execution_count": 4,
   "metadata": {},
   "outputs": [
    {
     "ename": "ValueError",
     "evalue": "not enough values to unpack (expected 2, got 1)",
     "output_type": "error",
     "traceback": [
      "\u001b[1;31m---------------------------------------------------------------------------\u001b[0m",
      "\u001b[1;31mValueError\u001b[0m                                Traceback (most recent call last)",
      "\u001b[1;32m~\\AppData\\Local\\Temp\\ipykernel_1388\\3630328607.py\u001b[0m in \u001b[0;36m<module>\u001b[1;34m\u001b[0m\n\u001b[0;32m      5\u001b[0m \u001b[1;31m# nvoxels = ...\u001b[0m\u001b[1;33m\u001b[0m\u001b[1;33m\u001b[0m\u001b[0m\n\u001b[0;32m      6\u001b[0m \u001b[0mnchan\u001b[0m\u001b[1;33m,\u001b[0m \u001b[0mncur\u001b[0m \u001b[1;33m=\u001b[0m \u001b[0mXtr\u001b[0m\u001b[1;33m.\u001b[0m\u001b[0mshape\u001b[0m\u001b[1;33m\u001b[0m\u001b[1;33m\u001b[0m\u001b[0m\n\u001b[1;32m----> 7\u001b[1;33m \u001b[0mnchan\u001b[0m\u001b[1;33m,\u001b[0m \u001b[0mnt\u001b[0m \u001b[1;33m=\u001b[0m \u001b[0mYtr\u001b[0m\u001b[1;33m.\u001b[0m\u001b[0mshape\u001b[0m\u001b[1;33m\u001b[0m\u001b[1;33m\u001b[0m\u001b[0m\n\u001b[0m\u001b[0;32m      8\u001b[0m \u001b[0mnvoxels\u001b[0m \u001b[1;33m=\u001b[0m \u001b[0mncur\u001b[0m \u001b[1;33m//\u001b[0m \u001b[1;36m3\u001b[0m \u001b[1;31m# double slash means integer divide\u001b[0m\u001b[1;33m\u001b[0m\u001b[1;33m\u001b[0m\u001b[0m\n\u001b[0;32m      9\u001b[0m \u001b[0mprint\u001b[0m\u001b[1;33m(\u001b[0m\u001b[1;34m'Number channels = %d'\u001b[0m \u001b[1;33m%\u001b[0m \u001b[0mnchan\u001b[0m\u001b[1;33m)\u001b[0m\u001b[1;33m\u001b[0m\u001b[1;33m\u001b[0m\u001b[0m\n",
      "\u001b[1;31mValueError\u001b[0m: not enough values to unpack (expected 2, got 1)"
     ]
    }
   ],
   "source": [
    "# TODO\n",
    "# nt = ...\n",
    "# ncur = ...\n",
    "# nchan = ...\n",
    "# nvoxels = ...\n",
    "nchan, ncur = Xtr.shape\n",
    "nchan, nt = Ytr.shape\n",
    "nvoxels = ncur // 3 # double slash means integer divide\n",
    "print('Number channels = %d' % nchan)\n",
    "print('Number currents = %d' % ncur)\n",
    "print('Number times    = %d' % nt)\n",
    "print('Number voxels   = %d' % nvoxels)"
   ]
  },
  {
   "cell_type": "markdown",
   "metadata": {},
   "source": [
    "## The need for Regularization\n",
    "\n",
    "Our goal is to estimate the currents `W` in the brain from the measurements `Y`.  We will use the linear model\n",
    "\n",
    "    Y[i,k]  ~= sum_j X[i,j]*W[j,k]+ b[k]\n",
    "\n",
    "where `W[j,k]` is the value of current `j` at time `k` and where `b[k]` is the bias at time `k`.  We can solve for the current matrix `W` via linear regression.  \n",
    "\n",
    "Note that this model differs slightly from the linear regression model that we considered in most of the lectures, in the following sense. At sample index `i`, the target is a *vector* `Y[i,:]` (not a scalar `y[i]`). Thus, the regresson coefficients `W[j,:]` must also be *vectors* (rather than a scalars `w[j]`) and the bias `b[:]` must also be a *vector* (rather than a scalar `b`).  In other words, if we considered only a *single* value of `k` in the above model, then we would get a scalar-target model that takes the form `y[i] = sum_j X[i,j]*w[j] + b`.  But in this lab, we have several values of `k`.\n",
    "\n",
    "However, there is a major problem:\n",
    "*  There are `nt` times `ncur` unknowns in `W`\n",
    "*  There are `nt` time `nchan` measurements in `Y`\n",
    "*  `ncur` is much larger than `nchan`.\n",
    "\n",
    "In other words, we have\n",
    "\n",
    "    number of unknowns >> number of measurements\n",
    "    \n",
    "In this case, the least-squares solution is not unique (and the \"A-transpose-A\" matrix we'd like to invert when computing the least-squares solution is not invertible).  We can remedy this problem using regularization.  We first try Ridge regression, and later LASSO."
   ]
  },
  {
   "cell_type": "markdown",
   "metadata": {},
   "source": [
    "## Ridge Regression\n",
    "\n",
    "First, standardize the features using the `StandardScaler` object from `sklearn`."
   ]
  },
  {
   "cell_type": "code",
   "execution_count": 17,
   "metadata": {},
   "outputs": [],
   "source": [
    "#TODO\n",
    "# Xtr =\n",
    "scaler = StandardScaler()\n",
    "Xtr = scaler.fit_transform(Xtr)\n",
    "\n",
    "standardize_Y = True # EITHER IS OKAY, BUT CHOICE AFFECTS alpha GRIDS FOR LASSO and RIDGE\n",
    "if standardize_Y:\n",
    "    Ytr = Ytr.reshape(-1,1)\n",
    "    Ytr = scaler.fit_transform(Ytr) "
   ]
  },
  {
   "cell_type": "markdown",
   "metadata": {},
   "source": [
    "Next, train a Ridge regression model using a regularization weight of `alpha=1` using the `Ridge` object from `sklearn`.\n",
    "Then compute the `R^2` value on the training data using the `r2_score` function and print it out.\n",
    "It should be relatively large."
   ]
  },
  {
   "cell_type": "code",
   "execution_count": 18,
   "metadata": {},
   "outputs": [
    {
     "name": "stdout",
     "output_type": "stream",
     "text": [
      "R^2 training =  0.1717\n"
     ]
    }
   ],
   "source": [
    "# TODO\n",
    "# rsq_tr = \n",
    "ridge = Ridge(alpha=1)\n",
    "ridge.fit(Xtr,Ytr)\n",
    "Yhat = ridge.predict(Xtr)\n",
    "rsq_tr = r2_score(Ytr, Yhat)\n",
    "print('R^2 training = %7.4f' % rsq_tr)"
   ]
  },
  {
   "cell_type": "markdown",
   "metadata": {},
   "source": [
    "Now use `cross_val_score` to compute the `R^2` value using shuffled 5-fold cross-validation.  Use a fixed random seed for consistency across experiments.\n",
    "You should see that the cross-validated `R^2` value is very low.\n",
    "Remember that cross-validation aims to estimate the performance of a model on unseen test data.\n",
    "The fact that the training `R^2` is high and the test `R^2` is low means that this model is over-fitting."
   ]
  },
  {
   "cell_type": "code",
   "execution_count": 19,
   "metadata": {},
   "outputs": [
    {
     "name": "stdout",
     "output_type": "stream",
     "text": [
      "cross-validation R^2 = 0.163683\n"
     ]
    }
   ],
   "source": [
    "#TODO \n",
    "#kf = KFold(n_splits=5,shuffle=True,random_state=0)\n",
    "#rsq_cv = ...\n",
    "kf = KFold(n_splits=5,shuffle=True,random_state=0)\n",
    "scores = cross_val_score(ridge, Xtr, Ytr, cv=kf, scoring='r2')\n",
    "rsq_cv = np.mean(scores)\n",
    "print(\"cross-validation R^2 = %f\" % rsq_cv)"
   ]
  },
  {
   "cell_type": "markdown",
   "metadata": {},
   "source": [
    "Next, try to see if you can get a better `R^2` score using a different value of `alpha`.  \n",
    "In particular, use 5-fold cross-validation to find the largest `R^2` for 20 `alpha` values logarithmically spaced from `10^3` to `10^6` (use `np.logspace()`), as well as the maximizing value of `alpha`. \n",
    "Use `GridSearchCV` for this task with the appropriate scoring choice."
   ]
  },
  {
   "cell_type": "code",
   "execution_count": 20,
   "metadata": {},
   "outputs": [],
   "source": [
    "# TODO\n",
    "# \n",
    "# alphas_ridge = ...\n",
    "# rsq_cv = ...\n",
    "# ...\n",
    "# for i,a in enumerate(alphas_ridge):\n",
    "#    print('alpha=%12.4e rsq=%7.4f' % (a,rsq_cv[i]))\n",
    "\n",
    "alphas_ridge = np.logspace(3,6,20)\n",
    "parameters = {'alpha': alphas_ridge}\n",
    "gscv = GridSearchCV(ridge, parameters, cv=kf, scoring='r2')\n",
    "gscv.fit(Xtr,Ytr)\n",
    "rsq_cv = gscv.cv_results_['mean_test_score']\n",
    "rsq_cv_ridge = gscv.best_score_\n",
    "alpha_max = gscv.best_params_['alpha']"
   ]
  },
  {
   "cell_type": "markdown",
   "metadata": {},
   "source": [
    "Plot the cross-validation `R^2` vs. `alpha` and mark the maximum `R^2` and maximizing `alpha`.  You should see that the maximum `R^2` is much better than with `alpha=1`."
   ]
  },
  {
   "cell_type": "code",
   "execution_count": 21,
   "metadata": {},
   "outputs": [
    {
     "data": {
      "image/png": "[encoded data removed]",
      "text/plain": [
       "<Figure size 640x480 with 1 Axes>"
      ]
     },
     "metadata": {},
     "output_type": "display_data"
    },
    {
     "name": "stdout",
     "output_type": "stream",
     "text": [
      "cross-validation R^2 = 0.138179\n"
     ]
    }
   ],
   "source": [
    "# TODO\n",
    "plt.semilogx(alphas_ridge, rsq_cv, '.-')\n",
    "plt.semilogx(alpha_max, rsq_cv_ridge, 'r^')\n",
    "plt.legend(['R^2', 'max(R^2)'],loc='best')\n",
    "plt.xlabel('alpha_ridge')\n",
    "plt.ylabel('Rsq')\n",
    "plt.grid()\n",
    "plt.show()\n",
    "\n",
    "print(\"cross-validation R^2 = %f\" % rsq_cv_ridge)"
   ]
  },
  {
   "cell_type": "markdown",
   "metadata": {},
   "source": [
    "Now, let's take a closer look at the solution. \n",
    "* Extract the matrix `W` of optimally tuned ridge coefficients from the output of GridSearchCV.  These are stored in `best_estimator_.coef_` in transposed form, so apply a transpose to get `W` as we defined it above.\n",
    "* For each current `j` compute `Wrms[j] =  sqrt( sum_k W[j,k]**2 )`, which is the root-mean-squared value across time.\n",
    "* Finally, plot the `Wrms` vector with `j` on the horizontal axis.\n",
    "\n",
    "You will see that the RMS current vector `Wrms` is not sparse.  This means that the solution found by Ridge regression allows non-zero currents in all locations."
   ]
  },
  {
   "cell_type": "code",
   "execution_count": 22,
   "metadata": {},
   "outputs": [
    {
     "ename": "ValueError",
     "evalue": "x and y must be the same size",
     "output_type": "error",
     "traceback": [
      "\u001b[1;31m---------------------------------------------------------------------------\u001b[0m",
      "\u001b[1;31mValueError\u001b[0m                                Traceback (most recent call last)",
      "\u001b[1;32m~\\AppData\\Local\\Temp\\ipykernel_1388\\906991593.py\u001b[0m in \u001b[0;36m<module>\u001b[1;34m\u001b[0m\n\u001b[0;32m     14\u001b[0m \u001b[1;31m# scatter plot... another option\u001b[0m\u001b[1;33m\u001b[0m\u001b[1;33m\u001b[0m\u001b[0m\n\u001b[0;32m     15\u001b[0m \u001b[0mplt\u001b[0m\u001b[1;33m.\u001b[0m\u001b[0mfigure\u001b[0m\u001b[1;33m(\u001b[0m\u001b[1;33m)\u001b[0m\u001b[1;33m\u001b[0m\u001b[1;33m\u001b[0m\u001b[0m\n\u001b[1;32m---> 16\u001b[1;33m \u001b[0mplt\u001b[0m\u001b[1;33m.\u001b[0m\u001b[0mscatter\u001b[0m\u001b[1;33m(\u001b[0m\u001b[0mnp\u001b[0m\u001b[1;33m.\u001b[0m\u001b[0marange\u001b[0m\u001b[1;33m(\u001b[0m\u001b[0mncur\u001b[0m\u001b[1;33m)\u001b[0m\u001b[1;33m,\u001b[0m\u001b[0mW_ridge_rms\u001b[0m\u001b[1;33m)\u001b[0m\u001b[1;33m\u001b[0m\u001b[1;33m\u001b[0m\u001b[0m\n\u001b[0m\u001b[0;32m     17\u001b[0m \u001b[0mplt\u001b[0m\u001b[1;33m.\u001b[0m\u001b[0mgrid\u001b[0m\u001b[1;33m(\u001b[0m\u001b[1;33m)\u001b[0m\u001b[1;33m\u001b[0m\u001b[1;33m\u001b[0m\u001b[0m\n\u001b[0;32m     18\u001b[0m \u001b[0mplt\u001b[0m\u001b[1;33m.\u001b[0m\u001b[0mylabel\u001b[0m\u001b[1;33m(\u001b[0m\u001b[1;34m'rms(W)'\u001b[0m\u001b[1;33m)\u001b[0m\u001b[1;33m;\u001b[0m\u001b[1;33m\u001b[0m\u001b[1;33m\u001b[0m\u001b[0m\n",
      "\u001b[1;32m~\\anaconda3\\lib\\site-packages\\matplotlib\\pyplot.py\u001b[0m in \u001b[0;36mscatter\u001b[1;34m(x, y, s, c, marker, cmap, norm, vmin, vmax, alpha, linewidths, edgecolors, plotnonfinite, data, **kwargs)\u001b[0m\n\u001b[0;32m   2817\u001b[0m         \u001b[0mvmin\u001b[0m\u001b[1;33m=\u001b[0m\u001b[1;32mNone\u001b[0m\u001b[1;33m,\u001b[0m \u001b[0mvmax\u001b[0m\u001b[1;33m=\u001b[0m\u001b[1;32mNone\u001b[0m\u001b[1;33m,\u001b[0m \u001b[0malpha\u001b[0m\u001b[1;33m=\u001b[0m\u001b[1;32mNone\u001b[0m\u001b[1;33m,\u001b[0m \u001b[0mlinewidths\u001b[0m\u001b[1;33m=\u001b[0m\u001b[1;32mNone\u001b[0m\u001b[1;33m,\u001b[0m \u001b[1;33m*\u001b[0m\u001b[1;33m,\u001b[0m\u001b[1;33m\u001b[0m\u001b[1;33m\u001b[0m\u001b[0m\n\u001b[0;32m   2818\u001b[0m         edgecolors=None, plotnonfinite=False, data=None, **kwargs):\n\u001b[1;32m-> 2819\u001b[1;33m     __ret = gca().scatter(\n\u001b[0m\u001b[0;32m   2820\u001b[0m         \u001b[0mx\u001b[0m\u001b[1;33m,\u001b[0m \u001b[0my\u001b[0m\u001b[1;33m,\u001b[0m \u001b[0ms\u001b[0m\u001b[1;33m=\u001b[0m\u001b[0ms\u001b[0m\u001b[1;33m,\u001b[0m \u001b[0mc\u001b[0m\u001b[1;33m=\u001b[0m\u001b[0mc\u001b[0m\u001b[1;33m,\u001b[0m \u001b[0mmarker\u001b[0m\u001b[1;33m=\u001b[0m\u001b[0mmarker\u001b[0m\u001b[1;33m,\u001b[0m \u001b[0mcmap\u001b[0m\u001b[1;33m=\u001b[0m\u001b[0mcmap\u001b[0m\u001b[1;33m,\u001b[0m \u001b[0mnorm\u001b[0m\u001b[1;33m=\u001b[0m\u001b[0mnorm\u001b[0m\u001b[1;33m,\u001b[0m\u001b[1;33m\u001b[0m\u001b[1;33m\u001b[0m\u001b[0m\n\u001b[0;32m   2821\u001b[0m         \u001b[0mvmin\u001b[0m\u001b[1;33m=\u001b[0m\u001b[0mvmin\u001b[0m\u001b[1;33m,\u001b[0m \u001b[0mvmax\u001b[0m\u001b[1;33m=\u001b[0m\u001b[0mvmax\u001b[0m\u001b[1;33m,\u001b[0m \u001b[0malpha\u001b[0m\u001b[1;33m=\u001b[0m\u001b[0malpha\u001b[0m\u001b[1;33m,\u001b[0m \u001b[0mlinewidths\u001b[0m\u001b[1;33m=\u001b[0m\u001b[0mlinewidths\u001b[0m\u001b[1;33m,\u001b[0m\u001b[1;33m\u001b[0m\u001b[1;33m\u001b[0m\u001b[0m\n",
      "\u001b[1;32m~\\anaconda3\\lib\\site-packages\\matplotlib\\__init__.py\u001b[0m in \u001b[0;36minner\u001b[1;34m(ax, data, *args, **kwargs)\u001b[0m\n\u001b[0;32m   1410\u001b[0m     \u001b[1;32mdef\u001b[0m \u001b[0minner\u001b[0m\u001b[1;33m(\u001b[0m\u001b[0max\u001b[0m\u001b[1;33m,\u001b[0m \u001b[1;33m*\u001b[0m\u001b[0margs\u001b[0m\u001b[1;33m,\u001b[0m \u001b[0mdata\u001b[0m\u001b[1;33m=\u001b[0m\u001b[1;32mNone\u001b[0m\u001b[1;33m,\u001b[0m \u001b[1;33m**\u001b[0m\u001b[0mkwargs\u001b[0m\u001b[1;33m)\u001b[0m\u001b[1;33m:\u001b[0m\u001b[1;33m\u001b[0m\u001b[1;33m\u001b[0m\u001b[0m\n\u001b[0;32m   1411\u001b[0m         \u001b[1;32mif\u001b[0m \u001b[0mdata\u001b[0m \u001b[1;32mis\u001b[0m \u001b[1;32mNone\u001b[0m\u001b[1;33m:\u001b[0m\u001b[1;33m\u001b[0m\u001b[1;33m\u001b[0m\u001b[0m\n\u001b[1;32m-> 1412\u001b[1;33m             \u001b[1;32mreturn\u001b[0m \u001b[0mfunc\u001b[0m\u001b[1;33m(\u001b[0m\u001b[0max\u001b[0m\u001b[1;33m,\u001b[0m \u001b[1;33m*\u001b[0m\u001b[0mmap\u001b[0m\u001b[1;33m(\u001b[0m\u001b[0msanitize_sequence\u001b[0m\u001b[1;33m,\u001b[0m \u001b[0margs\u001b[0m\u001b[1;33m)\u001b[0m\u001b[1;33m,\u001b[0m \u001b[1;33m**\u001b[0m\u001b[0mkwargs\u001b[0m\u001b[1;33m)\u001b[0m\u001b[1;33m\u001b[0m\u001b[1;33m\u001b[0m\u001b[0m\n\u001b[0m\u001b[0;32m   1413\u001b[0m \u001b[1;33m\u001b[0m\u001b[0m\n\u001b[0;32m   1414\u001b[0m         \u001b[0mbound\u001b[0m \u001b[1;33m=\u001b[0m \u001b[0mnew_sig\u001b[0m\u001b[1;33m.\u001b[0m\u001b[0mbind\u001b[0m\u001b[1;33m(\u001b[0m\u001b[0max\u001b[0m\u001b[1;33m,\u001b[0m \u001b[1;33m*\u001b[0m\u001b[0margs\u001b[0m\u001b[1;33m,\u001b[0m \u001b[1;33m**\u001b[0m\u001b[0mkwargs\u001b[0m\u001b[1;33m)\u001b[0m\u001b[1;33m\u001b[0m\u001b[1;33m\u001b[0m\u001b[0m\n",
      "\u001b[1;32m~\\anaconda3\\lib\\site-packages\\matplotlib\\axes\\_axes.py\u001b[0m in \u001b[0;36mscatter\u001b[1;34m(self, x, y, s, c, marker, cmap, norm, vmin, vmax, alpha, linewidths, edgecolors, plotnonfinite, **kwargs)\u001b[0m\n\u001b[0;32m   4360\u001b[0m         \u001b[0my\u001b[0m \u001b[1;33m=\u001b[0m \u001b[0mnp\u001b[0m\u001b[1;33m.\u001b[0m\u001b[0mma\u001b[0m\u001b[1;33m.\u001b[0m\u001b[0mravel\u001b[0m\u001b[1;33m(\u001b[0m\u001b[0my\u001b[0m\u001b[1;33m)\u001b[0m\u001b[1;33m\u001b[0m\u001b[1;33m\u001b[0m\u001b[0m\n\u001b[0;32m   4361\u001b[0m         \u001b[1;32mif\u001b[0m \u001b[0mx\u001b[0m\u001b[1;33m.\u001b[0m\u001b[0msize\u001b[0m \u001b[1;33m!=\u001b[0m \u001b[0my\u001b[0m\u001b[1;33m.\u001b[0m\u001b[0msize\u001b[0m\u001b[1;33m:\u001b[0m\u001b[1;33m\u001b[0m\u001b[1;33m\u001b[0m\u001b[0m\n\u001b[1;32m-> 4362\u001b[1;33m             \u001b[1;32mraise\u001b[0m \u001b[0mValueError\u001b[0m\u001b[1;33m(\u001b[0m\u001b[1;34m\"x and y must be the same size\"\u001b[0m\u001b[1;33m)\u001b[0m\u001b[1;33m\u001b[0m\u001b[1;33m\u001b[0m\u001b[0m\n\u001b[0m\u001b[0;32m   4363\u001b[0m \u001b[1;33m\u001b[0m\u001b[0m\n\u001b[0;32m   4364\u001b[0m         \u001b[1;32mif\u001b[0m \u001b[0ms\u001b[0m \u001b[1;32mis\u001b[0m \u001b[1;32mNone\u001b[0m\u001b[1;33m:\u001b[0m\u001b[1;33m\u001b[0m\u001b[1;33m\u001b[0m\u001b[0m\n",
      "\u001b[1;31mValueError\u001b[0m: x and y must be the same size"
     ]
    },
    {
     "data": {
      "image/png": "[encoded data removed]",
      "text/plain": [
       "<Figure size 640x480 with 1 Axes>"
      ]
     },
     "metadata": {},
     "output_type": "display_data"
    },
    {
     "data": {
      "image/png": "[encoded data removed]",
      "text/plain": [
       "<Figure size 640x480 with 1 Axes>"
      ]
     },
     "metadata": {},
     "output_type": "display_data"
    }
   ],
   "source": [
    "# TODO\n",
    "#\n",
    "#W_ridge = ...\n",
    "#W_ridge_rms = ...\n",
    "\n",
    "W_ridge = gscv.best_estimator_.coef_.T\n",
    "W_ridge_rms = np.sqrt(np.sum(W_ridge**2, axis=0))\n",
    "\n",
    "# regular plot\n",
    "plt.plot(W_ridge_rms)\n",
    "plt.grid()\n",
    "plt.ylabel('rms(W)')\n",
    "\n",
    "# scatter plot... another option\n",
    "plt.figure()\n",
    "plt.scatter(np.arange(ncur),W_ridge_rms) \n",
    "plt.grid()\n",
    "plt.ylabel('rms(W)');"
   ]
  },
  {
   "cell_type": "markdown",
   "metadata": {},
   "source": [
    "## LASSO Regression\n",
    "\n",
    "We can improve the estimate by setting a large fraction of the coefficients to zero.  Biologically, we expect that only a limited number of brain regions should be involved in the response to a particular stimuli.  As a result, we expect that the current matrix `W[j,k]` should be zero-valued for most locations `j` at each time `k`.  We can find such a solution using LASSO with an appropriate regularization strength `alpha`.\n",
    "\n",
    "First, fit a LASSO model to the training data with `alpha=1e-2`.  In sklearn's `Lasso`, set `max_iter=100`, `tol=0.01`, and `warm_start=True` to speed things up.  The LASSO solver is much slower than the Ridge solver, so this may take a minute."
   ]
  },
  {
   "cell_type": "code",
   "execution_count": 23,
   "metadata": {},
   "outputs": [
    {
     "data": {
      "text/plain": [
       "Lasso(alpha=0.01, max_iter=100, tol=0.01, warm_start=True)"
      ]
     },
     "execution_count": 23,
     "metadata": {},
     "output_type": "execute_result"
    }
   ],
   "source": [
    "# TODO\n",
    "lasso = Lasso(alpha = 1e-2, max_iter=100, tol=0.01, warm_start=True)\n",
    "lasso.fit(Xtr,Ytr)"
   ]
  },
  {
   "cell_type": "markdown",
   "metadata": {},
   "source": [
    "Next, estimate the `R^2` value using the same 5-fold cross-validation object you created earlier using `cross_val_score`.  Be patient as this may take a few minutes.  You should get a better `R^2` than you did with Ridge regression.  "
   ]
  },
  {
   "cell_type": "code",
   "execution_count": 24,
   "metadata": {},
   "outputs": [
    {
     "name": "stdout",
     "output_type": "stream",
     "text": [
      "cross-validation R^2 = 0.148031\n"
     ]
    }
   ],
   "source": [
    "# TODO\n",
    "#rsq_cv = \n",
    "\n",
    "scores = cross_val_score(lasso, Xtr, Ytr, cv=kf, scoring='r2')\n",
    "rsq_cv = np.mean(scores)\n",
    "print(\"cross-validation R^2 = %f\" % rsq_cv)"
   ]
  },
  {
   "cell_type": "markdown",
   "metadata": {},
   "source": [
    "Still, the value `alpha=1e-2` was only a guess.  We should do even better with a properly tuned `alpha`. "
   ]
  },
  {
   "cell_type": "markdown",
   "metadata": {},
   "source": [
    "##  LASSO Feature Selection + LS Linear Regression\n",
    "\n",
    "We know that LASSO does two things: it sets a subset of coefficients to zero and it shrinks \n",
    "the remaining coefficients towards zero. \n",
    "Since this coefficient shrinkage is often problematic, it is typical to use LASSO only for feature selection.\n",
    "Once features are selected by LASSO, another regression method is applied to those features, such as LS-based linear regression.\n",
    "We'll call this method \"LASSO+LS\".\n",
    "It is also known as \"debiased LASSO\".\n",
    "\n",
    "Your next task is use a grid search to tune `alpha` for LASSO+LS. \n",
    "For consistency, use the same shuffled 5-fold cross-validation object `kf` that you created earlier.\n",
    "Make a log-spaced grid with 5 values for `alpha`. \n",
    "(It's up to you to choose the values.)\n",
    "Then make a `for` loop over the grid values, doing the following for each `alpha`:\n",
    "* Fit a LASSO model to the entire training data and identify the feature subset where the LASSO coefficients are non-zero.\n",
    "* Print out `alpha` and the number of selected features\n",
    "* Using those features, fit a least-squares model and evaluate the R^2 value using `cross_val_score`.\n",
    "When you have done this for all grid points, plot the CV-estimated R^2 versus `alpha` and mark the maximum R^2 and maximizing value of `alpha`. \n",
    "\n",
    "Do the above several times for different choices of `alpha` grid until you find a grid where R^2 peaks in the middle and with fine enough grid resolution to identify a good R^2 value.\n",
    "If you see lasso selecting zero features for some `alpha`, you know that value of `alpha` is too high."
   ]
  },
  {
   "cell_type": "code",
   "execution_count": 25,
   "metadata": {},
   "outputs": [
    {
     "name": "stdout",
     "output_type": "stream",
     "text": [
      "alpha = 0.19952623149688797, num_features = 1\n",
      "alpha = 0.251188643150958, num_features = 0\n",
      "alpha = 0.31622776601683794, num_features = 0\n",
      "alpha = 0.39810717055349726, num_features = 0\n",
      "alpha = 0.5011872336272722, num_features = 0\n",
      "cross-validation R^2 = nan\n"
     ]
    },
    {
     "name": "stderr",
     "output_type": "stream",
     "text": [
      "C:\\Users\\BassD\\anaconda3\\lib\\site-packages\\sklearn\\model_selection\\_validation.py:372: FitFailedWarning: \n",
      "5 fits failed out of a total of 5.\n",
      "The score on these train-test partitions for these parameters will be set to nan.\n",
      "If these failures are not expected, you can try to debug them by setting error_score='raise'.\n",
      "\n",
      "Below are more details about the failures:\n",
      "--------------------------------------------------------------------------------\n",
      "5 fits failed with the following error:\n",
      "Traceback (most recent call last):\n",
      "  File \"C:\\Users\\BassD\\anaconda3\\lib\\site-packages\\sklearn\\model_selection\\_validation.py\", line 680, in _fit_and_score\n",
      "    estimator.fit(X_train, y_train, **fit_params)\n",
      "  File \"C:\\Users\\BassD\\anaconda3\\lib\\site-packages\\sklearn\\linear_model\\_base.py\", line 662, in fit\n",
      "    X, y = self._validate_data(\n",
      "  File \"C:\\Users\\BassD\\anaconda3\\lib\\site-packages\\sklearn\\base.py\", line 581, in _validate_data\n",
      "    X, y = check_X_y(X, y, **check_params)\n",
      "  File \"C:\\Users\\BassD\\anaconda3\\lib\\site-packages\\sklearn\\utils\\validation.py\", line 964, in check_X_y\n",
      "    X = check_array(\n",
      "  File \"C:\\Users\\BassD\\anaconda3\\lib\\site-packages\\sklearn\\utils\\validation.py\", line 814, in check_array\n",
      "    raise ValueError(\n",
      "ValueError: Found array with 0 feature(s) (shape=(8000, 0)) while a minimum of 1 is required.\n",
      "\n",
      "  warnings.warn(some_fits_failed_message, FitFailedWarning)\n",
      "C:\\Users\\BassD\\anaconda3\\lib\\site-packages\\sklearn\\model_selection\\_validation.py:372: FitFailedWarning: \n",
      "5 fits failed out of a total of 5.\n",
      "The score on these train-test partitions for these parameters will be set to nan.\n",
      "If these failures are not expected, you can try to debug them by setting error_score='raise'.\n",
      "\n",
      "Below are more details about the failures:\n",
      "--------------------------------------------------------------------------------\n",
      "5 fits failed with the following error:\n",
      "Traceback (most recent call last):\n",
      "  File \"C:\\Users\\BassD\\anaconda3\\lib\\site-packages\\sklearn\\model_selection\\_validation.py\", line 680, in _fit_and_score\n",
      "    estimator.fit(X_train, y_train, **fit_params)\n",
      "  File \"C:\\Users\\BassD\\anaconda3\\lib\\site-packages\\sklearn\\linear_model\\_base.py\", line 662, in fit\n",
      "    X, y = self._validate_data(\n",
      "  File \"C:\\Users\\BassD\\anaconda3\\lib\\site-packages\\sklearn\\base.py\", line 581, in _validate_data\n",
      "    X, y = check_X_y(X, y, **check_params)\n",
      "  File \"C:\\Users\\BassD\\anaconda3\\lib\\site-packages\\sklearn\\utils\\validation.py\", line 964, in check_X_y\n",
      "    X = check_array(\n",
      "  File \"C:\\Users\\BassD\\anaconda3\\lib\\site-packages\\sklearn\\utils\\validation.py\", line 814, in check_array\n",
      "    raise ValueError(\n",
      "ValueError: Found array with 0 feature(s) (shape=(8000, 0)) while a minimum of 1 is required.\n",
      "\n",
      "  warnings.warn(some_fits_failed_message, FitFailedWarning)\n",
      "C:\\Users\\BassD\\anaconda3\\lib\\site-packages\\sklearn\\model_selection\\_validation.py:372: FitFailedWarning: \n",
      "5 fits failed out of a total of 5.\n",
      "The score on these train-test partitions for these parameters will be set to nan.\n",
      "If these failures are not expected, you can try to debug them by setting error_score='raise'.\n",
      "\n",
      "Below are more details about the failures:\n",
      "--------------------------------------------------------------------------------\n",
      "5 fits failed with the following error:\n",
      "Traceback (most recent call last):\n",
      "  File \"C:\\Users\\BassD\\anaconda3\\lib\\site-packages\\sklearn\\model_selection\\_validation.py\", line 680, in _fit_and_score\n",
      "    estimator.fit(X_train, y_train, **fit_params)\n",
      "  File \"C:\\Users\\BassD\\anaconda3\\lib\\site-packages\\sklearn\\linear_model\\_base.py\", line 662, in fit\n",
      "    X, y = self._validate_data(\n",
      "  File \"C:\\Users\\BassD\\anaconda3\\lib\\site-packages\\sklearn\\base.py\", line 581, in _validate_data\n",
      "    X, y = check_X_y(X, y, **check_params)\n",
      "  File \"C:\\Users\\BassD\\anaconda3\\lib\\site-packages\\sklearn\\utils\\validation.py\", line 964, in check_X_y\n",
      "    X = check_array(\n",
      "  File \"C:\\Users\\BassD\\anaconda3\\lib\\site-packages\\sklearn\\utils\\validation.py\", line 814, in check_array\n",
      "    raise ValueError(\n",
      "ValueError: Found array with 0 feature(s) (shape=(8000, 0)) while a minimum of 1 is required.\n",
      "\n",
      "  warnings.warn(some_fits_failed_message, FitFailedWarning)\n",
      "C:\\Users\\BassD\\anaconda3\\lib\\site-packages\\sklearn\\model_selection\\_validation.py:372: FitFailedWarning: \n",
      "5 fits failed out of a total of 5.\n",
      "The score on these train-test partitions for these parameters will be set to nan.\n",
      "If these failures are not expected, you can try to debug them by setting error_score='raise'.\n",
      "\n",
      "Below are more details about the failures:\n",
      "--------------------------------------------------------------------------------\n",
      "5 fits failed with the following error:\n",
      "Traceback (most recent call last):\n",
      "  File \"C:\\Users\\BassD\\anaconda3\\lib\\site-packages\\sklearn\\model_selection\\_validation.py\", line 680, in _fit_and_score\n",
      "    estimator.fit(X_train, y_train, **fit_params)\n",
      "  File \"C:\\Users\\BassD\\anaconda3\\lib\\site-packages\\sklearn\\linear_model\\_base.py\", line 662, in fit\n",
      "    X, y = self._validate_data(\n",
      "  File \"C:\\Users\\BassD\\anaconda3\\lib\\site-packages\\sklearn\\base.py\", line 581, in _validate_data\n",
      "    X, y = check_X_y(X, y, **check_params)\n",
      "  File \"C:\\Users\\BassD\\anaconda3\\lib\\site-packages\\sklearn\\utils\\validation.py\", line 964, in check_X_y\n",
      "    X = check_array(\n",
      "  File \"C:\\Users\\BassD\\anaconda3\\lib\\site-packages\\sklearn\\utils\\validation.py\", line 814, in check_array\n",
      "    raise ValueError(\n",
      "ValueError: Found array with 0 feature(s) (shape=(8000, 0)) while a minimum of 1 is required.\n",
      "\n",
      "  warnings.warn(some_fits_failed_message, FitFailedWarning)\n"
     ]
    },
    {
     "data": {
      "image/png": "[encoded data removed]",
      "text/plain": [
       "<Figure size 640x480 with 1 Axes>"
      ]
     },
     "metadata": {},
     "output_type": "display_data"
    }
   ],
   "source": [
    "# To extract the feature subset...\n",
    "#   nonzero = np.any(np.abs(lasso.coef_)>1e-5,axis=0)\n",
    "#   subset = np.where(nonzero)[0] # array of feature indices\n",
    "#\n",
    "# TODO:\n",
    "#\n",
    "# alphas_lasso = ...\n",
    "# for i,a in enumerate(alphas_lasso):\n",
    "#    ...\n",
    "#    rsq_cv[i] = ...\n",
    "#\n",
    "# plt.plot(...)\n",
    "\n",
    "linreg = LinearRegression()\n",
    "\n",
    "if standardize_Y:\n",
    "    alphas_lasso = np.logspace(-0.7,-0.3,5) # if Ytr is standardized\n",
    "else:\n",
    "    alphas_lasso = np.logspace(-1.3,-0.8,5) # if Ytr is unstandardized\n",
    "\n",
    "rsq_cv = np.zeros(len(alphas_lasso))\n",
    "for i,a in enumerate(alphas_lasso):\n",
    "    # fit LASSO\n",
    "    lasso.set_params(alpha = a, warm_start=True)\n",
    "    lasso.fit(Xtr,Ytr)\n",
    "    # feature selection\n",
    "    nonzero = np.any(np.abs(lasso.coef_)>1e-5,axis=0)\n",
    "    subset = np.where(nonzero)[0] # array of feature indices\n",
    "    print(\"alpha = \"+str(a)+\", num_features = \"+str(len(subset)))\n",
    "    # fit LS and compute CV-R^2\n",
    "    scores = cross_val_score(linreg, Xtr[:, subset], Ytr, cv=kf, scoring='r2')\n",
    "    rsq_cv[i] = np.mean(scores)\n",
    "\n",
    "imax = np.argmax(rsq_cv)\n",
    "alpha_lasso_max = alphas_lasso[imax]\n",
    "rsq_cv_lasso_max = rsq_cv[imax]    \n",
    "    \n",
    "print(\"cross-validation R^2 = %f\" % rsq_cv_lasso_max)\n",
    "    \n",
    "plt.semilogx(alphas_lasso, rsq_cv, '.-')\n",
    "plt.semilogx(alpha_lasso_max, rsq_cv_lasso_max, 'r^')\n",
    "plt.legend(['R^2', 'max(R^2)'],loc='best')\n",
    "plt.xlabel('alpha_lasso')\n",
    "plt.ylabel('Rsq')\n",
    "plt.grid()\n",
    "plt.show()"
   ]
  },
  {
   "cell_type": "markdown",
   "metadata": {},
   "source": [
    "You should see that LASSO+LS with a tuned `alpha` performs similarly to the untuned LASSO from earlier.\n",
    "\n",
    "One reason that tuned LASSO+LS is not much better than untuned LASSO is that LASSO's coefficient shrinkage may actually be helping with this dataset.  Remember that Ridge regression is another method that shrinks coefficients, and it is known to help with correlated features.  The features in this dataset are definitely correlated, so perhaps we should try performing Ridge regression on LASSO-selected features.\n",
    "\n",
    "Before we do that, though, let's plot the RMS values of the biased LASSO coefficients (at the optimal `alpha`), similarly to how you plotted the Ridge coefficients earlier. \n",
    "To do this, you'll first need to re-fit LASSO.\n",
    "\n",
    "In addition, let's also plot the RMS values of the LASSO+LS coefficients for comparison.\n",
    "To do this, you'll need to compute the LS weights on the LASSO-selected features using `linreg.fit`.\n",
    "This will give you only the values of the few nonzero weights selected by LASSO. \n",
    "So, to plot the LASSO+LS coefficients, you'll need to first make an all-zeros array and then insert the LS weights in the locations of the selected features."
   ]
  },
  {
   "cell_type": "code",
   "execution_count": 26,
   "metadata": {},
   "outputs": [
    {
     "ename": "AxisError",
     "evalue": "axis 1 is out of bounds for array of dimension 1",
     "output_type": "error",
     "traceback": [
      "\u001b[1;31m---------------------------------------------------------------------------\u001b[0m",
      "\u001b[1;31mAxisError\u001b[0m                                 Traceback (most recent call last)",
      "\u001b[1;32m~\\AppData\\Local\\Temp\\ipykernel_1388\\1940529889.py\u001b[0m in \u001b[0;36m<module>\u001b[1;34m\u001b[0m\n\u001b[0;32m     17\u001b[0m \u001b[0msubset\u001b[0m \u001b[1;33m=\u001b[0m \u001b[0mnp\u001b[0m\u001b[1;33m.\u001b[0m\u001b[0mwhere\u001b[0m\u001b[1;33m(\u001b[0m\u001b[0mnonzero\u001b[0m\u001b[1;33m)\u001b[0m\u001b[1;33m[\u001b[0m\u001b[1;36m0\u001b[0m\u001b[1;33m]\u001b[0m \u001b[1;31m# array of feature indices\u001b[0m\u001b[1;33m\u001b[0m\u001b[1;33m\u001b[0m\u001b[0m\n\u001b[0;32m     18\u001b[0m \u001b[0mW_lasso\u001b[0m \u001b[1;33m=\u001b[0m \u001b[0mlasso\u001b[0m\u001b[1;33m.\u001b[0m\u001b[0mcoef_\u001b[0m\u001b[1;33m.\u001b[0m\u001b[0mT\u001b[0m\u001b[1;33m\u001b[0m\u001b[1;33m\u001b[0m\u001b[0m\n\u001b[1;32m---> 19\u001b[1;33m \u001b[0mW_lasso_rms\u001b[0m \u001b[1;33m=\u001b[0m \u001b[0mnp\u001b[0m\u001b[1;33m.\u001b[0m\u001b[0msqrt\u001b[0m\u001b[1;33m(\u001b[0m\u001b[0mnp\u001b[0m\u001b[1;33m.\u001b[0m\u001b[0msum\u001b[0m\u001b[1;33m(\u001b[0m\u001b[0mW_lasso\u001b[0m\u001b[1;33m**\u001b[0m\u001b[1;36m2\u001b[0m\u001b[1;33m,\u001b[0m \u001b[0maxis\u001b[0m\u001b[1;33m=\u001b[0m\u001b[1;36m1\u001b[0m\u001b[1;33m)\u001b[0m\u001b[1;33m)\u001b[0m\u001b[1;33m\u001b[0m\u001b[1;33m\u001b[0m\u001b[0m\n\u001b[0m\u001b[0;32m     20\u001b[0m \u001b[1;33m\u001b[0m\u001b[0m\n\u001b[0;32m     21\u001b[0m \u001b[1;31m# fit lasso-selected coefficients using LS linear regression\u001b[0m\u001b[1;33m\u001b[0m\u001b[1;33m\u001b[0m\u001b[0m\n",
      "\u001b[1;32m<__array_function__ internals>\u001b[0m in \u001b[0;36msum\u001b[1;34m(*args, **kwargs)\u001b[0m\n",
      "\u001b[1;32m~\\anaconda3\\lib\\site-packages\\numpy\\core\\fromnumeric.py\u001b[0m in \u001b[0;36msum\u001b[1;34m(a, axis, dtype, out, keepdims, initial, where)\u001b[0m\n\u001b[0;32m   2257\u001b[0m         \u001b[1;32mreturn\u001b[0m \u001b[0mres\u001b[0m\u001b[1;33m\u001b[0m\u001b[1;33m\u001b[0m\u001b[0m\n\u001b[0;32m   2258\u001b[0m \u001b[1;33m\u001b[0m\u001b[0m\n\u001b[1;32m-> 2259\u001b[1;33m     return _wrapreduction(a, np.add, 'sum', axis, dtype, out, keepdims=keepdims,\n\u001b[0m\u001b[0;32m   2260\u001b[0m                           initial=initial, where=where)\n\u001b[0;32m   2261\u001b[0m \u001b[1;33m\u001b[0m\u001b[0m\n",
      "\u001b[1;32m~\\anaconda3\\lib\\site-packages\\numpy\\core\\fromnumeric.py\u001b[0m in \u001b[0;36m_wrapreduction\u001b[1;34m(obj, ufunc, method, axis, dtype, out, **kwargs)\u001b[0m\n\u001b[0;32m     84\u001b[0m                 \u001b[1;32mreturn\u001b[0m \u001b[0mreduction\u001b[0m\u001b[1;33m(\u001b[0m\u001b[0maxis\u001b[0m\u001b[1;33m=\u001b[0m\u001b[0maxis\u001b[0m\u001b[1;33m,\u001b[0m \u001b[0mout\u001b[0m\u001b[1;33m=\u001b[0m\u001b[0mout\u001b[0m\u001b[1;33m,\u001b[0m \u001b[1;33m**\u001b[0m\u001b[0mpasskwargs\u001b[0m\u001b[1;33m)\u001b[0m\u001b[1;33m\u001b[0m\u001b[1;33m\u001b[0m\u001b[0m\n\u001b[0;32m     85\u001b[0m \u001b[1;33m\u001b[0m\u001b[0m\n\u001b[1;32m---> 86\u001b[1;33m     \u001b[1;32mreturn\u001b[0m \u001b[0mufunc\u001b[0m\u001b[1;33m.\u001b[0m\u001b[0mreduce\u001b[0m\u001b[1;33m(\u001b[0m\u001b[0mobj\u001b[0m\u001b[1;33m,\u001b[0m \u001b[0maxis\u001b[0m\u001b[1;33m,\u001b[0m \u001b[0mdtype\u001b[0m\u001b[1;33m,\u001b[0m \u001b[0mout\u001b[0m\u001b[1;33m,\u001b[0m \u001b[1;33m**\u001b[0m\u001b[0mpasskwargs\u001b[0m\u001b[1;33m)\u001b[0m\u001b[1;33m\u001b[0m\u001b[1;33m\u001b[0m\u001b[0m\n\u001b[0m\u001b[0;32m     87\u001b[0m \u001b[1;33m\u001b[0m\u001b[0m\n\u001b[0;32m     88\u001b[0m \u001b[1;33m\u001b[0m\u001b[0m\n",
      "\u001b[1;31mAxisError\u001b[0m: axis 1 is out of bounds for array of dimension 1"
     ]
    }
   ],
   "source": [
    "# TODO\n",
    "#\n",
    "# fit coefficients using LASSO at best alpha\n",
    "#W_lasso = ...\n",
    "#W_lasso_rms = ...\n",
    "#\n",
    "# fit lasso-selected coefficients using LS linear regression\n",
    "#W_lassols = ...\n",
    "#W_lassols_rms = ...\n",
    "#\n",
    "# plot weights\n",
    "\n",
    "# fit coefficients using LASSO at best alpha\n",
    "lasso.set_params(alpha=alpha_lasso_max)\n",
    "lasso.fit(Xtr,Ytr)\n",
    "nonzero = np.any(np.abs(lasso.coef_)>1e-5,axis=0)\n",
    "subset = np.where(nonzero)[0] # array of feature indices\n",
    "W_lasso = lasso.coef_.T\n",
    "W_lasso_rms = np.sqrt(np.sum(W_lasso**2, axis=1))\n",
    "\n",
    "# fit lasso-selected coefficients using LS linear regression\n",
    "linreg.fit(Xtr[:,subset], Ytr)\n",
    "W_lassols = np.zeros(W_lasso.shape)\n",
    "W_lassols[subset,:] = linreg.coef_.T\n",
    "W_lassols_rms = np.sqrt(np.sum(W_lassols**2, axis=1))\n",
    "\n",
    "# plot weights\n",
    "plt.subplot(1,2,1)\n",
    "plt.plot(W_lasso_rms)\n",
    "plt.grid()\n",
    "plt.title('(biased) LASSO')\n",
    "plt.ylabel('rms(W)')\n",
    "plt.subplot(1,2,2)\n",
    "plt.plot(W_lassols_rms)\n",
    "plt.grid()\n",
    "plt.title('LASSO+LS');"
   ]
  },
  {
   "cell_type": "markdown",
   "metadata": {},
   "source": [
    "The LASSO and LASSO+LS weights should be very sparse.\n",
    "The LASSO weights should be shrunk compared to the LASSO+LS weights but have the same support (i.e., the same subset of nonzero indices)"
   ]
  },
  {
   "cell_type": "markdown",
   "metadata": {},
   "source": [
    "##  LASSO Feature Selection + tuned Ridge Regression\n",
    "\n",
    "We will now try to improve upon the previous methods by using LASSO+Ridge instead of LASSO+LS.  At each fixed value of `alpha_lasso` that we try, we will do a grid-search-CV optimization of `alpha_ridge`.\n",
    "\n",
    "Modify your previous LASSO grid-search code so that `cross_val_score(linreg...` is replaced by `gscv.fit(...`, where `gscv = GridSearchCV(ridge...`.  In other words, for each value of `alphas_lasso`, do a grid-search over an `alphas_ridge` grid using `GridSearchCV`, and then extract the results using `gscv.best_score_` and `gscv.best_parameters_['alpha']`.\n",
    "For `alphas_ridge`, I suggest to start with `logspace(0,4,5)`. \n",
    "\n",
    "Plot the resulting R^2 versus `alphas_lasso`.  Iterate on your choice of `alphas_lasso` until R^2 peaks in the middle of your `alphas_lasso` grid and there is enough resolution to identify a good value.\n",
    "\n",
    "Once you have found a good choice for `alphas_lasso`, plot R^2 versus `alphas_ridge` to see if `alphas_ridge` needs adjusting, and adjust it as needed."
   ]
  },
  {
   "cell_type": "code",
   "execution_count": 27,
   "metadata": {},
   "outputs": [
    {
     "name": "stdout",
     "output_type": "stream",
     "text": [
      "alpha_lasso = 0.03162277660168379, num_features = 1, alpha_ridge = 10000.0\n",
      "alpha_lasso = 0.05623413251903491, num_features = 1, alpha_ridge = 10000.0\n",
      "alpha_lasso = 0.1, num_features = 1, alpha_ridge = 10000.0\n",
      "alpha_lasso = 0.1778279410038923, num_features = 1, alpha_ridge = 10000.0\n"
     ]
    },
    {
     "name": "stderr",
     "output_type": "stream",
     "text": [
      "C:\\Users\\BassD\\anaconda3\\lib\\site-packages\\sklearn\\model_selection\\_validation.py:372: FitFailedWarning: \n",
      "25 fits failed out of a total of 25.\n",
      "The score on these train-test partitions for these parameters will be set to nan.\n",
      "If these failures are not expected, you can try to debug them by setting error_score='raise'.\n",
      "\n",
      "Below are more details about the failures:\n",
      "--------------------------------------------------------------------------------\n",
      "25 fits failed with the following error:\n",
      "Traceback (most recent call last):\n",
      "  File \"C:\\Users\\BassD\\anaconda3\\lib\\site-packages\\sklearn\\model_selection\\_validation.py\", line 680, in _fit_and_score\n",
      "    estimator.fit(X_train, y_train, **fit_params)\n",
      "  File \"C:\\Users\\BassD\\anaconda3\\lib\\site-packages\\sklearn\\linear_model\\_ridge.py\", line 1003, in fit\n",
      "    X, y = self._validate_data(\n",
      "  File \"C:\\Users\\BassD\\anaconda3\\lib\\site-packages\\sklearn\\base.py\", line 581, in _validate_data\n",
      "    X, y = check_X_y(X, y, **check_params)\n",
      "  File \"C:\\Users\\BassD\\anaconda3\\lib\\site-packages\\sklearn\\utils\\validation.py\", line 964, in check_X_y\n",
      "    X = check_array(\n",
      "  File \"C:\\Users\\BassD\\anaconda3\\lib\\site-packages\\sklearn\\utils\\validation.py\", line 814, in check_array\n",
      "    raise ValueError(\n",
      "ValueError: Found array with 0 feature(s) (shape=(8000, 0)) while a minimum of 1 is required.\n",
      "\n",
      "  warnings.warn(some_fits_failed_message, FitFailedWarning)\n",
      "C:\\Users\\BassD\\anaconda3\\lib\\site-packages\\sklearn\\model_selection\\_search.py:969: UserWarning: One or more of the test scores are non-finite: [nan nan nan nan nan]\n",
      "  warnings.warn(\n"
     ]
    },
    {
     "ename": "ValueError",
     "evalue": "Found array with 0 feature(s) (shape=(10000, 0)) while a minimum of 1 is required.",
     "output_type": "error",
     "traceback": [
      "\u001b[1;31m---------------------------------------------------------------------------\u001b[0m",
      "\u001b[1;31mValueError\u001b[0m                                Traceback (most recent call last)",
      "\u001b[1;32m~\\AppData\\Local\\Temp\\ipykernel_1388\\1964415382.py\u001b[0m in \u001b[0;36m<module>\u001b[1;34m\u001b[0m\n\u001b[0;32m     20\u001b[0m     \u001b[0msubset\u001b[0m \u001b[1;33m=\u001b[0m \u001b[0mnp\u001b[0m\u001b[1;33m.\u001b[0m\u001b[0mwhere\u001b[0m\u001b[1;33m(\u001b[0m\u001b[0mnonzero\u001b[0m\u001b[1;33m)\u001b[0m\u001b[1;33m[\u001b[0m\u001b[1;36m0\u001b[0m\u001b[1;33m]\u001b[0m \u001b[1;31m# array of feature indices\u001b[0m\u001b[1;33m\u001b[0m\u001b[1;33m\u001b[0m\u001b[0m\n\u001b[0;32m     21\u001b[0m     \u001b[1;31m# fit Ridge and estimate R^2\u001b[0m\u001b[1;33m\u001b[0m\u001b[1;33m\u001b[0m\u001b[0m\n\u001b[1;32m---> 22\u001b[1;33m     \u001b[0mgscv\u001b[0m\u001b[1;33m.\u001b[0m\u001b[0mfit\u001b[0m\u001b[1;33m(\u001b[0m\u001b[0mXtr\u001b[0m\u001b[1;33m[\u001b[0m\u001b[1;33m:\u001b[0m\u001b[1;33m,\u001b[0m\u001b[0msubset\u001b[0m\u001b[1;33m]\u001b[0m\u001b[1;33m,\u001b[0m \u001b[0mYtr\u001b[0m\u001b[1;33m)\u001b[0m\u001b[1;33m\u001b[0m\u001b[1;33m\u001b[0m\u001b[0m\n\u001b[0m\u001b[0;32m     23\u001b[0m     \u001b[0mrsq_cv\u001b[0m\u001b[1;33m[\u001b[0m\u001b[0mi\u001b[0m\u001b[1;33m]\u001b[0m \u001b[1;33m=\u001b[0m \u001b[0mgscv\u001b[0m\u001b[1;33m.\u001b[0m\u001b[0mbest_score_\u001b[0m\u001b[1;33m\u001b[0m\u001b[1;33m\u001b[0m\u001b[0m\n\u001b[0;32m     24\u001b[0m     \u001b[0ma_ridge\u001b[0m \u001b[1;33m=\u001b[0m \u001b[0mgscv\u001b[0m\u001b[1;33m.\u001b[0m\u001b[0mbest_params_\u001b[0m\u001b[1;33m[\u001b[0m\u001b[1;34m'alpha'\u001b[0m\u001b[1;33m]\u001b[0m\u001b[1;33m\u001b[0m\u001b[1;33m\u001b[0m\u001b[0m\n",
      "\u001b[1;32m~\\anaconda3\\lib\\site-packages\\sklearn\\model_selection\\_search.py\u001b[0m in \u001b[0;36mfit\u001b[1;34m(self, X, y, groups, **fit_params)\u001b[0m\n\u001b[0;32m    924\u001b[0m             \u001b[0mrefit_start_time\u001b[0m \u001b[1;33m=\u001b[0m \u001b[0mtime\u001b[0m\u001b[1;33m.\u001b[0m\u001b[0mtime\u001b[0m\u001b[1;33m(\u001b[0m\u001b[1;33m)\u001b[0m\u001b[1;33m\u001b[0m\u001b[1;33m\u001b[0m\u001b[0m\n\u001b[0;32m    925\u001b[0m             \u001b[1;32mif\u001b[0m \u001b[0my\u001b[0m \u001b[1;32mis\u001b[0m \u001b[1;32mnot\u001b[0m \u001b[1;32mNone\u001b[0m\u001b[1;33m:\u001b[0m\u001b[1;33m\u001b[0m\u001b[1;33m\u001b[0m\u001b[0m\n\u001b[1;32m--> 926\u001b[1;33m                 \u001b[0mself\u001b[0m\u001b[1;33m.\u001b[0m\u001b[0mbest_estimator_\u001b[0m\u001b[1;33m.\u001b[0m\u001b[0mfit\u001b[0m\u001b[1;33m(\u001b[0m\u001b[0mX\u001b[0m\u001b[1;33m,\u001b[0m \u001b[0my\u001b[0m\u001b[1;33m,\u001b[0m \u001b[1;33m**\u001b[0m\u001b[0mfit_params\u001b[0m\u001b[1;33m)\u001b[0m\u001b[1;33m\u001b[0m\u001b[1;33m\u001b[0m\u001b[0m\n\u001b[0m\u001b[0;32m    927\u001b[0m             \u001b[1;32melse\u001b[0m\u001b[1;33m:\u001b[0m\u001b[1;33m\u001b[0m\u001b[1;33m\u001b[0m\u001b[0m\n\u001b[0;32m    928\u001b[0m                 \u001b[0mself\u001b[0m\u001b[1;33m.\u001b[0m\u001b[0mbest_estimator_\u001b[0m\u001b[1;33m.\u001b[0m\u001b[0mfit\u001b[0m\u001b[1;33m(\u001b[0m\u001b[0mX\u001b[0m\u001b[1;33m,\u001b[0m \u001b[1;33m**\u001b[0m\u001b[0mfit_params\u001b[0m\u001b[1;33m)\u001b[0m\u001b[1;33m\u001b[0m\u001b[1;33m\u001b[0m\u001b[0m\n",
      "\u001b[1;32m~\\anaconda3\\lib\\site-packages\\sklearn\\linear_model\\_ridge.py\u001b[0m in \u001b[0;36mfit\u001b[1;34m(self, X, y, sample_weight)\u001b[0m\n\u001b[0;32m   1001\u001b[0m         \"\"\"\n\u001b[0;32m   1002\u001b[0m         \u001b[0m_accept_sparse\u001b[0m \u001b[1;33m=\u001b[0m \u001b[0m_get_valid_accept_sparse\u001b[0m\u001b[1;33m(\u001b[0m\u001b[0msparse\u001b[0m\u001b[1;33m.\u001b[0m\u001b[0missparse\u001b[0m\u001b[1;33m(\u001b[0m\u001b[0mX\u001b[0m\u001b[1;33m)\u001b[0m\u001b[1;33m,\u001b[0m \u001b[0mself\u001b[0m\u001b[1;33m.\u001b[0m\u001b[0msolver\u001b[0m\u001b[1;33m)\u001b[0m\u001b[1;33m\u001b[0m\u001b[1;33m\u001b[0m\u001b[0m\n\u001b[1;32m-> 1003\u001b[1;33m         X, y = self._validate_data(\n\u001b[0m\u001b[0;32m   1004\u001b[0m             \u001b[0mX\u001b[0m\u001b[1;33m,\u001b[0m\u001b[1;33m\u001b[0m\u001b[1;33m\u001b[0m\u001b[0m\n\u001b[0;32m   1005\u001b[0m             \u001b[0my\u001b[0m\u001b[1;33m,\u001b[0m\u001b[1;33m\u001b[0m\u001b[1;33m\u001b[0m\u001b[0m\n",
      "\u001b[1;32m~\\anaconda3\\lib\\site-packages\\sklearn\\base.py\u001b[0m in \u001b[0;36m_validate_data\u001b[1;34m(self, X, y, reset, validate_separately, **check_params)\u001b[0m\n\u001b[0;32m    579\u001b[0m                 \u001b[0my\u001b[0m \u001b[1;33m=\u001b[0m \u001b[0mcheck_array\u001b[0m\u001b[1;33m(\u001b[0m\u001b[0my\u001b[0m\u001b[1;33m,\u001b[0m \u001b[1;33m**\u001b[0m\u001b[0mcheck_y_params\u001b[0m\u001b[1;33m)\u001b[0m\u001b[1;33m\u001b[0m\u001b[1;33m\u001b[0m\u001b[0m\n\u001b[0;32m    580\u001b[0m             \u001b[1;32melse\u001b[0m\u001b[1;33m:\u001b[0m\u001b[1;33m\u001b[0m\u001b[1;33m\u001b[0m\u001b[0m\n\u001b[1;32m--> 581\u001b[1;33m                 \u001b[0mX\u001b[0m\u001b[1;33m,\u001b[0m \u001b[0my\u001b[0m \u001b[1;33m=\u001b[0m \u001b[0mcheck_X_y\u001b[0m\u001b[1;33m(\u001b[0m\u001b[0mX\u001b[0m\u001b[1;33m,\u001b[0m \u001b[0my\u001b[0m\u001b[1;33m,\u001b[0m \u001b[1;33m**\u001b[0m\u001b[0mcheck_params\u001b[0m\u001b[1;33m)\u001b[0m\u001b[1;33m\u001b[0m\u001b[1;33m\u001b[0m\u001b[0m\n\u001b[0m\u001b[0;32m    582\u001b[0m             \u001b[0mout\u001b[0m \u001b[1;33m=\u001b[0m \u001b[0mX\u001b[0m\u001b[1;33m,\u001b[0m \u001b[0my\u001b[0m\u001b[1;33m\u001b[0m\u001b[1;33m\u001b[0m\u001b[0m\n\u001b[0;32m    583\u001b[0m \u001b[1;33m\u001b[0m\u001b[0m\n",
      "\u001b[1;32m~\\anaconda3\\lib\\site-packages\\sklearn\\utils\\validation.py\u001b[0m in \u001b[0;36mcheck_X_y\u001b[1;34m(X, y, accept_sparse, accept_large_sparse, dtype, order, copy, force_all_finite, ensure_2d, allow_nd, multi_output, ensure_min_samples, ensure_min_features, y_numeric, estimator)\u001b[0m\n\u001b[0;32m    962\u001b[0m         \u001b[1;32mraise\u001b[0m \u001b[0mValueError\u001b[0m\u001b[1;33m(\u001b[0m\u001b[1;34m\"y cannot be None\"\u001b[0m\u001b[1;33m)\u001b[0m\u001b[1;33m\u001b[0m\u001b[1;33m\u001b[0m\u001b[0m\n\u001b[0;32m    963\u001b[0m \u001b[1;33m\u001b[0m\u001b[0m\n\u001b[1;32m--> 964\u001b[1;33m     X = check_array(\n\u001b[0m\u001b[0;32m    965\u001b[0m         \u001b[0mX\u001b[0m\u001b[1;33m,\u001b[0m\u001b[1;33m\u001b[0m\u001b[1;33m\u001b[0m\u001b[0m\n\u001b[0;32m    966\u001b[0m         \u001b[0maccept_sparse\u001b[0m\u001b[1;33m=\u001b[0m\u001b[0maccept_sparse\u001b[0m\u001b[1;33m,\u001b[0m\u001b[1;33m\u001b[0m\u001b[1;33m\u001b[0m\u001b[0m\n",
      "\u001b[1;32m~\\anaconda3\\lib\\site-packages\\sklearn\\utils\\validation.py\u001b[0m in \u001b[0;36mcheck_array\u001b[1;34m(array, accept_sparse, accept_large_sparse, dtype, order, copy, force_all_finite, ensure_2d, allow_nd, ensure_min_samples, ensure_min_features, estimator)\u001b[0m\n\u001b[0;32m    812\u001b[0m         \u001b[0mn_features\u001b[0m \u001b[1;33m=\u001b[0m \u001b[0marray\u001b[0m\u001b[1;33m.\u001b[0m\u001b[0mshape\u001b[0m\u001b[1;33m[\u001b[0m\u001b[1;36m1\u001b[0m\u001b[1;33m]\u001b[0m\u001b[1;33m\u001b[0m\u001b[1;33m\u001b[0m\u001b[0m\n\u001b[0;32m    813\u001b[0m         \u001b[1;32mif\u001b[0m \u001b[0mn_features\u001b[0m \u001b[1;33m<\u001b[0m \u001b[0mensure_min_features\u001b[0m\u001b[1;33m:\u001b[0m\u001b[1;33m\u001b[0m\u001b[1;33m\u001b[0m\u001b[0m\n\u001b[1;32m--> 814\u001b[1;33m             raise ValueError(\n\u001b[0m\u001b[0;32m    815\u001b[0m                 \u001b[1;34m\"Found array with %d feature(s) (shape=%s) while\"\u001b[0m\u001b[1;33m\u001b[0m\u001b[1;33m\u001b[0m\u001b[0m\n\u001b[0;32m    816\u001b[0m                 \u001b[1;34m\" a minimum of %d is required%s.\"\u001b[0m\u001b[1;33m\u001b[0m\u001b[1;33m\u001b[0m\u001b[0m\n",
      "\u001b[1;31mValueError\u001b[0m: Found array with 0 feature(s) (shape=(10000, 0)) while a minimum of 1 is required."
     ]
    }
   ],
   "source": [
    "# TODO\n",
    "\n",
    "if standardize_Y:\n",
    "    alphas_lasso = np.logspace(-1.5,-0.5,5) # with standardized Ytr\n",
    "    alphas_ridge = np.logspace(2,4,5) # with standardized Ytr\n",
    "else:\n",
    "    alphas_lasso = np.logspace(-2,-1,5) # with unstandardized Ytr\n",
    "    alphas_ridge = np.logspace(2,4,5) # with unstandardized Ytr\n",
    "    \n",
    "param_grid = {'alpha': alphas_ridge}\n",
    "gscv = GridSearchCV(ridge,param_grid,cv=kf,scoring='r2')\n",
    "\n",
    "rsq_cv = np.zeros(len(alphas_lasso))\n",
    "for i,a in enumerate(alphas_lasso):\n",
    "    # fit LASSO\n",
    "    lasso.set_params(alpha = a, warm_start=True)\n",
    "    lasso.fit(Xtr,Ytr)\n",
    "    # feature selection\n",
    "    nonzero = np.any(np.abs(lasso.coef_)>1e-5,axis=0)\n",
    "    subset = np.where(nonzero)[0] # array of feature indices\n",
    "    # fit Ridge and estimate R^2\n",
    "    gscv.fit(Xtr[:,subset], Ytr)\n",
    "    rsq_cv[i] = gscv.best_score_\n",
    "    a_ridge = gscv.best_params_['alpha']\n",
    "    print(\"alpha_lasso = \"+str(a)\n",
    "          +\", num_features = \"+str(len(subset))\n",
    "          +\", alpha_ridge = \"+str(a_ridge))\n",
    "    \n",
    "imax = np.argmax(rsq_cv)\n",
    "alpha_lasso_max = alphas_lasso[imax]\n",
    "rsq_cv_lasso_max = rsq_cv[imax]    \n",
    "\n",
    "# plot R^2 vs alpha_lasso\n",
    "plt.subplot(1,2,1)\n",
    "plt.semilogx(alphas_lasso, rsq_cv, '.-')\n",
    "plt.semilogx(alpha_lasso_max, rsq_cv_lasso_max, 'r^')\n",
    "plt.legend(['R^2', 'max(R^2)'],loc='best')\n",
    "plt.xlabel('alpha_lasso')\n",
    "plt.ylabel('Rsq')\n",
    "plt.grid()\n",
    "\n",
    "# train lasso at optimal alpha_lasso and select features\n",
    "lasso.set_params(alpha=alpha_lasso_max)\n",
    "lasso.fit(Xtr,Ytr)\n",
    "nonzero = np.any(np.abs(lasso.coef_)>1e-5,axis=0)\n",
    "subset = np.where(nonzero)[0] # array of feature indices\n",
    "\n",
    "# cross-validate feature-selected ridge over alpha_ridge grid\n",
    "gscv.fit(Xtr[:,subset], Ytr)\n",
    "rsq_cv = gscv.cv_results_['mean_test_score']\n",
    "rsq_cv_ridge_max = gscv.best_score_\n",
    "alpha_ridge_max = gscv.best_params_['alpha']\n",
    "\n",
    "# plot R^2 vs alpha_ridge\n",
    "plt.subplot(1,2,2)\n",
    "plt.semilogx(alphas_ridge, rsq_cv, '.-')\n",
    "plt.semilogx(alpha_ridge_max, rsq_cv_ridge_max, 'r^')\n",
    "plt.legend(['R^2', 'max(R^2)'],loc='best')\n",
    "plt.xlabel('alpha_ridge')\n",
    "plt.ylabel('Rsq')\n",
    "plt.grid()"
   ]
  },
  {
   "cell_type": "markdown",
   "metadata": {},
   "source": [
    "You should see that (tuned) LASSO feature selection followed by tuned Ridge regression outperforms all previous methods: Ridge, LASSO, and LASSO+LS."
   ]
  },
  {
   "cell_type": "markdown",
   "metadata": {},
   "source": [
    "## More fun\n",
    "\n",
    "If you want to dive deeper into this application:\n",
    "* Install the [MNE python package](https://martinos.org/mne/stable/index.html).  This is an amazing package with many tools for processing EEG data.\n",
    "* In particular, you can use the above to visualize where in the brain the currents are active.\n",
    "* We could also use a more sophisticated regularization technique called Group LASSO, that encourages *entire rows* of the `W` matrix to be zero-valued.  This is appropriate in this application because, if the current is zero for one time, it is likely to be zero for all time. \n",
    "* You can even use the recovered current patterns to make predictions about what the patient is seeing or hearing or thinking!  It sounds like science-fiction, but it has been demonstrated to work to a certain extent!"
   ]
  },
  {
   "cell_type": "code",
   "execution_count": null,
   "metadata": {},
   "outputs": [],
   "source": []
  }
 ],
 "metadata": {
  "kernelspec": {
   "display_name": "Python 3 (ipykernel)",
   "language": "python",
   "name": "python3"
  },
  "language_info": {
   "codemirror_mode": {
    "name": "ipython",
    "version": 3
   },
   "file_extension": ".py",
   "mimetype": "text/x-python",
   "name": "python",
   "nbconvert_exporter": "python",
   "pygments_lexer": "ipython3",
   "version": "3.9.13"
  },
  "varInspector": {
   "cols": {
    "lenName": 16,
    "lenType": 16,
    "lenVar": 40
   },
   "kernels_config": {
    "python": {
     "delete_cmd_postfix": "",
     "delete_cmd_prefix": "del ",
     "library": "var_list.py",
     "varRefreshCmd": "print(var_dic_list())"
    },
    "r": {
     "delete_cmd_postfix": ") ",
     "delete_cmd_prefix": "rm(",
     "library": "var_list.r",
     "varRefreshCmd": "cat(var_dic_list()) "
    }
   },
   "types_to_exclude": [
    "module",
    "function",
    "builtin_function_or_method",
    "instance",
    "_Feature"
   ],
   "window_display": false
  }
 },
 "nbformat": 4,
 "nbformat_minor": 4
}
