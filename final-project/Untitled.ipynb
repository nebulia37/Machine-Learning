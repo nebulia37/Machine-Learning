{
 "cells": [
  {
   "cell_type": "code",
   "execution_count": null,
   "id": "f26bf5d8-112d-4bd5-bbf8-ec9f12636151",
   "metadata": {},
   "outputs": [],
   "source": [
    "import pandas as pd\n",
    "import numpy as np\n",
    "from sklearn.preprocessing import StandardScaler\n",
    "import sklearn.model_selection\n",
    "import matplotlib\n",
    "import matplotlib.pyplot as plt\n",
    "%matplotlib inline\n"
   ]
  },
  {
   "cell_type": "code",
   "execution_count": null,
   "id": "c51c37f6-383a-4e73-8069-2be786e78cc7",
   "metadata": {},
   "outputs": [],
   "source": [
    "Xtr = pd.read_csv('Xtr.csv')\n",
    "ytr = pd.read_csv('Ytr.csv')\n",
    "Xts = pd.read_csv('Xts.csv')\n",
    "Xtr = np.array(Xtr)\n",
    "ytr = np.array(ytr)\n",
    "Xts = np.array(Xts)"
   ]
  },
  {
   "cell_type": "code",
   "execution_count": null,
   "id": "d57b84aa-ba7d-44ef-b8c2-fdfbc60dd529",
   "metadata": {},
   "outputs": [],
   "source": [
    "scaler = StandardScaler()\n",
    "Xtr = scaler.fit_transform(Xtr)\n",
    "ytr = scaler.fit_transform(ytr.reshape(-1,1)).reshape(-1) # vector -> matrix and back"
   ]
  },
  {
   "cell_type": "code",
   "execution_count": null,
   "id": "7ed1961b-89b4-44e9-9c9f-d600dc03308c",
   "metadata": {},
   "outputs": [],
   "source": [
    "nfold = 10\n",
    "nrep = 5\n",
    "rkf = sklearn.model_selection.RepeatedKFold(n_splits=nfold, n_repeats=nrep, random_state=seed)\n",
    "nsplits = rkf.get_n_splits(X=Xtr, y=ytr)\n",
    "RSS_ts = np.zeros(nsplits)\n",
    "for ifold, ind in enumerate(rkf.split(Xtr)):\n",
    "    Itr,Its = ind\n",
    "        \n",
    "    X_tr = Xtr[Itr,:]\n",
    "    y_tr = ytr[Itr]\n",
    "    X_ts = Xtr[Its,:]\n",
    "    \n",
    "    linreg.fit(X_tr,y_tr)\n",
    "    \n",
    "    y_ts_pred = linreg.predict(X_ts)\n",
    "    RSS_ts[ifold] = np.mean((y_ts_pred-y_ts)**2)\n",
    "            \n",
    "mse_cv = np.mean(RSS_ts)\n",
    "mse_se = np.std(RSS_ts,ddof=1) / np.sqrt(nfold)\n",
    "print(\"mse_cv=%f, mse_se=%f\" % (mse_cv, mse_se))\n",
    "\n"
   ]
  },
  {
   "cell_type": "code",
   "execution_count": null,
   "id": "da530c80-0a54-4929-8a34-d778ff7bf973",
   "metadata": {},
   "outputs": [],
   "source": [
    "nalpha = "
   ]
  }
 ],
 "metadata": {
  "kernelspec": {
   "display_name": "Python 3 (ipykernel)",
   "language": "python",
   "name": "python3"
  },
  "language_info": {
   "codemirror_mode": {
    "name": "ipython",
    "version": 3
   },
   "file_extension": ".py",
   "mimetype": "text/x-python",
   "name": "python",
   "nbconvert_exporter": "python",
   "pygments_lexer": "ipython3",
   "version": "3.9.13"
  }
 },
 "nbformat": 4,
 "nbformat_minor": 5
}
