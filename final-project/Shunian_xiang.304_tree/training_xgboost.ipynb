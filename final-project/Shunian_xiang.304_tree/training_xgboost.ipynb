{
 "cells": [
  {
   "cell_type": "markdown",
   "metadata": {},
   "source": [
    "# training for xgboost models"
   ]
  },
  {
   "cell_type": "code",
   "execution_count": 2,
   "metadata": {},
   "outputs": [],
   "source": [
    "import numpy as np\n",
    "from sklearn import preprocessing\n",
    "import xgboost as xgb\n",
    "from xgboost import XGBRegressor\n",
    "from sklearn.metrics import r2_score\n",
    "from sklearn.model_selection import cross_val_score, GridSearchCV, KFold\n",
    "from sklearn.preprocessing import StandardScaler\n",
    "from sklearn.model_selection import train_test_split\n",
    "import pandas as pd"
   ]
  },
  {
   "cell_type": "code",
   "execution_count": 3,
   "metadata": {},
   "outputs": [],
   "source": [
    "# load training data\n",
    "Xtr_loadpath = 'Xtr.csv'\n",
    "Xts_loadpath = 'Xts.csv'\n",
    "ytr_loadpath = 'ytr.csv'\n",
    "\n",
    "Xtr = np.loadtxt(Xtr_loadpath, delimiter=\",\")\n",
    "Xts = np.loadtxt(Xts_loadpath, delimiter=\",\")\n",
    "ytr = np.loadtxt(ytr_loadpath, delimiter=\",\")"
   ]
  },
  {
   "cell_type": "code",
   "execution_count": 4,
   "metadata": {},
   "outputs": [],
   "source": [
    "# standardize the training data\n",
    "scaler = StandardScaler()\n",
    "Xtr_standardized = scaler.fit_transform(Xtr)\n",
    "Xts_standardized = scaler.transform(Xts)\n",
    "\n",
    "# save the standardized training data\n",
    "Xtr_savepath = 'Xtr_standardized.csv'\n",
    "Xts_savepath = 'Xts_standardized.csv'\n",
    "ytr_savepath = 'ytr.csv'\n",
    "yts_hat_savepath = 'yts_hat_xgboost.csv'\n",
    "\n",
    "np.savetxt(Xtr_savepath, Xtr_standardized, delimiter=\",\")\n",
    "np.savetxt(Xts_savepath, Xts_standardized, delimiter=\",\")\n",
    "np.savetxt(ytr_savepath, ytr, delimiter=\",\")"
   ]
  },
  {
   "cell_type": "markdown",
   "metadata": {},
   "source": [
    "### Step 1: Tune the learning rate and number of estimators"
   ]
  },
  {
   "cell_type": "code",
   "execution_count": 34,
   "metadata": {},
   "outputs": [
    {
     "name": "stdout",
     "output_type": "stream",
     "text": [
      "Fitting 5 folds for each of 25 candidates, totalling 125 fits\n",
      "Best parameters: {'learning_rate': 0.05, 'n_estimators': 1200}\n",
      "Highest R2:  0.41613066219399253\n"
     ]
    }
   ],
   "source": [
    "# give initial values to the parameters\n",
    "xgbr = xgb.XGBRegressor(learning_rate =0.05, n_estimators=1000, max_depth=5, min_child_weight=1, gamma=0, subsample=0.8, colsample_bytree=0.8,\n",
    " objective= 'reg:squarederror', nthread=4, scale_pos_weight=1, seed=20)\n",
    "param_test1 = {\n",
    " 'learning_rate':[0.01,0.03,0.05,0.1,0.15],\n",
    " 'n_estimators':[300,500,800,1000,1200]\n",
    "}\n",
    "clf = GridSearchCV(estimator=xgbr, \n",
    "                   param_grid=param_test1,\n",
    "                   scoring='r2', \n",
    "                   verbose=1)\n",
    "clf.fit(X_train_standardized, y_train)\n",
    "print(\"Best parameters:\", clf.best_params_)\n",
    "print(\"Highest R2: \", clf.best_score_)"
   ]
  },
  {
   "cell_type": "code",
   "execution_count": 46,
   "metadata": {},
   "outputs": [
    {
     "data": {
      "text/html": [
       "<div>\n",
       "<style scoped>\n",
       "    .dataframe tbody tr th:only-of-type {\n",
       "        vertical-align: middle;\n",
       "    }\n",
       "\n",
       "    .dataframe tbody tr th {\n",
       "        vertical-align: top;\n",
       "    }\n",
       "\n",
       "    .dataframe thead th {\n",
       "        text-align: right;\n",
       "    }\n",
       "</style>\n",
       "<table border=\"1\" class=\"dataframe\">\n",
       "  <thead>\n",
       "    <tr style=\"text-align: right;\">\n",
       "      <th></th>\n",
       "      <th>learning_rate</th>\n",
       "      <th>n_estimators</th>\n",
       "      <th>R2 score</th>\n",
       "    </tr>\n",
       "  </thead>\n",
       "  <tbody>\n",
       "    <tr>\n",
       "      <th>0</th>\n",
       "      <td>0.01</td>\n",
       "      <td>300</td>\n",
       "      <td>0.277199</td>\n",
       "    </tr>\n",
       "    <tr>\n",
       "      <th>1</th>\n",
       "      <td>0.01</td>\n",
       "      <td>500</td>\n",
       "      <td>0.312149</td>\n",
       "    </tr>\n",
       "    <tr>\n",
       "      <th>2</th>\n",
       "      <td>0.01</td>\n",
       "      <td>800</td>\n",
       "      <td>0.341714</td>\n",
       "    </tr>\n",
       "    <tr>\n",
       "      <th>3</th>\n",
       "      <td>0.01</td>\n",
       "      <td>1000</td>\n",
       "      <td>0.355075</td>\n",
       "    </tr>\n",
       "    <tr>\n",
       "      <th>4</th>\n",
       "      <td>0.01</td>\n",
       "      <td>1200</td>\n",
       "      <td>0.365304</td>\n",
       "    </tr>\n",
       "    <tr>\n",
       "      <th>5</th>\n",
       "      <td>0.03</td>\n",
       "      <td>300</td>\n",
       "      <td>0.347837</td>\n",
       "    </tr>\n",
       "    <tr>\n",
       "      <th>6</th>\n",
       "      <td>0.03</td>\n",
       "      <td>500</td>\n",
       "      <td>0.374512</td>\n",
       "    </tr>\n",
       "    <tr>\n",
       "      <th>7</th>\n",
       "      <td>0.03</td>\n",
       "      <td>800</td>\n",
       "      <td>0.394125</td>\n",
       "    </tr>\n",
       "    <tr>\n",
       "      <th>8</th>\n",
       "      <td>0.03</td>\n",
       "      <td>1000</td>\n",
       "      <td>0.401452</td>\n",
       "    </tr>\n",
       "    <tr>\n",
       "      <th>9</th>\n",
       "      <td>0.03</td>\n",
       "      <td>1200</td>\n",
       "      <td>0.407045</td>\n",
       "    </tr>\n",
       "    <tr>\n",
       "      <th>10</th>\n",
       "      <td>0.05</td>\n",
       "      <td>300</td>\n",
       "      <td>0.372996</td>\n",
       "    </tr>\n",
       "    <tr>\n",
       "      <th>11</th>\n",
       "      <td>0.05</td>\n",
       "      <td>500</td>\n",
       "      <td>0.394965</td>\n",
       "    </tr>\n",
       "    <tr>\n",
       "      <th>12</th>\n",
       "      <td>0.05</td>\n",
       "      <td>800</td>\n",
       "      <td>0.406747</td>\n",
       "    </tr>\n",
       "    <tr>\n",
       "      <th>13</th>\n",
       "      <td>0.05</td>\n",
       "      <td>1000</td>\n",
       "      <td>0.413060</td>\n",
       "    </tr>\n",
       "    <tr>\n",
       "      <th>14</th>\n",
       "      <td>0.05</td>\n",
       "      <td>1200</td>\n",
       "      <td>0.416131</td>\n",
       "    </tr>\n",
       "    <tr>\n",
       "      <th>15</th>\n",
       "      <td>0.10</td>\n",
       "      <td>300</td>\n",
       "      <td>0.389440</td>\n",
       "    </tr>\n",
       "    <tr>\n",
       "      <th>16</th>\n",
       "      <td>0.10</td>\n",
       "      <td>500</td>\n",
       "      <td>0.399328</td>\n",
       "    </tr>\n",
       "    <tr>\n",
       "      <th>17</th>\n",
       "      <td>0.10</td>\n",
       "      <td>800</td>\n",
       "      <td>0.405814</td>\n",
       "    </tr>\n",
       "    <tr>\n",
       "      <th>18</th>\n",
       "      <td>0.10</td>\n",
       "      <td>1000</td>\n",
       "      <td>0.408824</td>\n",
       "    </tr>\n",
       "    <tr>\n",
       "      <th>19</th>\n",
       "      <td>0.10</td>\n",
       "      <td>1200</td>\n",
       "      <td>0.409902</td>\n",
       "    </tr>\n",
       "    <tr>\n",
       "      <th>20</th>\n",
       "      <td>0.15</td>\n",
       "      <td>300</td>\n",
       "      <td>0.381660</td>\n",
       "    </tr>\n",
       "    <tr>\n",
       "      <th>21</th>\n",
       "      <td>0.15</td>\n",
       "      <td>500</td>\n",
       "      <td>0.391864</td>\n",
       "    </tr>\n",
       "    <tr>\n",
       "      <th>22</th>\n",
       "      <td>0.15</td>\n",
       "      <td>800</td>\n",
       "      <td>0.395904</td>\n",
       "    </tr>\n",
       "    <tr>\n",
       "      <th>23</th>\n",
       "      <td>0.15</td>\n",
       "      <td>1000</td>\n",
       "      <td>0.396858</td>\n",
       "    </tr>\n",
       "    <tr>\n",
       "      <th>24</th>\n",
       "      <td>0.15</td>\n",
       "      <td>1200</td>\n",
       "      <td>0.397646</td>\n",
       "    </tr>\n",
       "  </tbody>\n",
       "</table>\n",
       "</div>"
      ],
      "text/plain": [
       "    learning_rate  n_estimators  R2 score\n",
       "0            0.01           300  0.277199\n",
       "1            0.01           500  0.312149\n",
       "2            0.01           800  0.341714\n",
       "3            0.01          1000  0.355075\n",
       "4            0.01          1200  0.365304\n",
       "5            0.03           300  0.347837\n",
       "6            0.03           500  0.374512\n",
       "7            0.03           800  0.394125\n",
       "8            0.03          1000  0.401452\n",
       "9            0.03          1200  0.407045\n",
       "10           0.05           300  0.372996\n",
       "11           0.05           500  0.394965\n",
       "12           0.05           800  0.406747\n",
       "13           0.05          1000  0.413060\n",
       "14           0.05          1200  0.416131\n",
       "15           0.10           300  0.389440\n",
       "16           0.10           500  0.399328\n",
       "17           0.10           800  0.405814\n",
       "18           0.10          1000  0.408824\n",
       "19           0.10          1200  0.409902\n",
       "20           0.15           300  0.381660\n",
       "21           0.15           500  0.391864\n",
       "22           0.15           800  0.395904\n",
       "23           0.15          1000  0.396858\n",
       "24           0.15          1200  0.397646"
      ]
     },
     "execution_count": 46,
     "metadata": {},
     "output_type": "execute_result"
    }
   ],
   "source": [
    "pd.concat([pd.DataFrame(clf.cv_results_[\"params\"]),pd.DataFrame(clf.cv_results_[\"mean_test_score\"], columns=[\"R2 score\"])],axis=1)"
   ]
  },
  {
   "cell_type": "code",
   "execution_count": 47,
   "metadata": {},
   "outputs": [
    {
     "name": "stdout",
     "output_type": "stream",
     "text": [
      "training R2:  0.99941784920738\n",
      "cross-validation R^2 = 0.498806\n"
     ]
    }
   ],
   "source": [
    "xgbr.set_params(learning_rate=0.05,n_estimators=1200)\n",
    "# Get training R2 and testing R2\n",
    "# Fit the algorithm on the data\n",
    "xgbr.fit(Xtr_standardized,ytr)\n",
    "        \n",
    "# Training set R2:\n",
    "r2 = r2_score(ytr,xgbr.predict(Xtr_standardized))\n",
    "print('training R2: ',r2)\n",
    "# 5-fold cross validation R2 for these parameters\n",
    "kf = KFold(n_splits=5,shuffle=True,random_state=0)\n",
    "scores = cross_val_score(xgbr, Xtr_standardized, ytr, cv=kf, scoring='r2')\n",
    "rsq_cv = np.mean(scores)\n",
    "print(\"cross-validation R^2 = %f\" % rsq_cv)"
   ]
  },
  {
   "cell_type": "markdown",
   "metadata": {},
   "source": [
    "### Step 2: Tune max_depth and min_child_weight."
   ]
  },
  {
   "cell_type": "code",
   "execution_count": 48,
   "metadata": {},
   "outputs": [
    {
     "name": "stdout",
     "output_type": "stream",
     "text": [
      "Fitting 5 folds for each of 15 candidates, totalling 75 fits\n",
      "Best parameters: {'max_depth': 10, 'min_child_weight': 1}\n",
      "Highest R2:  0.4473296974131692\n"
     ]
    }
   ],
   "source": [
    "param_test2 = {\n",
    " 'max_depth':range(2,11,2),\n",
    " 'min_child_weight':range(1,6,2)\n",
    "}\n",
    "clf = GridSearchCV(estimator=xgbr, \n",
    "                   param_grid=param_test2,\n",
    "                   scoring='r2', \n",
    "                   verbose=1)\n",
    "clf.fit(X_train_standardized, y_train)\n",
    "print(\"Best parameters:\", clf.best_params_)\n",
    "print(\"Highest R2: \", clf.best_score_)"
   ]
  },
  {
   "cell_type": "code",
   "execution_count": 49,
   "metadata": {},
   "outputs": [
    {
     "data": {
      "text/html": [
       "<div>\n",
       "<style scoped>\n",
       "    .dataframe tbody tr th:only-of-type {\n",
       "        vertical-align: middle;\n",
       "    }\n",
       "\n",
       "    .dataframe tbody tr th {\n",
       "        vertical-align: top;\n",
       "    }\n",
       "\n",
       "    .dataframe thead th {\n",
       "        text-align: right;\n",
       "    }\n",
       "</style>\n",
       "<table border=\"1\" class=\"dataframe\">\n",
       "  <thead>\n",
       "    <tr style=\"text-align: right;\">\n",
       "      <th></th>\n",
       "      <th>max_depth</th>\n",
       "      <th>min_child_weight</th>\n",
       "      <th>R2 score</th>\n",
       "    </tr>\n",
       "  </thead>\n",
       "  <tbody>\n",
       "    <tr>\n",
       "      <th>0</th>\n",
       "      <td>2</td>\n",
       "      <td>1</td>\n",
       "      <td>0.295349</td>\n",
       "    </tr>\n",
       "    <tr>\n",
       "      <th>1</th>\n",
       "      <td>2</td>\n",
       "      <td>3</td>\n",
       "      <td>0.296080</td>\n",
       "    </tr>\n",
       "    <tr>\n",
       "      <th>2</th>\n",
       "      <td>2</td>\n",
       "      <td>5</td>\n",
       "      <td>0.296524</td>\n",
       "    </tr>\n",
       "    <tr>\n",
       "      <th>3</th>\n",
       "      <td>4</td>\n",
       "      <td>1</td>\n",
       "      <td>0.383249</td>\n",
       "    </tr>\n",
       "    <tr>\n",
       "      <th>4</th>\n",
       "      <td>4</td>\n",
       "      <td>3</td>\n",
       "      <td>0.384782</td>\n",
       "    </tr>\n",
       "    <tr>\n",
       "      <th>5</th>\n",
       "      <td>4</td>\n",
       "      <td>5</td>\n",
       "      <td>0.384065</td>\n",
       "    </tr>\n",
       "    <tr>\n",
       "      <th>6</th>\n",
       "      <td>6</td>\n",
       "      <td>1</td>\n",
       "      <td>0.427618</td>\n",
       "    </tr>\n",
       "    <tr>\n",
       "      <th>7</th>\n",
       "      <td>6</td>\n",
       "      <td>3</td>\n",
       "      <td>0.426076</td>\n",
       "    </tr>\n",
       "    <tr>\n",
       "      <th>8</th>\n",
       "      <td>6</td>\n",
       "      <td>5</td>\n",
       "      <td>0.420600</td>\n",
       "    </tr>\n",
       "    <tr>\n",
       "      <th>9</th>\n",
       "      <td>8</td>\n",
       "      <td>1</td>\n",
       "      <td>0.443517</td>\n",
       "    </tr>\n",
       "    <tr>\n",
       "      <th>10</th>\n",
       "      <td>8</td>\n",
       "      <td>3</td>\n",
       "      <td>0.439138</td>\n",
       "    </tr>\n",
       "    <tr>\n",
       "      <th>11</th>\n",
       "      <td>8</td>\n",
       "      <td>5</td>\n",
       "      <td>0.438951</td>\n",
       "    </tr>\n",
       "    <tr>\n",
       "      <th>12</th>\n",
       "      <td>10</td>\n",
       "      <td>1</td>\n",
       "      <td>0.447330</td>\n",
       "    </tr>\n",
       "    <tr>\n",
       "      <th>13</th>\n",
       "      <td>10</td>\n",
       "      <td>3</td>\n",
       "      <td>0.444954</td>\n",
       "    </tr>\n",
       "    <tr>\n",
       "      <th>14</th>\n",
       "      <td>10</td>\n",
       "      <td>5</td>\n",
       "      <td>0.439062</td>\n",
       "    </tr>\n",
       "  </tbody>\n",
       "</table>\n",
       "</div>"
      ],
      "text/plain": [
       "    max_depth  min_child_weight  R2 score\n",
       "0           2                 1  0.295349\n",
       "1           2                 3  0.296080\n",
       "2           2                 5  0.296524\n",
       "3           4                 1  0.383249\n",
       "4           4                 3  0.384782\n",
       "5           4                 5  0.384065\n",
       "6           6                 1  0.427618\n",
       "7           6                 3  0.426076\n",
       "8           6                 5  0.420600\n",
       "9           8                 1  0.443517\n",
       "10          8                 3  0.439138\n",
       "11          8                 5  0.438951\n",
       "12         10                 1  0.447330\n",
       "13         10                 3  0.444954\n",
       "14         10                 5  0.439062"
      ]
     },
     "execution_count": 49,
     "metadata": {},
     "output_type": "execute_result"
    }
   ],
   "source": [
    "pd.concat([pd.DataFrame(clf.cv_results_[\"params\"]),pd.DataFrame(clf.cv_results_[\"mean_test_score\"], columns=[\"R2 score\"])],axis=1)"
   ]
  },
  {
   "cell_type": "code",
   "execution_count": 50,
   "metadata": {},
   "outputs": [
    {
     "name": "stdout",
     "output_type": "stream",
     "text": [
      "training R2:  0.99941784920738\n",
      "cross-validation R^2 = 0.498806\n"
     ]
    }
   ],
   "source": [
    "xgbr.set_params(max_depth=10, min_child_weight=1)\n",
    "xgbr.fit(Xtr_standardized,ytr)\n",
    "# Training set R2:\n",
    "r2 = r2_score(ytr,xgbr.predict(Xtr_standardized))\n",
    "print('training R2: ',r2)\n",
    "# 5-fold cross validation R2 for these parameters\n",
    "kf = KFold(n_splits=5,shuffle=True,random_state=0)\n",
    "scores = cross_val_score(xgbr, Xtr_standardized, ytr, cv=kf, scoring='r2')\n",
    "rsq_cv = np.mean(scores)\n",
    "print(\"cross-validation R^2 = %f\" % rsq_cv)"
   ]
  },
  {
   "cell_type": "markdown",
   "metadata": {},
   "source": [
    "### Step 3: Tune gamma."
   ]
  },
  {
   "cell_type": "code",
   "execution_count": 51,
   "metadata": {},
   "outputs": [
    {
     "name": "stdout",
     "output_type": "stream",
     "text": [
      "Fitting 5 folds for each of 5 candidates, totalling 25 fits\n",
      "Best parameters: {'gamma': 0.0}\n",
      "Highest R2:  0.4477904347514047\n"
     ]
    }
   ],
   "source": [
    "param_test3 = {\n",
    " 'gamma':[i/10.0 for i in range(0,5)]\n",
    "}\n",
    "clf = GridSearchCV(estimator=xgbr, \n",
    "                   param_grid=param_test3,\n",
    "                   scoring='r2', \n",
    "                   verbose=1)\n",
    "clf.fit(X_train_standardized, y_train)\n",
    "print(\"Best parameters:\", clf.best_params_)\n",
    "print(\"Highest R2: \", clf.best_score_)"
   ]
  },
  {
   "cell_type": "code",
   "execution_count": 52,
   "metadata": {},
   "outputs": [
    {
     "data": {
      "text/html": [
       "<div>\n",
       "<style scoped>\n",
       "    .dataframe tbody tr th:only-of-type {\n",
       "        vertical-align: middle;\n",
       "    }\n",
       "\n",
       "    .dataframe tbody tr th {\n",
       "        vertical-align: top;\n",
       "    }\n",
       "\n",
       "    .dataframe thead th {\n",
       "        text-align: right;\n",
       "    }\n",
       "</style>\n",
       "<table border=\"1\" class=\"dataframe\">\n",
       "  <thead>\n",
       "    <tr style=\"text-align: right;\">\n",
       "      <th></th>\n",
       "      <th>gamma</th>\n",
       "      <th>R2 score</th>\n",
       "    </tr>\n",
       "  </thead>\n",
       "  <tbody>\n",
       "    <tr>\n",
       "      <th>0</th>\n",
       "      <td>0.0</td>\n",
       "      <td>0.447790</td>\n",
       "    </tr>\n",
       "    <tr>\n",
       "      <th>1</th>\n",
       "      <td>0.1</td>\n",
       "      <td>0.447330</td>\n",
       "    </tr>\n",
       "    <tr>\n",
       "      <th>2</th>\n",
       "      <td>0.2</td>\n",
       "      <td>0.446163</td>\n",
       "    </tr>\n",
       "    <tr>\n",
       "      <th>3</th>\n",
       "      <td>0.3</td>\n",
       "      <td>0.446425</td>\n",
       "    </tr>\n",
       "    <tr>\n",
       "      <th>4</th>\n",
       "      <td>0.4</td>\n",
       "      <td>0.444401</td>\n",
       "    </tr>\n",
       "  </tbody>\n",
       "</table>\n",
       "</div>"
      ],
      "text/plain": [
       "   gamma  R2 score\n",
       "0    0.0  0.447790\n",
       "1    0.1  0.447330\n",
       "2    0.2  0.446163\n",
       "3    0.3  0.446425\n",
       "4    0.4  0.444401"
      ]
     },
     "execution_count": 52,
     "metadata": {},
     "output_type": "execute_result"
    }
   ],
   "source": [
    "pd.concat([pd.DataFrame(clf.cv_results_[\"params\"]),pd.DataFrame(clf.cv_results_[\"mean_test_score\"], columns=[\"R2 score\"])],axis=1)"
   ]
  },
  {
   "cell_type": "code",
   "execution_count": 53,
   "metadata": {
    "scrolled": true
   },
   "outputs": [
    {
     "name": "stdout",
     "output_type": "stream",
     "text": [
      "training R2:  0.99941784920738\n",
      "cross-validation R^2 = 0.498806\n"
     ]
    }
   ],
   "source": [
    "xgbr.set_params(gamma=0.1)\n",
    "xgbr.fit(Xtr_standardized,ytr)\n",
    "# Training set R2:\n",
    "r2 = r2_score(ytr,xgbr.predict(Xtr_standardized))\n",
    "print('training R2: ',r2)\n",
    "# 5-fold cross validation R2 for these parameters\n",
    "kf = KFold(n_splits=5,shuffle=True,random_state=0)\n",
    "scores = cross_val_score(xgbr, Xtr_standardized, ytr, cv=kf, scoring='r2')\n",
    "rsq_cv = np.mean(scores)\n",
    "print(\"cross-validation R^2 = %f\" % rsq_cv)"
   ]
  },
  {
   "cell_type": "markdown",
   "metadata": {},
   "source": [
    "### Step 4: Tune subsample and colsample_bytree"
   ]
  },
  {
   "cell_type": "code",
   "execution_count": 54,
   "metadata": {},
   "outputs": [
    {
     "name": "stdout",
     "output_type": "stream",
     "text": [
      "Fitting 5 folds for each of 49 candidates, totalling 245 fits\n",
      "Best parameters: {'colsample_bytree': 0.3, 'subsample': 0.6}\n",
      "Highest R2:  -54.18163337737658\n"
     ]
    }
   ],
   "source": [
    "param_test4 = {\n",
    " 'subsample':[i/10.0 for i in range(3,10)],\n",
    " 'colsample_bytree':[i/10.0 for i in range(3,10)]\n",
    "}\n",
    "\n",
    "clf = GridSearchCV(estimator=xgbr, \n",
    "                   param_grid=param_test4,\n",
    "                   scoring='neg_mean_squared_error', \n",
    "                   verbose=1)\n",
    "clf.fit(X_train_standardized, y_train)\n",
    "print(\"Best parameters:\", clf.best_params_)\n",
    "print(\"Highest R2: \", clf.best_score_)"
   ]
  },
  {
   "cell_type": "code",
   "execution_count": 55,
   "metadata": {},
   "outputs": [
    {
     "data": {
      "text/html": [
       "<div>\n",
       "<style scoped>\n",
       "    .dataframe tbody tr th:only-of-type {\n",
       "        vertical-align: middle;\n",
       "    }\n",
       "\n",
       "    .dataframe tbody tr th {\n",
       "        vertical-align: top;\n",
       "    }\n",
       "\n",
       "    .dataframe thead th {\n",
       "        text-align: right;\n",
       "    }\n",
       "</style>\n",
       "<table border=\"1\" class=\"dataframe\">\n",
       "  <thead>\n",
       "    <tr style=\"text-align: right;\">\n",
       "      <th></th>\n",
       "      <th>colsample_bytree</th>\n",
       "      <th>subsample</th>\n",
       "      <th>R2 score</th>\n",
       "    </tr>\n",
       "  </thead>\n",
       "  <tbody>\n",
       "    <tr>\n",
       "      <th>0</th>\n",
       "      <td>0.3</td>\n",
       "      <td>0.3</td>\n",
       "      <td>-57.205296</td>\n",
       "    </tr>\n",
       "    <tr>\n",
       "      <th>1</th>\n",
       "      <td>0.3</td>\n",
       "      <td>0.4</td>\n",
       "      <td>-55.294409</td>\n",
       "    </tr>\n",
       "    <tr>\n",
       "      <th>2</th>\n",
       "      <td>0.3</td>\n",
       "      <td>0.5</td>\n",
       "      <td>-55.000762</td>\n",
       "    </tr>\n",
       "    <tr>\n",
       "      <th>3</th>\n",
       "      <td>0.3</td>\n",
       "      <td>0.6</td>\n",
       "      <td>-54.181633</td>\n",
       "    </tr>\n",
       "    <tr>\n",
       "      <th>4</th>\n",
       "      <td>0.3</td>\n",
       "      <td>0.7</td>\n",
       "      <td>-54.834077</td>\n",
       "    </tr>\n",
       "    <tr>\n",
       "      <th>5</th>\n",
       "      <td>0.3</td>\n",
       "      <td>0.8</td>\n",
       "      <td>-54.268380</td>\n",
       "    </tr>\n",
       "    <tr>\n",
       "      <th>6</th>\n",
       "      <td>0.3</td>\n",
       "      <td>0.9</td>\n",
       "      <td>-54.621067</td>\n",
       "    </tr>\n",
       "    <tr>\n",
       "      <th>7</th>\n",
       "      <td>0.4</td>\n",
       "      <td>0.3</td>\n",
       "      <td>-56.643127</td>\n",
       "    </tr>\n",
       "    <tr>\n",
       "      <th>8</th>\n",
       "      <td>0.4</td>\n",
       "      <td>0.4</td>\n",
       "      <td>-55.308712</td>\n",
       "    </tr>\n",
       "    <tr>\n",
       "      <th>9</th>\n",
       "      <td>0.4</td>\n",
       "      <td>0.5</td>\n",
       "      <td>-55.791046</td>\n",
       "    </tr>\n",
       "    <tr>\n",
       "      <th>10</th>\n",
       "      <td>0.4</td>\n",
       "      <td>0.6</td>\n",
       "      <td>-54.671964</td>\n",
       "    </tr>\n",
       "    <tr>\n",
       "      <th>11</th>\n",
       "      <td>0.4</td>\n",
       "      <td>0.7</td>\n",
       "      <td>-54.461601</td>\n",
       "    </tr>\n",
       "    <tr>\n",
       "      <th>12</th>\n",
       "      <td>0.4</td>\n",
       "      <td>0.8</td>\n",
       "      <td>-55.085672</td>\n",
       "    </tr>\n",
       "    <tr>\n",
       "      <th>13</th>\n",
       "      <td>0.4</td>\n",
       "      <td>0.9</td>\n",
       "      <td>-55.370982</td>\n",
       "    </tr>\n",
       "    <tr>\n",
       "      <th>14</th>\n",
       "      <td>0.5</td>\n",
       "      <td>0.3</td>\n",
       "      <td>-56.844844</td>\n",
       "    </tr>\n",
       "    <tr>\n",
       "      <th>15</th>\n",
       "      <td>0.5</td>\n",
       "      <td>0.4</td>\n",
       "      <td>-56.043608</td>\n",
       "    </tr>\n",
       "    <tr>\n",
       "      <th>16</th>\n",
       "      <td>0.5</td>\n",
       "      <td>0.5</td>\n",
       "      <td>-55.212670</td>\n",
       "    </tr>\n",
       "    <tr>\n",
       "      <th>17</th>\n",
       "      <td>0.5</td>\n",
       "      <td>0.6</td>\n",
       "      <td>-55.271086</td>\n",
       "    </tr>\n",
       "    <tr>\n",
       "      <th>18</th>\n",
       "      <td>0.5</td>\n",
       "      <td>0.7</td>\n",
       "      <td>-55.164548</td>\n",
       "    </tr>\n",
       "    <tr>\n",
       "      <th>19</th>\n",
       "      <td>0.5</td>\n",
       "      <td>0.8</td>\n",
       "      <td>-55.642845</td>\n",
       "    </tr>\n",
       "    <tr>\n",
       "      <th>20</th>\n",
       "      <td>0.5</td>\n",
       "      <td>0.9</td>\n",
       "      <td>-55.559455</td>\n",
       "    </tr>\n",
       "    <tr>\n",
       "      <th>21</th>\n",
       "      <td>0.6</td>\n",
       "      <td>0.3</td>\n",
       "      <td>-57.030937</td>\n",
       "    </tr>\n",
       "    <tr>\n",
       "      <th>22</th>\n",
       "      <td>0.6</td>\n",
       "      <td>0.4</td>\n",
       "      <td>-55.595275</td>\n",
       "    </tr>\n",
       "    <tr>\n",
       "      <th>23</th>\n",
       "      <td>0.6</td>\n",
       "      <td>0.5</td>\n",
       "      <td>-55.703722</td>\n",
       "    </tr>\n",
       "    <tr>\n",
       "      <th>24</th>\n",
       "      <td>0.6</td>\n",
       "      <td>0.6</td>\n",
       "      <td>-55.897732</td>\n",
       "    </tr>\n",
       "    <tr>\n",
       "      <th>25</th>\n",
       "      <td>0.6</td>\n",
       "      <td>0.7</td>\n",
       "      <td>-55.875569</td>\n",
       "    </tr>\n",
       "    <tr>\n",
       "      <th>26</th>\n",
       "      <td>0.6</td>\n",
       "      <td>0.8</td>\n",
       "      <td>-55.826637</td>\n",
       "    </tr>\n",
       "    <tr>\n",
       "      <th>27</th>\n",
       "      <td>0.6</td>\n",
       "      <td>0.9</td>\n",
       "      <td>-55.520308</td>\n",
       "    </tr>\n",
       "    <tr>\n",
       "      <th>28</th>\n",
       "      <td>0.7</td>\n",
       "      <td>0.3</td>\n",
       "      <td>-57.354307</td>\n",
       "    </tr>\n",
       "    <tr>\n",
       "      <th>29</th>\n",
       "      <td>0.7</td>\n",
       "      <td>0.4</td>\n",
       "      <td>-56.318086</td>\n",
       "    </tr>\n",
       "    <tr>\n",
       "      <th>30</th>\n",
       "      <td>0.7</td>\n",
       "      <td>0.5</td>\n",
       "      <td>-55.679991</td>\n",
       "    </tr>\n",
       "    <tr>\n",
       "      <th>31</th>\n",
       "      <td>0.7</td>\n",
       "      <td>0.6</td>\n",
       "      <td>-55.569862</td>\n",
       "    </tr>\n",
       "    <tr>\n",
       "      <th>32</th>\n",
       "      <td>0.7</td>\n",
       "      <td>0.7</td>\n",
       "      <td>-55.754333</td>\n",
       "    </tr>\n",
       "    <tr>\n",
       "      <th>33</th>\n",
       "      <td>0.7</td>\n",
       "      <td>0.8</td>\n",
       "      <td>-55.933988</td>\n",
       "    </tr>\n",
       "    <tr>\n",
       "      <th>34</th>\n",
       "      <td>0.7</td>\n",
       "      <td>0.9</td>\n",
       "      <td>-56.482735</td>\n",
       "    </tr>\n",
       "    <tr>\n",
       "      <th>35</th>\n",
       "      <td>0.8</td>\n",
       "      <td>0.3</td>\n",
       "      <td>-57.063302</td>\n",
       "    </tr>\n",
       "    <tr>\n",
       "      <th>36</th>\n",
       "      <td>0.8</td>\n",
       "      <td>0.4</td>\n",
       "      <td>-56.531449</td>\n",
       "    </tr>\n",
       "    <tr>\n",
       "      <th>37</th>\n",
       "      <td>0.8</td>\n",
       "      <td>0.5</td>\n",
       "      <td>-56.476597</td>\n",
       "    </tr>\n",
       "    <tr>\n",
       "      <th>38</th>\n",
       "      <td>0.8</td>\n",
       "      <td>0.6</td>\n",
       "      <td>-55.983195</td>\n",
       "    </tr>\n",
       "    <tr>\n",
       "      <th>39</th>\n",
       "      <td>0.8</td>\n",
       "      <td>0.7</td>\n",
       "      <td>-55.873891</td>\n",
       "    </tr>\n",
       "    <tr>\n",
       "      <th>40</th>\n",
       "      <td>0.8</td>\n",
       "      <td>0.8</td>\n",
       "      <td>-55.604333</td>\n",
       "    </tr>\n",
       "    <tr>\n",
       "      <th>41</th>\n",
       "      <td>0.8</td>\n",
       "      <td>0.9</td>\n",
       "      <td>-56.204154</td>\n",
       "    </tr>\n",
       "    <tr>\n",
       "      <th>42</th>\n",
       "      <td>0.9</td>\n",
       "      <td>0.3</td>\n",
       "      <td>-56.837764</td>\n",
       "    </tr>\n",
       "    <tr>\n",
       "      <th>43</th>\n",
       "      <td>0.9</td>\n",
       "      <td>0.4</td>\n",
       "      <td>-56.594466</td>\n",
       "    </tr>\n",
       "    <tr>\n",
       "      <th>44</th>\n",
       "      <td>0.9</td>\n",
       "      <td>0.5</td>\n",
       "      <td>-56.819290</td>\n",
       "    </tr>\n",
       "    <tr>\n",
       "      <th>45</th>\n",
       "      <td>0.9</td>\n",
       "      <td>0.6</td>\n",
       "      <td>-55.541361</td>\n",
       "    </tr>\n",
       "    <tr>\n",
       "      <th>46</th>\n",
       "      <td>0.9</td>\n",
       "      <td>0.7</td>\n",
       "      <td>-55.834037</td>\n",
       "    </tr>\n",
       "    <tr>\n",
       "      <th>47</th>\n",
       "      <td>0.9</td>\n",
       "      <td>0.8</td>\n",
       "      <td>-56.198927</td>\n",
       "    </tr>\n",
       "    <tr>\n",
       "      <th>48</th>\n",
       "      <td>0.9</td>\n",
       "      <td>0.9</td>\n",
       "      <td>-56.300276</td>\n",
       "    </tr>\n",
       "  </tbody>\n",
       "</table>\n",
       "</div>"
      ],
      "text/plain": [
       "    colsample_bytree  subsample   R2 score\n",
       "0                0.3        0.3 -57.205296\n",
       "1                0.3        0.4 -55.294409\n",
       "2                0.3        0.5 -55.000762\n",
       "3                0.3        0.6 -54.181633\n",
       "4                0.3        0.7 -54.834077\n",
       "5                0.3        0.8 -54.268380\n",
       "6                0.3        0.9 -54.621067\n",
       "7                0.4        0.3 -56.643127\n",
       "8                0.4        0.4 -55.308712\n",
       "9                0.4        0.5 -55.791046\n",
       "10               0.4        0.6 -54.671964\n",
       "11               0.4        0.7 -54.461601\n",
       "12               0.4        0.8 -55.085672\n",
       "13               0.4        0.9 -55.370982\n",
       "14               0.5        0.3 -56.844844\n",
       "15               0.5        0.4 -56.043608\n",
       "16               0.5        0.5 -55.212670\n",
       "17               0.5        0.6 -55.271086\n",
       "18               0.5        0.7 -55.164548\n",
       "19               0.5        0.8 -55.642845\n",
       "20               0.5        0.9 -55.559455\n",
       "21               0.6        0.3 -57.030937\n",
       "22               0.6        0.4 -55.595275\n",
       "23               0.6        0.5 -55.703722\n",
       "24               0.6        0.6 -55.897732\n",
       "25               0.6        0.7 -55.875569\n",
       "26               0.6        0.8 -55.826637\n",
       "27               0.6        0.9 -55.520308\n",
       "28               0.7        0.3 -57.354307\n",
       "29               0.7        0.4 -56.318086\n",
       "30               0.7        0.5 -55.679991\n",
       "31               0.7        0.6 -55.569862\n",
       "32               0.7        0.7 -55.754333\n",
       "33               0.7        0.8 -55.933988\n",
       "34               0.7        0.9 -56.482735\n",
       "35               0.8        0.3 -57.063302\n",
       "36               0.8        0.4 -56.531449\n",
       "37               0.8        0.5 -56.476597\n",
       "38               0.8        0.6 -55.983195\n",
       "39               0.8        0.7 -55.873891\n",
       "40               0.8        0.8 -55.604333\n",
       "41               0.8        0.9 -56.204154\n",
       "42               0.9        0.3 -56.837764\n",
       "43               0.9        0.4 -56.594466\n",
       "44               0.9        0.5 -56.819290\n",
       "45               0.9        0.6 -55.541361\n",
       "46               0.9        0.7 -55.834037\n",
       "47               0.9        0.8 -56.198927\n",
       "48               0.9        0.9 -56.300276"
      ]
     },
     "execution_count": 55,
     "metadata": {},
     "output_type": "execute_result"
    }
   ],
   "source": [
    "pd.concat([pd.DataFrame(clf.cv_results_[\"params\"]),pd.DataFrame(clf.cv_results_[\"mean_test_score\"], columns=[\"R2 score\"])],axis=1)"
   ]
  },
  {
   "cell_type": "code",
   "execution_count": 56,
   "metadata": {},
   "outputs": [
    {
     "name": "stdout",
     "output_type": "stream",
     "text": [
      "training R2:  0.99941784920738\n",
      "cross-validation R^2 = 0.498806\n"
     ]
    }
   ],
   "source": [
    "xgbr.set_params(subsample=0.9, colsample_bytree=0.3)\n",
    "xgbr.fit(Xtr_standardized,ytr)\n",
    "# Training set R2:\n",
    "r2 = r2_score(ytr,xgbr.predict(Xtr_standardized))\n",
    "print('training R2: ',r2)\n",
    "# 5-fold cross validation R2 for these parameters\n",
    "kf = KFold(n_splits=5,shuffle=True,random_state=0)\n",
    "scores = cross_val_score(xgbr, Xtr_standardized, ytr, cv=kf, scoring='r2')\n",
    "rsq_cv = np.mean(scores)\n",
    "print(\"cross-validation R^2 = %f\" % rsq_cv)"
   ]
  },
  {
   "cell_type": "markdown",
   "metadata": {},
   "source": [
    "### Step 5: Tuning L1 regularization parameters to do feature selection"
   ]
  },
  {
   "cell_type": "code",
   "execution_count": 57,
   "metadata": {},
   "outputs": [
    {
     "name": "stdout",
     "output_type": "stream",
     "text": [
      "Fitting 5 folds for each of 6 candidates, totalling 30 fits\n",
      "Best parameters: {'reg_alpha': 0}\n",
      "Highest R2:  0.4493476534300019\n"
     ]
    }
   ],
   "source": [
    "param_test5 = {\n",
    " 'reg_alpha':[0, 0.001, 0.005, 0.01, 0.05, 0.1]\n",
    "}\n",
    "\n",
    "clf = GridSearchCV(estimator=xgbr, \n",
    "                   param_grid=param_test5,\n",
    "                   scoring='r2', \n",
    "                   verbose=1)\n",
    "clf.fit(X_train_standardized, y_train)\n",
    "print(\"Best parameters:\", clf.best_params_)\n",
    "print(\"Highest R2: \", clf.best_score_)"
   ]
  },
  {
   "cell_type": "code",
   "execution_count": 58,
   "metadata": {
    "scrolled": true
   },
   "outputs": [
    {
     "name": "stdout",
     "output_type": "stream",
     "text": [
      "training R2:  0.99941784920738\n",
      "cross-validation R^2 = 0.498806\n"
     ]
    }
   ],
   "source": [
    "xgbr.set_params(reg_alpha=0.01)\n",
    "xgbr.fit(Xtr_standardized,ytr)\n",
    "# Training set R2:\n",
    "r2 = r2_score(ytr,xgbr.predict(Xtr_standardized))\n",
    "print('training R2: ',r2)\n",
    "# 5-fold cross validation R2 for these parameters\n",
    "kf = KFold(n_splits=5,shuffle=True,random_state=0)\n",
    "scores = cross_val_score(xgbr, Xtr_standardized, ytr, cv=kf, scoring='r2')\n",
    "rsq_cv = np.mean(scores)\n",
    "print(\"cross-validation R^2 = %f\" % rsq_cv)"
   ]
  },
  {
   "cell_type": "markdown",
   "metadata": {},
   "source": [
    "### Step 6: Tuning L2 regularization parameters to reduce overfitting"
   ]
  },
  {
   "cell_type": "code",
   "execution_count": 59,
   "metadata": {},
   "outputs": [
    {
     "name": "stdout",
     "output_type": "stream",
     "text": [
      "Fitting 5 folds for each of 6 candidates, totalling 30 fits\n",
      "Best parameters: {'reg_lambda': 0}\n",
      "Highest R2:  0.4434791576636215\n"
     ]
    }
   ],
   "source": [
    "param_test6 = {\n",
    " 'reg_lambda':[0, 0.001, 0.005, 0.01, 0.05, 0.1]\n",
    "}\n",
    "\n",
    "clf = GridSearchCV(estimator=xgbr, \n",
    "                   param_grid=param_test6,\n",
    "                   scoring='r2', \n",
    "                   verbose=1)\n",
    "clf.fit(X_train_standardized, y_train)\n",
    "print(\"Best parameters:\", clf.best_params_)\n",
    "print(\"Highest R2: \", clf.best_score_)"
   ]
  },
  {
   "cell_type": "code",
   "execution_count": 60,
   "metadata": {},
   "outputs": [
    {
     "data": {
      "text/html": [
       "<div>\n",
       "<style scoped>\n",
       "    .dataframe tbody tr th:only-of-type {\n",
       "        vertical-align: middle;\n",
       "    }\n",
       "\n",
       "    .dataframe tbody tr th {\n",
       "        vertical-align: top;\n",
       "    }\n",
       "\n",
       "    .dataframe thead th {\n",
       "        text-align: right;\n",
       "    }\n",
       "</style>\n",
       "<table border=\"1\" class=\"dataframe\">\n",
       "  <thead>\n",
       "    <tr style=\"text-align: right;\">\n",
       "      <th></th>\n",
       "      <th>reg_lambda</th>\n",
       "      <th>R2 score</th>\n",
       "    </tr>\n",
       "  </thead>\n",
       "  <tbody>\n",
       "    <tr>\n",
       "      <th>0</th>\n",
       "      <td>0.000</td>\n",
       "      <td>0.443479</td>\n",
       "    </tr>\n",
       "    <tr>\n",
       "      <th>1</th>\n",
       "      <td>0.001</td>\n",
       "      <td>0.438009</td>\n",
       "    </tr>\n",
       "    <tr>\n",
       "      <th>2</th>\n",
       "      <td>0.005</td>\n",
       "      <td>0.439788</td>\n",
       "    </tr>\n",
       "    <tr>\n",
       "      <th>3</th>\n",
       "      <td>0.010</td>\n",
       "      <td>0.441402</td>\n",
       "    </tr>\n",
       "    <tr>\n",
       "      <th>4</th>\n",
       "      <td>0.050</td>\n",
       "      <td>0.442469</td>\n",
       "    </tr>\n",
       "    <tr>\n",
       "      <th>5</th>\n",
       "      <td>0.100</td>\n",
       "      <td>0.443078</td>\n",
       "    </tr>\n",
       "  </tbody>\n",
       "</table>\n",
       "</div>"
      ],
      "text/plain": [
       "   reg_lambda  R2 score\n",
       "0       0.000  0.443479\n",
       "1       0.001  0.438009\n",
       "2       0.005  0.439788\n",
       "3       0.010  0.441402\n",
       "4       0.050  0.442469\n",
       "5       0.100  0.443078"
      ]
     },
     "execution_count": 60,
     "metadata": {},
     "output_type": "execute_result"
    }
   ],
   "source": [
    "pd.concat([pd.DataFrame(clf.cv_results_[\"params\"]),pd.DataFrame(clf.cv_results_[\"mean_test_score\"], columns=[\"R2 score\"])],axis=1)"
   ]
  },
  {
   "cell_type": "code",
   "execution_count": 61,
   "metadata": {},
   "outputs": [
    {
     "name": "stdout",
     "output_type": "stream",
     "text": [
      "training R2:  0.9996549235422361\n",
      "cross-validation R^2 = 0.486245\n"
     ]
    }
   ],
   "source": [
    "xgbr.set_params(reg_lambda=0.01)\n",
    "xgbr.fit(Xtr_standardized,ytr)\n",
    "# Training set R2:\n",
    "r2 = r2_score(ytr,xgbr.predict(Xtr_standardized))\n",
    "print('training R2: ',r2)\n",
    "# 5-fold cross validation R2 for these parameters\n",
    "kf = KFold(n_splits=5,shuffle=True,random_state=0)\n",
    "scores = cross_val_score(xgbr, Xtr_standardized, ytr, cv=kf, scoring='r2')\n",
    "rsq_cv = np.mean(scores)\n",
    "print(\"cross-validation R^2 = %f\" % rsq_cv)"
   ]
  },
  {
   "cell_type": "markdown",
   "metadata": {},
   "source": [
    "### So the final tuned model parameters are as follows:"
   ]
  },
  {
   "cell_type": "code",
   "execution_count": 62,
   "metadata": {},
   "outputs": [
    {
     "name": "stdout",
     "output_type": "stream",
     "text": [
      "training R2:  0.99941784920738\n",
      "cross-validation R^2 = 0.498806\n"
     ]
    }
   ],
   "source": [
    "xgbr = xgb.XGBRegressor(learning_rate =0.05, n_estimators=1200, max_depth=10, colsample_bytree=0.3, gamma=0.1, reg_alpha=0.01,\n",
    " objective= 'reg:squarederror', nthread=4, subsample= 0.9,seed=20)\n",
    "xgbr.fit(Xtr_standardized,ytr)\n",
    "# Training set R2:\n",
    "r2 = r2_score(ytr,xgbr.predict(Xtr_standardized))\n",
    "print('training R2: ',r2)\n",
    "# 5-fold cross validation R2 for these parameters\n",
    "kf = KFold(n_splits=5,shuffle=True,random_state=0)\n",
    "scores = cross_val_score(xgbr, Xtr_standardized, ytr, cv=kf, scoring='r2')\n",
    "rsq_cv = np.mean(scores)\n",
    "print(\"cross-validation R^2 = %f\" % rsq_cv)"
   ]
  },
  {
   "cell_type": "markdown",
   "metadata": {},
   "source": [
    "### output the feature importance"
   ]
  },
  {
   "cell_type": "code",
   "execution_count": 63,
   "metadata": {
    "scrolled": true
   },
   "outputs": [
    {
     "data": {
      "text/plain": [
       "<AxesSubplot:>"
      ]
     },
     "execution_count": 63,
     "metadata": {},
     "output_type": "execute_result"
    },
    {
     "data": {
      "image/png": "[encoded data removed]",
      "text/plain": [
       "<Figure size 432x288 with 1 Axes>"
      ]
     },
     "metadata": {
      "needs_background": "light"
     },
     "output_type": "display_data"
    }
   ],
   "source": [
    "xgbr.fit(Xtr_standardized,ytr)\n",
    "f_importance = xgbr.get_booster().get_score(importance_type='gain')\n",
    "\n",
    "importance_df = pd.DataFrame.from_dict(data=f_importance, \n",
    "                                       orient='index')\n",
    "importance_df.plot.bar()"
   ]
  },
  {
   "cell_type": "code",
   "execution_count": 64,
   "metadata": {},
   "outputs": [],
   "source": [
    "# save the model: you must use the .json format for xgboost models!\n",
    "model_savepath = 'model.json'\n",
    "xgbr.save_model(model_savepath)"
   ]
  },
  {
   "cell_type": "code",
   "execution_count": 65,
   "metadata": {
    "scrolled": true
   },
   "outputs": [
    {
     "name": "stdout",
     "output_type": "stream",
     "text": [
      "training R2 =  0.99941784920738\n",
      "test target predictions saved in yts_hat_xgboost.csv\n"
     ]
    }
   ],
   "source": [
    "# generate kaggle submission file using the validation script\n",
    "!python {\"validation.py \" + model_savepath + \" --Xts_path \" + Xts_savepath + \" --Xtr_path \" + Xtr_savepath + \" --yts_hat_path \" + yts_hat_savepath }"
   ]
  },
  {
   "cell_type": "code",
   "execution_count": null,
   "metadata": {},
   "outputs": [],
   "source": []
  }
 ],
 "metadata": {
  "kernelspec": {
   "display_name": "Python 3",
   "language": "python",
   "name": "python3"
  },
  "language_info": {
   "codemirror_mode": {
    "name": "ipython",
    "version": 3
   },
   "file_extension": ".py",
   "mimetype": "text/x-python",
   "name": "python",
   "nbconvert_exporter": "python",
   "pygments_lexer": "ipython3",
   "version": "3.8.8"
  },
  "varInspector": {
   "cols": {
    "lenName": 16,
    "lenType": 16,
    "lenVar": 40
   },
   "kernels_config": {
    "python": {
     "delete_cmd_postfix": "",
     "delete_cmd_prefix": "del ",
     "library": "var_list.py",
     "varRefreshCmd": "print(var_dic_list())"
    },
    "r": {
     "delete_cmd_postfix": ") ",
     "delete_cmd_prefix": "rm(",
     "library": "var_list.r",
     "varRefreshCmd": "cat(var_dic_list()) "
    }
   },
   "types_to_exclude": [
    "module",
    "function",
    "builtin_function_or_method",
    "instance",
    "_Feature"
   ],
   "window_display": false
  }
 },
 "nbformat": 4,
 "nbformat_minor": 4
}
